{
 "cells": [
  {
   "cell_type": "markdown",
   "metadata": {},
   "source": [
    "# The evolution of the language in films"
   ]
  },
  {
   "cell_type": "code",
   "execution_count": 4,
   "metadata": {},
   "outputs": [],
   "source": [
    "import pandas as pd\n",
    "import numpy as np\n",
    "import scipy as sp\n",
    "import matplotlib.pyplot as plt\n",
    "from pyspark.sql.types import *\n",
    "import pyspark.sql.functions as F\n",
    "from pyspark.sql.functions import udf\n",
    "\n",
    "from pyspark.sql import *\n",
    "%matplotlib inline\n",
    "\n",
    "import nltk\n",
    "from nltk.corpus import stopwords\n",
    "import string\n",
    "from nltk.stem.wordnet import WordNetLemmatizer\n",
    "\n",
    "sqlContext = SQLContext(sc)"
   ]
  },
  {
   "cell_type": "markdown",
   "metadata": {},
   "source": [
    "# 0. Extraction of data\n",
    "\n",
    "###  <font color='red'>NOTE:</font> All of the extraction of data has been done in the cluster. We have included the scripts in the notebook for the purpose of documentation.\n",
    "\n",
    "Each subtitle in the OpenSubtitle database is stored in a seperate XML-file. In order to analyse the data and we need to convert it to a format more appropriate for Spark/Pandas. Instead of having ~180000 different XML-files, we would like to have the data stored in a dataframe.\n",
    "\n",
    "In order to process the dataset using Spark, we will use the spark-xml package from databricks (https://github.com/databricks/spark-xml).\n",
    "\n",
    "When using spark-xml, you can either let spark-xml infer the schema of the XML file or you can specify it yourself. Delegating the job of creating the schema to spark-xml is convenient however it is very expensive which we experienced through first hand experience. In order to speed up our input pipeline, we will specify or own static xml schema below. When specifying the schema yourself, spark-xml will not try to infer the schema which gives a significant performance boost when reading large numbers of XML-files."
   ]
  },
  {
   "cell_type": "markdown",
   "metadata": {},
   "source": [
    "## 0.1 schema"
   ]
  },
  {
   "cell_type": "markdown",
   "metadata": {},
   "source": [
    "We will extract 2 seperate dataframes, therefore we will need two different XML schemas. One schema will be used to extract the movie meta data contained in each subtitle file and the other schema will be used to extract the actual subtitle text."
   ]
  },
  {
   "cell_type": "markdown",
   "metadata": {},
   "source": [
    "### 0.1.1 meta data schema"
   ]
  },
  {
   "cell_type": "code",
   "execution_count": 2,
   "metadata": {},
   "outputs": [],
   "source": [
    "# Schema for the source XML-tag\n",
    "sourceSchema = StructType([\\\n",
    "                            StructField('genre', StringType()),\n",
    "                            StructField('year', StringType()),\n",
    "                          ])\n",
    "\n",
    "# Schema for the source XML-tag\n",
    "subtitleSchema = StructType([\\\n",
    "                            StructField('duration', StringType())\n",
    "                          ])\n",
    "\n",
    "# Schema for the conversion XML-tag\n",
    "conversionSchema =  StructType([\\\n",
    "                                StructField('sentences', StringType()),\n",
    "                                StructField('tokens', StringType())\n",
    "                              ])\n",
    "\n",
    "# Schema for the meta XML-tag\n",
    "mSchema = StructType([\\\n",
    "                        StructField('source', sourceSchema),\n",
    "                        StructField('conversion', conversionSchema),\n",
    "                        StructField('subtitle', subtitleSchema),\n",
    "                    ])\n",
    "\n",
    "# Root schema\n",
    "metaSchema = StructType([\n",
    "    StructField('_id', IntegerType()),\n",
    "    StructField('meta', mSchema)\n",
    "])"
   ]
  },
  {
   "cell_type": "markdown",
   "metadata": {},
   "source": [
    "### 0.1.1 subtitle data schema"
   ]
  },
  {
   "cell_type": "markdown",
   "metadata": {},
   "source": [
    "The schema will produce a dataframe with two columns. One column will contain the movie id and a column **s** which is of type Array. The elements of the Array in column **s** holds elements which also are arrays. Each nested array represents a sentence and each element of the nested Arrays are the words of the sentence."
   ]
  },
  {
   "cell_type": "code",
   "execution_count": 3,
   "metadata": {},
   "outputs": [],
   "source": [
    "# Schema for the w (word) XML-tag\n",
    "wordSchema = ArrayType(StructType([\\\n",
    "                                StructField('_VALUE', StringType())\\\n",
    "                               ]))\n",
    "\n",
    "# Schema for the s (sentence) XML-tag\n",
    "sentenceSchema = StructType([StructField('w', wordSchema)])\n",
    "\n",
    "# Root schema\n",
    "sentenceSchema = StructType([\n",
    "    StructField('_id', IntegerType()),\n",
    "    StructField('s', ArrayType(sentenceSchema))\n",
    "])"
   ]
  },
  {
   "cell_type": "markdown",
   "metadata": {},
   "source": [
    "## 0.2 Parsing of xml-data\n",
    "\n",
    "The OpenSubtitle dataset uses the following folder structure:\n",
    "\n",
    "**opensubtitle/OpenSubtitles2018/xml/ { language } / { year } / { imdb_id } / { openSubtitle_id }.xml.gz**\n",
    "\n",
    "* **year:** the release year of the movie\n",
    "* **langauge:** the language of the movie\n",
    "* **imdb_id:** id of the movie in the IMDB database\n",
    "* **openSubtitle_id:** unique identifier in the opensubtitle database\n",
    "\n",
    "With the help of regular expression we can load every single subtitle file at once using spark. "
   ]
  },
  {
   "cell_type": "markdown",
   "metadata": {},
   "source": [
    "### 0.2.1 meta data dataframe"
   ]
  },
  {
   "cell_type": "markdown",
   "metadata": {},
   "source": [
    "**The meta data we extract for each movie is the following:**\n",
    "\n",
    "* **_id**: the openSubtitle id - **type**: string\n",
    "* **year**: the release year of the movie - **type**: numeric\n",
    "* **sentences**: the total amount of sentences in the movie - **type**: numeric\n",
    "* **words**: the total amount of words in the movie (not unique words) - **type**: numeric\n",
    "* **duration**:: the duration of the movie - **type**: string\n",
    "* **imdb_id**: id of the movie in the IMDB database - **type**: string\n",
    "\n",
    "The imdb_id is actually not contained in the XML-file of each movie but the parent directory of each XML subtitle file is named using the imdb identifier. Therefore, we extract the imdb_id from the file path of each subtitle file."
   ]
  },
  {
   "cell_type": "code",
   "execution_count": 7,
   "metadata": {},
   "outputs": [],
   "source": [
    "# Loads all subtitles files in english and parses the input files with the schema for meta data.\n",
    "df_metadata = sqlContext.read.format('com.databricks.spark.xml')\\\n",
    "    .options(rowTag='document', \n",
    "             samplingRatio=0.0)\\\n",
    "    .load('hdfs:///datasets/opensubtitle/OpenSubtitles2018/xml/en/[1-2][0-9][0-9][0-9]/**/*.xml.gz', \n",
    "          schema=metaSchema)"
   ]
  },
  {
   "cell_type": "code",
   "execution_count": 60,
   "metadata": {
    "scrolled": true
   },
   "outputs": [],
   "source": [
    "movies_meta = df_metadata.select(\\\n",
    "               F.col(\"_id\"),\\\n",
    "               F.col(\"meta.source.genre\").alias(\"genre\"),\\\n",
    "               F.col(\"meta.source.year\").alias(\"year\"),\\\n",
    "               F.col(\"meta.conversion.sentences\").alias(\"sentences\"),\\\n",
    "               F.col(\"meta.conversion.tokens\").alias(\"words\"),\\\n",
    "               F.col(\"meta.subtitle.duration\").alias(\"duration\"))  \n",
    "\n",
    "movies_meta = movies.withColumn(\"imdb_id\",F.split(F.input_file_name(), \"/\").getItem(6))"
   ]
  },
  {
   "cell_type": "code",
   "execution_count": null,
   "metadata": {},
   "outputs": [],
   "source": [
    "movies_meta.write.mode(\"overwrite\").parquet('movie_data_with_imdb_id.parquet')"
   ]
  },
  {
   "cell_type": "markdown",
   "metadata": {},
   "source": [
    "### 0.2.1 subtitle dataframe"
   ]
  },
  {
   "cell_type": "markdown",
   "metadata": {},
   "source": [
    "The subtitle dataframe has the following structure:\n",
    "\n",
    "* **_id:** the openSubtitle id - **type**: string\n",
    "* **sentence:** a sentence belonging to the movie identified by the **_id** field - **type**: List of List(String)"
   ]
  },
  {
   "cell_type": "code",
   "execution_count": null,
   "metadata": {},
   "outputs": [],
   "source": [
    "# Loads all subtitles files in english and parses the input files with the schema for subtitle data.\n",
    "df_subtitle = sqlContext.read.format('com.databricks.spark.xml')\\\n",
    "    .options(rowTag='document', \n",
    "             samplingRatio=0.0)\\\n",
    "    .load('hdfs:///datasets/opensubtitle/OpenSubtitles2018/xml/en/[1-2][0-9][0-9][0-9]/**/*.xml.gz', \n",
    "          schema=sentenceSchema)"
   ]
  },
  {
   "cell_type": "code",
   "execution_count": null,
   "metadata": {},
   "outputs": [],
   "source": [
    "# The tag s.w in the nested XML-structure holds an array of sentences for each movie.\n",
    "# We want each movie to have its own entry in the dataframe, we use the explode function to create one row\n",
    "# in the dataframe for each nested array contained in the s.w tag\n",
    "movies_subtitle = df.select('_id',\n",
    "                            F.explode(F.col('s.w')).alias('sentence'))"
   ]
  },
  {
   "cell_type": "code",
   "execution_count": null,
   "metadata": {},
   "outputs": [],
   "source": [
    "movies_subtitle.write.mode(\"overwrite\").parquet('movies_subtitle.parquet')"
   ]
  },
  {
   "cell_type": "markdown",
   "metadata": {},
   "source": [
    "## 0.3 Enriching the dataset\n",
    "\n",
    "With the help of the imdb_id, we can enrich our dataset with one or several of IMDBs public datasets (https://www.imdb.com/interfaces/). We are interested in the imdb rating of each movie, let's add it to our existing movies dataframe by joining it with the ratings dataset of IMDB."
   ]
  },
  {
   "cell_type": "code",
   "execution_count": 18,
   "metadata": {},
   "outputs": [
    {
     "name": "stdout",
     "output_type": "stream",
     "text": [
      "+-------+--------------------+----+---------+-----+------------+-------+\n",
      "|    _id|               genre|year|sentences|words|    duration|imdb_id|\n",
      "+-------+--------------------+----+---------+-----+------------+-------+\n",
      "|7018237|Comedy,Drama,Romance|1947|     2768|20350|01:55:25,969|  39477|\n",
      "|3528271| Crime,Drama,Fantasy|1993|     1557|10885|01:56:41,202| 107665|\n",
      "|4655639|Animation,Comedy,...|1935|      142|  457|00:15:15,010|  26706|\n",
      "+-------+--------------------+----+---------+-----+------------+-------+\n",
      "only showing top 3 rows\n",
      "\n"
     ]
    }
   ],
   "source": [
    "movies = spark.read.parquet(\"./movie_data_with_imdb_id.parquet\")\n",
    "movies.show(3)"
   ]
  },
  {
   "cell_type": "code",
   "execution_count": 19,
   "metadata": {},
   "outputs": [
    {
     "name": "stdout",
     "output_type": "stream",
     "text": [
      "+---------+-------------+--------+\n",
      "|   tconst|averageRating|numVotes|\n",
      "+---------+-------------+--------+\n",
      "|tt0000001|          5.8|    1437|\n",
      "|tt0000002|          6.3|     171|\n",
      "|tt0000003|          6.6|    1037|\n",
      "+---------+-------------+--------+\n",
      "only showing top 3 rows\n",
      "\n"
     ]
    }
   ],
   "source": [
    "imdb_ratings = spark.read.format(\"csv\")\\\n",
    "                        .option(\"header\", \"true\")\\\n",
    "                        .option(\"sep\", \"\\t\").load(\"title.ratings.tsv\")\n",
    "imdb_ratings.show(3)"
   ]
  },
  {
   "cell_type": "markdown",
   "metadata": {},
   "source": [
    "The imdb ids in the IMDB dataset has a few minor differences compared to the imdb ids in the OpenSubtitle dataset. \n",
    "\n",
    "1. The id's in the IMDB dataset are prefixed with the string \"tt\"\n",
    "2. The id's in the OpenSubtitle dataset has stripped away leading zeros in the imdb id\n",
    "\n",
    "Let's define a simple spark UDF which will take care of both inconsistencies:"
   ]
  },
  {
   "cell_type": "code",
   "execution_count": 20,
   "metadata": {},
   "outputs": [],
   "source": [
    "remove_prefix_and_leading_zeros = F.udf(lambda x: x[2:].lstrip('0'), StringType())"
   ]
  },
  {
   "cell_type": "code",
   "execution_count": 21,
   "metadata": {},
   "outputs": [
    {
     "name": "stdout",
     "output_type": "stream",
     "text": [
      "+-------+--------------------+----+---------+-----+------------+--------+-------------+-------+\n",
      "|    _id|               genre|year|sentences|words|    duration|numVotes|averageRating|imdb_id|\n",
      "+-------+--------------------+----+---------+-----+------------+--------+-------------+-------+\n",
      "|4579146|Comedy,Drama,Romance|1990|     1332| 9373|01:39:48,845|   25410|          6.6| 100140|\n",
      "|3678600|Comedy,Drama,Romance|1990|     1344| 9365|01:41:20,585|   25410|          6.6| 100140|\n",
      "|6325233|Comedy,Drama,Romance|1990|     2066|15353|01:50:03,583|   25410|          6.6| 100140|\n",
      "+-------+--------------------+----+---------+-----+------------+--------+-------------+-------+\n",
      "only showing top 3 rows\n",
      "\n"
     ]
    }
   ],
   "source": [
    "remove_prefix = F.udf(lambda x: x[2:], StringType())\n",
    "imdb_ratings = imdb_ratings.select('averageRating', \n",
    "                                   'numVotes', \n",
    "                                   remove_prefix_and_leading_zeros(F.col('tconst')).alias('id'))\n",
    "# we do a left outer join since we still want to keep movies from our original dataset that \n",
    "# does not match any movies in the imdb dataset.\n",
    "movies = movies.join(imdb_ratings, movies.imdb_id == imdb_ratings.id, \"left_outer\")\\\n",
    "     .select('_id', 'genre', 'year', 'sentences', 'words', 'duration', 'numVotes', 'averageRating', 'imdb_id')\n",
    "movies.show(3)"
   ]
  },
  {
   "cell_type": "code",
   "execution_count": 22,
   "metadata": {},
   "outputs": [],
   "source": [
    "movies.write.mode(\"overwrite\").parquet('movie_data_with_ratings.parquet')"
   ]
  },
  {
   "cell_type": "markdown",
   "metadata": {},
   "source": [
    "# 1. Descriptive statistics"
   ]
  },
  {
   "cell_type": "markdown",
   "metadata": {},
   "source": [
    "## 1.1 Meta data dataframe"
   ]
  },
  {
   "cell_type": "markdown",
   "metadata": {},
   "source": [
    "Before working with our data, let's get to know it. We will start by getting the movie data."
   ]
  },
  {
   "cell_type": "code",
   "execution_count": 1,
   "metadata": {},
   "outputs": [
    {
     "name": "stdout",
     "output_type": "stream",
     "text": [
      "There are 177039 entries in the dataset.\n"
     ]
    }
   ],
   "source": [
    "movies = spark.read.parquet(\"./datasets/movie_data_with_ratings.parquet\")\n",
    "print(\"There are \" + str(movies.count()) + \" entries in the dataset.\")"
   ]
  },
  {
   "cell_type": "markdown",
   "metadata": {},
   "source": [
    "What information do we have for every movie?"
   ]
  },
  {
   "cell_type": "code",
   "execution_count": 2,
   "metadata": {},
   "outputs": [
    {
     "data": {
      "text/plain": [
       "StructType(List(StructField(_id,IntegerType,true),StructField(genre,StringType,true),StructField(year,StringType,true),StructField(sentences,StringType,true),StructField(words,StringType,true),StructField(duration,StringType,true),StructField(numVotes,StringType,true),StructField(averageRating,StringType,true),StructField(imdb_id,StringType,true)))"
      ]
     },
     "execution_count": 2,
     "metadata": {},
     "output_type": "execute_result"
    }
   ],
   "source": [
    "movies.schema"
   ]
  },
  {
   "cell_type": "code",
   "execution_count": 5,
   "metadata": {},
   "outputs": [
    {
     "name": "stdout",
     "output_type": "stream",
     "text": [
      "root\n",
      " |-- id: integer (nullable = true)\n",
      " |-- genre: string (nullable = true)\n",
      " |-- year: integer (nullable = true)\n",
      " |-- sentences: integer (nullable = true)\n",
      " |-- words: integer (nullable = true)\n",
      " |-- duration: integer (nullable = true)\n",
      " |-- numVotes: integer (nullable = true)\n",
      " |-- averageRating: float (nullable = true)\n",
      " |-- imdb_id: string (nullable = true)\n",
      "\n"
     ]
    }
   ],
   "source": [
    "# convert to DF format\n",
    "movies = movies.toDF('id', \n",
    "                     'genre', \n",
    "                     'year', \n",
    "                     'sentences', \n",
    "                     'words', \n",
    "                     'duration', \n",
    "                     'numVotes', \n",
    "                     'averageRating', \n",
    "                     'imdb_id')\n",
    "\n",
    "# number of words, sentences, numVotes and year are ints \n",
    "movies = movies.withColumn(\"words\", movies[\"words\"].cast(\"int\"))\n",
    "movies = movies.withColumn(\"sentences\", movies[\"sentences\"].cast(\"int\"))\n",
    "movies = movies.withColumn(\"numVotes\", movies[\"numVotes\"].cast(\"int\"))\n",
    "movies = movies.withColumn(\"year\", movies[\"year\"].cast(\"int\"))\n",
    "\n",
    "# AverageRating is a float\n",
    "movies = movies.withColumn(\"averageRating\", movies[\"averageRating\"].cast(\"float\"))\n",
    "\n",
    "\n",
    "# convert duration to minutes\n",
    "@udf('string')\n",
    "def convert_duration(duration):\n",
    "    try:\n",
    "        return str(int(duration[:2]) * 60 + int(duration[3:5])) \n",
    "    except: \n",
    "        return \"0\"\n",
    "\n",
    "movies = movies.withColumn(\"duration\", convert_duration(movies.duration))\n",
    "movies = movies.withColumn(\"duration\", movies[\"duration\"].cast(\"int\"))\n",
    "\n",
    "movies.printSchema()"
   ]
  },
  {
   "cell_type": "markdown",
   "metadata": {},
   "source": [
    "Our dataset contains a lot of TV series along with the movies. We can say that almost all TV series are less than 60 minutes long, while almost all movies are longer than 60 minutes.\n",
    "\n",
    "Considering we want __only__ films in our dataset, we will remove all entries which have a duration of less than 60 minutes. This should remove the great majority of TV series and keep the great majority of films in our dataset."
   ]
  },
  {
   "cell_type": "code",
   "execution_count": 6,
   "metadata": {},
   "outputs": [
    {
     "name": "stdout",
     "output_type": "stream",
     "text": [
      "We are left with 74674 films after removing the TV series.\n"
     ]
    }
   ],
   "source": [
    "movies = movies.filter(movies.duration > 60)\n",
    "print(\"We are left with \" + str(movies.count()) + \" films after removing the TV series.\")"
   ]
  },
  {
   "cell_type": "markdown",
   "metadata": {},
   "source": [
    "### 1.1.1 Number of movies by year\n",
    "\n",
    "So how many movies are there for each year? We presume there will be more movies in recent years than 1950. \n",
    "\n",
    "Firstly, we check the range of the years."
   ]
  },
  {
   "cell_type": "code",
   "execution_count": 46,
   "metadata": {},
   "outputs": [
    {
     "name": "stdout",
     "output_type": "stream",
     "text": [
      "+-------+------------------+\n",
      "|summary|              year|\n",
      "+-------+------------------+\n",
      "|  count|             74416|\n",
      "|   mean|1995.3661175016125|\n",
      "| stddev| 21.92565919323367|\n",
      "|    min|              1896|\n",
      "|    max|              2017|\n",
      "+-------+------------------+\n",
      "\n"
     ]
    }
   ],
   "source": [
    "movies.describe('year').show()"
   ]
  },
  {
   "cell_type": "markdown",
   "metadata": {},
   "source": [
    "Now let's draw a chart showing exactly how many movies were there for each year."
   ]
  },
  {
   "cell_type": "code",
   "execution_count": 47,
   "metadata": {},
   "outputs": [],
   "source": [
    "# get movie counts per year\n",
    "movies_per_year = movies.groupby('year').count()\n",
    "\n",
    "# convert to Pandas for plotting\n",
    "ydf = movies_per_year.toPandas()\n",
    "\n",
    "# sort the films by year\n",
    "ydf = ydf.sort_values(by='year')"
   ]
  },
  {
   "cell_type": "markdown",
   "metadata": {},
   "source": [
    "We need to clean our data of null values and inconsistent entries."
   ]
  },
  {
   "cell_type": "code",
   "execution_count": 48,
   "metadata": {},
   "outputs": [
    {
     "name": "stdout",
     "output_type": "stream",
     "text": [
      "Before cleaning we have 74674 films. \n",
      "After cleaning we have 74416 films. \n",
      "Only 0.00346% of our dataset was invalid/inconsistent.\n"
     ]
    }
   ],
   "source": [
    "n_before = sum(ydf['count'])\n",
    "print(\"Before cleaning we have \" + str(n_before) + \" films. \")\n",
    "\n",
    "# convert year to int the 'year' value\n",
    "ydf['year'] = pd.to_numeric(ydf['year'], errors='coerce', downcast='integer')\n",
    "\n",
    "# remove films with \"Nan\" as year value\n",
    "# since we cannot really use them\n",
    "ydf = ydf.dropna()\n",
    "ydf = ydf.reset_index(drop=True)\n",
    "ydf['year'] = ydf['year'].astype('int')\n",
    "\n",
    "n_after = sum(ydf['count'])\n",
    "print(\"After cleaning we have \" + str(n_after) + \" films. \")\n",
    "print(\"Only %.5f%% of our dataset was invalid/inconsistent.\" % (1 - (n_after/n_before)))"
   ]
  },
  {
   "cell_type": "markdown",
   "metadata": {},
   "source": [
    "To plot the number of films by year, we will bin them to make the visualization clearer.\n",
    "\n",
    "Considering we have movies from year 1906 to 2020, we are going to make 12 bins for each decade from 1910's to 2010's (We are going to put year 2020 in 2010's, it will not change much because we have only  6 films for 2020)"
   ]
  },
  {
   "cell_type": "code",
   "execution_count": 156,
   "metadata": {},
   "outputs": [],
   "source": [
    "years = list(ydf['year'])\n",
    "labels = []\n",
    "counts = []\n",
    "\n",
    "for decade in range(1890, 2020, 10):\n",
    "    # create bin label\n",
    "    label = str(decade) + \"s\"\n",
    "    labels.append(label)\n",
    "    \n",
    "    # calculate count for the bin\n",
    "    count = 0\n",
    "    for year in range(decade, decade+10):\n",
    "        if year in years:\n",
    "            count += int(ydf.loc[ydf['year'] == year]['count'])\n",
    "    counts.append(count)\n",
    "\n",
    "# add the 2020 to the 2010s decade\n",
    "counts[11] += int(ydf.loc[ydf['year'] == 2010]['count'])"
   ]
  },
  {
   "cell_type": "code",
   "execution_count": 157,
   "metadata": {},
   "outputs": [
    {
     "data": {
      "image/png": "[encoded data removed]",
      "text/plain": [
       "<Figure size 1080x720 with 1 Axes>"
      ]
     },
     "metadata": {},
     "output_type": "display_data"
    }
   ],
   "source": [
    "plt.figure(figsize=(15,10))\n",
    "plt.bar(labels, counts)\n",
    "plt.title('Number of films per decade')\n",
    "plt.show()"
   ]
  },
  {
   "cell_type": "markdown",
   "metadata": {},
   "source": [
    "As expected, we have more films in the recent decades. We can see from the plot above that the amount of data from the 1900s and 1910s decades are very low. Let's have a look at the exact number:"
   ]
  },
  {
   "cell_type": "code",
   "execution_count": 7,
   "metadata": {},
   "outputs": [
    {
     "name": "stdout",
     "output_type": "stream",
     "text": [
      "Number of movies from 1890s: 1\n",
      "Number of movies from 1900s: 4\n"
     ]
    }
   ],
   "source": [
    "regex1900 = \"190[0-9]\"\n",
    "regex1890 = \"189[0-9]\"\n",
    "print(\"Number of movies from 1890s: {}\".format(movies.filter(movies[\"year\"].rlike(regex1890)).count()))\n",
    "print(\"Number of movies from 1900s: {}\".format(movies.filter(movies[\"year\"].rlike(regex1900)).count()))"
   ]
  },
  {
   "cell_type": "markdown",
   "metadata": {},
   "source": [
    "No meaningful analysis about the 1890s and 1900s can be done with so few data points, we will therefore drop these entries from the data set."
   ]
  },
  {
   "cell_type": "code",
   "execution_count": 159,
   "metadata": {},
   "outputs": [],
   "source": [
    "movies = movies.filter((movies[\"year\"].rlike(regex1890) == False))\n",
    "movies = movies.filter((movies[\"year\"].rlike(regex1900) == False))"
   ]
  },
  {
   "cell_type": "markdown",
   "metadata": {},
   "source": [
    "### 1.1.2 Median number of sentences by year"
   ]
  },
  {
   "cell_type": "markdown",
   "metadata": {},
   "source": [
    "Our project is about evolution of language used in films, so let's have a peek at how and did it change over time. We will start by showing the median number of sentences for each year. We use median instead of mean since it's a more robust measure so in the case we have some invalid data (like unfinished movie subtitles with just a few sentences) it will behave better."
   ]
  },
  {
   "cell_type": "code",
   "execution_count": 160,
   "metadata": {},
   "outputs": [],
   "source": [
    "# get median number of sentences per year\n",
    "percentile = F.expr('percentile_approx(sentences, 0.5)')\n",
    "sdf_ = movies.groupby('year').agg(percentile.alias('n_sent_median'))\n",
    "\n",
    "# convert to Pandas for plotting\n",
    "sdf = sdf_.toPandas()\n",
    "\n",
    "# sort the films by year\n",
    "sdf = sdf.sort_values(by='year')\n",
    "\n",
    "# convert year to int the 'year' value\n",
    "sdf['year'] = pd.to_numeric(sdf['year'], errors='coerce', downcast='integer')\n",
    "\n",
    "# remove films with \"Nan\" as year value\n",
    "# since we cannot really use them\n",
    "sdf = sdf.dropna()\n",
    "sdf = sdf.reset_index(drop=True)\n",
    "sdf['year'] = sdf['year'].astype('int')"
   ]
  },
  {
   "cell_type": "markdown",
   "metadata": {},
   "source": [
    "We will now visualize the median number of sentences by decade. For each decade, we will take the average of medians for that decade. We will ignore year 2020 (for all decades to have exactly 10 years)."
   ]
  },
  {
   "cell_type": "code",
   "execution_count": 161,
   "metadata": {},
   "outputs": [],
   "source": [
    "years = list(sdf['year'])\n",
    "labels = []\n",
    "medians = []\n",
    "\n",
    "for decade in range(1910, 2020, 10):\n",
    "    # create bin label\n",
    "    label = str(decade) + \"s\"\n",
    "    labels.append(label)\n",
    "    \n",
    "    # calculate count for the bin\n",
    "    median = 0\n",
    "    count = 0\n",
    "    for year in range(decade, decade+10):\n",
    "        if year in years:\n",
    "            median += int(sdf.loc[sdf['year'] == year]['n_sent_median'])\n",
    "            count += 1\n",
    "    medians.append(median / count)"
   ]
  },
  {
   "cell_type": "code",
   "execution_count": 162,
   "metadata": {},
   "outputs": [
    {
     "data": {
      "image/png": "[encoded data removed]",
      "text/plain": [
       "<Figure size 1080x720 with 1 Axes>"
      ]
     },
     "metadata": {},
     "output_type": "display_data"
    }
   ],
   "source": [
    "plt.figure(figsize=(15,10))\n",
    "plt.bar(labels, medians)\n",
    "plt.title('Median number of sentences per decade')\n",
    "plt.show()"
   ]
  },
  {
   "cell_type": "markdown",
   "metadata": {},
   "source": [
    "On this graph we can see some interesting things. Before 1930s, in the era of the silent films, there is a low number of sentences for each movie. In the 30s, the first decade of the \"sound era\", the number gets much larger: the movies have proper dialogue now. In the later decades, it seems the number has lowered a bit, but it didn't change much and is mostly around 1000 to 1400 senences per film."
   ]
  },
  {
   "cell_type": "markdown",
   "metadata": {},
   "source": [
    "### 1.1.3 Median number of words in sentences by year"
   ]
  },
  {
   "cell_type": "markdown",
   "metadata": {},
   "source": [
    "We already checked sentences, but they can hide something. The number of words is also important. A movie can have many sentences but most of them can be very short. So let's check the median number of words per year and visualize it."
   ]
  },
  {
   "cell_type": "code",
   "execution_count": 163,
   "metadata": {},
   "outputs": [],
   "source": [
    "# get median number of words per year\n",
    "percentile = F.expr('percentile_approx(words, 0.5)')\n",
    "wdf_ = movies.groupby('year').agg(percentile.alias('n_word_median'))\n",
    "\n",
    "# convert to Pandas for plotting\n",
    "wdf = wdf_.toPandas()\n",
    "\n",
    "# sort the films by year\n",
    "wdf = wdf.sort_values(by='year')\n",
    "\n",
    "# convert year to int the 'year' value\n",
    "wdf['year'] = pd.to_numeric(wdf['year'], errors='coerce', downcast='integer')\n",
    "\n",
    "# remove films with \"Nan\" as year value\n",
    "# since we cannot really use them\n",
    "wdf = wdf.dropna()\n",
    "wdf = wdf.reset_index(drop=True)\n",
    "wdf['year'] = wdf['year'].astype('int')"
   ]
  },
  {
   "cell_type": "code",
   "execution_count": 164,
   "metadata": {},
   "outputs": [],
   "source": [
    "years = list(wdf['year'])\n",
    "labels = []\n",
    "medians = []\n",
    "\n",
    "for decade in range(1910, 2020, 10):\n",
    "    # create bin label\n",
    "    label = str(decade) + \"s\"\n",
    "    labels.append(label)\n",
    "    \n",
    "    # calculate count for the bin\n",
    "    median = 0\n",
    "    count = 0\n",
    "    for year in range(decade, decade+10):\n",
    "        if year in years:\n",
    "            median += int(wdf.loc[wdf['year'] == year]['n_word_median'])\n",
    "            count += 1\n",
    "    medians.append(median / count)"
   ]
  },
  {
   "cell_type": "code",
   "execution_count": 165,
   "metadata": {},
   "outputs": [
    {
     "data": {
      "image/png": "[encoded data removed]",
      "text/plain": [
       "<Figure size 1080x720 with 1 Axes>"
      ]
     },
     "metadata": {},
     "output_type": "display_data"
    }
   ],
   "source": [
    "plt.figure(figsize=(15,10))\n",
    "plt.bar(labels, medians)\n",
    "plt.title('Median number of words per decade')\n",
    "plt.show()"
   ]
  },
  {
   "cell_type": "markdown",
   "metadata": {},
   "source": [
    "The graph seems very similar to the sentences graph in the previous section. So we can assume that number of words for each sentence did not really change."
   ]
  },
  {
   "cell_type": "markdown",
   "metadata": {},
   "source": [
    "### 1.1.4 Median film duration by year"
   ]
  },
  {
   "cell_type": "markdown",
   "metadata": {},
   "source": [
    "Looking at the number of sentences per year we noticed that there is a smaller number of sentences in films in recent decades. However, could it be just because films were longer in the past? \n",
    "\n",
    "We will check the median film duration for every year. Again, we will visualize it in decades, taking the average of the median for each year of the decade. "
   ]
  },
  {
   "cell_type": "code",
   "execution_count": 166,
   "metadata": {},
   "outputs": [],
   "source": [
    "# get median duration per year\n",
    "percentile = F.expr('percentile_approx(duration, 0.5)')\n",
    "ddf_ = movies.groupby('year').agg(percentile.alias('duration_median'))\n",
    "\n",
    "# convert to Pandas for plotting\n",
    "ddf = ddf_.toPandas()\n",
    "\n",
    "# sort the films by year\n",
    "ddf = ddf.sort_values(by='year')\n",
    "\n",
    "# convert year to int the 'year' value\n",
    "ddf['year'] = pd.to_numeric(ddf['year'], errors='coerce', downcast='integer')\n",
    "\n",
    "# remove films with \"Nan\" as year value\n",
    "# since we cannot really use them\n",
    "ddf = ddf.dropna()\n",
    "ddf = ddf.reset_index(drop=True)\n",
    "ddf['year'] = ddf['year'].astype('int')"
   ]
  },
  {
   "cell_type": "code",
   "execution_count": 167,
   "metadata": {},
   "outputs": [],
   "source": [
    "years = list(ddf['year'])\n",
    "labels = []\n",
    "medians = []\n",
    "\n",
    "for decade in range(1910, 2020, 10):\n",
    "    # create bin label\n",
    "    label = str(decade) + \"s\"\n",
    "    labels.append(label)\n",
    "    \n",
    "    # calculate count for the bin\n",
    "    median = 0\n",
    "    count = 0\n",
    "    for year in range(decade, decade+10):\n",
    "        if year in years:\n",
    "            median += int(ddf.loc[wdf['year'] == year]['duration_median'])\n",
    "            count += 1\n",
    "    medians.append(median / count)"
   ]
  },
  {
   "cell_type": "code",
   "execution_count": 168,
   "metadata": {},
   "outputs": [
    {
     "data": {
      "image/png": "[encoded data removed]",
      "text/plain": [
       "<Figure size 1080x720 with 1 Axes>"
      ]
     },
     "metadata": {},
     "output_type": "display_data"
    }
   ],
   "source": [
    "plt.figure(figsize=(15,10))\n",
    "plt.bar(labels, medians)\n",
    "plt.title('Median duration per decade (in minutes)')\n",
    "plt.show()"
   ]
  },
  {
   "cell_type": "markdown",
   "metadata": {},
   "source": [
    "As can be seen, the duration of the films did not really change by the years. The median duration is always around 80 to 100 minutes, even in the silent film era."
   ]
  },
  {
   "cell_type": "markdown",
   "metadata": {},
   "source": [
    "### 1.1.5 Distribution of genres"
   ]
  },
  {
   "cell_type": "markdown",
   "metadata": {},
   "source": [
    "We are going to see what is the distribution of genres in our dataset."
   ]
  },
  {
   "cell_type": "code",
   "execution_count": 169,
   "metadata": {},
   "outputs": [
    {
     "name": "stdout",
     "output_type": "stream",
     "text": [
      "We have 42 genres.\n"
     ]
    }
   ],
   "source": [
    "# make genre column into a list of genres\n",
    "movies_ = movies.withColumn(\"genre\", F.split(movies.genre, ','))\n",
    "\n",
    "# make a row for each genre\n",
    "movies_ = movies_.withColumn(\"genre\", F.explode(\"genre\"))\n",
    "\n",
    "# get count of each genre\n",
    "genres_ = movies_.groupby('genre').count()\n",
    "\n",
    "# convert to Pandas for plotting\n",
    "genres = genres_.toPandas()\n",
    "\n",
    "print(\"We have \" + str(len(genres)) + \" genres.\")"
   ]
  },
  {
   "cell_type": "markdown",
   "metadata": {},
   "source": [
    "For visualization, we are going to remove the genres with a low count (which have less than 1000 entries).\n",
    "\n",
    "Also, we are going to sort them by count."
   ]
  },
  {
   "cell_type": "code",
   "execution_count": 170,
   "metadata": {},
   "outputs": [],
   "source": [
    "genres = genres.query(\"count > 1000\")\n",
    "genres = genres.sort_values(by='count')"
   ]
  },
  {
   "cell_type": "markdown",
   "metadata": {},
   "source": [
    "Let's plot the distribution of genres as a pie chart."
   ]
  },
  {
   "cell_type": "code",
   "execution_count": 171,
   "metadata": {},
   "outputs": [
    {
     "data": {
      "image/png": "[encoded data removed]",
      "text/plain": [
       "<Figure size 720x720 with 1 Axes>"
      ]
     },
     "metadata": {},
     "output_type": "display_data"
    }
   ],
   "source": [
    "plt.figure(figsize=(10,10))\n",
    "plt.pie(genres['count'], labels=genres['genre'])\n",
    "plt.title('Distribution of film genres')\n",
    "plt.show()"
   ]
  },
  {
   "cell_type": "markdown",
   "metadata": {},
   "source": [
    "### 1.1.5 Distribution of IMDB ratings"
   ]
  },
  {
   "cell_type": "markdown",
   "metadata": {},
   "source": [
    "Let's start by filtering out all movies which we don't have an IMDB rating "
   ]
  },
  {
   "cell_type": "code",
   "execution_count": 172,
   "metadata": {},
   "outputs": [],
   "source": [
    "movies_with_rating = movies.filter(F.col(\"averageRating\").isNotNull())"
   ]
  },
  {
   "cell_type": "markdown",
   "metadata": {},
   "source": [
    "How large porportion of the movies in our dataset contains IMDB ratings?"
   ]
  },
  {
   "cell_type": "code",
   "execution_count": 173,
   "metadata": {},
   "outputs": [
    {
     "data": {
      "text/plain": [
       "0.994"
      ]
     },
     "execution_count": 173,
     "metadata": {},
     "output_type": "execute_result"
    }
   ],
   "source": [
    "number_of_movies_with_ratings = movies_with_rating.count()\n",
    "number_of_movies = movies.count()\n",
    "round(number_of_movies_with_ratings / number_of_movies, 3)"
   ]
  },
  {
   "cell_type": "markdown",
   "metadata": {},
   "source": [
    "We have ratings for close to all of the movies in our dataset, great!\n",
    "\n",
    "Let's have a look at the distribution of imdb ratings:"
   ]
  },
  {
   "cell_type": "code",
   "execution_count": 174,
   "metadata": {},
   "outputs": [],
   "source": [
    "movies_with_ratings_pandas = movies_with_rating.toPandas()\n",
    "movies_with_ratings_pandas['numVotes'] = movies_with_ratings_pandas['numVotes'].astype(int)\n",
    "movies_with_ratings_pandas['averageRating'] = movies_with_ratings_pandas['averageRating'].astype(float)"
   ]
  },
  {
   "cell_type": "code",
   "execution_count": 175,
   "metadata": {},
   "outputs": [
    {
     "data": {
      "text/plain": [
       "Text(0.5,0,'IMDB rating')"
      ]
     },
     "execution_count": 175,
     "metadata": {},
     "output_type": "execute_result"
    },
    {
     "data": {
      "image/png": "[encoded data removed]",
      "text/plain": [
       "<Figure size 720x432 with 1 Axes>"
      ]
     },
     "metadata": {},
     "output_type": "display_data"
    }
   ],
   "source": [
    "ax = movies_with_ratings_pandas['averageRating']\\\n",
    "    .plot\\\n",
    "    .hist(title=\"Ditibution of imdb ratings\", grid=True, figsize=(10,6))\n",
    "ax.set_xlabel(\"IMDB rating\")"
   ]
  },
  {
   "cell_type": "markdown",
   "metadata": {},
   "source": [
    "Judging from the above plot, it appears that the imdb ratings follow a normal distribution with a mean of around ~7."
   ]
  },
  {
   "cell_type": "markdown",
   "metadata": {},
   "source": [
    "### 1.1.5 Mean film rating by decade"
   ]
  },
  {
   "cell_type": "markdown",
   "metadata": {},
   "source": [
    "Let's first start with dropping rows which contain null values in the year column."
   ]
  },
  {
   "cell_type": "code",
   "execution_count": 151,
   "metadata": {},
   "outputs": [],
   "source": [
    "movies_with_ratings_pandas = movies_with_ratings_pandas.dropna(subset=['year'])"
   ]
  },
  {
   "cell_type": "markdown",
   "metadata": {},
   "source": [
    "We bin our movies into decades by rounding the year column to the closest decade."
   ]
  },
  {
   "cell_type": "code",
   "execution_count": 152,
   "metadata": {},
   "outputs": [],
   "source": [
    "movies_with_ratings_pandas['decade'] = (movies_with_ratings_pandas['year'] - (movies_with_ratings_pandas['year'] % 10)).astype(int)"
   ]
  },
  {
   "cell_type": "markdown",
   "metadata": {},
   "source": [
    "In order to get the mean of each decade, we group by the decade column and aggregate by taking the mean."
   ]
  },
  {
   "cell_type": "code",
   "execution_count": 153,
   "metadata": {},
   "outputs": [],
   "source": [
    "decade_imdb_mean = movies_with_ratings_pandas\\\n",
    "    .groupby('decade')\\\n",
    "    .mean()['averageRating']\n",
    "decade_imdb_mean.index = decade_imdb_mean.index.astype(str) + \"s\""
   ]
  },
  {
   "cell_type": "code",
   "execution_count": 154,
   "metadata": {},
   "outputs": [
    {
     "data": {
      "image/png": "[encoded data removed]",
      "text/plain": [
       "<Figure size 1080x720 with 1 Axes>"
      ]
     },
     "metadata": {},
     "output_type": "display_data"
    }
   ],
   "source": [
    "plt.figure(figsize=(15,10))\n",
    "ax = plt.bar(decade_imdb_mean.index, decade_imdb_mean)\n",
    "plt.title('Mean imdb rating per decade')\n",
    "plt.xlabel('Decade')\n",
    "plt.ylabel('Mean IMDB rating')\n",
    "plt.show()"
   ]
  },
  {
   "cell_type": "markdown",
   "metadata": {},
   "source": [
    "There are two key observations in the above plot:\n",
    "\n",
    "1. The mean imdb rating has a peak around 1920-1940s.\n",
    "2. The mean imdb rating has slowly but consistently decreased after the 1960s until today"
   ]
  },
  {
   "cell_type": "markdown",
   "metadata": {},
   "source": [
    "## 1.2 Subtitle dataframe\n",
    "\n",
    "Let's start by importing the dataframe and printing its schema."
   ]
  },
  {
   "cell_type": "code",
   "execution_count": 7,
   "metadata": {},
   "outputs": [],
   "source": [
    "subtitle_df = spark.read.parquet(\"./movie_subtitle_final.parquet\")"
   ]
  },
  {
   "cell_type": "code",
   "execution_count": 2,
   "metadata": {},
   "outputs": [
    {
     "data": {
      "text/plain": [
       "StructType(List(StructField(_id,IntegerType,true),StructField(sentence,ArrayType(StructType(List(StructField(_VALUE,StringType,true))),true),true),StructField(sentence_length,IntegerType,true)))"
      ]
     },
     "execution_count": 2,
     "metadata": {},
     "output_type": "execute_result"
    }
   ],
   "source": [
    "subtitle_df.schema"
   ]
  },
  {
   "cell_type": "markdown",
   "metadata": {},
   "source": [
    "Let's count the total amount of sentences we have in our dataframe:"
   ]
  },
  {
   "cell_type": "code",
   "execution_count": 4,
   "metadata": {},
   "outputs": [
    {
     "name": "stdout",
     "output_type": "stream",
     "text": [
      "Total amount of sentences: 173562323\n"
     ]
    }
   ],
   "source": [
    "print(\"Total amount of sentences: {}\".format(subtitle_df.count()))"
   ]
  },
  {
   "cell_type": "markdown",
   "metadata": {},
   "source": [
    "Let's continue by counting the total amount of words. Since each sentence is saved as an array of words, we can easily calculate the sentence length by computing the length of each sentence array and if we later sum over this column we will get the total amount of words in the dataframe."
   ]
  },
  {
   "cell_type": "code",
   "execution_count": 5,
   "metadata": {},
   "outputs": [],
   "source": [
    "# Create column with sentence length\n",
    "subtitle_df = subtitle_df.withColumn('sentence_length',F.size(F.col('sentence')))\n",
    "\n",
    "# Sum all sentence lenegths to get total amount of words\n",
    "total_amount_of_words = subtitle_df.groupBy().sum().collect()"
   ]
  },
  {
   "cell_type": "code",
   "execution_count": 6,
   "metadata": {},
   "outputs": [
    {
     "name": "stdout",
     "output_type": "stream",
     "text": [
      "Total amount of words: 1276487337\n"
     ]
    }
   ],
   "source": [
    "print(\"Total amount of words: {}\".format(total_amount_of_words[0][1]))"
   ]
  },
  {
   "cell_type": "markdown",
   "metadata": {},
   "source": [
    "As can be observed in the above printouts, we are dealing with a lot of text. However, it's important to note that not all words will be used in the analysis. We will elaborate more on this below in the **Preprocessing** section."
   ]
  },
  {
   "cell_type": "markdown",
   "metadata": {},
   "source": [
    "# 2. Preprocessing "
   ]
  },
  {
   "cell_type": "markdown",
   "metadata": {},
   "source": [
    "Before starting the text analysis, we will do some preprocessing steps in order to transform the subtitle texts to a more suitable format and remove undesirable parts. \n",
    "\n",
    "As previously mentioned in the parsing section, sentences are stored as lists of strings. For instance the sentence \"You're a lovely person.\" would be represented by the following list:\n",
    "`[\"You\", \"'re\", \"a\", \"lovely\", \"person\", \".\"]`.\n",
    "\n",
    "\n",
    "There are a few types of words that we do not desire to be part of the analysis, we want to remove common words that do not add any value or meaning to the text. One such category is stop words (https://en.wikipedia.org/wiki/Stop_words). \n",
    "\n",
    "We also do not care about the punctuations (https://en.wikipedia.org/wiki/Punctuation) hence we will remove those as well.  \n",
    "\n",
    "Finally, we also want to transform each word into its \"base\" form. For instance, the words take, took and taken should be treated as a single word in the analysis and not as three different ones. We will use Lemmatisation (https://en.wikipedia.org/wiki/Lemmatisation) in order to turn \"took\" and \"taken\" into their verb base form which is \"take\". However, we do not only want to lemmatize words but also other cases such as transforming plural words into singular and remove the -ing part of words (walking -> walk) etc.\n",
    "\n",
    "Note from the above example sentence that contracted words (https://en.wikipedia.org/wiki/Wikipedia:List_of_English_contractions) are represented as two words in the sentence list. This makes sence when calculating the length of each sentence since a contracted word is actually two words. However, the part on the right hande side of the apostrophe in the contracted word does not add any value to our analysis. Therefore we will drop any word which starts with an apostrophe. \n",
    "\n",
    "Finally, we also want to transform each word into lower case. We want the words \"Take\" and \"take\" to be treated as the same word.\n",
    "\n",
    "To summerize, we are doing the folloing preprocessing steps of our subtitle data:\n",
    "\n",
    "1. Transform each word into lower case \n",
    "2. Remove stop words\n",
    "3. Remove punctuation \n",
    "4. Lemmatize words\n",
    "5. Remove words which starts with an apostrophe\n",
    "\n",
    "Let's perform the 5 steps described above!"
   ]
  },
  {
   "cell_type": "code",
   "execution_count": 8,
   "metadata": {},
   "outputs": [
    {
     "name": "stdout",
     "output_type": "stream",
     "text": [
      "+-------+--------------------+---------------+\n",
      "|    _id|            sentence|sentence_length|\n",
      "+-------+--------------------+---------------+\n",
      "|5131043|[[They], ['re], [...|              4|\n",
      "|5131043|[[they], ['re], [...|              4|\n",
      "|5131043|[[they], ['re], [...|              8|\n",
      "+-------+--------------------+---------------+\n",
      "only showing top 3 rows\n",
      "\n"
     ]
    }
   ],
   "source": [
    "subtitle_df = spark.read.parquet(\"./movie_subtitle_final.parquet\")\n",
    "# Filter empty sentences\n",
    "subtitle_df = subtitle_df.filter(F.size(F.col('sentence._VALUE')) > 0)\n",
    "subtitle_df.show(3)"
   ]
  },
  {
   "cell_type": "markdown",
   "metadata": {},
   "source": [
    "**(1)** Let's convert each word into its lower case representation:"
   ]
  },
  {
   "cell_type": "code",
   "execution_count": 9,
   "metadata": {},
   "outputs": [
    {
     "name": "stdout",
     "output_type": "stream",
     "text": [
      "+-------+--------------------+------------------------+\n",
      "|    _id|            sentence|original_sentence_length|\n",
      "+-------+--------------------+------------------------+\n",
      "|5131043|[they, 're, indep...|                       4|\n",
      "|5131043|[they, 're, affec...|                       4|\n",
      "|5131043|[they, 're, loyal...|                       8|\n",
      "+-------+--------------------+------------------------+\n",
      "only showing top 3 rows\n",
      "\n"
     ]
    }
   ],
   "source": [
    "toLowerSentence = F.udf(lambda x: list(map(lambda y: y.lower() if y != None else y, x)), ArrayType(StringType()))\n",
    "subtitle_df = subtitle_df.select('_id', \n",
    "                                 toLowerSentence('sentence._VALUE').alias('sentence'), \n",
    "                                 F.col('sentence_length').alias('original_sentence_length'))\n",
    "subtitle_df.show(3)"
   ]
  },
  {
   "cell_type": "markdown",
   "metadata": {},
   "source": [
    "**(2)** We will take help from the NLTK library(https://www.nltk.org/) to filter out stop words. NLTK provides predefined lists of stop words for several different languages, we will use the list for the english language. "
   ]
  },
  {
   "cell_type": "code",
   "execution_count": 10,
   "metadata": {},
   "outputs": [
    {
     "name": "stdout",
     "output_type": "stream",
     "text": [
      "+-------+--------------------+------------------------+\n",
      "|    _id|            sentence|original_sentence_length|\n",
      "+-------+--------------------+------------------------+\n",
      "|5131043|['re, independent...|                       4|\n",
      "|5131043|['re, affectionat...|                       4|\n",
      "|5131043|['re, loyal, ;, '...|                       8|\n",
      "+-------+--------------------+------------------------+\n",
      "only showing top 3 rows\n",
      "\n"
     ]
    }
   ],
   "source": [
    "stop_words=set(stopwords.words('english'))\n",
    "wordInStopWords = F.udf(lambda x: list(filter(lambda y: y not in stop_words,x)), ArrayType(StringType()))\n",
    "subtitle_df = subtitle_df\\\n",
    "                    .select('_id', wordInStopWords('sentence').alias('sentence'), 'original_sentence_length')\n",
    "subtitle_df.show(3)"
   ]
  },
  {
   "cell_type": "markdown",
   "metadata": {},
   "source": [
    "**(3)** To filter out punctuations, we can use the built in puncuation list contained in the string class of Python."
   ]
  },
  {
   "cell_type": "code",
   "execution_count": 11,
   "metadata": {},
   "outputs": [
    {
     "name": "stdout",
     "output_type": "stream",
     "text": [
      "+-------+--------------------+------------------------+\n",
      "|    _id|            sentence|original_sentence_length|\n",
      "+-------+--------------------+------------------------+\n",
      "|5131043|  ['re, independent]|                       4|\n",
      "|5131043| ['re, affectionate]|                       4|\n",
      "|5131043|['re, loyal, 're,...|                       8|\n",
      "+-------+--------------------+------------------------+\n",
      "only showing top 3 rows\n",
      "\n"
     ]
    }
   ],
   "source": [
    "punctuation_list=list(string.punctuation)\n",
    "remvovePunctuation = F.udf(lambda x: list(filter(lambda y: y not in punctuation_list,x)), ArrayType(StringType()))\n",
    "subtitle_df = subtitle_df\\\n",
    "                    .select('_id', remvovePunctuation('sentence').alias('sentence'), 'original_sentence_length')\n",
    "subtitle_df.show(3)"
   ]
  },
  {
   "cell_type": "markdown",
   "metadata": {},
   "source": [
    "**(4)** The NLTK library provies a lemmatizer API."
   ]
  },
  {
   "cell_type": "code",
   "execution_count": null,
   "metadata": {},
   "outputs": [],
   "source": [
    "lemmatizer = WordNetLemmatizer()\n",
    "lemmatize = F.udf(lambda x: lemmatizer.lemmatize(x, 'v'), StringType())\n",
    "subtitle_df = subtitle_df.select('_id', lemmatize(F.col('word')).alias('word'), 'original_sentence_length')"
   ]
  },
  {
   "cell_type": "markdown",
   "metadata": {},
   "source": [
    "**(5)** Remove words starting with an apostrophe"
   ]
  },
  {
   "cell_type": "code",
   "execution_count": 12,
   "metadata": {
    "scrolled": false
   },
   "outputs": [
    {
     "name": "stdout",
     "output_type": "stream",
     "text": [
      "+-------+------------------+------------------------+\n",
      "|    _id|          sentence|original_sentence_length|\n",
      "+-------+------------------+------------------------+\n",
      "|5131043|     [independent]|                       4|\n",
      "|5131043|    [affectionate]|                       4|\n",
      "|5131043|[loyal, beautiful]|                       8|\n",
      "+-------+------------------+------------------------+\n",
      "only showing top 3 rows\n",
      "\n"
     ]
    }
   ],
   "source": [
    "removeApostopheWords = F.udf(lambda x: list(filter(lambda y: y[0] != \"'\",x)), ArrayType(StringType()))\n",
    "subtitle_df = subtitle_df\\\n",
    "                    .select('_id', removeApostopheWords('sentence').alias('sentence'), 'original_sentence_length')\n",
    "subtitle_df.show(3)"
   ]
  },
  {
   "cell_type": "markdown",
   "metadata": {},
   "source": [
    "Let's have a look on the poportion of words that has been filtered out during the above steps:"
   ]
  },
  {
   "cell_type": "code",
   "execution_count": 13,
   "metadata": {},
   "outputs": [
    {
     "data": {
      "text/plain": [
       "[Row(sum(_id)=15380688203805207, sum(original_sentence_length)=1276487464, sum(sentence_length_after_filtering)=468131830)]"
      ]
     },
     "execution_count": 13,
     "metadata": {},
     "output_type": "execute_result"
    }
   ],
   "source": [
    "subtitle_df = subtitle_df.withColumn('sentence_length_after_filtering',F.size(F.col('sentence')))\n",
    "total_amount_of_words = subtitle_df.groupBy().sum().collect()\n",
    "total_amount_of_words"
   ]
  },
  {
   "cell_type": "code",
   "execution_count": 14,
   "metadata": {
    "scrolled": true
   },
   "outputs": [
    {
     "name": "stdout",
     "output_type": "stream",
     "text": [
      "Total amount of words before filtering: 1276487464\n",
      "Total amount of words after filtering: 468131830\n",
      "Percentage of original size: 0.367\n"
     ]
    }
   ],
   "source": [
    "print(\"Total amount of words before filtering: {}\".format(total_amount_of_words[0][1]))\n",
    "print(\"Total amount of words after filtering: {}\".format(total_amount_of_words[0][2]))\n",
    "print(\"Percentage of original size: {}\".format(round(total_amount_of_words[0][2]/total_amount_of_words[0][1], 3)))"
   ]
  },
  {
   "cell_type": "markdown",
   "metadata": {},
   "source": [
    "After removing punctuations and stop words we are only left with roughly a third of the words of the original dataset. "
   ]
  },
  {
   "cell_type": "markdown",
   "metadata": {},
   "source": [
    "\n",
    "\n",
    "## <font color='red'> (Plan for milestone 3 below)</font>\n"
   ]
  },
  {
   "cell_type": "markdown",
   "metadata": {},
   "source": [
    "# 3. Text analysis "
   ]
  },
  {
   "cell_type": "markdown",
   "metadata": {},
   "source": [
    "## 3.1 Text complexity analysis"
   ]
  },
  {
   "cell_type": "markdown",
   "metadata": {},
   "source": [
    "### 3.1.1 Quantification of text complexity"
   ]
  },
  {
   "cell_type": "markdown",
   "metadata": {},
   "source": [
    "In this subsection we will choose and implement a method for getting a measure of textual complexity. \n",
    "\n",
    "The measure we are going to use is the Dale-Challe readability forumla, as described here:\n",
    "https://en.wikipedia.org/wiki/Dale%E2%80%93Chall_readability_formula\n",
    "\n",
    "We might also also try other qantification complexity ideas:\n",
    "* https://www.geeksforgeeks.org/readability-index-pythonnlp/\n",
    "* calculate the number of syllabuses in each word https://www.howmanysyllables.com/whataresyllables"
   ]
  },
  {
   "cell_type": "markdown",
   "metadata": {},
   "source": [
    "### 3.1.2 Comparison of text complexity by year"
   ]
  },
  {
   "cell_type": "markdown",
   "metadata": {},
   "source": [
    "In this subsection we are going to compare the complexity of the movie language for each year.\n",
    "We want to see if the complexity differs across years.\n",
    "\n",
    "To do this, we are going to calculate the text complexity measure for each film, and then take the average of complexity for each year."
   ]
  },
  {
   "cell_type": "markdown",
   "metadata": {},
   "source": [
    "### 3.1.3 Comparison of text complexity by genre"
   ]
  },
  {
   "cell_type": "markdown",
   "metadata": {},
   "source": [
    "In this subsection we are going to compare the complexity of the movie language for each genre.\n",
    "Do some genres use more simple language than others?\n",
    "\n",
    "To do this, we are going to calculate the text complexity measure for each film, and then take the average of complexity for each genre."
   ]
  },
  {
   "cell_type": "markdown",
   "metadata": {},
   "source": [
    "## 3.2 Sentimental analysis"
   ]
  },
  {
   "cell_type": "markdown",
   "metadata": {},
   "source": [
    "In this section we are going to perform sentimental analysis on the subtitle text. The aim of this section is to explore if movies express more or less positive emotion nowdays compared to back in the day. We also plan to explore how this property differ between genres. We plan to calculate the polarity of of the text of each film with the help of textblob (https://textblob.readthedocs.io/en/dev/index.html). "
   ]
  },
  {
   "cell_type": "markdown",
   "metadata": {},
   "source": [
    "## 3.3 Offensive language analysis"
   ]
  },
  {
   "cell_type": "markdown",
   "metadata": {},
   "source": [
    "In this section we are going to analyize the use of offensive/swear words in subtitle text. \n",
    "\n",
    "We will use resources such as offensive word lexicons (https://www.cs.cmu.edu/~biglou/resources/) to quantify the level of offensivity of a certain film. Then, we are going to check the level of offensivity in relation to years (are films more/less offensive now) and genres (do some genres use more offensive words)"
   ]
  },
  {
   "cell_type": "markdown",
   "metadata": {},
   "source": [
    "## 3.4 Correlation between text properties and IMDB rating"
   ]
  },
  {
   "cell_type": "markdown",
   "metadata": {},
   "source": [
    "In this section we are going to search for correlation between the film textual properties obtained in sections 3.1, 3.2 and 3.3 and its IMDB rating.\n",
    "\n",
    "To do this we are going to use correlation coefs and visualization to find evidence for correlation between the text properties of a movie and its rating. \n",
    "\n",
    "If we find evidence for correlation, we will try some regression methods on the two variables, such as fitting a regression line."
   ]
  }
 ],
 "metadata": {
  "kernelspec": {
   "display_name": "Python 3",
   "language": "python",
   "name": "python3"
  },
  "language_info": {
   "codemirror_mode": {
    "name": "ipython",
    "version": 3
   },
   "file_extension": ".py",
   "mimetype": "text/x-python",
   "name": "python",
   "nbconvert_exporter": "python",
   "pygments_lexer": "ipython3",
   "version": "3.6.5"
  }
 },
 "nbformat": 4,
 "nbformat_minor": 2
}
