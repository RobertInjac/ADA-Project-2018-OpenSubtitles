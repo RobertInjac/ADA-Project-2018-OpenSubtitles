{
 "cells": [
  {
   "cell_type": "markdown",
   "metadata": {},
   "source": [
    "# The evolution of language in films"
   ]
  },
  {
   "cell_type": "code",
   "execution_count": 1,
   "metadata": {},
   "outputs": [
    {
     "name": "stderr",
     "output_type": "stream",
     "text": [
      "[nltk_data] Downloading package stopwords to\n",
      "[nltk_data]     /Users/jakobsvenningsson/nltk_data...\n",
      "[nltk_data]   Package stopwords is already up-to-date!\n"
     ]
    },
    {
     "data": {
      "text/plain": [
       "'utf-8'"
      ]
     },
     "execution_count": 1,
     "metadata": {},
     "output_type": "execute_result"
    }
   ],
   "source": [
    "import pandas as pd\n",
    "import numpy as np\n",
    "import scipy as sp\n",
    "import matplotlib.pyplot as plt\n",
    "from pyspark.sql.types import *\n",
    "import pyspark.sql.functions as F\n",
    "from pyspark.sql.functions import udf\n",
    "\n",
    "from pyspark.sql import *\n",
    "%matplotlib inline\n",
    "\n",
    "import nltk\n",
    "from nltk.corpus import stopwords\n",
    "import string\n",
    "from nltk.stem.wordnet import WordNetLemmatizer\n",
    "\n",
    "nltk.download('stopwords')\n",
    "\n",
    "sqlContext = SQLContext(sc)\n",
    "import sys\n",
    "sys.getdefaultencoding()"
   ]
  },
  {
   "cell_type": "markdown",
   "metadata": {},
   "source": [
    "# 0. Extraction of data\n",
    "\n",
    "###  <font color='red'>NOTE:</font> All of the extraction of data has been done in the cluster. We have included the scripts in the notebook for the purpose of documentation.\n",
    "\n",
    "Each subtitle in the OpenSubtitle database is stored in a seperate XML-file. In order to analyse the data and we need to convert it to a format more appropriate for Spark/Pandas. Instead of having ~180000 different XML-files, we would like to have the data stored in a dataframe.\n",
    "\n",
    "In order to process the dataset using Spark, we will use the spark-xml package from databricks (https://github.com/databricks/spark-xml).\n",
    "\n",
    "When using spark-xml, you can either let spark-xml infer the schema of the XML file or you can specify it yourself. Delegating the job of creating the schema to spark-xml is convenient however it is very expensive which we experienced through first hand experience. In order to speed up our input pipeline, we will specify or own static xml schema below. When specifying the schema yourself, spark-xml will not try to infer the schema which gives a significant performance boost when reading large numbers of XML-files."
   ]
  },
  {
   "cell_type": "markdown",
   "metadata": {},
   "source": [
    "## 0.1 schema"
   ]
  },
  {
   "cell_type": "markdown",
   "metadata": {},
   "source": [
    "We will extract 2 seperate dataframes, therefore we will need two different XML schemas. One schema will be used to extract the movie meta data contained in each subtitle file and the other schema will be used to extract the actual subtitle text."
   ]
  },
  {
   "cell_type": "markdown",
   "metadata": {},
   "source": [
    "### 0.1.1 meta data schema"
   ]
  },
  {
   "cell_type": "code",
   "execution_count": 2,
   "metadata": {},
   "outputs": [],
   "source": [
    "# Schema for the source XML-tag\n",
    "sourceSchema = StructType([\\\n",
    "                            StructField('genre', StringType()),\n",
    "                            StructField('year', StringType()),\n",
    "                          ])\n",
    "\n",
    "# Schema for the source XML-tag\n",
    "subtitleSchema = StructType([\\\n",
    "                            StructField('duration', StringType())\n",
    "                          ])\n",
    "\n",
    "# Schema for the conversion XML-tag\n",
    "conversionSchema =  StructType([\\\n",
    "                                StructField('sentences', StringType()),\n",
    "                                StructField('tokens', StringType())\n",
    "                              ])\n",
    "\n",
    "# Schema for the meta XML-tag\n",
    "mSchema = StructType([\\\n",
    "                        StructField('source', sourceSchema),\n",
    "                        StructField('conversion', conversionSchema),\n",
    "                        StructField('subtitle', subtitleSchema),\n",
    "                    ])\n",
    "\n",
    "# Root schema\n",
    "metaSchema = StructType([\n",
    "    StructField('_id', IntegerType()),\n",
    "    StructField('meta', mSchema)\n",
    "])"
   ]
  },
  {
   "cell_type": "markdown",
   "metadata": {},
   "source": [
    "### 0.1.1 subtitle data schema"
   ]
  },
  {
   "cell_type": "markdown",
   "metadata": {},
   "source": [
    "The schema will produce a dataframe with two columns. One column will contain the movie id and a column **s** which is of type Array. The elements of the Array in column **s** holds elements which also are arrays. Each nested array represents a sentence and each element of the nested Arrays are the words of the sentence."
   ]
  },
  {
   "cell_type": "code",
   "execution_count": 3,
   "metadata": {},
   "outputs": [],
   "source": [
    "# Schema for the w (word) XML-tag\n",
    "wordSchema = ArrayType(StructType([\\\n",
    "                                StructField('_VALUE', StringType())\\\n",
    "                               ]))\n",
    "\n",
    "# Schema for the s (sentence) XML-tag\n",
    "sentenceSchema = StructType([StructField('w', wordSchema)])\n",
    "\n",
    "# Root schema\n",
    "sentenceSchema = StructType([\n",
    "    StructField('_id', IntegerType()),\n",
    "    StructField('s', ArrayType(sentenceSchema))\n",
    "])"
   ]
  },
  {
   "cell_type": "markdown",
   "metadata": {},
   "source": [
    "## 0.2 Parsing of xml-data\n",
    "\n",
    "The OpenSubtitle dataset uses the following folder structure:\n",
    "\n",
    "**opensubtitle/OpenSubtitles2018/xml/ { language } / { year } / { imdb_id } / { openSubtitle_id }.xml.gz**\n",
    "\n",
    "* **year:** the release year of the movie\n",
    "* **langauge:** the language of the movie\n",
    "* **imdb_id:** id of the movie in the IMDB database\n",
    "* **openSubtitle_id:** unique identifier in the opensubtitle database\n",
    "\n",
    "With the help of regular expression we can load every single subtitle file at once using spark. "
   ]
  },
  {
   "cell_type": "markdown",
   "metadata": {},
   "source": [
    "### 0.2.1 meta data dataframe"
   ]
  },
  {
   "cell_type": "markdown",
   "metadata": {},
   "source": [
    "**The meta data we extract for each movie is the following:**\n",
    "\n",
    "* **_id**: the openSubtitle id - **type**: string\n",
    "* **year**: the release year of the movie - **type**: numeric\n",
    "* **sentences**: the total amount of sentences in the movie - **type**: numeric\n",
    "* **words**: the total amount of words in the movie (not unique words) - **type**: numeric\n",
    "* **duration**:: the duration of the movie - **type**: string\n",
    "* **imdb_id**: id of the movie in the IMDB database - **type**: string\n",
    "\n",
    "The imdb_id is actually not contained in the XML-file of each movie but the parent directory of each XML subtitle file is named using the imdb identifier. Therefore, we extract the imdb_id from the file path of each subtitle file."
   ]
  },
  {
   "cell_type": "code",
   "execution_count": 7,
   "metadata": {},
   "outputs": [],
   "source": [
    "# Loads all subtitles files in english and parses the input files with the schema for meta data.\n",
    "metadata_df = sqlContext.read.format('com.databricks.spark.xml')\\\n",
    "    .options(rowTag='document', \n",
    "             samplingRatio=0.0)\\\n",
    "    .load('hdfs:///datasets/opensubtitle/OpenSubtitles2018/xml/en/[1-2][0-9][0-9][0-9]/**/*.xml.gz', \n",
    "          schema=metaSchema)"
   ]
  },
  {
   "cell_type": "code",
   "execution_count": 60,
   "metadata": {
    "scrolled": true
   },
   "outputs": [],
   "source": [
    "metadata_df = metadata_df.select(\\\n",
    "               F.col(\"_id\"),\\\n",
    "               F.col(\"meta.source.genre\").alias(\"genre\"),\\\n",
    "               F.col(\"meta.source.year\").alias(\"year\"),\\\n",
    "               F.col(\"meta.conversion.sentences\").alias(\"sentences\"),\\\n",
    "               F.col(\"meta.conversion.tokens\").alias(\"words\"),\\\n",
    "               F.col(\"meta.subtitle.duration\").alias(\"duration\"))  \n",
    "\n",
    "metadata_df = metadata_df.withColumn(\"imdb_id\",F.split(F.input_file_name(), \"/\").getItem(6))"
   ]
  },
  {
   "cell_type": "code",
   "execution_count": null,
   "metadata": {},
   "outputs": [],
   "source": [
    "# number of words, sentences, numVotes and year are ints \n",
    "metadata_df = metadata_df.withColumn(\"words\", movies[\"words\"].cast(\"int\"))\n",
    "metadata_df = metadata_df.withColumn(\"sentences\", movies[\"sentences\"].cast(\"int\"))\n",
    "metadata_df = metadata_df.withColumn(\"year\", movies[\"year\"].cast(\"int\"))\n",
    "\n",
    "# convert duration to minutes\n",
    "@F.udf('string')\n",
    "def convert_duration(duration):\n",
    "    try:\n",
    "        return str(int(duration[:2]) * 60 + int(duration[3:5]))\n",
    "    except:\n",
    "        return \"0\"\n",
    "    \n",
    "metadata_df = metadata_df.withColumn(\"duration\", convert_duration(metadata_df.duration))"
   ]
  },
  {
   "cell_type": "code",
   "execution_count": null,
   "metadata": {},
   "outputs": [],
   "source": [
    "metadata_df.write.mode(\"overwrite\").parquet('./datasets/metadata_final.parquet')"
   ]
  },
  {
   "cell_type": "markdown",
   "metadata": {},
   "source": [
    "### 0.2.1 subtitle dataframe"
   ]
  },
  {
   "cell_type": "markdown",
   "metadata": {},
   "source": [
    "The subtitle dataframe has the following structure:\n",
    "\n",
    "* **_id:** the openSubtitle id - **type**: string\n",
    "* **sentence:** a sentence belonging to the movie identified by the **_id** field - **type**: List of List(String)"
   ]
  },
  {
   "cell_type": "code",
   "execution_count": null,
   "metadata": {},
   "outputs": [],
   "source": [
    "# Loads all subtitles files in english and parses the input files with the schema for subtitle data.\n",
    "df_subtitle = sqlContext.read.format('com.databricks.spark.xml')\\\n",
    "    .options(rowTag='document', \n",
    "             samplingRatio=0.0)\\\n",
    "    .load('hdfs:///datasets/opensubtitle/OpenSubtitles2018/xml/en/[1-2][0-9][0-9][0-9]/**/*.xml.gz', \n",
    "          schema=sentenceSchema)"
   ]
  },
  {
   "cell_type": "code",
   "execution_count": null,
   "metadata": {},
   "outputs": [],
   "source": [
    "# The tag s.w in the nested XML-structure holds an array of sentences for each movie.\n",
    "# We want each movie to have its own entry in the dataframe, we use the explode function to create one row\n",
    "# in the dataframe for each nested array contained in the s.w tag\n",
    "df_subtitle = df.select('_id',\n",
    "                            F.explode(F.col('s.w')).alias('sentence'))"
   ]
  },
  {
   "cell_type": "code",
   "execution_count": null,
   "metadata": {},
   "outputs": [],
   "source": [
    "@F.udf('string')\n",
    "def flatMapSentence(sentence):\n",
    "    if sentence == None:\n",
    "        return []\n",
    "    return [item for sublist in sentence for item in sublist]\n",
    "\n",
    "df_subtitle = df_subtitle.withColumn('sentence', flatMapSentence(F.col('sentence')))"
   ]
  },
  {
   "cell_type": "code",
   "execution_count": null,
   "metadata": {},
   "outputs": [],
   "source": [
    "df_subtitle.write.mode(\"overwrite\").parquet('./datasets/subtitles_final.parquet')"
   ]
  },
  {
   "cell_type": "markdown",
   "metadata": {},
   "source": [
    "## 0.3 Enriching the dataset\n",
    "\n",
    "With the help of the imdb_id, we can enrich our dataset with one or several of IMDBs public datasets (https://www.imdb.com/interfaces/). We are interested in the imdb rating of each movie, let's add it to our existing movies dataframe by joining it with the ratings dataset of IMDB."
   ]
  },
  {
   "cell_type": "code",
   "execution_count": 18,
   "metadata": {},
   "outputs": [
    {
     "name": "stdout",
     "output_type": "stream",
     "text": [
      "+-------+--------------------+----+---------+-----+------------+-------+\n",
      "|    _id|               genre|year|sentences|words|    duration|imdb_id|\n",
      "+-------+--------------------+----+---------+-----+------------+-------+\n",
      "|7018237|Comedy,Drama,Romance|1947|     2768|20350|01:55:25,969|  39477|\n",
      "|3528271| Crime,Drama,Fantasy|1993|     1557|10885|01:56:41,202| 107665|\n",
      "|4655639|Animation,Comedy,...|1935|      142|  457|00:15:15,010|  26706|\n",
      "+-------+--------------------+----+---------+-----+------------+-------+\n",
      "only showing top 3 rows\n",
      "\n"
     ]
    }
   ],
   "source": [
    "metadata_df = spark.read.parquet(\"./datasets/metadata_df.parquet\")\n",
    "metadata_df = metadata_df.withColumn('numVotes', F.col('numVotes').cast('int'))\n",
    "metadata_df = metadata_df.withColumn('averageRating', F.col('averageRating').cast('float'))\n",
    "movies_imdb.show(3)"
   ]
  },
  {
   "cell_type": "code",
   "execution_count": 19,
   "metadata": {},
   "outputs": [
    {
     "name": "stdout",
     "output_type": "stream",
     "text": [
      "+---------+-------------+--------+\n",
      "|   tconst|averageRating|numVotes|\n",
      "+---------+-------------+--------+\n",
      "|tt0000001|          5.8|    1437|\n",
      "|tt0000002|          6.3|     171|\n",
      "|tt0000003|          6.6|    1037|\n",
      "+---------+-------------+--------+\n",
      "only showing top 3 rows\n",
      "\n"
     ]
    }
   ],
   "source": [
    "imdb_ratings = spark.read.format(\"csv\")\\\n",
    "                        .option(\"header\", \"true\")\\\n",
    "                        .option(\"sep\", \"\\t\").load(\"title.ratings.tsv\")\n",
    "imdb_ratings.show(3)"
   ]
  },
  {
   "cell_type": "markdown",
   "metadata": {},
   "source": [
    "The imdb ids in the IMDB dataset has a few minor differences compared to the imdb ids in the OpenSubtitle dataset. \n",
    "\n",
    "1. The id's in the IMDB dataset are prefixed with the string \"tt\"\n",
    "2. The id's in the OpenSubtitle dataset has stripped away leading zeros in the imdb id\n",
    "\n",
    "Let's define a simple spark UDF which will take care of both inconsistencies:"
   ]
  },
  {
   "cell_type": "code",
   "execution_count": 20,
   "metadata": {},
   "outputs": [],
   "source": [
    "remove_prefix_and_leading_zeros = F.udf(lambda x: x[2:].lstrip('0'), StringType())"
   ]
  },
  {
   "cell_type": "code",
   "execution_count": 21,
   "metadata": {},
   "outputs": [
    {
     "name": "stdout",
     "output_type": "stream",
     "text": [
      "+-------+--------------------+----+---------+-----+------------+--------+-------------+-------+\n",
      "|    _id|               genre|year|sentences|words|    duration|numVotes|averageRating|imdb_id|\n",
      "+-------+--------------------+----+---------+-----+------------+--------+-------------+-------+\n",
      "|4579146|Comedy,Drama,Romance|1990|     1332| 9373|01:39:48,845|   25410|          6.6| 100140|\n",
      "|3678600|Comedy,Drama,Romance|1990|     1344| 9365|01:41:20,585|   25410|          6.6| 100140|\n",
      "|6325233|Comedy,Drama,Romance|1990|     2066|15353|01:50:03,583|   25410|          6.6| 100140|\n",
      "+-------+--------------------+----+---------+-----+------------+--------+-------------+-------+\n",
      "only showing top 3 rows\n",
      "\n"
     ]
    }
   ],
   "source": [
    "remove_prefix = F.udf(lambda x: x[2:], StringType())\n",
    "imdb_ratings = imdb_ratings.select('averageRating', \n",
    "                                   'numVotes', \n",
    "                                   remove_prefix_and_leading_zeros(F.col('tconst')).alias('id'))\n",
    "# we do a left outer join since we still want to keep movies from our original dataset that \n",
    "# does not match any movies in the imdb dataset.\n",
    "metadata_df = metadata_df.join(imdb_ratings, metadata_df.imdb_id == imdb_ratings.id, \"left_outer\")\\\n",
    "     .select('_id', 'genre', 'year', 'sentences', 'words', 'duration', 'numVotes', 'averageRating', 'imdb_id')\n",
    "metadata_df.show(3)"
   ]
  },
  {
   "cell_type": "code",
   "execution_count": 22,
   "metadata": {},
   "outputs": [],
   "source": [
    "metadata_df.write.mode(\"overwrite\").parquet('./datasets/metadata_df.parquet')"
   ]
  },
  {
   "cell_type": "markdown",
   "metadata": {},
   "source": [
    "# 1. Descriptive statistics"
   ]
  },
  {
   "cell_type": "markdown",
   "metadata": {},
   "source": [
    "## 1.1 Meta data dataframe"
   ]
  },
  {
   "cell_type": "markdown",
   "metadata": {},
   "source": [
    "Before working with our data, let's get to know it. We will start by getting the movie data."
   ]
  },
  {
   "cell_type": "code",
   "execution_count": 1,
   "metadata": {},
   "outputs": [
    {
     "name": "stdout",
     "output_type": "stream",
     "text": [
      "There are 74674 entries in the dataset.\n"
     ]
    }
   ],
   "source": [
    "movies = spark.read.parquet(\"./datasets/metadata_final.parquet\") #177039\n",
    "print(\"There are \" + str(movies.count()) + \" entries in the dataset.\")"
   ]
  },
  {
   "cell_type": "markdown",
   "metadata": {},
   "source": [
    "What information do we have for every movie?"
   ]
  },
  {
   "cell_type": "code",
   "execution_count": 2,
   "metadata": {},
   "outputs": [
    {
     "data": {
      "text/plain": [
       "StructType(List(StructField(_id,IntegerType,true),StructField(genre,StringType,true),StructField(year,IntegerType,true),StructField(sentences,IntegerType,true),StructField(words,IntegerType,true),StructField(duration,IntegerType,true),StructField(numVotes,IntegerType,true),StructField(averageRating,FloatType,true),StructField(imdb_id,StringType,true)))"
      ]
     },
     "execution_count": 2,
     "metadata": {},
     "output_type": "execute_result"
    }
   ],
   "source": [
    "movies.schema"
   ]
  },
  {
   "cell_type": "code",
   "execution_count": 3,
   "metadata": {},
   "outputs": [
    {
     "name": "stdout",
     "output_type": "stream",
     "text": [
      "root\n",
      " |-- id: integer (nullable = true)\n",
      " |-- genre: string (nullable = true)\n",
      " |-- year: integer (nullable = true)\n",
      " |-- sentences: integer (nullable = true)\n",
      " |-- words: integer (nullable = true)\n",
      " |-- duration: integer (nullable = true)\n",
      " |-- numVotes: integer (nullable = true)\n",
      " |-- averageRating: float (nullable = true)\n",
      " |-- imdb_id: string (nullable = true)\n",
      "\n"
     ]
    }
   ],
   "source": [
    "# convert to DF format\n",
    "movies = movies.toDF('id', \n",
    "                     'genre', \n",
    "                     'year', \n",
    "                     'sentences', \n",
    "                     'words', \n",
    "                     'duration', \n",
    "                     'numVotes', \n",
    "                     'averageRating', \n",
    "                     'imdb_id')\n",
    "\n",
    "\n",
    "\"\"\"\n",
    "\n",
    "ALL OF THIS HAS MOVED TO THE ABOVE SECTION\n",
    "\n",
    "# number of words, sentences, numVotes and year are ints \n",
    "movies = movies.withColumn(\"words\", movies[\"words\"].cast(\"int\"))\n",
    "movies = movies.withColumn(\"sentences\", movies[\"sentences\"].cast(\"int\"))\n",
    "movies = movies.withColumn(\"numVotes\", movies[\"numVotes\"].cast(\"int\"))\n",
    "movies = movies.withColumn(\"year\", movies[\"year\"].cast(\"int\"))\n",
    "\n",
    "# AverageRating is a float\n",
    "movies = movies.withColumn(\"averageRating\", movies[\"averageRating\"].cast(\"float\"))\n",
    "\n",
    "\n",
    "# convert duration to minutes\n",
    "@udf('string')\n",
    "def convert_duration(duration):\n",
    "    try:\n",
    "        return str(int(duration[:2]) * 60 + int(duration[3:5])) \n",
    "    except: \n",
    "        return \"0\"\n",
    "\n",
    "movies = movies.withColumn(\"duration\", convert_duration(movies.duration))\n",
    "movies = movies.withColumn(\"duration\", movies[\"duration\"].cast(\"int\"))\n",
    "\n",
    "\"\"\"\n",
    "\n",
    "movies.printSchema()"
   ]
  },
  {
   "cell_type": "markdown",
   "metadata": {},
   "source": [
    "Our dataset contains a lot of TV series along with the movies. We can say that almost all TV series are less than 60 minutes long, while almost all movies are longer than 60 minutes.\n",
    "\n",
    "Considering we want __only__ films in our dataset, we will remove all entries which have a duration of less than 60 minutes. This should remove the great majority of TV series and keep the great majority of films in our dataset."
   ]
  },
  {
   "cell_type": "code",
   "execution_count": 4,
   "metadata": {},
   "outputs": [
    {
     "name": "stdout",
     "output_type": "stream",
     "text": [
      "We are left with 74674 films after removing the TV series.\n"
     ]
    }
   ],
   "source": [
    "movies = movies.filter(movies.duration > 60) \n",
    "print(\"We are left with \" + str(movies.count()) + \" films after removing the TV series.\")"
   ]
  },
  {
   "cell_type": "markdown",
   "metadata": {},
   "source": [
    "### 1.1.1 Number of movies by year\n",
    "\n",
    "So how many movies are there for each year? We presume there will be more movies in recent years than 1950. \n",
    "\n",
    "Firstly, we check the range of the years."
   ]
  },
  {
   "cell_type": "code",
   "execution_count": 13,
   "metadata": {},
   "outputs": [
    {
     "name": "stdout",
     "output_type": "stream",
     "text": [
      "+-------+------------------+\n",
      "|summary|              year|\n",
      "+-------+------------------+\n",
      "|  count|             74416|\n",
      "|   mean|1995.3661175016125|\n",
      "| stddev| 21.92565919323366|\n",
      "|    min|              1896|\n",
      "|    max|              2017|\n",
      "+-------+------------------+\n",
      "\n"
     ]
    }
   ],
   "source": [
    "movies.describe('year').show()"
   ]
  },
  {
   "cell_type": "markdown",
   "metadata": {},
   "source": [
    "Now let's draw a chart showing exactly how many movies were there for each year."
   ]
  },
  {
   "cell_type": "code",
   "execution_count": 14,
   "metadata": {},
   "outputs": [],
   "source": [
    "# get movie counts per year\n",
    "movies_per_year = movies.groupby('year').count()\n",
    "\n",
    "# convert to Pandas for plotting\n",
    "ydf = movies_per_year.toPandas()\n",
    "\n",
    "# sort the films by year\n",
    "ydf = ydf.sort_values(by='year')"
   ]
  },
  {
   "cell_type": "markdown",
   "metadata": {},
   "source": [
    "We need to clean our data of null values and inconsistent entries."
   ]
  },
  {
   "cell_type": "code",
   "execution_count": 15,
   "metadata": {},
   "outputs": [
    {
     "name": "stdout",
     "output_type": "stream",
     "text": [
      "Before cleaning we have 74674 films. \n",
      "After cleaning we have 74416 films. \n",
      "Only 0.00346% of our dataset was invalid/inconsistent.\n"
     ]
    }
   ],
   "source": [
    "n_before = sum(ydf['count'])\n",
    "print(\"Before cleaning we have \" + str(n_before) + \" films. \")\n",
    "\n",
    "# convert year to int the 'year' value\n",
    "ydf['year'] = pd.to_numeric(ydf['year'], errors='coerce', downcast='integer')\n",
    "\n",
    "# remove films with \"Nan\" as year value\n",
    "# since we cannot really use them\n",
    "ydf = ydf.dropna()\n",
    "ydf = ydf.reset_index(drop=True)\n",
    "ydf['year'] = ydf['year'].astype('int')\n",
    "\n",
    "n_after = sum(ydf['count'])\n",
    "print(\"After cleaning we have \" + str(n_after) + \" films. \")\n",
    "print(\"Only %.5f%% of our dataset was invalid/inconsistent.\" % (1 - (n_after/n_before)))"
   ]
  },
  {
   "cell_type": "markdown",
   "metadata": {},
   "source": [
    "To plot the number of films by year, we will bin them to make the visualization clearer.\n",
    "\n",
    "Considering we have movies from 1896 to 2020, we are going to make 13 bins for each decade from 1890s to 2010s (We are going to put year 2020 in 2010s, it will not change much because we have only  6 films for 2020)"
   ]
  },
  {
   "cell_type": "code",
   "execution_count": 16,
   "metadata": {},
   "outputs": [],
   "source": [
    "years = list(ydf['year'])\n",
    "labels = []\n",
    "counts = []\n",
    "\n",
    "for decade in range(1890, 2020, 10):\n",
    "    # create bin label\n",
    "    label = str(decade) + \"s\"\n",
    "    labels.append(label)\n",
    "    \n",
    "    # calculate count for the bin\n",
    "    count = 0\n",
    "    for year in range(decade, decade+10):\n",
    "        if year in years:\n",
    "            count += int(ydf.loc[ydf['year'] == year]['count'])\n",
    "    counts.append(count)\n",
    "\n",
    "# add the 2020 to the 2010s decade\n",
    "counts[11] += int(ydf.loc[ydf['year'] == 2010]['count'])"
   ]
  },
  {
   "cell_type": "code",
   "execution_count": 17,
   "metadata": {},
   "outputs": [
    {
     "data": {
      "image/png": "[encoded data removed]",
      "text/plain": [
       "<Figure size 1080x720 with 1 Axes>"
      ]
     },
     "metadata": {},
     "output_type": "display_data"
    }
   ],
   "source": [
    "plt.figure(figsize=(15,10))\n",
    "plt.bar(labels, counts)\n",
    "plt.title('Number of films per decade')\n",
    "plt.show()"
   ]
  },
  {
   "cell_type": "markdown",
   "metadata": {},
   "source": [
    "As expected, we have more films in the recent decades. We can see from the plot above that the amount of data from the 1900s and 1910s decades are very low. Let's have a look at the exact number:"
   ]
  },
  {
   "cell_type": "code",
   "execution_count": 18,
   "metadata": {},
   "outputs": [
    {
     "name": "stdout",
     "output_type": "stream",
     "text": [
      "Number of movies from 1890s: 1\n",
      "Number of movies from 1900s: 4\n"
     ]
    }
   ],
   "source": [
    "regex1900 = \"190[0-9]\"\n",
    "regex1890 = \"189[0-9]\"\n",
    "print(\"Number of movies from 1890s: {}\".format(movies.filter(movies[\"year\"].rlike(regex1890)).count()))\n",
    "print(\"Number of movies from 1900s: {}\".format(movies.filter(movies[\"year\"].rlike(regex1900)).count()))"
   ]
  },
  {
   "cell_type": "markdown",
   "metadata": {},
   "source": [
    "No meaningful analysis about the 1890s and 1900s can be done with so few data points, we will therefore drop these entries from the data set."
   ]
  },
  {
   "cell_type": "code",
   "execution_count": 19,
   "metadata": {},
   "outputs": [],
   "source": [
    "movies = movies.filter((movies[\"year\"].rlike(regex1890) == False))\n",
    "movies = movies.filter((movies[\"year\"].rlike(regex1900) == False))"
   ]
  },
  {
   "cell_type": "markdown",
   "metadata": {},
   "source": [
    "### 1.1.2 Median number of sentences by year"
   ]
  },
  {
   "cell_type": "markdown",
   "metadata": {},
   "source": [
    "Our project is about evolution of language used in films, so let's have a peek at how and did it change over time. We will start by showing the median number of sentences for each year. We use median instead of mean since it's a more robust measure so in the case we have some invalid data (like unfinished movie subtitles with just a few sentences) it will behave better."
   ]
  },
  {
   "cell_type": "code",
   "execution_count": 20,
   "metadata": {},
   "outputs": [],
   "source": [
    "# get median number of sentences per year\n",
    "percentile = F.expr('percentile_approx(sentences, 0.5)')\n",
    "sdf_ = movies.groupby('year').agg(percentile.alias('n_sent_median'))\n",
    "\n",
    "# convert to Pandas for plotting\n",
    "sdf = sdf_.toPandas()\n",
    "\n",
    "# sort the films by year\n",
    "sdf = sdf.sort_values(by='year')\n",
    "\n",
    "# convert year to int the 'year' value\n",
    "sdf['year'] = pd.to_numeric(sdf['year'], errors='coerce', downcast='integer')\n",
    "\n",
    "# remove films with \"Nan\" as year value\n",
    "# since we cannot really use them\n",
    "sdf = sdf.dropna()\n",
    "sdf = sdf.reset_index(drop=True)\n",
    "sdf['year'] = sdf['year'].astype('int')"
   ]
  },
  {
   "cell_type": "markdown",
   "metadata": {},
   "source": [
    "We will now visualize the median number of sentences by decade. For each decade, we will take the average of medians for that decade. We will ignore year 2020 (for all decades to have exactly 10 years)."
   ]
  },
  {
   "cell_type": "code",
   "execution_count": 21,
   "metadata": {},
   "outputs": [],
   "source": [
    "years = list(sdf['year'])\n",
    "labels = []\n",
    "medians = []\n",
    "\n",
    "for decade in range(1910, 2020, 10):\n",
    "    # create bin label\n",
    "    label = str(decade) + \"s\"\n",
    "    labels.append(label)\n",
    "    \n",
    "    # calculate count for the bin\n",
    "    median = 0\n",
    "    count = 0\n",
    "    for year in range(decade, decade+10):\n",
    "        if year in years:\n",
    "            median += int(sdf.loc[sdf['year'] == year]['n_sent_median'])\n",
    "            count += 1\n",
    "    medians.append(median / count)"
   ]
  },
  {
   "cell_type": "code",
   "execution_count": 22,
   "metadata": {},
   "outputs": [
    {
     "data": {
      "image/png": "[encoded data removed]",
      "text/plain": [
       "<Figure size 1080x720 with 1 Axes>"
      ]
     },
     "metadata": {},
     "output_type": "display_data"
    }
   ],
   "source": [
    "plt.figure(figsize=(15,10))\n",
    "plt.bar(labels, medians)\n",
    "plt.title('Median number of sentences per decade')\n",
    "plt.show()"
   ]
  },
  {
   "cell_type": "markdown",
   "metadata": {},
   "source": [
    "On this graph we can see some interesting things. Before 1930s, in the era of the silent films, there is a low number of sentences for each movie. In the 30s, the first decade of the \"sound era\", the number gets much larger: the movies have proper dialogue now. In the later decades, it seems the number has lowered a bit, but it didn't change much and is mostly around 1000 to 1400 senences per film."
   ]
  },
  {
   "cell_type": "markdown",
   "metadata": {},
   "source": [
    "### 1.1.3 Median number of words in sentences by year"
   ]
  },
  {
   "cell_type": "markdown",
   "metadata": {},
   "source": [
    "We already checked sentences, but they can hide something. The number of words is also important. A movie can have many sentences but most of them can be very short. So let's check the median number of words per year and visualize it."
   ]
  },
  {
   "cell_type": "code",
   "execution_count": 23,
   "metadata": {},
   "outputs": [],
   "source": [
    "# get median number of words per year\n",
    "percentile = F.expr('percentile_approx(words, 0.5)')\n",
    "wdf_ = movies.groupby('year').agg(percentile.alias('n_word_median'))\n",
    "\n",
    "# convert to Pandas for plotting\n",
    "wdf = wdf_.toPandas()\n",
    "\n",
    "# sort the films by year\n",
    "wdf = wdf.sort_values(by='year')\n",
    "\n",
    "# convert year to int the 'year' value\n",
    "wdf['year'] = pd.to_numeric(wdf['year'], errors='coerce', downcast='integer')\n",
    "\n",
    "# remove films with \"Nan\" as year value\n",
    "# since we cannot really use them\n",
    "wdf = wdf.dropna()\n",
    "wdf = wdf.reset_index(drop=True)\n",
    "wdf['year'] = wdf['year'].astype('int')"
   ]
  },
  {
   "cell_type": "code",
   "execution_count": 24,
   "metadata": {},
   "outputs": [],
   "source": [
    "years = list(wdf['year'])\n",
    "labels = []\n",
    "medians = []\n",
    "\n",
    "for decade in range(1910, 2020, 10):\n",
    "    # create bin label\n",
    "    label = str(decade) + \"s\"\n",
    "    labels.append(label)\n",
    "    \n",
    "    # calculate count for the bin\n",
    "    median = 0\n",
    "    count = 0\n",
    "    for year in range(decade, decade+10):\n",
    "        if year in years:\n",
    "            median += int(wdf.loc[wdf['year'] == year]['n_word_median'])\n",
    "            count += 1\n",
    "    medians.append(median / count)"
   ]
  },
  {
   "cell_type": "code",
   "execution_count": 25,
   "metadata": {},
   "outputs": [
    {
     "data": {
      "image/png": "[encoded data removed]",
      "text/plain": [
       "<Figure size 1080x720 with 1 Axes>"
      ]
     },
     "metadata": {},
     "output_type": "display_data"
    }
   ],
   "source": [
    "plt.figure(figsize=(15,10))\n",
    "plt.bar(labels, medians)\n",
    "plt.title('Median number of words per decade')\n",
    "plt.show()"
   ]
  },
  {
   "cell_type": "markdown",
   "metadata": {},
   "source": [
    "The graph seems very similar to the sentences graph in the previous section. So we can assume that number of words for each sentence did not really change."
   ]
  },
  {
   "cell_type": "markdown",
   "metadata": {},
   "source": [
    "### 1.1.4 Median film duration by year"
   ]
  },
  {
   "cell_type": "markdown",
   "metadata": {},
   "source": [
    "Looking at the number of sentences per year we noticed that there is a smaller number of sentences in films in recent decades. However, could it be just because films were longer in the past? \n",
    "\n",
    "We will check the median film duration for every year. Again, we will visualize it in decades, taking the average of the median for each year of the decade. "
   ]
  },
  {
   "cell_type": "code",
   "execution_count": 26,
   "metadata": {},
   "outputs": [],
   "source": [
    "# get median duration per year\n",
    "percentile = F.expr('percentile_approx(duration, 0.5)')\n",
    "ddf_ = movies.groupby('year').agg(percentile.alias('duration_median'))\n",
    "\n",
    "# convert to Pandas for plotting\n",
    "ddf = ddf_.toPandas()\n",
    "\n",
    "# sort the films by year\n",
    "ddf = ddf.sort_values(by='year')\n",
    "\n",
    "# convert year to int the 'year' value\n",
    "ddf['year'] = pd.to_numeric(ddf['year'], errors='coerce', downcast='integer')\n",
    "\n",
    "# remove films with \"Nan\" as year value\n",
    "# since we cannot really use them\n",
    "ddf = ddf.dropna()\n",
    "ddf = ddf.reset_index(drop=True)\n",
    "ddf['year'] = ddf['year'].astype('int')"
   ]
  },
  {
   "cell_type": "code",
   "execution_count": 27,
   "metadata": {},
   "outputs": [],
   "source": [
    "years = list(ddf['year'])\n",
    "labels = []\n",
    "medians = []\n",
    "\n",
    "for decade in range(1910, 2020, 10):\n",
    "    # create bin label\n",
    "    label = str(decade) + \"s\"\n",
    "    labels.append(label)\n",
    "    \n",
    "    # calculate count for the bin\n",
    "    median = 0\n",
    "    count = 0\n",
    "    for year in range(decade, decade+10):\n",
    "        if year in years:\n",
    "            median += int(ddf.loc[wdf['year'] == year]['duration_median'])\n",
    "            count += 1\n",
    "    medians.append(median / count)"
   ]
  },
  {
   "cell_type": "code",
   "execution_count": 28,
   "metadata": {},
   "outputs": [
    {
     "data": {
      "image/png": "[encoded data removed]",
      "text/plain": [
       "<Figure size 1080x720 with 1 Axes>"
      ]
     },
     "metadata": {},
     "output_type": "display_data"
    }
   ],
   "source": [
    "plt.figure(figsize=(15,10))\n",
    "plt.bar(labels, medians)\n",
    "plt.title('Median duration per decade (in minutes)')\n",
    "plt.show()"
   ]
  },
  {
   "cell_type": "markdown",
   "metadata": {},
   "source": [
    "As can be seen, the duration of the films did not really change by the years. The median duration is always around 80 to 100 minutes, even in the silent film era."
   ]
  },
  {
   "cell_type": "markdown",
   "metadata": {},
   "source": [
    "### 1.1.5 Distribution of genres"
   ]
  },
  {
   "cell_type": "markdown",
   "metadata": {},
   "source": [
    "We are going to see what is the distribution of genres in our dataset."
   ]
  },
  {
   "cell_type": "code",
   "execution_count": 29,
   "metadata": {},
   "outputs": [
    {
     "name": "stdout",
     "output_type": "stream",
     "text": [
      "We have 42 genres.\n"
     ]
    }
   ],
   "source": [
    "# make genre column into a list of genres\n",
    "movies_ = movies.withColumn(\"genre\", F.split(movies.genre, ','))\n",
    "\n",
    "# make a row for each genre\n",
    "movies_ = movies_.withColumn(\"genre\", F.explode(\"genre\"))\n",
    "\n",
    "# get count of each genre\n",
    "genres_ = movies_.groupby('genre').count()\n",
    "\n",
    "# convert to Pandas for plotting\n",
    "genres = genres_.toPandas()\n",
    "\n",
    "print(\"We have \" + str(len(genres)) + \" genres.\")"
   ]
  },
  {
   "cell_type": "markdown",
   "metadata": {},
   "source": [
    "For visualization, we are going to remove the genres with a low count (which have less than 1000 entries).\n",
    "\n",
    "Also, we are going to sort them by count."
   ]
  },
  {
   "cell_type": "code",
   "execution_count": 30,
   "metadata": {},
   "outputs": [],
   "source": [
    "genres = genres.query(\"count > 1000\")\n",
    "genres = genres.sort_values(by='count')"
   ]
  },
  {
   "cell_type": "markdown",
   "metadata": {},
   "source": [
    "Let's plot the distribution of genres as a pie chart."
   ]
  },
  {
   "cell_type": "code",
   "execution_count": 31,
   "metadata": {},
   "outputs": [
    {
     "data": {
      "image/png": "[encoded data removed]",
      "text/plain": [
       "<Figure size 720x720 with 1 Axes>"
      ]
     },
     "metadata": {},
     "output_type": "display_data"
    }
   ],
   "source": [
    "plt.figure(figsize=(10,10))\n",
    "plt.pie(genres['count'], labels=genres['genre'])\n",
    "plt.title('Distribution of film genres')\n",
    "plt.show()"
   ]
  },
  {
   "cell_type": "markdown",
   "metadata": {},
   "source": [
    "### 1.1.5 Distribution of IMDB ratings"
   ]
  },
  {
   "cell_type": "markdown",
   "metadata": {},
   "source": [
    "Let's start by filtering out all movies which we don't have an IMDB rating "
   ]
  },
  {
   "cell_type": "code",
   "execution_count": 32,
   "metadata": {},
   "outputs": [],
   "source": [
    "movies_with_rating = movies.filter(F.col(\"averageRating\").isNotNull())"
   ]
  },
  {
   "cell_type": "markdown",
   "metadata": {},
   "source": [
    "How large porportion of the movies in our dataset contains IMDB ratings?"
   ]
  },
  {
   "cell_type": "code",
   "execution_count": 33,
   "metadata": {},
   "outputs": [
    {
     "name": "stdout",
     "output_type": "stream",
     "text": [
      "0.994\n"
     ]
    }
   ],
   "source": [
    "number_of_movies_with_ratings = movies_with_rating.count()\n",
    "number_of_movies = movies.count()\n",
    "print(round(number_of_movies_with_ratings / number_of_movies, 3))"
   ]
  },
  {
   "cell_type": "markdown",
   "metadata": {},
   "source": [
    "We have ratings for close to all of the movies in our dataset, great!\n",
    "\n",
    "Let's have a look at the distribution of imdb ratings:"
   ]
  },
  {
   "cell_type": "code",
   "execution_count": 34,
   "metadata": {},
   "outputs": [],
   "source": [
    "movies_with_ratings_pandas = movies_with_rating.toPandas()\n",
    "movies_with_ratings_pandas['numVotes'] = movies_with_ratings_pandas['numVotes'].astype(int)\n",
    "movies_with_ratings_pandas['averageRating'] = movies_with_ratings_pandas['averageRating'].astype(float)"
   ]
  },
  {
   "cell_type": "code",
   "execution_count": 35,
   "metadata": {},
   "outputs": [
    {
     "data": {
      "text/plain": [
       "Text(0.5,0,'IMDB rating')"
      ]
     },
     "execution_count": 35,
     "metadata": {},
     "output_type": "execute_result"
    },
    {
     "data": {
      "image/png": "[encoded data removed]",
      "text/plain": [
       "<Figure size 720x432 with 1 Axes>"
      ]
     },
     "metadata": {},
     "output_type": "display_data"
    }
   ],
   "source": [
    "ax = movies_with_ratings_pandas['averageRating']\\\n",
    "    .plot\\\n",
    "    .hist(title=\"Ditibution of IMDB ratings\", grid=True, figsize=(10,6), bins=20)\n",
    "ax.set_xlabel(\"IMDB rating\")"
   ]
  },
  {
   "cell_type": "markdown",
   "metadata": {},
   "source": [
    "Judging from the above plot, it appears that the imdb ratings follow a normal distribution with a slight tail to the left and a mean of around ~7."
   ]
  },
  {
   "cell_type": "markdown",
   "metadata": {},
   "source": [
    "### 1.1.5 Mean film rating by decade"
   ]
  },
  {
   "cell_type": "markdown",
   "metadata": {},
   "source": [
    "Let's first start with dropping rows which contain null values in the year column."
   ]
  },
  {
   "cell_type": "code",
   "execution_count": 36,
   "metadata": {},
   "outputs": [],
   "source": [
    "movies_with_ratings_pandas = movies_with_ratings_pandas.dropna(subset=['year'])"
   ]
  },
  {
   "cell_type": "markdown",
   "metadata": {},
   "source": [
    "We bin our movies into decades by rounding the year column to the closest decade."
   ]
  },
  {
   "cell_type": "code",
   "execution_count": 37,
   "metadata": {},
   "outputs": [],
   "source": [
    "movies_with_ratings_pandas['decade'] = (movies_with_ratings_pandas['year'] - (movies_with_ratings_pandas['year'] % 10)).astype(int)"
   ]
  },
  {
   "cell_type": "markdown",
   "metadata": {},
   "source": [
    "In order to get the mean of each decade, we group by the decade column and aggregate by taking the mean."
   ]
  },
  {
   "cell_type": "code",
   "execution_count": 38,
   "metadata": {},
   "outputs": [],
   "source": [
    "decade_imdb_mean = movies_with_ratings_pandas\\\n",
    "    .groupby('decade')\\\n",
    "    .mean()['averageRating']\n",
    "decade_imdb_mean.index = decade_imdb_mean.index.astype(str) + \"s\""
   ]
  },
  {
   "cell_type": "code",
   "execution_count": 39,
   "metadata": {},
   "outputs": [
    {
     "data": {
      "image/png": "[encoded data removed]",
      "text/plain": [
       "<Figure size 1080x720 with 1 Axes>"
      ]
     },
     "metadata": {},
     "output_type": "display_data"
    }
   ],
   "source": [
    "plt.figure(figsize=(15,10))\n",
    "ax = plt.bar(decade_imdb_mean.index, decade_imdb_mean)\n",
    "plt.title('Mean imdb rating per decade')\n",
    "plt.xlabel('Decade')\n",
    "plt.ylabel('Mean IMDB rating')\n",
    "plt.show()"
   ]
  },
  {
   "cell_type": "markdown",
   "metadata": {},
   "source": [
    "There are two key observations in the above plot:\n",
    "\n",
    "1. The mean imdb rating has a peak around 1920-1940s.\n",
    "2. The mean imdb rating has slowly but consistently decreased after the 1960s until today"
   ]
  },
  {
   "cell_type": "markdown",
   "metadata": {},
   "source": [
    "## 1.2 Subtitle dataframe (JOIN WITH META DATA AND FILTER OUT TV SHOWS)\n",
    "Let's start by importing the dataframe and printing its schema."
   ]
  },
  {
   "cell_type": "code",
   "execution_count": 83,
   "metadata": {},
   "outputs": [],
   "source": [
    "subtitle_df = spark.read.parquet(\"./datasets/subtitles_final.parquet\")"
   ]
  },
  {
   "cell_type": "code",
   "execution_count": 84,
   "metadata": {},
   "outputs": [
    {
     "name": "stdout",
     "output_type": "stream",
     "text": [
      "root\n",
      " |-- _id: integer (nullable = true)\n",
      " |-- sentence: array (nullable = true)\n",
      " |    |-- element: string (containsNull = true)\n",
      "\n",
      "+-------+--------------------+\n",
      "|    _id|            sentence|\n",
      "+-------+--------------------+\n",
      "|5131043|[They, 're, indep...|\n",
      "|5131043|[they, 're, affec...|\n",
      "|5131043|[they, 're, loyal...|\n",
      "|5131043|[they, 're, sagac...|\n",
      "|5131043|[they, 're, ineff...|\n",
      "|5131043|[Cats, are, magic...|\n",
      "|5131043|[They, really, ar...|\n",
      "|5131043|[Probably, the, m...|\n",
      "|5131043|[They, 're, also,...|\n",
      "|5131043|[they, 're, very,...|\n",
      "|5131043|[That, 's, anothe...|\n",
      "|5131043|[The, domestic, c...|\n",
      "|5131043|[Within, even, th...|\n",
      "|5131043|[Even, after, tho...|\n",
      "|5131043|[Now, ,, scientis...|\n",
      "|5131043|[For, them, ,, th...|\n",
      "|5131043|[To, share, one, ...|\n",
      "|5131043|[Perhaps, the, wr...|\n",
      "|5131043|[\", God, made, th...|\n",
      "|5131043|[Today, ,, the, W...|\n",
      "+-------+--------------------+\n",
      "only showing top 20 rows\n",
      "\n"
     ]
    }
   ],
   "source": [
    "subtitle_df.printSchema()\n",
    "subtitle_df.show()"
   ]
  },
  {
   "cell_type": "markdown",
   "metadata": {},
   "source": [
    "Let's count the total amount of sentences we have in our dataframe:"
   ]
  },
  {
   "cell_type": "code",
   "execution_count": 85,
   "metadata": {},
   "outputs": [
    {
     "name": "stdout",
     "output_type": "stream",
     "text": [
      "Total amount of sentences: 104322445\n"
     ]
    }
   ],
   "source": [
    "print(\"Total amount of sentences: {}\".format(subtitle_df.count())) "
   ]
  },
  {
   "cell_type": "markdown",
   "metadata": {},
   "source": [
    "Let's continue by counting the total amount of words. Since each sentence is saved as an array of words, we can easily calculate the sentence length by computing the length of each sentence array and if we later sum over this column we will get the total amount of words in the dataframe."
   ]
  },
  {
   "cell_type": "code",
   "execution_count": 86,
   "metadata": {},
   "outputs": [],
   "source": [
    "# Create column with sentence length\n",
    "subtitle_df = subtitle_df.withColumn('sentence_length',F.size(F.col('sentence')))\n",
    "\n",
    "# Sum all sentence lenegths to get total amount of words\n",
    "total_amount_of_words = subtitle_df.groupBy().sum().collect()"
   ]
  },
  {
   "cell_type": "code",
   "execution_count": 87,
   "metadata": {},
   "outputs": [
    {
     "name": "stdout",
     "output_type": "stream",
     "text": [
      "Total amount of words: 746037179\n"
     ]
    }
   ],
   "source": [
    "print(\"Total amount of words: {}\".format(total_amount_of_words[0][1])) "
   ]
  },
  {
   "cell_type": "markdown",
   "metadata": {},
   "source": [
    "As can be observed in the above printouts, we are dealing with a lot of text. However, it's important to note that not all words will be used in the analysis. We will elaborate more on this below in the **Preprocessing** section."
   ]
  },
  {
   "cell_type": "markdown",
   "metadata": {},
   "source": [
    "# 2. Preprocessing (SHOULD BE REWRITTEN/REMOVED)"
   ]
  },
  {
   "cell_type": "markdown",
   "metadata": {},
   "source": [
    "Before starting the text analysis, we will do some preprocessing steps in order to transform the subtitle texts to a more suitable format and remove undesirable parts. \n",
    "\n",
    "As previously mentioned in the parsing section, sentences are stored as lists of strings. For instance the sentence \"You're a lovely person.\" would be represented by the following list:\n",
    "`[\"You\", \"'re\", \"a\", \"lovely\", \"person\", \".\"]`.\n",
    "\n",
    "\n",
    "There are a few types of words that we do not desire to be part of the analysis, we want to remove common words that do not add any value or meaning to the text. One such category is stop words (https://en.wikipedia.org/wiki/Stop_words). \n",
    "\n",
    "We also do not care about the punctuations (https://en.wikipedia.org/wiki/Punctuation) hence we will remove those as well.  \n",
    "\n",
    "Finally, we also want to transform each word into its \"base\" form. For instance, the words take, took and taken should be treated as a single word in the analysis and not as three different ones. We will use Lemmatisation (https://en.wikipedia.org/wiki/Lemmatisation) in order to turn \"took\" and \"taken\" into their verb base form which is \"take\". However, we do not only want to lemmatize words but also other cases such as transforming plural words into singular and remove the -ing part of words (walking -> walk) etc.\n",
    "\n",
    "Note from the above example sentence that contracted words (https://en.wikipedia.org/wiki/Wikipedia:List_of_English_contractions) are represented as two words in the sentence list. This makes sence when calculating the length of each sentence since a contracted word is actually two words. However, the part on the right hande side of the apostrophe in the contracted word does not add any value to our analysis. Therefore we will drop any word which starts with an apostrophe. \n",
    "\n",
    "Finally, we also want to transform each word into lower case. We want the words \"Take\" and \"take\" to be treated as the same word.\n",
    "\n",
    "To summerize, we are doing the folloing preprocessing steps of our subtitle data:\n",
    "\n",
    "1. Transform each word into lower case \n",
    "2. Remove stop words\n",
    "3. Remove punctuation \n",
    "4. Lemmatize words\n",
    "5. Remove words which starts with an apostrophe\n",
    "\n",
    "Let's perform the 5 steps described above!"
   ]
  },
  {
   "cell_type": "code",
   "execution_count": 17,
   "metadata": {},
   "outputs": [
    {
     "name": "stdout",
     "output_type": "stream",
     "text": [
      "+-------+--------------------+---------------+\n",
      "|    _id|            sentence|sentence_length|\n",
      "+-------+--------------------+---------------+\n",
      "|5131043|[[They], ['re], [...|              4|\n",
      "|5131043|[[they], ['re], [...|              4|\n",
      "|5131043|[[they], ['re], [...|              8|\n",
      "+-------+--------------------+---------------+\n",
      "only showing top 3 rows\n",
      "\n"
     ]
    }
   ],
   "source": [
    "subtitle_df = spark.read.parquet(\"./movie_subtitle_final.parquet\")\n",
    "# Filter empty sentences\n",
    "subtitle_df = subtitle_df.filter(F.size(F.col('sentence._VALUE')) > 0)\n",
    "subtitle_df.show(3)"
   ]
  },
  {
   "cell_type": "markdown",
   "metadata": {},
   "source": [
    "**(1)** Let's convert each word into its lower case representation:"
   ]
  },
  {
   "cell_type": "code",
   "execution_count": 18,
   "metadata": {},
   "outputs": [
    {
     "name": "stdout",
     "output_type": "stream",
     "text": [
      "+-------+--------------------+------------------------+\n",
      "|    _id|            sentence|original_sentence_length|\n",
      "+-------+--------------------+------------------------+\n",
      "|5131043|[they, 're, indep...|                       4|\n",
      "|5131043|[they, 're, affec...|                       4|\n",
      "|5131043|[they, 're, loyal...|                       8|\n",
      "+-------+--------------------+------------------------+\n",
      "only showing top 3 rows\n",
      "\n"
     ]
    }
   ],
   "source": [
    "toLowerSentence = F.udf(lambda x: list(map(lambda y: y.lower() if y != None else y, x)), ArrayType(StringType()))\n",
    "subtitle_df = subtitle_df.select('_id', \n",
    "                                 toLowerSentence('sentence._VALUE').alias('sentence'), \n",
    "                                 F.col('sentence_length').alias('original_sentence_length'))\n",
    "subtitle_df.show(3)"
   ]
  },
  {
   "cell_type": "markdown",
   "metadata": {},
   "source": [
    "**(2)** We will take help from the NLTK library(https://www.nltk.org/) to filter out stop words. NLTK provides predefined lists of stop words for several different languages, we will use the list for the english language. "
   ]
  },
  {
   "cell_type": "code",
   "execution_count": 10,
   "metadata": {},
   "outputs": [
    {
     "name": "stdout",
     "output_type": "stream",
     "text": [
      "+-------+--------------------+------------------------+\n",
      "|    _id|            sentence|original_sentence_length|\n",
      "+-------+--------------------+------------------------+\n",
      "|5131043|['re, independent...|                       4|\n",
      "|5131043|['re, affectionat...|                       4|\n",
      "|5131043|['re, loyal, ;, '...|                       8|\n",
      "+-------+--------------------+------------------------+\n",
      "only showing top 3 rows\n",
      "\n"
     ]
    }
   ],
   "source": [
    "stop_words=set(stopwords.words('english'))\n",
    "wordInStopWords = F.udf(lambda x: list(filter(lambda y: y not in stop_words,x)), ArrayType(StringType()))\n",
    "subtitle_df = subtitle_df\\\n",
    "                    .select('_id', wordInStopWords('sentence').alias('sentence'), 'original_sentence_length')\n",
    "subtitle_df.show(3)"
   ]
  },
  {
   "cell_type": "markdown",
   "metadata": {},
   "source": [
    "**(3)** To filter out punctuations, we can use the built in puncuation list contained in the string class of Python."
   ]
  },
  {
   "cell_type": "code",
   "execution_count": 11,
   "metadata": {},
   "outputs": [
    {
     "name": "stdout",
     "output_type": "stream",
     "text": [
      "+-------+--------------------+------------------------+\n",
      "|    _id|            sentence|original_sentence_length|\n",
      "+-------+--------------------+------------------------+\n",
      "|5131043|  ['re, independent]|                       4|\n",
      "|5131043| ['re, affectionate]|                       4|\n",
      "|5131043|['re, loyal, 're,...|                       8|\n",
      "+-------+--------------------+------------------------+\n",
      "only showing top 3 rows\n",
      "\n"
     ]
    }
   ],
   "source": [
    "punctuation_list=list(string.punctuation)\n",
    "remvovePunctuation = F.udf(lambda x: list(filter(lambda y: y not in punctuation_list,x)), ArrayType(StringType()))\n",
    "subtitle_df = subtitle_df\\\n",
    "                    .select('_id', remvovePunctuation('sentence').alias('sentence'), 'original_sentence_length')\n",
    "subtitle_df.show(3)"
   ]
  },
  {
   "cell_type": "markdown",
   "metadata": {},
   "source": [
    "**(4)** The NLTK library provies a lemmatizer API."
   ]
  },
  {
   "cell_type": "code",
   "execution_count": null,
   "metadata": {},
   "outputs": [],
   "source": [
    "lemmatizer = WordNetLemmatizer()\n",
    "lemmatize = F.udf(lambda x: lemmatizer.lemmatize(x, 'v'), StringType())\n",
    "subtitle_df = subtitle_df.select('_id', lemmatize(F.col('word')).alias('word'), 'original_sentence_length')"
   ]
  },
  {
   "cell_type": "markdown",
   "metadata": {},
   "source": [
    "**(5)** Remove words starting with an apostrophe"
   ]
  },
  {
   "cell_type": "code",
   "execution_count": 12,
   "metadata": {
    "scrolled": false
   },
   "outputs": [
    {
     "name": "stdout",
     "output_type": "stream",
     "text": [
      "+-------+------------------+------------------------+\n",
      "|    _id|          sentence|original_sentence_length|\n",
      "+-------+------------------+------------------------+\n",
      "|5131043|     [independent]|                       4|\n",
      "|5131043|    [affectionate]|                       4|\n",
      "|5131043|[loyal, beautiful]|                       8|\n",
      "+-------+------------------+------------------------+\n",
      "only showing top 3 rows\n",
      "\n"
     ]
    }
   ],
   "source": [
    "removeApostopheWords = F.udf(lambda x: list(filter(lambda y: y[0] != \"'\",x)), ArrayType(StringType()))\n",
    "subtitle_df = subtitle_df\\\n",
    "                    .select('_id', removeApostopheWords('sentence').alias('sentence'), 'original_sentence_length')\n",
    "subtitle_df.show(3)"
   ]
  },
  {
   "cell_type": "markdown",
   "metadata": {},
   "source": [
    "Let's have a look on the poportion of words that has been filtered out during the above steps:"
   ]
  },
  {
   "cell_type": "code",
   "execution_count": 13,
   "metadata": {},
   "outputs": [
    {
     "data": {
      "text/plain": [
       "[Row(sum(_id)=15380688203805207, sum(original_sentence_length)=1276487464, sum(sentence_length_after_filtering)=468131830)]"
      ]
     },
     "execution_count": 13,
     "metadata": {},
     "output_type": "execute_result"
    }
   ],
   "source": [
    "subtitle_df = subtitle_df.withColumn('sentence_length_after_filtering',F.size(F.col('sentence')))\n",
    "total_amount_of_words = subtitle_df.groupBy().sum().collect()\n",
    "total_amount_of_words"
   ]
  },
  {
   "cell_type": "code",
   "execution_count": 14,
   "metadata": {
    "scrolled": true
   },
   "outputs": [
    {
     "name": "stdout",
     "output_type": "stream",
     "text": [
      "Total amount of words before filtering: 1276487464\n",
      "Total amount of words after filtering: 468131830\n",
      "Percentage of original size: 0.367\n"
     ]
    }
   ],
   "source": [
    "print(\"Total amount of words before filtering: {}\".format(total_amount_of_words[0][1]))\n",
    "print(\"Total amount of words after filtering: {}\".format(total_amount_of_words[0][2]))\n",
    "print(\"Percentage of original size: {}\".format(round(total_amount_of_words[0][2]/total_amount_of_words[0][1], 3)))"
   ]
  },
  {
   "cell_type": "markdown",
   "metadata": {},
   "source": [
    "After removing punctuations and stop words we are only left with roughly a third of the words of the original dataset. "
   ]
  },
  {
   "cell_type": "markdown",
   "metadata": {},
   "source": [
    "\n",
    "\n",
    "## <font color='red'> (Plan for milestone 3 below)</font>\n"
   ]
  },
  {
   "cell_type": "markdown",
   "metadata": {},
   "source": [
    "# 3. Text analysis "
   ]
  },
  {
   "cell_type": "markdown",
   "metadata": {},
   "source": [
    "## 3.1 Text complexity analysis"
   ]
  },
  {
   "cell_type": "markdown",
   "metadata": {},
   "source": [
    "### 3.1.1 Quantification of text complexity"
   ]
  },
  {
   "cell_type": "markdown",
   "metadata": {},
   "source": [
    "In this subsection we will choose and implement a method for getting a measure of textual complexity. \n",
    "\n",
    "The measure we are going to use is the Dale-Challe readability forumla, as described here:\n",
    "https://en.wikipedia.org/wiki/Dale%E2%80%93Chall_readability_formula\n",
    "\n",
    "The Dale–Chall readability formula is given by the equation below:\n",
    "\n",
    "$$Complexity = 0.1579 * (\\frac{\\text{difficult words}}{\\text{words}} * 100) + 0.0496 * (\\frac{\\text{words}}{\\text{sentences}})$$\n",
    "\n",
    "If the fraction of difficult words account for more than 5% of the total words, the complexity score is scaled by a constant of 3.6365."
   ]
  },
  {
   "cell_type": "markdown",
   "metadata": {},
   "source": [
    "### 3.1.2 Calculation of complexity for each movie"
   ]
  },
  {
   "cell_type": "markdown",
   "metadata": {},
   "source": [
    "Let's start by importing our subtitle data frame."
   ]
  },
  {
   "cell_type": "code",
   "execution_count": 61,
   "metadata": {},
   "outputs": [
    {
     "name": "stdout",
     "output_type": "stream",
     "text": [
      "+-------+--------------------+\n",
      "|    _id|            sentence|\n",
      "+-------+--------------------+\n",
      "|5131043|[They, 're, indep...|\n",
      "|5131043|[they, 're, affec...|\n",
      "|5131043|[they, 're, loyal...|\n",
      "+-------+--------------------+\n",
      "only showing top 3 rows\n",
      "\n"
     ]
    }
   ],
   "source": [
    "subtitle_df = spark.read.parquet('./datasets/subtitles_final.parquet')\n",
    "subtitle_df.show(3)"
   ]
  },
  {
   "cell_type": "markdown",
   "metadata": {},
   "source": [
    "The words which belong to the \"difficult word\" class is all the words which are not present in a list of rougly 3000 \"easy\" words. Let's import the \"easy word\" list."
   ]
  },
  {
   "cell_type": "code",
   "execution_count": 62,
   "metadata": {},
   "outputs": [
    {
     "data": {
      "text/plain": [
       "['a',\n",
       " 'able',\n",
       " 'aboard',\n",
       " 'about',\n",
       " 'above',\n",
       " 'absent',\n",
       " 'accept',\n",
       " 'accident',\n",
       " 'account',\n",
       " 'ache']"
      ]
     },
     "execution_count": 62,
     "metadata": {},
     "output_type": "execute_result"
    }
   ],
   "source": [
    "easy_words = sqlContext.read.text('DaleChallEasyWordList.txt').collect()\n",
    "easy_words = list(map(lambda x: x.value.strip(), easy_words))\n",
    "easy_words[:10]"
   ]
  },
  {
   "cell_type": "markdown",
   "metadata": {},
   "source": [
    "Since we already have the word count of each movie, it might be possible to remove all the stop words from each sentence if they are all present in the \"easy word\" list. This is desirable since it will reduce the number of words greatly which will reduce the computation time. Let's check if if all stop words are present in the easy word list:"
   ]
  },
  {
   "cell_type": "code",
   "execution_count": 63,
   "metadata": {},
   "outputs": [
    {
     "name": "stdout",
     "output_type": "stream",
     "text": [
      "Number of stop words not in easy words: 36\n"
     ]
    }
   ],
   "source": [
    "stop_words=set(stopwords.words('english'))\n",
    "stop_words_not_in_easy_words = []\n",
    "for sw in stop_words:\n",
    "    if sw not in easy_words:\n",
    "        stop_words_not_in_easy_words.append(sw)\n",
    "print(\"Number of stop words not in easy words: {}\".format(len(stop_words_not_in_easy_words)))"
   ]
  },
  {
   "cell_type": "markdown",
   "metadata": {},
   "source": [
    "It appears that quite a few stop words are not in easy words and hence we will keep the stopwords when calculating the complexity score.\n",
    "\n",
    "All the words in the \"easy word\" list is lower cased, we will therefore convert all of our text to lowercase as well:"
   ]
  },
  {
   "cell_type": "code",
   "execution_count": 64,
   "metadata": {},
   "outputs": [],
   "source": [
    "@udf(returnType=ArrayType(StringType()))\n",
    "def toLower(sentence):\n",
    "    if sentence == None:\n",
    "        return []\n",
    "    return list(map(lambda y: y.lower() if y != None else y, sentence)) \n",
    "\n",
    "subtitle_df = subtitle_df.select('_id', toLower('sentence').alias('sentence'))"
   ]
  },
  {
   "cell_type": "markdown",
   "metadata": {},
   "source": [
    "We also want to remove punctuations from all of our sentences, the reason being that punctuation is not part of the \"easy\" word list and hence they would all be considered to be difficult words by the dale chale formula. This would give misleading results and hence we filter them out."
   ]
  },
  {
   "cell_type": "code",
   "execution_count": 65,
   "metadata": {},
   "outputs": [],
   "source": [
    "@F.udf(returnType=ArrayType(StringType()))\n",
    "def filterPunctuation(sentence):\n",
    "    import string\n",
    "    punctuation_list=list(string.punctuation)\n",
    "    return list(filter(lambda y: y not in punctuation_list,sentence))\n",
    "\n",
    "subtitle_df = subtitle_df\\\n",
    "                    .select('_id', filterPunctuation('sentence').alias('sentence'))"
   ]
  },
  {
   "cell_type": "markdown",
   "metadata": {},
   "source": [
    "We can now start counting the \"difficult words\" in each sentence. First we define two helper functions which will be used when calculating the number of difficult words in each sentence."
   ]
  },
  {
   "cell_type": "code",
   "execution_count": 66,
   "metadata": {},
   "outputs": [],
   "source": [
    "@udf(returnType=IntegerType())\n",
    "def difficult_words_in_sentence(sentence):\n",
    "    difficult_words = 0\n",
    "    for i in range(len(sentence) - 1):\n",
    "        if is_difficult(sentence[i], sentence[i + 1]):\n",
    "            difficult_words += 1\n",
    "    if len(sentence) > 0:\n",
    "        if is_difficult(sentence[-1], \"-\"):\n",
    "            difficult_words += 1\n",
    "    return difficult_words\n",
    "\n",
    "# Returns true if the word in not in the easy wordlist. The reason why we compare two words at the time\n",
    "# is because the easy word list contains words like \"don't\" and \"can't\", abbreviated words are stored seperatly in\n",
    "# our dataframe (e.g. \"don't\" is stored as \"don\" and \"'t\"). In order to correctly compare these words, we compare the \n",
    "# concatenation of two words if the second word starts with an \"'\".\n",
    "def is_difficult(word1, word2):\n",
    "     # We import nltk in each function since this function will be running on the cluster\n",
    "    import nltk\n",
    "    from nltk.stem.wordnet import WordNetLemmatizer\n",
    "    lemmatizer = WordNetLemmatizer()\n",
    "    if word2[0] == \"'\":\n",
    "        return word1+word2 not in easy_words\n",
    "    else:\n",
    "        w = lemmatizer.lemmatize(word1, 'v')\n",
    "        return w not in easy_words\n",
    "    return True"
   ]
  },
  {
   "cell_type": "markdown",
   "metadata": {},
   "source": [
    "We can know calculate the number of difficult words in each sentence and then group by movie id to get the total amount of difficult words in each movie."
   ]
  },
  {
   "cell_type": "code",
   "execution_count": 67,
   "metadata": {},
   "outputs": [],
   "source": [
    "# Count difficult words in sentence\n",
    "dale_chale_df = subtitle_df.withColumn(\"difficult_words\", difficult_words_in_sentence(subtitle_df.sentence))"
   ]
  },
  {
   "cell_type": "code",
   "execution_count": 68,
   "metadata": {},
   "outputs": [],
   "source": [
    "# Group by id to get total amount of difficult words in each movie\n",
    "dale_chale_df = dale_chale_df\\\n",
    "    .groupby('_id')\\\n",
    "    .sum('difficult_words')\\\n",
    "    .select('_id', F.col('sum(difficult_words)').alias('difficult_words').cast('float'))"
   ]
  },
  {
   "cell_type": "markdown",
   "metadata": {},
   "source": [
    "We now have the amount of difficult words in each movie, to compute the complexity of the text in each movie we only need the total amount of words and sentences in each movie. Both the number of words and sentences is contained in the metadata dataframe. We will therefore join the metadata dataframe with the difficult words dataframe."
   ]
  },
  {
   "cell_type": "code",
   "execution_count": 69,
   "metadata": {},
   "outputs": [],
   "source": [
    "# Load meta data dataframe\n",
    "metadata_df = spark.read.parquet(\"datasets/metadata_final.parquet\")\\\n",
    "    .select('_id', 'words', 'sentences', 'year', 'genre')\n",
    "\n",
    "# Join dataframes in order to get a dataframe with all quantities needed for the dale chale complexity score\n",
    "dale_chale_df = metadata_df.alias('m').join(dale_chale_df, dale_chale_df._id == metadata_df._id, 'inner')"
   ]
  },
  {
   "cell_type": "code",
   "execution_count": 59,
   "metadata": {},
   "outputs": [],
   "source": [
    "@udf('float')\n",
    "def dale_challe_complexity(difficult_words, sentences, words):\n",
    "    x = 0.1579 * ((difficult_words/words) * 100)\n",
    "    y = 0.0496 * (words/sentences)\n",
    "    score = x + y\n",
    "    if (difficult_words/words > 0.05):\n",
    "        score += 3.6365\n",
    "    return score"
   ]
  },
  {
   "cell_type": "code",
   "execution_count": null,
   "metadata": {},
   "outputs": [],
   "source": [
    "dale_chale_df = dale_chale_df.withColumn('score', dale_challe_complexity('difficult_words', 'sentences', 'words'))"
   ]
  },
  {
   "cell_type": "code",
   "execution_count": null,
   "metadata": {},
   "outputs": [],
   "source": [
    "dale_chale_df.write.mode('overwrite').parquet('./datasets/complexity_final.parquet')"
   ]
  },
  {
   "cell_type": "markdown",
   "metadata": {},
   "source": [
    "### 3.1.3 Analysis"
   ]
  },
  {
   "cell_type": "markdown",
   "metadata": {},
   "source": [
    "We need both data from the complexity and metadata dataframe for the analysis, lets therefore import both dataframes and join them."
   ]
  },
  {
   "cell_type": "code",
   "execution_count": 212,
   "metadata": {},
   "outputs": [
    {
     "name": "stdout",
     "output_type": "stream",
     "text": [
      "root\n",
      " |-- _id: integer (nullable = true)\n",
      " |-- words: integer (nullable = true)\n",
      " |-- sentences: integer (nullable = true)\n",
      " |-- difficult_words: float (nullable = true)\n",
      " |-- score: float (nullable = true)\n",
      "\n"
     ]
    }
   ],
   "source": [
    "complexity_df_ = spark.read.parquet('./datasets/complexity_without_punct_v3.parquet')\n",
    "complexity_df_ = complexity_df_.withColumn('score', F.col('score').cast('float'))\n",
    "complexity_df_.printSchema()"
   ]
  },
  {
   "cell_type": "code",
   "execution_count": 213,
   "metadata": {},
   "outputs": [],
   "source": [
    "metadata_df = spark.read.parquet(\"datasets/metadata_final.parquet\")\\\n",
    "    .select('_id', 'year', 'genre')"
   ]
  },
  {
   "cell_type": "code",
   "execution_count": 214,
   "metadata": {},
   "outputs": [],
   "source": [
    "# get year and genre for each movie\n",
    "complexity_df_ = metadata_df.join(complexity_df_, '_id', 'inner') \\\n",
    "    .select('_id', 'year', 'genre', 'score')"
   ]
  },
  {
   "cell_type": "markdown",
   "metadata": {},
   "source": [
    "The dataframe is small enough to fit into memory, let's therefore convert the spark dataframe into a pandas dataframe"
   ]
  },
  {
   "cell_type": "code",
   "execution_count": 215,
   "metadata": {},
   "outputs": [],
   "source": [
    "complexity_df = complexity_df_.toPandas()"
   ]
  },
  {
   "cell_type": "markdown",
   "metadata": {},
   "source": [
    "Let's print some descriptive statistics related to the complexity score."
   ]
  },
  {
   "cell_type": "code",
   "execution_count": 216,
   "metadata": {},
   "outputs": [
    {
     "data": {
      "text/plain": [
       "count    74704.000000\n",
       "mean         7.058540\n",
       "std          0.436394\n",
       "min          4.894102\n",
       "25%          6.813944\n",
       "50%          7.032076\n",
       "75%          7.263061\n",
       "max         22.939199\n",
       "Name: score, dtype: float64"
      ]
     },
     "execution_count": 216,
     "metadata": {},
     "output_type": "execute_result"
    }
   ],
   "source": [
    "complexity_df['score'].describe()"
   ]
  },
  {
   "cell_type": "markdown",
   "metadata": {},
   "source": [
    "It appears that the variance is quite low, most movies appear to have a very similar readability score.\n",
    "\n",
    "Let's have a look at the distribution of the readability score."
   ]
  },
  {
   "cell_type": "code",
   "execution_count": 217,
   "metadata": {
    "scrolled": false
   },
   "outputs": [
    {
     "data": {
      "text/plain": [
       "<matplotlib.axes._subplots.AxesSubplot at 0x1a2a479588>"
      ]
     },
     "execution_count": 217,
     "metadata": {},
     "output_type": "execute_result"
    },
    {
     "data": {
      "image/png": "[encoded data removed]",
      "text/plain": [
       "<Figure size 432x288 with 1 Axes>"
      ]
     },
     "metadata": {},
     "output_type": "display_data"
    }
   ],
   "source": [
    "complexity_df['score'].plot.hist(bins=30)"
   ]
  },
  {
   "cell_type": "markdown",
   "metadata": {},
   "source": [
    "The distribution follows an almost perfect normal distribution with a mean of roughly 7."
   ]
  },
  {
   "cell_type": "markdown",
   "metadata": {},
   "source": [
    "### 3.1.2 Comparison of text complexity by year"
   ]
  },
  {
   "cell_type": "markdown",
   "metadata": {},
   "source": [
    "In this subsection we are going to compare the complexity of the movie language for each year.\n",
    "We want to see if the complexity differs across years.\n",
    "\n",
    "To do this, we are going to calculate the text complexity measure for each film, and then take the average of complexity for each year."
   ]
  },
  {
   "cell_type": "code",
   "execution_count": 218,
   "metadata": {},
   "outputs": [],
   "source": [
    "# get average score per year\n",
    "by_year = complexity_df.groupby('year')['score'].mean().reset_index()\n",
    "\n",
    "# sort the films by year\n",
    "by_year = by_year.sort_values(by='year')\n",
    "\n",
    "# convert year to int the 'year' value\n",
    "by_year['year'] = pd.to_numeric(by_year['year'], errors='coerce', downcast='integer')\n",
    "\n",
    "# remove films with \"Nan\" as year value\n",
    "# since we cannot really use them\n",
    "by_year = by_year.dropna()\n",
    "by_year = by_year.reset_index(drop=True)\n",
    "by_year['year'] = by_year['year'].astype('int')"
   ]
  },
  {
   "cell_type": "code",
   "execution_count": 219,
   "metadata": {},
   "outputs": [],
   "source": [
    "years = list(by_year['year'])\n",
    "labels = []\n",
    "averages = []\n",
    "\n",
    "for decade in range(1910, 2020, 10):\n",
    "    # create bin label\n",
    "    label = str(decade) + \"s\"\n",
    "    labels.append(label)\n",
    "    \n",
    "    # calculate count for the bin\n",
    "    average = 0\n",
    "    count = 0\n",
    "    for year in range(decade, decade+10):\n",
    "        if year in years:\n",
    "            average += int(by_year.loc[by_year['year'] == year]['score'])\n",
    "            count += 1\n",
    "    if count > 0:\n",
    "        averages.append(average / count)"
   ]
  },
  {
   "cell_type": "code",
   "execution_count": 220,
   "metadata": {},
   "outputs": [
    {
     "data": {
      "image/png": "[encoded data removed]",
      "text/plain": [
       "<Figure size 1080x720 with 1 Axes>"
      ]
     },
     "metadata": {},
     "output_type": "display_data"
    }
   ],
   "source": [
    "plt.figure(figsize=(15,10))\n",
    "plt.bar(labels, averages)\n",
    "plt.title('Average Dale–Chall readability per decade')\n",
    "plt.show()"
   ]
  },
  {
   "cell_type": "markdown",
   "metadata": {},
   "source": [
    "### 3.1.3 Comparison of text complexity by genre"
   ]
  },
  {
   "cell_type": "markdown",
   "metadata": {},
   "source": [
    "In this subsection we are going to compare the complexity of the movie language for each genre.\n",
    "Do some genres use more simple language than others?\n",
    "\n",
    "To do this, we are going to calculate the text complexity measure for each film, and then take the average of complexity for each genre."
   ]
  },
  {
   "cell_type": "code",
   "execution_count": 226,
   "metadata": {},
   "outputs": [],
   "source": [
    "# make genre column into a list of genres\n",
    "complexity_df_ = complexity_df_.withColumn(\"genre\", F.split(complexity_df_.genre, ','))\n",
    "\n",
    "# make a row for each genre\n",
    "complexity_df_ = complexity_df_.withColumn(\"genre\", F.explode(\"genre\"))\n",
    "\n",
    "complexity_df_ = complexity_df_.withColumn(\"genre\", F.ltrim(complexity_df_.genre))\n",
    "complexity_df_ = complexity_df_.withColumn(\"genre\", F.rtrim(complexity_df_.genre))"
   ]
  },
  {
   "cell_type": "code",
   "execution_count": 227,
   "metadata": {},
   "outputs": [],
   "source": [
    "# get count of each genre\n",
    "genres_ = complexity_df_.groupby('genre').agg(F.avg('score').alias('avg_score'))"
   ]
  },
  {
   "cell_type": "code",
   "execution_count": 228,
   "metadata": {},
   "outputs": [],
   "source": [
    "# convert to Pandas for plotting\n",
    "genres = genres_.toPandas()"
   ]
  },
  {
   "cell_type": "code",
   "execution_count": 229,
   "metadata": {},
   "outputs": [],
   "source": [
    "genres = genres.sort_values(by = 'avg_score').reset_index(drop=True)"
   ]
  },
  {
   "cell_type": "code",
   "execution_count": 230,
   "metadata": {
    "scrolled": true
   },
   "outputs": [
    {
     "data": {
      "text/plain": [
       "<matplotlib.axes._subplots.AxesSubplot at 0x1a26974710>"
      ]
     },
     "execution_count": 230,
     "metadata": {},
     "output_type": "execute_result"
    },
    {
     "data": {
      "image/png": "[encoded data removed]",
      "text/plain": [
       "<Figure size 1152x720 with 1 Axes>"
      ]
     },
     "metadata": {},
     "output_type": "display_data"
    }
   ],
   "source": [
    "genres.plot.bar(x='genre', figsize=(16, 10), title=\"Average readability per genre\")"
   ]
  },
  {
   "cell_type": "markdown",
   "metadata": {},
   "source": [
    "It does not appear to be any significant different across genres with regard to readability."
   ]
  },
  {
   "cell_type": "markdown",
   "metadata": {},
   "source": [
    "## 3.2 Sentimental analysis"
   ]
  },
  {
   "cell_type": "markdown",
   "metadata": {},
   "source": [
    "In this section we are going to perform sentimental analysis on the subtitle text. \n",
    "\n",
    "The aim of this section is to explore if movies express more or less positive emotion nowdays compared to back in the day. We also plan to explore how this property differ between genres. We plan to calculate the polarity of the text of each film with the help of textblob (https://textblob.readthedocs.io/en/dev/index.html). "
   ]
  },
  {
   "cell_type": "markdown",
   "metadata": {},
   "source": [
    "### 3.2.1 calculations"
   ]
  },
  {
   "cell_type": "code",
   "execution_count": 34,
   "metadata": {},
   "outputs": [],
   "source": [
    "from textblob import TextBlob"
   ]
  },
  {
   "cell_type": "code",
   "execution_count": 35,
   "metadata": {},
   "outputs": [],
   "source": [
    "subtitle_df = spark.read.parquet(\"./datasets/subtitles_final.parquet\")#.sample(False, 0.0001)\n",
    "\n",
    "# Remove null entries\n",
    "subtitle_df = subtitle_df.filter((F.col(\"sentence\").isNotNull()))"
   ]
  },
  {
   "cell_type": "code",
   "execution_count": 36,
   "metadata": {},
   "outputs": [],
   "source": [
    "metadata_df = spark.read.parquet(\"datasets/metadata_final.parquet\").select('_id', 'year')\n",
    "subtitle_df = metadata_df.join(subtitle_df, '_id', 'inner')\n",
    "subtitle_df = subtitle_df.filter('year > 1979')\n",
    "subtitle_df = subtitle_df.filter('year < 1990')"
   ]
  },
  {
   "cell_type": "code",
   "execution_count": 37,
   "metadata": {},
   "outputs": [],
   "source": [
    "@udf('float')\n",
    "def calculate_polarity(sentence):\n",
    "    untokenize = \"\".join([\" \"+i if not i.startswith(\"'\") and i not in string.punctuation else i for i in sentence]).strip()\n",
    "    blob = TextBlob(untokenize)\n",
    "    return blob.polarity\n",
    "sentiment_df = subtitle_df.withColumn('polarity', calculate_polarity('sentence'))"
   ]
  },
  {
   "cell_type": "code",
   "execution_count": null,
   "metadata": {},
   "outputs": [],
   "source": [
    "sentiment_df.write.mode(\"overwrite\").parquet('./datasets/sentiment_1980_1989.parquet')"
   ]
  },
  {
   "cell_type": "code",
   "execution_count": 91,
   "metadata": {},
   "outputs": [],
   "source": [
    "#sentiment_df.write.parquet('./datasets/sentiment_final.parquet')"
   ]
  },
  {
   "cell_type": "markdown",
   "metadata": {},
   "source": [
    "### 3.2.2 Analysis"
   ]
  },
  {
   "cell_type": "code",
   "execution_count": 20,
   "metadata": {
    "scrolled": true
   },
   "outputs": [
    {
     "name": "stdout",
     "output_type": "stream",
     "text": [
      "root\n",
      " |-- _id: integer (nullable = true)\n",
      " |-- sentence: array (nullable = true)\n",
      " |    |-- element: string (containsNull = true)\n",
      " |-- polarity: float (nullable = true)\n",
      "\n"
     ]
    }
   ],
   "source": [
    "sentiment_df = spark.read.parquet('./datasets/sentiment_final_speed_v10.parquet')\n",
    "sentiment_df.printSchema()"
   ]
  },
  {
   "cell_type": "markdown",
   "metadata": {},
   "source": [
    "The dataframe contains the polarity score of each sentence of every movie. Let's start with analysing the average polarity per movie. We can do this by grouping on the movie id aggregating by taking the mean of the polarity column."
   ]
  },
  {
   "cell_type": "code",
   "execution_count": 21,
   "metadata": {},
   "outputs": [],
   "source": [
    "sentiment_df_movie_mean = sentiment_df.groupby('_id').mean()\n",
    "sentiment_df_movie_mean = sentiment_df_movie_mean.toPandas()\n",
    "sentiment_df_movie_mean = sentiment_df_movie_mean.rename(columns={'avg(polarity)': 'polarity'})"
   ]
  },
  {
   "cell_type": "code",
   "execution_count": 22,
   "metadata": {
    "scrolled": true
   },
   "outputs": [
    {
     "data": {
      "text/html": [
       "<div>\n",
       "<style scoped>\n",
       "    .dataframe tbody tr th:only-of-type {\n",
       "        vertical-align: middle;\n",
       "    }\n",
       "\n",
       "    .dataframe tbody tr th {\n",
       "        vertical-align: top;\n",
       "    }\n",
       "\n",
       "    .dataframe thead th {\n",
       "        text-align: right;\n",
       "    }\n",
       "</style>\n",
       "<table border=\"1\" class=\"dataframe\">\n",
       "  <thead>\n",
       "    <tr style=\"text-align: right;\">\n",
       "      <th></th>\n",
       "      <th>_id</th>\n",
       "      <th>avg(_id)</th>\n",
       "      <th>polarity</th>\n",
       "    </tr>\n",
       "  </thead>\n",
       "  <tbody>\n",
       "    <tr>\n",
       "      <th>count</th>\n",
       "      <td>7.463600e+04</td>\n",
       "      <td>7.463600e+04</td>\n",
       "      <td>74636.000000</td>\n",
       "    </tr>\n",
       "    <tr>\n",
       "      <th>mean</th>\n",
       "      <td>1.154921e+08</td>\n",
       "      <td>1.154921e+08</td>\n",
       "      <td>0.035728</td>\n",
       "    </tr>\n",
       "    <tr>\n",
       "      <th>std</th>\n",
       "      <td>4.515793e+08</td>\n",
       "      <td>4.515793e+08</td>\n",
       "      <td>0.029206</td>\n",
       "    </tr>\n",
       "    <tr>\n",
       "      <th>min</th>\n",
       "      <td>2.900000e+01</td>\n",
       "      <td>2.900000e+01</td>\n",
       "      <td>-0.450000</td>\n",
       "    </tr>\n",
       "    <tr>\n",
       "      <th>25%</th>\n",
       "      <td>3.422480e+06</td>\n",
       "      <td>3.422480e+06</td>\n",
       "      <td>0.017858</td>\n",
       "    </tr>\n",
       "    <tr>\n",
       "      <th>50%</th>\n",
       "      <td>4.651539e+06</td>\n",
       "      <td>4.651539e+06</td>\n",
       "      <td>0.035170</td>\n",
       "    </tr>\n",
       "    <tr>\n",
       "      <th>75%</th>\n",
       "      <td>6.579919e+06</td>\n",
       "      <td>6.579919e+06</td>\n",
       "      <td>0.053162</td>\n",
       "    </tr>\n",
       "    <tr>\n",
       "      <th>max</th>\n",
       "      <td>1.955654e+09</td>\n",
       "      <td>1.955654e+09</td>\n",
       "      <td>0.850000</td>\n",
       "    </tr>\n",
       "  </tbody>\n",
       "</table>\n",
       "</div>"
      ],
      "text/plain": [
       "                _id      avg(_id)      polarity\n",
       "count  7.463600e+04  7.463600e+04  74636.000000\n",
       "mean   1.154921e+08  1.154921e+08      0.035728\n",
       "std    4.515793e+08  4.515793e+08      0.029206\n",
       "min    2.900000e+01  2.900000e+01     -0.450000\n",
       "25%    3.422480e+06  3.422480e+06      0.017858\n",
       "50%    4.651539e+06  4.651539e+06      0.035170\n",
       "75%    6.579919e+06  6.579919e+06      0.053162\n",
       "max    1.955654e+09  1.955654e+09      0.850000"
      ]
     },
     "execution_count": 22,
     "metadata": {},
     "output_type": "execute_result"
    }
   ],
   "source": [
    "sentiment_df_movie_mean.describe()"
   ]
  },
  {
   "cell_type": "markdown",
   "metadata": {},
   "source": [
    "It appears that the average polarity score is pretty much zero for every single movie.\n",
    "\n",
    "Let's have a look at the distribution as well:"
   ]
  },
  {
   "cell_type": "code",
   "execution_count": 23,
   "metadata": {
    "scrolled": true
   },
   "outputs": [
    {
     "data": {
      "text/plain": [
       "<matplotlib.axes._subplots.AxesSubplot at 0x1a22707048>"
      ]
     },
     "execution_count": 23,
     "metadata": {},
     "output_type": "execute_result"
    },
    {
     "data": {
      "image/png": "[encoded data removed]",
      "text/plain": [
       "<Figure size 432x288 with 1 Axes>"
      ]
     },
     "metadata": {},
     "output_type": "display_data"
    }
   ],
   "source": [
    "sentiment_df_movie_mean['polarity'].plot.hist(bins=20)"
   ]
  },
  {
   "cell_type": "markdown",
   "metadata": {},
   "source": [
    "We do the same observation from the plot above as from the describe print out. Basically every movie has an average sentiment score of close to zero. This is not too surprising since most sentences in everyday conversation is quite neutral."
   ]
  },
  {
   "cell_type": "markdown",
   "metadata": {},
   "source": [
    "Instead of taking the average of polarity per movie, we will count the number of positive and negative sentences of each movie and use this to quantify how much negative and positive emotion a movie contains. "
   ]
  },
  {
   "cell_type": "code",
   "execution_count": 24,
   "metadata": {},
   "outputs": [
    {
     "name": "stdout",
     "output_type": "stream",
     "text": [
      "+-------+--------------------+----------+----------+----------+---------+\n",
      "|    _id|            sentence|  polarity|isPositive|isNegative|isNeutral|\n",
      "+-------+--------------------+----------+----------+----------+---------+\n",
      "|6901081|[(, LOW, WHIRRING...|       0.0|         0|         0|        1|\n",
      "|6901081|[(, INHALES, SHAR...|    -0.125|         0|         1|        0|\n",
      "|6901081|[We, 've, nearly,...|0.11818182|         1|         0|        0|\n",
      "|6901081|  [A, new, world, .]|0.13636364|         1|         0|        0|\n",
      "|6901081|[For, the, next, ...|       0.3|         1|         0|        0|\n",
      "+-------+--------------------+----------+----------+----------+---------+\n",
      "only showing top 5 rows\n",
      "\n"
     ]
    }
   ],
   "source": [
    "sentiment_df_grouped = sentiment_df.withColumn('isPositive', (F.col('polarity') > 0).cast('int'))\n",
    "sentiment_df_grouped = sentiment_df_grouped.withColumn('isNegative', (F.col('polarity') < 0).cast('int'))\n",
    "sentiment_df_grouped = sentiment_df_grouped.withColumn('isNeutral', (F.col('polarity') == 0).cast('int'))\n",
    "sentiment_df_grouped.show(5)"
   ]
  },
  {
   "cell_type": "code",
   "execution_count": 25,
   "metadata": {},
   "outputs": [],
   "source": [
    "\n",
    "exprs = [F.sum(x) for x in ['isPositive', 'isNegative', 'isNeutral']] + [F.mean(x) for x in ['polarity']]\n",
    "sentiment_df_grouped = sentiment_df_grouped.groupby('_id').agg(*exprs)\n",
    "sentiment_df_grouped = sentiment_df_grouped.select(\n",
    "                                                   '_id',\n",
    "                                                   F.col('sum(isPositive)').alias('isPositive'),\n",
    "                                                   F.col('avg(polarity)').alias('polarity'),\n",
    "                                                   F.col('sum(isNeutral)').alias('isNeutral'),\n",
    "                                                   F.col('sum(isNegative)').alias('isNegative'))"
   ]
  },
  {
   "cell_type": "code",
   "execution_count": 26,
   "metadata": {},
   "outputs": [
    {
     "data": {
      "text/plain": [
       "74636"
      ]
     },
     "execution_count": 26,
     "metadata": {},
     "output_type": "execute_result"
    }
   ],
   "source": [
    "sentiment_df_grouped.count()"
   ]
  },
  {
   "cell_type": "code",
   "execution_count": 27,
   "metadata": {},
   "outputs": [],
   "source": [
    "metadata_df = spark.read.parquet(\"datasets/metadata_final.parquet\").select('_id','words','sentences', 'year', 'genre')"
   ]
  },
  {
   "cell_type": "code",
   "execution_count": 28,
   "metadata": {},
   "outputs": [],
   "source": [
    "# get year and genre for each movie\n",
    "sentiment_df_grouped = metadata_df.join(sentiment_df_grouped, '_id', 'inner')"
   ]
  },
  {
   "cell_type": "code",
   "execution_count": 29,
   "metadata": {},
   "outputs": [
    {
     "name": "stdout",
     "output_type": "stream",
     "text": [
      "+-------+------+---------+----+-------------------+----------+-------------------+---------+----------+\n",
      "|    _id| words|sentences|year|              genre|isPositive|           polarity|isNeutral|isNegative|\n",
      "+-------+------+---------+----+-------------------+----------+-------------------+---------+----------+\n",
      "|5131043|314125|    21669|1965|Documentary,History|       770|0.06872464044632634|     1113|       338|\n",
      "|5131042|211040|    15268|1965|Documentary,History|       529| 0.0667828792189208|      742|       246|\n",
      "|3109052|234147|    29085|1989|          Drama,War|       428|0.03440006832817369|     2238|       225|\n",
      "|4986273|151418|    19453|2010|     Comedy,Romance|       399|0.03907067797052602|     1342|       208|\n",
      "|6274066|135037|    17875|null|               null|       370|0.03787229882459167|     1250|       202|\n",
      "+-------+------+---------+----+-------------------+----------+-------------------+---------+----------+\n",
      "only showing top 5 rows\n",
      "\n"
     ]
    }
   ],
   "source": [
    "sentiment_df_grouped.sort(F.desc(\"isPositive\")).show(5)"
   ]
  },
  {
   "cell_type": "markdown",
   "metadata": {},
   "source": [
    "### 3.2.3 Comparison of text sentiment by year"
   ]
  },
  {
   "cell_type": "code",
   "execution_count": 31,
   "metadata": {},
   "outputs": [],
   "source": [
    "sentiment_df_grouped = sentiment_df_grouped.filter(F.col(\"year\").isNotNull())"
   ]
  },
  {
   "cell_type": "code",
   "execution_count": 46,
   "metadata": {},
   "outputs": [],
   "source": [
    "sentiment_df_pandas = sentiment_df_grouped.toPandas()"
   ]
  },
  {
   "cell_type": "code",
   "execution_count": 47,
   "metadata": {},
   "outputs": [
    {
     "data": {
      "text/html": [
       "<div>\n",
       "<style scoped>\n",
       "    .dataframe tbody tr th:only-of-type {\n",
       "        vertical-align: middle;\n",
       "    }\n",
       "\n",
       "    .dataframe tbody tr th {\n",
       "        vertical-align: top;\n",
       "    }\n",
       "\n",
       "    .dataframe thead th {\n",
       "        text-align: right;\n",
       "    }\n",
       "</style>\n",
       "<table border=\"1\" class=\"dataframe\">\n",
       "  <thead>\n",
       "    <tr style=\"text-align: right;\">\n",
       "      <th></th>\n",
       "      <th>_id</th>\n",
       "      <th>words</th>\n",
       "      <th>sentences</th>\n",
       "      <th>year</th>\n",
       "      <th>genre</th>\n",
       "      <th>isPositive</th>\n",
       "      <th>polarity</th>\n",
       "      <th>isNeutral</th>\n",
       "      <th>isNegative</th>\n",
       "      <th>decade</th>\n",
       "    </tr>\n",
       "  </thead>\n",
       "  <tbody>\n",
       "    <tr>\n",
       "      <th>2</th>\n",
       "      <td>3395462</td>\n",
       "      <td>13244</td>\n",
       "      <td>1876</td>\n",
       "      <td>2008</td>\n",
       "      <td>Comedy,Romance</td>\n",
       "      <td>45</td>\n",
       "      <td>0.062552</td>\n",
       "      <td>148</td>\n",
       "      <td>20</td>\n",
       "      <td>1910.0</td>\n",
       "    </tr>\n",
       "    <tr>\n",
       "      <th>3</th>\n",
       "      <td>5700717</td>\n",
       "      <td>12513</td>\n",
       "      <td>1768</td>\n",
       "      <td>2000</td>\n",
       "      <td>Action,Crime,Drama</td>\n",
       "      <td>36</td>\n",
       "      <td>0.051039</td>\n",
       "      <td>145</td>\n",
       "      <td>14</td>\n",
       "      <td>1910.0</td>\n",
       "    </tr>\n",
       "    <tr>\n",
       "      <th>4</th>\n",
       "      <td>3547417</td>\n",
       "      <td>11445</td>\n",
       "      <td>1324</td>\n",
       "      <td>1989</td>\n",
       "      <td>Crime,Drama,Mystery</td>\n",
       "      <td>33</td>\n",
       "      <td>0.061601</td>\n",
       "      <td>70</td>\n",
       "      <td>9</td>\n",
       "      <td>1910.0</td>\n",
       "    </tr>\n",
       "    <tr>\n",
       "      <th>5</th>\n",
       "      <td>3402859</td>\n",
       "      <td>10853</td>\n",
       "      <td>1414</td>\n",
       "      <td>1993</td>\n",
       "      <td>Crime,Drama,Thriller</td>\n",
       "      <td>12</td>\n",
       "      <td>0.015744</td>\n",
       "      <td>86</td>\n",
       "      <td>11</td>\n",
       "      <td>1910.0</td>\n",
       "    </tr>\n",
       "    <tr>\n",
       "      <th>6</th>\n",
       "      <td>3340251</td>\n",
       "      <td>10498</td>\n",
       "      <td>1488</td>\n",
       "      <td>2008</td>\n",
       "      <td>Adventure,Comedy,Family</td>\n",
       "      <td>40</td>\n",
       "      <td>0.089373</td>\n",
       "      <td>111</td>\n",
       "      <td>12</td>\n",
       "      <td>1920.0</td>\n",
       "    </tr>\n",
       "  </tbody>\n",
       "</table>\n",
       "</div>"
      ],
      "text/plain": [
       "       _id  words  sentences  year                    genre  isPositive  \\\n",
       "2  3395462  13244       1876  2008           Comedy,Romance          45   \n",
       "3  5700717  12513       1768  2000       Action,Crime,Drama          36   \n",
       "4  3547417  11445       1324  1989      Crime,Drama,Mystery          33   \n",
       "5  3402859  10853       1414  1993     Crime,Drama,Thriller          12   \n",
       "6  3340251  10498       1488  2008  Adventure,Comedy,Family          40   \n",
       "\n",
       "   polarity  isNeutral  isNegative  decade  \n",
       "2  0.062552        148          20  1910.0  \n",
       "3  0.051039        145          14  1910.0  \n",
       "4  0.061601         70           9  1910.0  \n",
       "5  0.015744         86          11  1910.0  \n",
       "6  0.089373        111          12  1920.0  "
      ]
     },
     "execution_count": 47,
     "metadata": {},
     "output_type": "execute_result"
    }
   ],
   "source": [
    "sentiment_df_pandas['decade'] = (by_year['year'] - (by_year['year'] % 10)).astype(int)\n",
    "sentiment_df_pandas = sentiment_df_pandas[sentiment_df_pandas['decade'] != 1900]\n",
    "sentiment_df_pandas = sentiment_df_pandas[sentiment_df_pandas['decade'] != 1890]\n",
    "sentiment_df_pandas.head()"
   ]
  },
  {
   "cell_type": "code",
   "execution_count": 48,
   "metadata": {},
   "outputs": [],
   "source": [
    "by_decade = sentiment_df_pandas.groupby('decade')['polarity'].mean()"
   ]
  },
  {
   "cell_type": "code",
   "execution_count": 49,
   "metadata": {},
   "outputs": [],
   "source": [
    "by_decade.index = by_decade.index.astype(str) + \"s\""
   ]
  },
  {
   "cell_type": "code",
   "execution_count": 50,
   "metadata": {},
   "outputs": [
    {
     "data": {
      "text/plain": [
       "1910.0s    0.047734\n",
       "1920.0s    0.071009\n",
       "1930.0s    0.044521\n",
       "1940.0s    0.054865\n",
       "1950.0s    0.025640\n",
       "Name: polarity, dtype: float64"
      ]
     },
     "execution_count": 50,
     "metadata": {},
     "output_type": "execute_result"
    }
   ],
   "source": [
    "by_decade.head()"
   ]
  },
  {
   "cell_type": "code",
   "execution_count": 52,
   "metadata": {
    "scrolled": true
   },
   "outputs": [
    {
     "data": {
      "image/png": "[encoded data removed]",
      "text/plain": [
       "<Figure size 1080x720 with 1 Axes>"
      ]
     },
     "metadata": {},
     "output_type": "display_data"
    }
   ],
   "source": [
    "plt.figure(figsize=(15,10))\n",
    "ax = plt.bar(by_decade.index, by_decade)\n",
    "plt.title('Mean sentiment')\n",
    "plt.xlabel('Decade')\n",
    "plt.ylabel('sentiment score.')\n",
    "plt.show()"
   ]
  },
  {
   "cell_type": "markdown",
   "metadata": {},
   "source": [
    "### 3.2.3 Comparison of text sentiment by genre"
   ]
  },
  {
   "cell_type": "code",
   "execution_count": 55,
   "metadata": {},
   "outputs": [
    {
     "name": "stdout",
     "output_type": "stream",
     "text": [
      "Index(['genre', 'avg(_id)', 'avg(year)', 'avg(sentences)', 'avg(words)',\n",
      "       'avg(duration)', 'avg(numVotes)', 'avg(averageRating)',\n",
      "       'avg(polarity)'],\n",
      "      dtype='object')\n"
     ]
    },
    {
     "data": {
      "text/plain": [
       "<matplotlib.axes._subplots.AxesSubplot at 0x1183fad68>"
      ]
     },
     "execution_count": 55,
     "metadata": {},
     "output_type": "execute_result"
    },
    {
     "data": {
      "image/png": "[encoded data removed]",
      "text/plain": [
       "<Figure size 1152x720 with 1 Axes>"
      ]
     },
     "metadata": {},
     "output_type": "display_data"
    }
   ],
   "source": [
    "# make genre column into a list of genres\n",
    "sentiment_df = spark.read.parquet('./datasets/sentiment_final_speed_v10.parquet')\n",
    "\n",
    "metadata_df = spark.read.parquet(\"datasets/metadata_final.parquet\")\n",
    "# get year and genre for each movie\n",
    "sentiment_df_genre = metadata_df.join(sentiment_df, '_id', 'inner')\n",
    "\n",
    "sentiment_df_genre = sentiment_df_genre.withColumn(\"genre\", F.split(sentiment_df_genre.genre, ','))\n",
    "\n",
    "# make a row for each genre\n",
    "sentiment_df_genre = sentiment_df_genre.withColumn(\"genre\", F.explode(\"genre\"))\n",
    "\n",
    "sentiment_df_genre = sentiment_df_genre.withColumn(\"genre\", F.ltrim(sentiment_df_genre.genre))\n",
    "sentiment_df_genre = sentiment_df_genre.withColumn(\"genre\", F.rtrim(sentiment_df_genre.genre))\n",
    "\n",
    "\n",
    "sentiment_df_genre = sentiment_df_genre.groupby('genre').mean()\n",
    "\n",
    "# convert to Pandas for plotting\n",
    "genres = sentiment_df_genre.toPandas()\n",
    "\n",
    "genres = genres.sort_values(by = 'avg(polarity)')[['genre','avg(polarity)']]\n",
    "genres.plot.bar(x='genre', figsize=(16, 10), title=\"Average polarity per genre\")"
   ]
  },
  {
   "cell_type": "markdown",
   "metadata": {},
   "source": [
    "## 3.3 Offensive language analysis"
   ]
  },
  {
   "cell_type": "markdown",
   "metadata": {},
   "source": [
    "In this section we are going to analyize the use of offensive/swear words in subtitle text. \n",
    "\n",
    "We will use resources such as offensive word lexicons (https://github.com/zacanger/profane-words/blob/master/words.json) to quantify the level of offensivity of a certain film. Then, we are going to check the level of offensivity in relation to years (are films more/less offensive now) and genres (do some genres use more offensive words)"
   ]
  },
  {
   "cell_type": "markdown",
   "metadata": {},
   "source": [
    "### 3.3.1"
   ]
  },
  {
   "cell_type": "code",
   "execution_count": 2,
   "metadata": {},
   "outputs": [],
   "source": [
    "subtitle_df = spark.read.parquet(\"./datasets/subtitles_final.parquet\")\n",
    "# Remove null entries\n",
    "subtitle_df = subtitle_df.filter((F.col(\"sentence\").isNotNull()))"
   ]
  },
  {
   "cell_type": "code",
   "execution_count": null,
   "metadata": {},
   "outputs": [],
   "source": [
    "profanity_list = spark.read.json('words_out.json').collect()\n",
    "profanity_list = list(map(lambda x: x.word.strip(), profanity_list))"
   ]
  },
  {
   "cell_type": "markdown",
   "metadata": {},
   "source": [
    "All the words in the list of bad words are lowercased, we will therefore convert all of our sentences to lower case as well."
   ]
  },
  {
   "cell_type": "code",
   "execution_count": null,
   "metadata": {},
   "outputs": [],
   "source": [
    "# Convert all words to lowercase\n",
    "subtitle_df = subtitle_df.select('_id', toLower('sentence._VALUE').alias('sentence'))/Users/jakobsvenningsson/nltk_datast"
   ]
  },
  {
   "cell_type": "markdown",
   "metadata": {},
   "source": [
    "Let's define a simple helper function which will be used to count the profanities in a sentence."
   ]
  },
  {
   "cell_type": "code",
   "execution_count": 135,
   "metadata": {},
   "outputs": [],
   "source": [
    "@udf('int')\n",
    "def number_of_profanities(sentence):\n",
    "    return len(list(filter(lambda word: word in profanity_list, sentence)))"
   ]
  },
  {
   "cell_type": "code",
   "execution_count": 136,
   "metadata": {},
   "outputs": [],
   "source": [
    "profanity_df = subtitle_df.withColumn('number_of_profanities', number_of_profanities(F.col('sentence')))"
   ]
  },
  {
   "cell_type": "code",
   "execution_count": null,
   "metadata": {},
   "outputs": [],
   "source": [
    "profanity_df.write.mode('overwrite').parquet('./datasets/profanity_final.parquet')"
   ]
  },
  {
   "cell_type": "markdown",
   "metadata": {},
   "source": [
    "### 3.3.2 calculations"
   ]
  },
  {
   "cell_type": "markdown",
   "metadata": {},
   "source": [
    "For the analysis we will need calculate the proportion of profanities per movies. We hence need the total amount of words in each moveis which can be found in the meta data dataframe. Let's start by joining the profanity dataframe and the metadata data frame."
   ]
  },
  {
   "cell_type": "code",
   "execution_count": 103,
   "metadata": {},
   "outputs": [
    {
     "name": "stdout",
     "output_type": "stream",
     "text": [
      "root\n",
      " |-- _id: integer (nullable = true)\n",
      " |-- number_of_profanities: long (nullable = true)\n",
      "\n"
     ]
    }
   ],
   "source": [
    "profanity = spark.read.parquet('./datasets/profanity_final.parquet')\n",
    "profanity.printSchema()"
   ]
  },
  {
   "cell_type": "code",
   "execution_count": 113,
   "metadata": {},
   "outputs": [],
   "source": [
    "metadata_df = spark.read.parquet(\"datasets/metadata_final.parquet\")\n",
    "# get year and genre for each movie\n",
    "profanity_df = metadata_df.join(profanity, '_id', 'inner')"
   ]
  },
  {
   "cell_type": "code",
   "execution_count": 114,
   "metadata": {},
   "outputs": [],
   "source": [
    "profanity_df = profanity_df.toPandas()"
   ]
  },
  {
   "cell_type": "code",
   "execution_count": 115,
   "metadata": {
    "scrolled": true
   },
   "outputs": [
    {
     "data": {
      "text/html": [
       "<div>\n",
       "<style scoped>\n",
       "    .dataframe tbody tr th:only-of-type {\n",
       "        vertical-align: middle;\n",
       "    }\n",
       "\n",
       "    .dataframe tbody tr th {\n",
       "        vertical-align: top;\n",
       "    }\n",
       "\n",
       "    .dataframe thead th {\n",
       "        text-align: right;\n",
       "    }\n",
       "</style>\n",
       "<table border=\"1\" class=\"dataframe\">\n",
       "  <thead>\n",
       "    <tr style=\"text-align: right;\">\n",
       "      <th></th>\n",
       "      <th>_id</th>\n",
       "      <th>year</th>\n",
       "      <th>sentences</th>\n",
       "      <th>words</th>\n",
       "      <th>duration</th>\n",
       "      <th>numVotes</th>\n",
       "      <th>averageRating</th>\n",
       "      <th>number_of_profanities</th>\n",
       "    </tr>\n",
       "  </thead>\n",
       "  <tbody>\n",
       "    <tr>\n",
       "      <th>count</th>\n",
       "      <td>7.467400e+04</td>\n",
       "      <td>74416.000000</td>\n",
       "      <td>74674.000000</td>\n",
       "      <td>74674.000000</td>\n",
       "      <td>74674.000000</td>\n",
       "      <td>7.398700e+04</td>\n",
       "      <td>73987.000000</td>\n",
       "      <td>74674.000000</td>\n",
       "    </tr>\n",
       "    <tr>\n",
       "      <th>mean</th>\n",
       "      <td>1.155133e+08</td>\n",
       "      <td>1995.366118</td>\n",
       "      <td>1396.378525</td>\n",
       "      <td>10016.804390</td>\n",
       "      <td>103.988416</td>\n",
       "      <td>6.373126e+04</td>\n",
       "      <td>6.673066</td>\n",
       "      <td>86.912339</td>\n",
       "    </tr>\n",
       "    <tr>\n",
       "      <th>std</th>\n",
       "      <td>4.516214e+08</td>\n",
       "      <td>21.925659</td>\n",
       "      <td>646.187617</td>\n",
       "      <td>5023.267461</td>\n",
       "      <td>64.701701</td>\n",
       "      <td>1.534993e+05</td>\n",
       "      <td>1.138114</td>\n",
       "      <td>83.035338</td>\n",
       "    </tr>\n",
       "    <tr>\n",
       "      <th>min</th>\n",
       "      <td>2.900000e+01</td>\n",
       "      <td>1896.000000</td>\n",
       "      <td>3.000000</td>\n",
       "      <td>34.000000</td>\n",
       "      <td>61.000000</td>\n",
       "      <td>5.000000e+00</td>\n",
       "      <td>1.400000</td>\n",
       "      <td>0.000000</td>\n",
       "    </tr>\n",
       "    <tr>\n",
       "      <th>25%</th>\n",
       "      <td>3.421585e+06</td>\n",
       "      <td>1988.000000</td>\n",
       "      <td>983.000000</td>\n",
       "      <td>6856.000000</td>\n",
       "      <td>87.000000</td>\n",
       "      <td>1.215000e+03</td>\n",
       "      <td>6.100000</td>\n",
       "      <td>39.000000</td>\n",
       "    </tr>\n",
       "    <tr>\n",
       "      <th>50%</th>\n",
       "      <td>4.651536e+06</td>\n",
       "      <td>2006.000000</td>\n",
       "      <td>1325.000000</td>\n",
       "      <td>9408.500000</td>\n",
       "      <td>97.000000</td>\n",
       "      <td>7.506000e+03</td>\n",
       "      <td>6.800000</td>\n",
       "      <td>63.000000</td>\n",
       "    </tr>\n",
       "    <tr>\n",
       "      <th>75%</th>\n",
       "      <td>6.580001e+06</td>\n",
       "      <td>2011.000000</td>\n",
       "      <td>1724.000000</td>\n",
       "      <td>12520.750000</td>\n",
       "      <td>113.000000</td>\n",
       "      <td>5.308500e+04</td>\n",
       "      <td>7.500000</td>\n",
       "      <td>107.000000</td>\n",
       "    </tr>\n",
       "    <tr>\n",
       "      <th>max</th>\n",
       "      <td>1.955654e+09</td>\n",
       "      <td>2017.000000</td>\n",
       "      <td>29085.000000</td>\n",
       "      <td>314125.000000</td>\n",
       "      <td>5999.000000</td>\n",
       "      <td>1.985076e+06</td>\n",
       "      <td>9.900000</td>\n",
       "      <td>2191.000000</td>\n",
       "    </tr>\n",
       "  </tbody>\n",
       "</table>\n",
       "</div>"
      ],
      "text/plain": [
       "                _id          year     sentences          words      duration  \\\n",
       "count  7.467400e+04  74416.000000  74674.000000   74674.000000  74674.000000   \n",
       "mean   1.155133e+08   1995.366118   1396.378525   10016.804390    103.988416   \n",
       "std    4.516214e+08     21.925659    646.187617    5023.267461     64.701701   \n",
       "min    2.900000e+01   1896.000000      3.000000      34.000000     61.000000   \n",
       "25%    3.421585e+06   1988.000000    983.000000    6856.000000     87.000000   \n",
       "50%    4.651536e+06   2006.000000   1325.000000    9408.500000     97.000000   \n",
       "75%    6.580001e+06   2011.000000   1724.000000   12520.750000    113.000000   \n",
       "max    1.955654e+09   2017.000000  29085.000000  314125.000000   5999.000000   \n",
       "\n",
       "           numVotes  averageRating  number_of_profanities  \n",
       "count  7.398700e+04   73987.000000           74674.000000  \n",
       "mean   6.373126e+04       6.673066              86.912339  \n",
       "std    1.534993e+05       1.138114              83.035338  \n",
       "min    5.000000e+00       1.400000               0.000000  \n",
       "25%    1.215000e+03       6.100000              39.000000  \n",
       "50%    7.506000e+03       6.800000              63.000000  \n",
       "75%    5.308500e+04       7.500000             107.000000  \n",
       "max    1.985076e+06       9.900000            2191.000000  "
      ]
     },
     "execution_count": 115,
     "metadata": {},
     "output_type": "execute_result"
    }
   ],
   "source": [
    "profanity_df.describe()"
   ]
  },
  {
   "cell_type": "code",
   "execution_count": 116,
   "metadata": {
    "scrolled": true
   },
   "outputs": [
    {
     "data": {
      "text/plain": [
       "<matplotlib.axes._subplots.AxesSubplot at 0x1a1773add8>"
      ]
     },
     "execution_count": 116,
     "metadata": {},
     "output_type": "execute_result"
    },
    {
     "data": {
      "image/png": "[encoded data removed]",
      "text/plain": [
       "<Figure size 432x288 with 1 Axes>"
      ]
     },
     "metadata": {},
     "output_type": "display_data"
    }
   ],
   "source": [
    "profanity_df['number_of_profanities'].plot.hist(bins=20, \n",
    "                                                title=\"Distribution of the number of profanities in movies.\")"
   ]
  },
  {
   "cell_type": "code",
   "execution_count": 117,
   "metadata": {},
   "outputs": [],
   "source": [
    "profanity_df['porportion_of_profanities'] = profanity_df['number_of_profanities'] / profanity_df['words']"
   ]
  },
  {
   "cell_type": "code",
   "execution_count": 118,
   "metadata": {
    "scrolled": true
   },
   "outputs": [
    {
     "data": {
      "text/plain": [
       "<matplotlib.axes._subplots.AxesSubplot at 0x1a15fea780>"
      ]
     },
     "execution_count": 118,
     "metadata": {},
     "output_type": "execute_result"
    },
    {
     "data": {
      "image/png": "[encoded data removed]",
      "text/plain": [
       "<Figure size 432x288 with 1 Axes>"
      ]
     },
     "metadata": {},
     "output_type": "display_data"
    }
   ],
   "source": [
    "profanity_df['porportion_of_profanities'].plot.hist(bins=20, \n",
    "                                                    title=\"Distribution of the porportion of profanities in movies.\")"
   ]
  },
  {
   "cell_type": "markdown",
   "metadata": {},
   "source": [
    "### 3.3.3 Comparison of profane language by year"
   ]
  },
  {
   "cell_type": "code",
   "execution_count": 44,
   "metadata": {},
   "outputs": [],
   "source": [
    "profanity_df = profanity_df.dropna(subset=['year'])"
   ]
  },
  {
   "cell_type": "code",
   "execution_count": 45,
   "metadata": {},
   "outputs": [
    {
     "data": {
      "text/html": [
       "<div>\n",
       "<style scoped>\n",
       "    .dataframe tbody tr th:only-of-type {\n",
       "        vertical-align: middle;\n",
       "    }\n",
       "\n",
       "    .dataframe tbody tr th {\n",
       "        vertical-align: top;\n",
       "    }\n",
       "\n",
       "    .dataframe thead th {\n",
       "        text-align: right;\n",
       "    }\n",
       "</style>\n",
       "<table border=\"1\" class=\"dataframe\">\n",
       "  <thead>\n",
       "    <tr style=\"text-align: right;\">\n",
       "      <th></th>\n",
       "      <th>_id</th>\n",
       "      <th>genre</th>\n",
       "      <th>year</th>\n",
       "      <th>sentences</th>\n",
       "      <th>words</th>\n",
       "      <th>duration</th>\n",
       "      <th>numVotes</th>\n",
       "      <th>averageRating</th>\n",
       "      <th>imdb_id</th>\n",
       "      <th>number_of_profanities</th>\n",
       "      <th>porportion_of_profanities</th>\n",
       "      <th>decade</th>\n",
       "    </tr>\n",
       "  </thead>\n",
       "  <tbody>\n",
       "    <tr>\n",
       "      <th>0</th>\n",
       "      <td>1955331714</td>\n",
       "      <td>Action,Adventure,Drama</td>\n",
       "      <td>1991.0</td>\n",
       "      <td>1323</td>\n",
       "      <td>8916</td>\n",
       "      <td>102</td>\n",
       "      <td>5913.0</td>\n",
       "      <td>6.2</td>\n",
       "      <td>102178</td>\n",
       "      <td>102</td>\n",
       "      <td>0.011440</td>\n",
       "      <td>1990</td>\n",
       "    </tr>\n",
       "    <tr>\n",
       "      <th>1</th>\n",
       "      <td>3299564</td>\n",
       "      <td>Drama,Music,Romance</td>\n",
       "      <td>2008.0</td>\n",
       "      <td>1465</td>\n",
       "      <td>10491</td>\n",
       "      <td>90</td>\n",
       "      <td>74721.0</td>\n",
       "      <td>6.3</td>\n",
       "      <td>1023481</td>\n",
       "      <td>44</td>\n",
       "      <td>0.004194</td>\n",
       "      <td>2000</td>\n",
       "    </tr>\n",
       "    <tr>\n",
       "      <th>2</th>\n",
       "      <td>3482833</td>\n",
       "      <td>Drama,Music,Romance</td>\n",
       "      <td>2008.0</td>\n",
       "      <td>1464</td>\n",
       "      <td>10489</td>\n",
       "      <td>88</td>\n",
       "      <td>74721.0</td>\n",
       "      <td>6.3</td>\n",
       "      <td>1023481</td>\n",
       "      <td>44</td>\n",
       "      <td>0.004195</td>\n",
       "      <td>2000</td>\n",
       "    </tr>\n",
       "    <tr>\n",
       "      <th>3</th>\n",
       "      <td>3299723</td>\n",
       "      <td>Drama,Music,Romance</td>\n",
       "      <td>2008.0</td>\n",
       "      <td>1593</td>\n",
       "      <td>11464</td>\n",
       "      <td>97</td>\n",
       "      <td>74721.0</td>\n",
       "      <td>6.3</td>\n",
       "      <td>1023481</td>\n",
       "      <td>48</td>\n",
       "      <td>0.004187</td>\n",
       "      <td>2000</td>\n",
       "    </tr>\n",
       "    <tr>\n",
       "      <th>4</th>\n",
       "      <td>3288587</td>\n",
       "      <td>Drama,Music,Romance</td>\n",
       "      <td>2008.0</td>\n",
       "      <td>1837</td>\n",
       "      <td>11994</td>\n",
       "      <td>103</td>\n",
       "      <td>74721.0</td>\n",
       "      <td>6.3</td>\n",
       "      <td>1023481</td>\n",
       "      <td>54</td>\n",
       "      <td>0.004502</td>\n",
       "      <td>2000</td>\n",
       "    </tr>\n",
       "  </tbody>\n",
       "</table>\n",
       "</div>"
      ],
      "text/plain": [
       "          _id                   genre    year  sentences  words  duration  \\\n",
       "0  1955331714  Action,Adventure,Drama  1991.0       1323   8916       102   \n",
       "1     3299564     Drama,Music,Romance  2008.0       1465  10491        90   \n",
       "2     3482833     Drama,Music,Romance  2008.0       1464  10489        88   \n",
       "3     3299723     Drama,Music,Romance  2008.0       1593  11464        97   \n",
       "4     3288587     Drama,Music,Romance  2008.0       1837  11994       103   \n",
       "\n",
       "   numVotes  averageRating  imdb_id  number_of_profanities  \\\n",
       "0    5913.0            6.2   102178                    102   \n",
       "1   74721.0            6.3  1023481                     44   \n",
       "2   74721.0            6.3  1023481                     44   \n",
       "3   74721.0            6.3  1023481                     48   \n",
       "4   74721.0            6.3  1023481                     54   \n",
       "\n",
       "   porportion_of_profanities  decade  \n",
       "0                   0.011440    1990  \n",
       "1                   0.004194    2000  \n",
       "2                   0.004195    2000  \n",
       "3                   0.004187    2000  \n",
       "4                   0.004502    2000  "
      ]
     },
     "execution_count": 45,
     "metadata": {},
     "output_type": "execute_result"
    }
   ],
   "source": [
    "profanity_df['decade'] = (profanity_df['year'] - (profanity_df['year'] % 10)).astype(int)\n",
    "profanity_df.head()"
   ]
  },
  {
   "cell_type": "code",
   "execution_count": 46,
   "metadata": {},
   "outputs": [
    {
     "data": {
      "text/plain": [
       "_id                            int32\n",
       "genre                         object\n",
       "year                         float64\n",
       "sentences                      int32\n",
       "words                          int32\n",
       "duration                       int32\n",
       "numVotes                     float64\n",
       "averageRating                float32\n",
       "imdb_id                       object\n",
       "number_of_profanities          int64\n",
       "porportion_of_profanities    float64\n",
       "decade                         int64\n",
       "dtype: object"
      ]
     },
     "execution_count": 46,
     "metadata": {},
     "output_type": "execute_result"
    }
   ],
   "source": [
    "profanity_df.dtypes"
   ]
  },
  {
   "cell_type": "code",
   "execution_count": 47,
   "metadata": {},
   "outputs": [],
   "source": [
    "profanity_df = profanity_df[profanity_df['decade'] != 1900]\n",
    "profanity_df = profanity_df[profanity_df['decade'] != 1890]"
   ]
  },
  {
   "cell_type": "code",
   "execution_count": 50,
   "metadata": {},
   "outputs": [],
   "source": [
    "profanity_df_by_year = profanity_df\\\n",
    "    .groupby('decade')\\\n",
    "    .mean()[['number_of_profanities', 'porportion_of_profanities']]\n",
    "profanity_df_by_year.index = profanity_df_by_year.index.astype(str) + \"s\""
   ]
  },
  {
   "cell_type": "code",
   "execution_count": 51,
   "metadata": {},
   "outputs": [
    {
     "data": {
      "text/html": [
       "<div>\n",
       "<style scoped>\n",
       "    .dataframe tbody tr th:only-of-type {\n",
       "        vertical-align: middle;\n",
       "    }\n",
       "\n",
       "    .dataframe tbody tr th {\n",
       "        vertical-align: top;\n",
       "    }\n",
       "\n",
       "    .dataframe thead th {\n",
       "        text-align: right;\n",
       "    }\n",
       "</style>\n",
       "<table border=\"1\" class=\"dataframe\">\n",
       "  <thead>\n",
       "    <tr style=\"text-align: right;\">\n",
       "      <th></th>\n",
       "      <th>number_of_profanities</th>\n",
       "      <th>porportion_of_profanities</th>\n",
       "    </tr>\n",
       "  </thead>\n",
       "  <tbody>\n",
       "    <tr>\n",
       "      <th>1910s</th>\n",
       "      <td>38.333333</td>\n",
       "      <td>0.007029</td>\n",
       "    </tr>\n",
       "    <tr>\n",
       "      <th>1920s</th>\n",
       "      <td>13.579661</td>\n",
       "      <td>0.004961</td>\n",
       "    </tr>\n",
       "    <tr>\n",
       "      <th>1930s</th>\n",
       "      <td>48.411362</td>\n",
       "      <td>0.004234</td>\n",
       "    </tr>\n",
       "    <tr>\n",
       "      <th>1940s</th>\n",
       "      <td>53.369015</td>\n",
       "      <td>0.004331</td>\n",
       "    </tr>\n",
       "    <tr>\n",
       "      <th>1950s</th>\n",
       "      <td>48.383495</td>\n",
       "      <td>0.004506</td>\n",
       "    </tr>\n",
       "    <tr>\n",
       "      <th>1960s</th>\n",
       "      <td>56.684352</td>\n",
       "      <td>0.006190</td>\n",
       "    </tr>\n",
       "    <tr>\n",
       "      <th>1970s</th>\n",
       "      <td>68.205284</td>\n",
       "      <td>0.007504</td>\n",
       "    </tr>\n",
       "    <tr>\n",
       "      <th>1980s</th>\n",
       "      <td>85.360432</td>\n",
       "      <td>0.008973</td>\n",
       "    </tr>\n",
       "    <tr>\n",
       "      <th>1990s</th>\n",
       "      <td>106.730147</td>\n",
       "      <td>0.010056</td>\n",
       "    </tr>\n",
       "    <tr>\n",
       "      <th>2000s</th>\n",
       "      <td>95.857056</td>\n",
       "      <td>0.009682</td>\n",
       "    </tr>\n",
       "    <tr>\n",
       "      <th>2010s</th>\n",
       "      <td>94.013280</td>\n",
       "      <td>0.009332</td>\n",
       "    </tr>\n",
       "  </tbody>\n",
       "</table>\n",
       "</div>"
      ],
      "text/plain": [
       "       number_of_profanities  porportion_of_profanities\n",
       "1910s              38.333333                   0.007029\n",
       "1920s              13.579661                   0.004961\n",
       "1930s              48.411362                   0.004234\n",
       "1940s              53.369015                   0.004331\n",
       "1950s              48.383495                   0.004506\n",
       "1960s              56.684352                   0.006190\n",
       "1970s              68.205284                   0.007504\n",
       "1980s              85.360432                   0.008973\n",
       "1990s             106.730147                   0.010056\n",
       "2000s              95.857056                   0.009682\n",
       "2010s              94.013280                   0.009332"
      ]
     },
     "execution_count": 51,
     "metadata": {},
     "output_type": "execute_result"
    }
   ],
   "source": [
    "profanity_df_by_year.head(20)"
   ]
  },
  {
   "cell_type": "code",
   "execution_count": 84,
   "metadata": {},
   "outputs": [
    {
     "data": {
      "image/png": "[encoded data removed]",
      "text/plain": [
       "<Figure size 1080x720 with 1 Axes>"
      ]
     },
     "metadata": {},
     "output_type": "display_data"
    }
   ],
   "source": [
    "plt.figure(figsize=(15,10))\n",
    "ax = plt.bar(profanity_df_by_year.index, profanity_df_by_year['number_of_profanities'])\n",
    "plt.title('Mean number of profanities in movies per decade')\n",
    "plt.xlabel('Decade')\n",
    "plt.ylabel('Mean number of profanitites.')\n",
    "plt.show()"
   ]
  },
  {
   "cell_type": "code",
   "execution_count": 85,
   "metadata": {
    "scrolled": true
   },
   "outputs": [
    {
     "data": {
      "image/png": "[encoded data removed]",
      "text/plain": [
       "<Figure size 1080x720 with 1 Axes>"
      ]
     },
     "metadata": {},
     "output_type": "display_data"
    }
   ],
   "source": [
    "plt.figure(figsize=(15,10))\n",
    "ax = plt.bar(profanity_df_by_year.index, profanity_df_by_year['porportion_of_profanities'])\n",
    "plt.title('Mean porportion of profanities in movies per decade')\n",
    "plt.xlabel('Decade')\n",
    "plt.ylabel('Mean proportion of profanitites.')\n",
    "plt.show()"
   ]
  },
  {
   "cell_type": "markdown",
   "metadata": {},
   "source": [
    "The above diagram tells us that the number of profanities in movies have increased over time. There are many more profanities used today compared 50 years ago. An interesting outlier is the decade of 1910 which has a higher porpotion than its neighbors. What can be the explanation for this? Could there be that there were words back then which were not considered \"bad\" and uses heavily in everyday langauge? Another possible explanation is that we do not have a lot of data points from 1910 and 1920 which could be a explanation for the varaiance."
   ]
  },
  {
   "cell_type": "markdown",
   "metadata": {},
   "source": [
    "### 3.3.3 Comparison of profane language by genre"
   ]
  },
  {
   "cell_type": "code",
   "execution_count": 163,
   "metadata": {},
   "outputs": [
    {
     "name": "stdout",
     "output_type": "stream",
     "text": [
      "Index(['genre', 'avg(_id)', 'avg(year)', 'avg(sentences)', 'avg(words)',\n",
      "       'avg(duration)', 'avg(numVotes)', 'avg(averageRating)',\n",
      "       'avg(number_of_profanities)', 'avg(porportion_of_profanities)'],\n",
      "      dtype='object')\n"
     ]
    },
    {
     "data": {
      "text/plain": [
       "<matplotlib.axes._subplots.AxesSubplot at 0x1a1872e0b8>"
      ]
     },
     "execution_count": 163,
     "metadata": {},
     "output_type": "execute_result"
    },
    {
     "data": {
      "image/png": "[encoded data removed]",
      "text/plain": [
       "<Figure size 1152x720 with 1 Axes>"
      ]
     },
     "metadata": {},
     "output_type": "display_data"
    }
   ],
   "source": [
    "# make genre column into a list of genres\n",
    "profanity = spark.read.parquet('./datasets/profanity_final.parquet')\n",
    "\n",
    "metadata_df = spark.read.parquet(\"datasets/metadata_final.parquet\")\n",
    "# get year and genre for each movie\n",
    "profanity_df_genre = metadata_df.join(profanity, '_id', 'inner')\n",
    "\n",
    "profanity_df_genre = profanity_df_genre.withColumn(\"genre\", F.split(profanity_df_genre.genre, ','))\n",
    "\n",
    "# make a row for each genre\n",
    "profanity_df_genre = profanity_df_genre.withColumn(\"genre\", F.explode(\"genre\"))\n",
    "\n",
    "profanity_df_genre = profanity_df_genre.withColumn(\"genre\", F.ltrim(profanity_df_genre.genre))\n",
    "profanity_df_genre = profanity_df_genre.withColumn(\"genre\", F.rtrim(profanity_df_genre.genre))\n",
    "\n",
    "\n",
    "profanity_df_genre = profanity_df_genre.withColumn('porportion_of_profanities', F.col('number_of_profanities') / F.col('words'))\n",
    "\n",
    "\n",
    "profanity_df_genre = profanity_df_genre.groupby('genre').mean()\n",
    "\n",
    "# convert to Pandas for plotting\n",
    "genres = profanity_df_genre.toPandas()\n",
    "\n",
    "print(genres.columns)\n",
    "\n",
    "genres = genres.sort_values(by = 'avg(porportion_of_profanities)')[['genre','avg(porportion_of_profanities)']]\n",
    "genres.plot.bar(x='genre', figsize=(16, 10), title=\"Average readability per genre\")"
   ]
  },
  {
   "cell_type": "markdown",
   "metadata": {},
   "source": [
    "## 3.4 Correlation between text properties and IMDB rating"
   ]
  },
  {
   "cell_type": "markdown",
   "metadata": {},
   "source": [
    "In this section we are going to search for correlation between the film textual properties obtained in sections 3.1, 3.2 and 3.3 and its IMDB rating.\n",
    "\n",
    "To do this we are going to use correlation coefs and visualization to find evidence for correlation between the text properties of a movie and its rating. \n",
    "\n",
    "If we find evidence for correlation, we will try some regression methods on the two variables, such as fitting a regression line."
   ]
  },
  {
   "cell_type": "markdown",
   "metadata": {},
   "source": [
    "## 3.4.1 Readability"
   ]
  },
  {
   "cell_type": "code",
   "execution_count": null,
   "metadata": {},
   "outputs": [],
   "source": [
    "readability = spark.read.parquet('./datasets/complexity_final.parquet')\n",
    "metadata_df = spark.read.parquet(\"datasets/metadata_final.parquet\")\n",
    "readability_imdb_Df = metadata_df.join(readability, '_id', 'inner')"
   ]
  },
  {
   "cell_type": "markdown",
   "metadata": {},
   "source": [
    "## 3.4.2 Polarity"
   ]
  },
  {
   "cell_type": "code",
   "execution_count": null,
   "metadata": {},
   "outputs": [],
   "source": [
    "polarity = spark.read.parquet('./datasets/complexity_final.parquet')\n",
    "metadata_df = spark.read.parquet(\"datasets/metadata_final.parquet\")\n",
    "polarity_imdb_Df = metadata_df.join(polarity, '_id', 'inner')"
   ]
  },
  {
   "cell_type": "markdown",
   "metadata": {},
   "source": [
    "## 3.4.3 Profanity"
   ]
  },
  {
   "cell_type": "code",
   "execution_count": null,
   "metadata": {},
   "outputs": [],
   "source": [
    "profanity = spark.read.parquet('./datasets/profanity_final.parquet')\n",
    "metadata_df = spark.read.parquet(\"datasets/metadata_final.parquet\")\n",
    "profanity_imdb_df = metadata_df.join(profanity, '_id', 'inner')"
   ]
  }
 ],
 "metadata": {
  "kernelspec": {
   "display_name": "Python 3",
   "language": "python",
   "name": "python3"
  },
  "language_info": {
   "codemirror_mode": {
    "name": "ipython",
    "version": 3
   },
   "file_extension": ".py",
   "mimetype": "text/x-python",
   "name": "python",
   "nbconvert_exporter": "python",
   "pygments_lexer": "ipython3",
   "version": "3.6.5"
  }
 },
 "nbformat": 4,
 "nbformat_minor": 2
}
