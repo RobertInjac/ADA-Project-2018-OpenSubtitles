{
 "cells": [
  {
   "cell_type": "markdown",
   "metadata": {},
   "source": [
    "# The evolution of the language in films"
   ]
  },
  {
   "cell_type": "code",
   "execution_count": 2,
   "metadata": {},
   "outputs": [],
   "source": [
    "import pandas as pd\n",
    "import numpy as np\n",
    "import scipy as sp\n",
    "import matplotlib.pyplot as plt\n",
    "from pyspark.sql.types import *\n",
    "import pyspark.sql.functions as F\n",
    "\n",
    "import findspark\n",
    "findspark.init()\n",
    "\n",
    "from pyspark.sql import *\n",
    "%matplotlib inline\n",
    "\n",
    "spark = SparkSession.builder.getOrCreate()\n",
    "#sqlContext = SQLContext(sc)"
   ]
  },
  {
   "cell_type": "markdown",
   "metadata": {},
   "source": [
    "## 0. Extraction of data\n",
    "\n",
    "Each subtitle in the OpenSubtitle database is stored in a seperate XML-file. In order to analyse the data and calculate our descriptive statistics we need to convert it to a format supported by Spark/Pandas. \n",
    "\n",
    "In order to process the dataset using spark, we will use the spark-xml package from databricks (https://github.com/databricks/spark-xml). When using spark-xml, you can either let spark-xml infer the schema of the XML file or you can specify it yourself. Delegating the job of creating the schema to spark-xml is convenient however it is very expensive which we experienced through first hand experience. In order to speed up our input pipeline, we will specify or own static xml schema below. When specifying the schema yourself, spark-xml will not try to infer the schema which gives a significant performance boost."
   ]
  },
  {
   "cell_type": "markdown",
   "metadata": {},
   "source": [
    "### 0.1. schema"
   ]
  },
  {
   "cell_type": "markdown",
   "metadata": {},
   "source": [
    "We will use two different schemas, one schema will be used to extract the movie meta data contained in each subtitle file and the other schema will be used to extract the actual subtitle text."
   ]
  },
  {
   "cell_type": "markdown",
   "metadata": {},
   "source": [
    "**XML Schema for meta data extracting:**"
   ]
  },
  {
   "cell_type": "code",
   "execution_count": 57,
   "metadata": {},
   "outputs": [],
   "source": [
    "# Schema for the source XML-tag\n",
    "sourceSchema = StructType([\\\n",
    "                            StructField('genre', StringType()),\n",
    "                            StructField('year', StringType()),\n",
    "                          ])\n",
    "\n",
    "# Schema for the source XML-tag\n",
    "subtitleSchema = StructType([\\\n",
    "                            StructField('duration', StringType())\n",
    "                          ])\n",
    "\n",
    "# Schema for the conversion XML-tag\n",
    "conversionSchema =  StructType([\\\n",
    "                                StructField('sentences', StringType()),\n",
    "                                StructField('tokens', StringType())\n",
    "                              ])\n",
    "\n",
    "# Schema for the meta XML-tag\n",
    "mSchema = StructType([\\\n",
    "                        StructField('source', sourceSchema),\n",
    "                        StructField('conversion', conversionSchema),\n",
    "                        StructField('subtitle', subtitleSchema),\n",
    "                    ])\n",
    "\n",
    "# Root schema\n",
    "metaSchema = StructType([\n",
    "    StructField('_id', IntegerType()),\n",
    "    StructField('meta', mSchema)\n",
    "])"
   ]
  },
  {
   "cell_type": "markdown",
   "metadata": {},
   "source": [
    "**XML Schema for subtitle data extracting:**\n",
    "\n",
    "What we will end up with is a dataframe with a column called **s** which is of type Array. The elements of the Array in column **s** holds elements which also are arrays. Each nested array represents a sentnce and each element of the nested Arrays are the words of the sentence."
   ]
  },
  {
   "cell_type": "code",
   "execution_count": 58,
   "metadata": {},
   "outputs": [],
   "source": [
    "# Schema for the w (word) XML-tag\n",
    "wordSchema = ArrayType(StructType([\\\n",
    "                                StructField('_VALUE', StringType())\\\n",
    "                               ]))\n",
    "\n",
    "# Schema for the s (sentence) XML-tag\n",
    "sentenceSchema = StructType([StructField('w', wordSchema)])\n",
    "\n",
    "# Root schema\n",
    "sentenceSchema = StructType([\n",
    "    StructField('_id', IntegerType()),\n",
    "    StructField('s', ArrayType(sentenceSchema))\n",
    "])"
   ]
  },
  {
   "cell_type": "markdown",
   "metadata": {},
   "source": [
    "### 0.2 Parsing of xml-data\n",
    "\n",
    "The subtitles are stored in folders in the following structure:\n",
    "\n",
    "**opensubtitle/OpenSubtitles2018/xml/ { language } / { year } / { imdb_id } / { openSubtitle_id }.xml.gz**\n",
    "\n",
    "* year is the release year of the movie\n",
    "* langauge is the language of the movie\n",
    "* imdb_id: id of the movie in the IMDB database\n",
    "* openSubtitle_id: unique identifier in the opensubtitle database\n",
    "\n",
    "With the help of regular expression we can load every single subtitle file at once. "
   ]
  },
  {
   "cell_type": "code",
   "execution_count": 59,
   "metadata": {},
   "outputs": [],
   "source": [
    "# Loads all subtitles files in english and parses the input files with the schema for meta data.\n",
    "df = sqlContext.read.format('com.databricks.spark.xml')\\\n",
    "    .options(rowTag='document', samplingRatio=0.0)\\\n",
    "    .load('[0-9][0-9][0-9][0-9]/**/*.xml.gz', schema=metaSchema)\n",
    "    #.load('hdfs:///datasets/opensubtitle/OpenSubtitles2018/xml/en/[0-9]{4}/**/*.xml.gz', schema=metaSchema)"
   ]
  },
  {
   "cell_type": "markdown",
   "metadata": {},
   "source": [
    "**The meta data we extract for each movie is the following:**\n",
    "\n",
    "* _id: the openSubtitle id\n",
    "* year: the release year of the movie\n",
    "* sentences: the total amount of sentences in the movie\n",
    "* words: the total amount of words in the movie (not unique words)\n",
    "* duration: the duration of the movie\n",
    "* imdb_id: id of the movie in the IMDB database\n",
    "\n",
    "The imdb_id is actually not contained in the XML-file of each movie but the parent directory of each XML subtitle file is named using the imdb identifier. Therefore, we extract the imdb_id from the file path of each subtitle file."
   ]
  },
  {
   "cell_type": "code",
   "execution_count": 60,
   "metadata": {
    "scrolled": true
   },
   "outputs": [],
   "source": [
    "movies = df.select(\\\n",
    "               F.col(\"_id\"),\\\n",
    "               F.col(\"meta.source.genre\").alias(\"genre\"),\\\n",
    "               F.col(\"meta.source.year\").alias(\"year\"),\\\n",
    "               F.col(\"meta.conversion.sentences\").alias(\"sentences\"),\\\n",
    "               F.col(\"meta.conversion.tokens\").alias(\"words\"),\\\n",
    "               F.col(\"meta.subtitle.duration\").alias(\"duration\"))  \n",
    "\n",
    "movies = movies.withColumn(\"imdb_id\",F.split(F.input_file_name(), \"/\").getItem(6))"
   ]
  },
  {
   "cell_type": "code",
   "execution_count": null,
   "metadata": {},
   "outputs": [],
   "source": [
    "movies.write.mode(\"overwrite\").parquet('movie_data_with_imdb_id.parquet')"
   ]
  },
  {
   "cell_type": "markdown",
   "metadata": {},
   "source": [
    "### 0.3 Enriching the dataset\n",
    "\n",
    "With the help of the imdb_id, we can enrich our dataset with one or several of IMDBs public datasets (https://www.imdb.com/interfaces/). We are interested in the imdb rating of each movie, let's add it to our existing movies dataframe by joining it with the ratings dataset of IMDB."
   ]
  },
  {
   "cell_type": "code",
   "execution_count": 63,
   "metadata": {},
   "outputs": [
    {
     "name": "stdout",
     "output_type": "stream",
     "text": [
      "+-------+--------------------+----+---------+-----+------------+-------+\n",
      "|    _id|               genre|year|sentences|words|    duration|imdb_id|\n",
      "+-------+--------------------+----+---------+-----+------------+-------+\n",
      "|7018237|Comedy,Drama,Romance|1947|     2768|20350|01:55:25,969|  39477|\n",
      "|3528271| Crime,Drama,Fantasy|1993|     1557|10885|01:56:41,202| 107665|\n",
      "|4655639|Animation,Comedy,...|1935|      142|  457|00:15:15,010|  26706|\n",
      "|4336532|Adventure,Crime,D...|1964|      906| 6723|00:50:21,667| 583992|\n",
      "|3452622|Crime,Mystery,Thr...|1922|      630| 7016|03:54:14,811|  13086|\n",
      "+-------+--------------------+----+---------+-----+------------+-------+\n",
      "only showing top 5 rows\n",
      "\n"
     ]
    }
   ],
   "source": [
    "movies = spark.read.parquet(\"./movie_data_with_imdb_id.parquet\")\n",
    "movies.show(5)"
   ]
  },
  {
   "cell_type": "code",
   "execution_count": 64,
   "metadata": {},
   "outputs": [
    {
     "name": "stdout",
     "output_type": "stream",
     "text": [
      "+---------+-------------+--------+\n",
      "|   tconst|averageRating|numVotes|\n",
      "+---------+-------------+--------+\n",
      "|tt0000001|          5.8|    1437|\n",
      "|tt0000002|          6.3|     171|\n",
      "|tt0000003|          6.6|    1037|\n",
      "|tt0000004|          6.4|     102|\n",
      "|tt0000005|          6.2|    1734|\n",
      "+---------+-------------+--------+\n",
      "only showing top 5 rows\n",
      "\n"
     ]
    }
   ],
   "source": [
    "imdb_ratings = spark.read.format(\"csv\")\\\n",
    "                        .option(\"header\", \"true\")\\\n",
    "                        .option(\"sep\", \"\\t\").load(\"title.ratings.tsv\")\n",
    "imdb_ratings.show(5)"
   ]
  },
  {
   "cell_type": "markdown",
   "metadata": {},
   "source": [
    "For some unknown reason, the imdb id's in the imdb_ratings dataframe are prefixed with the string \"tt\". We need to get rid of the prefix in order to join the imdb_ratings dataframe with our movies dataframe."
   ]
  },
  {
   "cell_type": "code",
   "execution_count": 65,
   "metadata": {},
   "outputs": [],
   "source": [
    "remove_prefix = F.udf(lambda x: x[2:], StringType())\n",
    "imdb_ratings = imdb_ratings.select('averageRating', \n",
    "                                   'numVotes', \n",
    "                                   remove_prefix(F.col('tconst')).alias('_id'))\n",
    "# we do a left outer join since we still want to keep movies from our original dataset that \n",
    "# does not match any movies in the imdb dataset.\n",
    "movies = movies.join(imdb_ratings, movies.imdb_id == imdb_ratings._id, \"left_outer\")"
   ]
  },
  {
   "cell_type": "code",
   "execution_count": null,
   "metadata": {},
   "outputs": [],
   "source": [
    "movies.write.mode(\"overwrite\").parquet('movie_data_enriched.parquet')"
   ]
  },
  {
   "cell_type": "markdown",
   "metadata": {},
   "source": [
    "## 1. Descriptive statistics"
   ]
  },
  {
   "cell_type": "markdown",
   "metadata": {},
   "source": [
    "Before working with our data, let's get to know it. We will start by getting the movie data."
   ]
  },
  {
   "cell_type": "code",
   "execution_count": 3,
   "metadata": {},
   "outputs": [
    {
     "name": "stdout",
     "output_type": "stream",
     "text": [
      "There are 177036 movies in the dataset.\n"
     ]
    }
   ],
   "source": [
    "movies = spark.read.parquet(\"./movie_data.parquet\")\n",
    "print(\"There are \" + str(movies.count()) + \" movies in the dataset.\")"
   ]
  },
  {
   "cell_type": "markdown",
   "metadata": {},
   "source": [
    "What information do we have for every movie?"
   ]
  },
  {
   "cell_type": "code",
   "execution_count": 4,
   "metadata": {},
   "outputs": [
    {
     "data": {
      "text/plain": [
       "StructType(List(StructField(_id,IntegerType,true),StructField(genre,StringType,true),StructField(year,StringType,true),StructField(sentences,StringType,true),StructField(words,StringType,true),StructField(duration,StringType,true)))"
      ]
     },
     "execution_count": 4,
     "metadata": {},
     "output_type": "execute_result"
    }
   ],
   "source": [
    "movies.schema"
   ]
  },
  {
   "cell_type": "code",
   "execution_count": 5,
   "metadata": {},
   "outputs": [
    {
     "name": "stdout",
     "output_type": "stream",
     "text": [
      "root\n",
      " |-- id: integer (nullable = true)\n",
      " |-- genre: string (nullable = true)\n",
      " |-- year: string (nullable = true)\n",
      " |-- sentences: string (nullable = true)\n",
      " |-- words: string (nullable = true)\n",
      " |-- duration: string (nullable = true)\n",
      "\n"
     ]
    }
   ],
   "source": [
    "movies = movies.toDF('id', 'genre', 'year', 'sentences', 'words', 'duration')\n",
    "movies.printSchema()"
   ]
  },
  {
   "cell_type": "markdown",
   "metadata": {},
   "source": [
    "### 1.1 Number of movies by year\n",
    "\n",
    "So how many movies are there for each year? We presume there will be more movies in recent years than 1950. \n",
    "\n",
    "Firstly, we check the range of the years."
   ]
  },
  {
   "cell_type": "code",
   "execution_count": 5,
   "metadata": {},
   "outputs": [
    {
     "name": "stdout",
     "output_type": "stream",
     "text": [
      "+-------+------------------+\n",
      "|summary|              year|\n",
      "+-------+------------------+\n",
      "|  count|            175488|\n",
      "|   mean|2002.3560762849568|\n",
      "| stddev|18.338728088971912|\n",
      "|    min|              1906|\n",
      "|    max|              2020|\n",
      "+-------+------------------+\n",
      "\n"
     ]
    }
   ],
   "source": [
    "movies.describe('year').show()"
   ]
  },
  {
   "cell_type": "markdown",
   "metadata": {},
   "source": [
    "Now let's draw a chart showing exactly how many movies were there for each year."
   ]
  },
  {
   "cell_type": "code",
   "execution_count": 6,
   "metadata": {},
   "outputs": [],
   "source": [
    "# get movie counts per year\n",
    "movies_per_year = movies.groupby('year').count()\n",
    "\n",
    "# convert to Pandas for plotting\n",
    "ydf = movies_per_year.toPandas()\n",
    "\n",
    "# sort the films by year\n",
    "ydf = ydf.sort_values(by='year')"
   ]
  },
  {
   "cell_type": "markdown",
   "metadata": {},
   "source": [
    "We need to clean our data of null values and inconsistent entries."
   ]
  },
  {
   "cell_type": "code",
   "execution_count": 7,
   "metadata": {},
   "outputs": [
    {
     "name": "stdout",
     "output_type": "stream",
     "text": [
      "Before cleaning we have 177036 films. \n",
      "After cleaning we have 175395 films. \n",
      "Only 0.01% of our dataset was invalid/inconsistent.\n"
     ]
    }
   ],
   "source": [
    "n_before = sum(ydf['count'])\n",
    "print(\"Before cleaning we have \" + str(n_before) + \" films. \")\n",
    "\n",
    "# convert year to int the 'year' value\n",
    "ydf['year'] = pd.to_numeric(ydf['year'], errors='coerce', downcast='integer')\n",
    "\n",
    "# remove films with \"Nan\" as year value\n",
    "# since we cannot really use them\n",
    "ydf = ydf.dropna()\n",
    "ydf = ydf.reset_index(drop=True)\n",
    "ydf['year'] = ydf['year'].astype('int')\n",
    "\n",
    "n_after = sum(ydf['count'])\n",
    "print(\"After cleaning we have \" + str(n_after) + \" films. \")\n",
    "print(\"Only %.2f%% of our dataset was invalid/inconsistent.\" % (1 - (n_after/n_before)))"
   ]
  },
  {
   "cell_type": "markdown",
   "metadata": {},
   "source": [
    "To plot the number of films by year, we will bin them to make the visualization clearer.\n",
    "\n",
    "Considering we have movies from year 1906 to 2020, we are going to make 12 bins for each decade from 1900's to 2010's (We are going to put year 2020 in 2010's, it will not change much because we have only  6 films for 2020)"
   ]
  },
  {
   "cell_type": "code",
   "execution_count": 8,
   "metadata": {},
   "outputs": [],
   "source": [
    "years = list(ydf['year'])\n",
    "labels = []\n",
    "counts = []\n",
    "\n",
    "for decade in range(1900, 2020, 10):\n",
    "    # create bin label\n",
    "    label = str(decade) + \"s\"\n",
    "    labels.append(label)\n",
    "    \n",
    "    # calculate count for the bin\n",
    "    count = 0\n",
    "    for year in range(decade, decade+10):\n",
    "        if year in years:\n",
    "            count += int(ydf.loc[ydf['year'] == year]['count'])\n",
    "    counts.append(count)\n",
    "\n",
    "# add the 2020 to the 2010s decade\n",
    "counts[11] += int(ydf.loc[ydf['year'] == 2010]['count'])"
   ]
  },
  {
   "cell_type": "code",
   "execution_count": 9,
   "metadata": {},
   "outputs": [
    {
     "data": {
      "image/png": "[encoded data removed]",
      "text/plain": [
       "<Figure size 1080x720 with 1 Axes>"
      ]
     },
     "metadata": {
      "needs_background": "light"
     },
     "output_type": "display_data"
    }
   ],
   "source": [
    "plt.figure(figsize=(15,10))\n",
    "plt.bar(labels, counts)\n",
    "plt.title('Nuber of films per decade')\n",
    "plt.show()"
   ]
  },
  {
   "cell_type": "markdown",
   "metadata": {},
   "source": [
    "As expected, we have more films in the recent decades."
   ]
  },
  {
   "cell_type": "markdown",
   "metadata": {},
   "source": [
    "### 1.2 Median number of sentences by year"
   ]
  },
  {
   "cell_type": "markdown",
   "metadata": {},
   "source": [
    "Our project is about evolution of language used in films, so let's have a peek at how and did it change over time. We will start by showing the median number of sentences for each year. We use median instead of mean since it's a more robust measure so in the case we have some invalid data (like unfinished movie subtitles with just a few sentences) it will behave better."
   ]
  },
  {
   "cell_type": "code",
   "execution_count": 15,
   "metadata": {},
   "outputs": [],
   "source": [
    "# get median number of sentences per year\n",
    "percentile = F.expr('percentile_approx(sentences, 0.5)')\n",
    "sdf_ = movies.groupby('year').agg(percentile.alias('n_sent_median'))\n",
    "\n",
    "# convert to Pandas for plotting\n",
    "sdf = sdf_.toPandas()\n",
    "\n",
    "# sort the films by year\n",
    "sdf = sdf.sort_values(by='year')\n",
    "\n",
    "# convert year to int the 'year' value\n",
    "sdf['year'] = pd.to_numeric(sdf['year'], errors='coerce', downcast='integer')\n",
    "\n",
    "# remove films with \"Nan\" as year value\n",
    "# since we cannot really use them\n",
    "sdf = sdf.dropna()\n",
    "sdf = sdf.reset_index(drop=True)\n",
    "sdf['year'] = sdf['year'].astype('int')"
   ]
  },
  {
   "cell_type": "markdown",
   "metadata": {},
   "source": [
    "We will now visualize the median number of sentences by decade. For each decade, we will take the average of medians for that decade. We will ignore year 2020 (for all decades to have exactly 10 years)."
   ]
  },
  {
   "cell_type": "code",
   "execution_count": 21,
   "metadata": {},
   "outputs": [],
   "source": [
    "years = list(sdf['year'])\n",
    "labels = []\n",
    "medians = []\n",
    "\n",
    "for decade in range(1900, 2020, 10):\n",
    "    # create bin label\n",
    "    label = str(decade) + \"s\"\n",
    "    labels.append(label)\n",
    "    \n",
    "    # calculate count for the bin\n",
    "    median = 0\n",
    "    for year in range(decade, decade+10):\n",
    "        if year in years:\n",
    "            median += int(sdf.loc[sdf['year'] == year]['n_sent_median'])\n",
    "    medians.append(median / 10)"
   ]
  },
  {
   "cell_type": "code",
   "execution_count": 23,
   "metadata": {},
   "outputs": [
    {
     "data": {
      "image/png": "[encoded data removed]",
      "text/plain": [
       "<Figure size 1080x720 with 1 Axes>"
      ]
     },
     "metadata": {
      "needs_background": "light"
     },
     "output_type": "display_data"
    }
   ],
   "source": [
    "plt.figure(figsize=(15,10))\n",
    "plt.bar(labels, medians)\n",
    "plt.title('Median number of sentences per decade')\n",
    "plt.show()"
   ]
  },
  {
   "cell_type": "markdown",
   "metadata": {},
   "source": [
    "On this graph we can see a lot of interesting things. Before 1930s, in the era of the silent films, there is a low number of sentences for each movie. In the 40s, the first decade where pretty much every film had sound, we have the highest number of sentences. As we go to our time, we have fewer and fewer sentences by each film. \n",
    "\n",
    "This gives credit to the idea that movies are getting more \"simpler\" by years."
   ]
  },
  {
   "cell_type": "markdown",
   "metadata": {},
   "source": [
    "### 1.3 Median number of words in sentences by year"
   ]
  },
  {
   "cell_type": "markdown",
   "metadata": {},
   "source": [
    "We already checked sentences, but they can hide something. The number of words is also important. A movie can have many sentences but most of them can be very short. So let's check the median number of words per year and visualize it."
   ]
  },
  {
   "cell_type": "code",
   "execution_count": 27,
   "metadata": {},
   "outputs": [],
   "source": [
    "# get median number of words per year\n",
    "percentile = F.expr('percentile_approx(words, 0.5)')\n",
    "wdf_ = movies.groupby('year').agg(percentile.alias('n_word_median'))\n",
    "\n",
    "# convert to Pandas for plotting\n",
    "wdf = wdf_.toPandas()\n",
    "\n",
    "# sort the films by year\n",
    "wdf = wdf.sort_values(by='year')\n",
    "\n",
    "# convert year to int the 'year' value\n",
    "wdf['year'] = pd.to_numeric(wdf['year'], errors='coerce', downcast='integer')\n",
    "\n",
    "# remove films with \"Nan\" as year value\n",
    "# since we cannot really use them\n",
    "wdf = wdf.dropna()\n",
    "wdf = wdf.reset_index(drop=True)\n",
    "wdf['year'] = wdf['year'].astype('int')"
   ]
  },
  {
   "cell_type": "code",
   "execution_count": 28,
   "metadata": {},
   "outputs": [],
   "source": [
    "years = list(wdf['year'])\n",
    "labels = []\n",
    "medians = []\n",
    "\n",
    "for decade in range(1900, 2020, 10):\n",
    "    # create bin label\n",
    "    label = str(decade) + \"s\"\n",
    "    labels.append(label)\n",
    "    \n",
    "    # calculate count for the bin\n",
    "    median = 0\n",
    "    for year in range(decade, decade+10):\n",
    "        if year in years:\n",
    "            median += int(wdf.loc[wdf['year'] == year]['n_word_median'])\n",
    "    medians.append(median / 10)"
   ]
  },
  {
   "cell_type": "code",
   "execution_count": 29,
   "metadata": {},
   "outputs": [
    {
     "data": {
      "image/png": "[encoded data removed]",
      "text/plain": [
       "<Figure size 1080x720 with 1 Axes>"
      ]
     },
     "metadata": {
      "needs_background": "light"
     },
     "output_type": "display_data"
    }
   ],
   "source": [
    "plt.figure(figsize=(15,10))\n",
    "plt.bar(labels, medians)\n",
    "plt.title('Median number of words per decade')\n",
    "plt.show()"
   ]
  },
  {
   "cell_type": "markdown",
   "metadata": {},
   "source": [
    "The graph seems very similar to the sentences graph in the previous section. So we can assume that newer movies have less sentences, but that number of words for each sentence did not really change."
   ]
  },
  {
   "cell_type": "code",
   "execution_count": null,
   "metadata": {},
   "outputs": [],
   "source": []
  }
 ],
 "metadata": {
  "kernelspec": {
   "display_name": "Python [conda env:ada]",
   "language": "python",
   "name": "conda-env-ada-py"
  },
  "language_info": {
   "codemirror_mode": {
    "name": "ipython",
    "version": 3
   },
   "file_extension": ".py",
   "mimetype": "text/x-python",
   "name": "python",
   "nbconvert_exporter": "python",
   "pygments_lexer": "ipython3",
   "version": "3.6.6"
  }
 },
 "nbformat": 4,
 "nbformat_minor": 2
}
