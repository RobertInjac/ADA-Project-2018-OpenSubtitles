{
 "cells": [
  {
   "cell_type": "markdown",
   "metadata": {},
   "source": [
    "# The evolution of the language in films"
   ]
  },
  {
   "cell_type": "code",
   "execution_count": 17,
   "metadata": {},
   "outputs": [],
   "source": [
    "import pandas as pd\n",
    "import numpy as np\n",
    "import scipy as sp\n",
    "import matplotlib.pyplot as plt\n",
    "from pyspark.sql.types import *\n",
    "import pyspark.sql.functions as F\n",
    "from pyspark.sql.functions import udf\n",
    "\n",
    "#import findspark\n",
    "#findspark.init()\n",
    "\n",
    "from pyspark.sql import *\n",
    "%matplotlib inline\n",
    "\n",
    "import nltk\n",
    "from nltk.corpus import stopwords\n",
    "import string\n",
    "from nltk.stem.wordnet import WordNetLemmatizer\n",
    "\n",
    "#spark = SparkSession.builder.getOrCreate()\n",
    "sqlContext = SQLContext(sc)"
   ]
  },
  {
   "cell_type": "markdown",
   "metadata": {},
   "source": [
    "## 0. Extraction of data\n",
    "\n",
    "Each subtitle in the OpenSubtitle database is stored in a seperate XML-file. In order to analyse the data and calculate our descriptive statistics we need to convert it to a format more appropriate for Spark/Pandas. Instead of having ~180000 different XML-files, we would like to have the data stored in a Spark dataframe.\n",
    "\n",
    "In order to process the dataset using Spark, we will use the spark-xml package from databricks (https://github.com/databricks/spark-xml).\n",
    "\n",
    "When using spark-xml, you can either let spark-xml infer the schema of the XML file or you can specify it yourself. Delegating the job of creating the schema to spark-xml is convenient however it is very expensive which we experienced through first hand experience. In order to speed up our input pipeline, we will specify or own static xml schema below. When specifying the schema yourself, spark-xml will not try to infer the schema which gives a significant performance boost when reading large numbers of XML-files."
   ]
  },
  {
   "cell_type": "markdown",
   "metadata": {},
   "source": [
    "### 0.1 schema"
   ]
  },
  {
   "cell_type": "markdown",
   "metadata": {},
   "source": [
    "We will extract 2 seperate dataframes, therefore we will need two different XML schemas. One schema will be used to extract the movie meta data contained in each subtitle file and the other schema will be used to extract the actual subtitle text."
   ]
  },
  {
   "cell_type": "markdown",
   "metadata": {},
   "source": [
    "#### 0.1.1 meta data schema"
   ]
  },
  {
   "cell_type": "code",
   "execution_count": 2,
   "metadata": {},
   "outputs": [],
   "source": [
    "# Schema for the source XML-tag\n",
    "sourceSchema = StructType([\\\n",
    "                            StructField('genre', StringType()),\n",
    "                            StructField('year', StringType()),\n",
    "                          ])\n",
    "\n",
    "# Schema for the source XML-tag\n",
    "subtitleSchema = StructType([\\\n",
    "                            StructField('duration', StringType())\n",
    "                          ])\n",
    "\n",
    "# Schema for the conversion XML-tag\n",
    "conversionSchema =  StructType([\\\n",
    "                                StructField('sentences', StringType()),\n",
    "                                StructField('tokens', StringType())\n",
    "                              ])\n",
    "\n",
    "# Schema for the meta XML-tag\n",
    "mSchema = StructType([\\\n",
    "                        StructField('source', sourceSchema),\n",
    "                        StructField('conversion', conversionSchema),\n",
    "                        StructField('subtitle', subtitleSchema),\n",
    "                    ])\n",
    "\n",
    "# Root schema\n",
    "metaSchema = StructType([\n",
    "    StructField('_id', IntegerType()),\n",
    "    StructField('meta', mSchema)\n",
    "])"
   ]
  },
  {
   "cell_type": "markdown",
   "metadata": {},
   "source": [
    "#### 0.1.1 subtitle data schema"
   ]
  },
  {
   "cell_type": "markdown",
   "metadata": {},
   "source": [
    "The schema will produce a dataframe with two columns. One column will contain the movie id and a column **s** which is of type Array. The elements of the Array in column **s** holds elements which also are arrays. Each nested array represents a sentence and each element of the nested Arrays are the words of the sentence."
   ]
  },
  {
   "cell_type": "code",
   "execution_count": 3,
   "metadata": {},
   "outputs": [],
   "source": [
    "# Schema for the w (word) XML-tag\n",
    "wordSchema = ArrayType(StructType([\\\n",
    "                                StructField('_VALUE', StringType())\\\n",
    "                               ]))\n",
    "\n",
    "# Schema for the s (sentence) XML-tag\n",
    "sentenceSchema = StructType([StructField('w', wordSchema)])\n",
    "\n",
    "# Root schema\n",
    "sentenceSchema = StructType([\n",
    "    StructField('_id', IntegerType()),\n",
    "    StructField('s', ArrayType(sentenceSchema))\n",
    "])"
   ]
  },
  {
   "cell_type": "markdown",
   "metadata": {},
   "source": [
    "### 0.2 Parsing of xml-data\n",
    "\n",
    "The OpenSubtitle dataset uses the following folder structure:\n",
    "\n",
    "**opensubtitle/OpenSubtitles2018/xml/ { language } / { year } / { imdb_id } / { openSubtitle_id }.xml.gz**\n",
    "\n",
    "* year is the release year of the movie\n",
    "* langauge is the language of the movie\n",
    "* imdb_id: id of the movie in the IMDB database\n",
    "* openSubtitle_id: unique identifier in the opensubtitle database\n",
    "\n",
    "With the help of regular expression we can load every single subtitle file at once using spark. "
   ]
  },
  {
   "cell_type": "markdown",
   "metadata": {},
   "source": [
    "#### 0.2.1 meta data dataframe"
   ]
  },
  {
   "cell_type": "markdown",
   "metadata": {},
   "source": [
    "**The meta data we extract for each movie is the following:**\n",
    "\n",
    "* **_id**: the openSubtitle id - **type**: string\n",
    "* **year**: the release year of the movie - **type**: numeric\n",
    "* **sentences**: the total amount of sentences in the movie - **type**: numeric\n",
    "* **words**: the total amount of words in the movie (not unique words) - **type**: numeric\n",
    "* **duration**:: the duration of the movie - **type**: string\n",
    "* **imdb_id**: id of the movie in the IMDB database - **type**: string\n",
    "\n",
    "The imdb_id is actually not contained in the XML-file of each movie but the parent directory of each XML subtitle file is named using the imdb identifier. Therefore, we extract the imdb_id from the file path of each subtitle file."
   ]
  },
  {
   "cell_type": "code",
   "execution_count": 7,
   "metadata": {},
   "outputs": [],
   "source": [
    "# Loads all subtitles files in english and parses the input files with the schema for meta data.\n",
    "df_metadata = sqlContext.read.format('com.databricks.spark.xml')\\\n",
    "    .options(rowTag='document', \n",
    "             samplingRatio=0.0)\\\n",
    "    .load('hdfs:///datasets/opensubtitle/OpenSubtitles2018/xml/en/[1-2][0-9][0-9][0-9]/**/*.xml.gz', \n",
    "          schema=metaSchema)"
   ]
  },
  {
   "cell_type": "code",
   "execution_count": 60,
   "metadata": {
    "scrolled": true
   },
   "outputs": [],
   "source": [
    "movies_meta = df_metadata.select(\\\n",
    "               F.col(\"_id\"),\\\n",
    "               F.col(\"meta.source.genre\").alias(\"genre\"),\\\n",
    "               F.col(\"meta.source.year\").alias(\"year\"),\\\n",
    "               F.col(\"meta.conversion.sentences\").alias(\"sentences\"),\\\n",
    "               F.col(\"meta.conversion.tokens\").alias(\"words\"),\\\n",
    "               F.col(\"meta.subtitle.duration\").alias(\"duration\"))  \n",
    "\n",
    "movies_meta = movies.withColumn(\"imdb_id\",F.split(F.input_file_name(), \"/\").getItem(6))"
   ]
  },
  {
   "cell_type": "code",
   "execution_count": null,
   "metadata": {},
   "outputs": [],
   "source": [
    "movies_meta.write.mode(\"overwrite\").parquet('movie_data_with_imdb_id.parquet')"
   ]
  },
  {
   "cell_type": "markdown",
   "metadata": {},
   "source": [
    "#### 0.2.1 subtitle dataframe"
   ]
  },
  {
   "cell_type": "markdown",
   "metadata": {},
   "source": [
    "The subtitle dataframe has the following structure:\n",
    "\n",
    "* **_id:** the openSubtitle id - **type**: string\n",
    "* **sentence:** a sentence belonging to the movie identified by the **_id** field - **type**: List of strings"
   ]
  },
  {
   "cell_type": "code",
   "execution_count": null,
   "metadata": {},
   "outputs": [],
   "source": [
    "# Loads all subtitles files in english and parses the input files with the schema for subtitle data.\n",
    "df_subtitle = sqlContext.read.format('com.databricks.spark.xml')\\\n",
    "    .options(rowTag='document', \n",
    "             samplingRatio=0.0)\\\n",
    "    .load('hdfs:///datasets/opensubtitle/OpenSubtitles2018/xml/en/[1-2][0-9][0-9][0-9]/**/*.xml.gz', \n",
    "          schema=sentenceSchema)"
   ]
  },
  {
   "cell_type": "code",
   "execution_count": null,
   "metadata": {},
   "outputs": [],
   "source": [
    "# The tag s.w in the nested XML-structure holds an array of sentences for each movie.\n",
    "# We want each movie to have its own entry in the dataframe, we use the explode function to create one row\n",
    "# in the dataframe for each nested array contained in the s.w tag\n",
    "movies_subtitle = df.select('_id',\n",
    "                            F.explode(F.col('s.w')).alias('sentence'))"
   ]
  },
  {
   "cell_type": "code",
   "execution_count": null,
   "metadata": {},
   "outputs": [],
   "source": [
    "movies_subtitle.write.mode(\"overwrite\").parquet('movies_subtitle.parquet')"
   ]
  },
  {
   "cell_type": "markdown",
   "metadata": {},
   "source": [
    "### 0.3 Enriching the dataset\n",
    "\n",
    "With the help of the imdb_id, we can enrich our dataset with one or several of IMDBs public datasets (https://www.imdb.com/interfaces/). We are interested in the imdb rating of each movie, let's add it to our existing movies dataframe by joining it with the ratings dataset of IMDB."
   ]
  },
  {
   "cell_type": "code",
   "execution_count": 8,
   "metadata": {},
   "outputs": [
    {
     "name": "stdout",
     "output_type": "stream",
     "text": [
      "+-------+--------------------+----+---------+-----+------------+-------+\n",
      "|    _id|               genre|year|sentences|words|    duration|imdb_id|\n",
      "+-------+--------------------+----+---------+-----+------------+-------+\n",
      "|7018237|Comedy,Drama,Romance|1947|     2768|20350|01:55:25,969|  39477|\n",
      "|3528271| Crime,Drama,Fantasy|1993|     1557|10885|01:56:41,202| 107665|\n",
      "|4655639|Animation,Comedy,...|1935|      142|  457|00:15:15,010|  26706|\n",
      "|4336532|Adventure,Crime,D...|1964|      906| 6723|00:50:21,667| 583992|\n",
      "|3452622|Crime,Mystery,Thr...|1922|      630| 7016|03:54:14,811|  13086|\n",
      "+-------+--------------------+----+---------+-----+------------+-------+\n",
      "only showing top 5 rows\n",
      "\n"
     ]
    }
   ],
   "source": [
    "movies = spark.read.parquet(\"./movie_data_with_imdb_id.parquet\")\n",
    "movies.show(5)"
   ]
  },
  {
   "cell_type": "code",
   "execution_count": 9,
   "metadata": {},
   "outputs": [
    {
     "name": "stdout",
     "output_type": "stream",
     "text": [
      "+---------+-------------+--------+\n",
      "|   tconst|averageRating|numVotes|\n",
      "+---------+-------------+--------+\n",
      "|tt0000001|          5.8|    1437|\n",
      "|tt0000002|          6.3|     171|\n",
      "|tt0000003|          6.6|    1037|\n",
      "|tt0000004|          6.4|     102|\n",
      "|tt0000005|          6.2|    1734|\n",
      "+---------+-------------+--------+\n",
      "only showing top 5 rows\n",
      "\n"
     ]
    }
   ],
   "source": [
    "imdb_ratings = spark.read.format(\"csv\")\\\n",
    "                        .option(\"header\", \"true\")\\\n",
    "                        .option(\"sep\", \"\\t\").load(\"title.ratings.tsv\")\n",
    "imdb_ratings.show(5)"
   ]
  },
  {
   "cell_type": "markdown",
   "metadata": {},
   "source": [
    "For some unknown reason, the imdb id's in the imdb_ratings dataframe are prefixed with the string \"tt\". We need to get rid of the prefix in order to join the imdb_ratings dataframe with our movies dataframe."
   ]
  },
  {
   "cell_type": "code",
   "execution_count": 65,
   "metadata": {},
   "outputs": [],
   "source": [
    "remove_prefix = F.udf(lambda x: x[2:], StringType())\n",
    "imdb_ratings = imdb_ratings.select('averageRating', \n",
    "                                   'numVotes', \n",
    "                                   remove_prefix(F.col('tconst')).alias('_id'))\n",
    "# we do a left outer join since we still want to keep movies from our original dataset that \n",
    "# does not match any movies in the imdb dataset.\n",
    "movies = movies.join(imdb_ratings, movies.imdb_id == imdb_ratings._id, \"left_outer\")"
   ]
  },
  {
   "cell_type": "code",
   "execution_count": null,
   "metadata": {},
   "outputs": [],
   "source": [
    "movies.write.mode(\"overwrite\").parquet('movie_data_enriched.parquet')"
   ]
  },
  {
   "cell_type": "markdown",
   "metadata": {},
   "source": [
    "## 1. Descriptive statistics"
   ]
  },
  {
   "cell_type": "markdown",
   "metadata": {},
   "source": [
    "### 1.1 Meta data dataframe"
   ]
  },
  {
   "cell_type": "markdown",
   "metadata": {},
   "source": [
    "Before working with our data, let's get to know it. We will start by getting the movie data."
   ]
  },
  {
   "cell_type": "code",
   "execution_count": 25,
   "metadata": {},
   "outputs": [
    {
     "name": "stdout",
     "output_type": "stream",
     "text": [
      "There are 177039 entries in the dataset.\n"
     ]
    }
   ],
   "source": [
    "movies = spark.read.parquet(\"./movie_data_with_imdb_id.parquet\")\n",
    "print(\"There are \" + str(movies.count()) + \" entries in the dataset.\")"
   ]
  },
  {
   "cell_type": "markdown",
   "metadata": {},
   "source": [
    "What information do we have for every movie?"
   ]
  },
  {
   "cell_type": "code",
   "execution_count": 26,
   "metadata": {},
   "outputs": [
    {
     "data": {
      "text/plain": [
       "StructType(List(StructField(_id,IntegerType,true),StructField(genre,StringType,true),StructField(year,StringType,true),StructField(sentences,StringType,true),StructField(words,StringType,true),StructField(duration,StringType,true),StructField(imdb_id,StringType,true)))"
      ]
     },
     "execution_count": 26,
     "metadata": {},
     "output_type": "execute_result"
    }
   ],
   "source": [
    "movies.schema"
   ]
  },
  {
   "cell_type": "code",
   "execution_count": 27,
   "metadata": {},
   "outputs": [
    {
     "name": "stdout",
     "output_type": "stream",
     "text": [
      "root\n",
      " |-- id: integer (nullable = true)\n",
      " |-- genre: string (nullable = true)\n",
      " |-- year: string (nullable = true)\n",
      " |-- sentences: integer (nullable = true)\n",
      " |-- words: integer (nullable = true)\n",
      " |-- duration: integer (nullable = true)\n",
      " |-- imdb_id: string (nullable = true)\n",
      "\n"
     ]
    }
   ],
   "source": [
    "# convert to DF format\n",
    "movies = movies.toDF('id', 'genre', 'year', 'sentences', 'words', 'duration', 'imdb_id')\n",
    "\n",
    "# number of words and sentences are ints \n",
    "movies = movies.withColumn(\"words\", movies[\"words\"].cast(\"int\"))\n",
    "movies = movies.withColumn(\"sentences\", movies[\"sentences\"].cast(\"int\"))\n",
    "\n",
    "# convert duration to minutes\n",
    "@udf('string')\n",
    "def convert_duration(duration):\n",
    "    try:\n",
    "        return str(int(duration[:2]) * 60 + int(duration[3:5])) \n",
    "    except: \n",
    "        return \"0\"\n",
    "\n",
    "movies = movies.withColumn(\"duration\", convert_duration(movies.duration))\n",
    "movies = movies.withColumn(\"duration\", movies[\"duration\"].cast(\"int\"))\n",
    "\n",
    "movies.printSchema()"
   ]
  },
  {
   "cell_type": "markdown",
   "metadata": {},
   "source": [
    "Our dataset contains a lot of TV series along with the movies. We can say that almost all TV series are less than 60 minutes long, while almost all movies are longer than 60 minutes.\n",
    "\n",
    "Considering we want __only__ films in our dataset, we will remove all entries which have a duration of less than 60 minutes. This should remove the great majority of TV series and keep the great majority of films in our dataset."
   ]
  },
  {
   "cell_type": "code",
   "execution_count": 28,
   "metadata": {},
   "outputs": [
    {
     "name": "stdout",
     "output_type": "stream",
     "text": [
      "We are left with 74674 films after removing the TV series.\n"
     ]
    }
   ],
   "source": [
    "movies = movies.filter(movies.duration > 60)\n",
    "print(\"We are left with \" + str(movies.count()) + \" films after removing the TV series.\")"
   ]
  },
  {
   "cell_type": "markdown",
   "metadata": {},
   "source": [
    "### 1.1.1 Number of movies by year\n",
    "\n",
    "So how many movies are there for each year? We presume there will be more movies in recent years than 1950. \n",
    "\n",
    "Firstly, we check the range of the years."
   ]
  },
  {
   "cell_type": "code",
   "execution_count": 9,
   "metadata": {},
   "outputs": [
    {
     "name": "stdout",
     "output_type": "stream",
     "text": [
      "+-------+-----------------+\n",
      "|summary|             year|\n",
      "+-------+-----------------+\n",
      "|  count|            74415|\n",
      "|   mean|1995.367452798495|\n",
      "| stddev|21.92278049187245|\n",
      "|    min|             1906|\n",
      "|    max|             2017|\n",
      "+-------+-----------------+\n",
      "\n"
     ]
    }
   ],
   "source": [
    "movies.describe('year').show()"
   ]
  },
  {
   "cell_type": "markdown",
   "metadata": {},
   "source": [
    "Now let's draw a chart showing exactly how many movies were there for each year."
   ]
  },
  {
   "cell_type": "code",
   "execution_count": 10,
   "metadata": {},
   "outputs": [],
   "source": [
    "# get movie counts per year\n",
    "movies_per_year = movies.groupby('year').count()\n",
    "\n",
    "# convert to Pandas for plotting\n",
    "ydf = movies_per_year.toPandas()\n",
    "\n",
    "# sort the films by year\n",
    "ydf = ydf.sort_values(by='year')"
   ]
  },
  {
   "cell_type": "markdown",
   "metadata": {},
   "source": [
    "We need to clean our data of null values and inconsistent entries."
   ]
  },
  {
   "cell_type": "code",
   "execution_count": 11,
   "metadata": {},
   "outputs": [
    {
     "name": "stdout",
     "output_type": "stream",
     "text": [
      "Before cleaning we have 74673 films. \n",
      "After cleaning we have 74415 films. \n",
      "Only 0.00% of our dataset was invalid/inconsistent.\n"
     ]
    }
   ],
   "source": [
    "n_before = sum(ydf['count'])\n",
    "print(\"Before cleaning we have \" + str(n_before) + \" films. \")\n",
    "\n",
    "# convert year to int the 'year' value\n",
    "ydf['year'] = pd.to_numeric(ydf['year'], errors='coerce', downcast='integer')\n",
    "\n",
    "# remove films with \"Nan\" as year value\n",
    "# since we cannot really use them\n",
    "ydf = ydf.dropna()\n",
    "ydf = ydf.reset_index(drop=True)\n",
    "ydf['year'] = ydf['year'].astype('int')\n",
    "\n",
    "n_after = sum(ydf['count'])\n",
    "print(\"After cleaning we have \" + str(n_after) + \" films. \")\n",
    "print(\"Only %.5f%% of our dataset was invalid/inconsistent.\" % (1 - (n_after/n_before)))"
   ]
  },
  {
   "cell_type": "markdown",
   "metadata": {},
   "source": [
    "To plot the number of films by year, we will bin them to make the visualization clearer.\n",
    "\n",
    "Considering we have movies from year 1906 to 2020, we are going to make 12 bins for each decade from 1900's to 2010's (We are going to put year 2020 in 2010's, it will not change much because we have only  6 films for 2020)"
   ]
  },
  {
   "cell_type": "code",
   "execution_count": 12,
   "metadata": {},
   "outputs": [],
   "source": [
    "years = list(ydf['year'])\n",
    "labels = []\n",
    "counts = []\n",
    "\n",
    "for decade in range(1900, 2020, 10):\n",
    "    # create bin label\n",
    "    label = str(decade) + \"s\"\n",
    "    labels.append(label)\n",
    "    \n",
    "    # calculate count for the bin\n",
    "    count = 0\n",
    "    for year in range(decade, decade+10):\n",
    "        if year in years:\n",
    "            count += int(ydf.loc[ydf['year'] == year]['count'])\n",
    "    counts.append(count)\n",
    "\n",
    "# add the 2020 to the 2010s decade\n",
    "counts[11] += int(ydf.loc[ydf['year'] == 2010]['count'])"
   ]
  },
  {
   "cell_type": "code",
   "execution_count": 13,
   "metadata": {},
   "outputs": [
    {
     "data": {
      "image/png": "[encoded data removed]",
      "text/plain": [
       "<Figure size 1080x720 with 1 Axes>"
      ]
     },
     "metadata": {
      "needs_background": "light"
     },
     "output_type": "display_data"
    }
   ],
   "source": [
    "plt.figure(figsize=(15,10))\n",
    "plt.bar(labels, counts)\n",
    "plt.title('Nuber of films per decade')\n",
    "plt.show()"
   ]
  },
  {
   "cell_type": "markdown",
   "metadata": {},
   "source": [
    "As expected, we have more films in the recent decades."
   ]
  },
  {
   "cell_type": "markdown",
   "metadata": {},
   "source": [
    "### 1.1.2 Median number of sentences by year"
   ]
  },
  {
   "cell_type": "markdown",
   "metadata": {},
   "source": [
    "Our project is about evolution of language used in films, so let's have a peek at how and did it change over time. We will start by showing the median number of sentences for each year. We use median instead of mean since it's a more robust measure so in the case we have some invalid data (like unfinished movie subtitles with just a few sentences) it will behave better."
   ]
  },
  {
   "cell_type": "code",
   "execution_count": 14,
   "metadata": {},
   "outputs": [],
   "source": [
    "# get median number of sentences per year\n",
    "percentile = F.expr('percentile_approx(sentences, 0.5)')\n",
    "sdf_ = movies.groupby('year').agg(percentile.alias('n_sent_median'))\n",
    "\n",
    "# convert to Pandas for plotting\n",
    "sdf = sdf_.toPandas()\n",
    "\n",
    "# sort the films by year\n",
    "sdf = sdf.sort_values(by='year')\n",
    "\n",
    "# convert year to int the 'year' value\n",
    "sdf['year'] = pd.to_numeric(sdf['year'], errors='coerce', downcast='integer')\n",
    "\n",
    "# remove films with \"Nan\" as year value\n",
    "# since we cannot really use them\n",
    "sdf = sdf.dropna()\n",
    "sdf = sdf.reset_index(drop=True)\n",
    "sdf['year'] = sdf['year'].astype('int')"
   ]
  },
  {
   "cell_type": "markdown",
   "metadata": {},
   "source": [
    "We will now visualize the median number of sentences by decade. For each decade, we will take the average of medians for that decade. We will ignore year 2020 (for all decades to have exactly 10 years)."
   ]
  },
  {
   "cell_type": "code",
   "execution_count": 15,
   "metadata": {},
   "outputs": [],
   "source": [
    "years = list(sdf['year'])\n",
    "labels = []\n",
    "medians = []\n",
    "\n",
    "for decade in range(1900, 2020, 10):\n",
    "    # create bin label\n",
    "    label = str(decade) + \"s\"\n",
    "    labels.append(label)\n",
    "    \n",
    "    # calculate count for the bin\n",
    "    median = 0\n",
    "    count = 0\n",
    "    for year in range(decade, decade+10):\n",
    "        if year in years:\n",
    "            median += int(sdf.loc[sdf['year'] == year]['n_sent_median'])\n",
    "            count += 1\n",
    "    medians.append(median / count)"
   ]
  },
  {
   "cell_type": "code",
   "execution_count": 16,
   "metadata": {},
   "outputs": [
    {
     "data": {
      "image/png": "[encoded data removed]",
      "text/plain": [
       "<Figure size 1080x720 with 1 Axes>"
      ]
     },
     "metadata": {
      "needs_background": "light"
     },
     "output_type": "display_data"
    }
   ],
   "source": [
    "plt.figure(figsize=(15,10))\n",
    "plt.bar(labels, medians)\n",
    "plt.title('Median number of sentences per decade')\n",
    "plt.show()"
   ]
  },
  {
   "cell_type": "markdown",
   "metadata": {},
   "source": [
    "On this graph we can see some interesting things. Before 1930s, in the era of the silent films, there is a low number of sentences for each movie. In the 30s, the first decade of the \"sound era\", the number gets much larger: the movies have proper dialogue now. In the later decades, it seems the number has lowered a bit, but it didn't change much and is mostly around 1000 to 1400 senences per film."
   ]
  },
  {
   "cell_type": "markdown",
   "metadata": {},
   "source": [
    "### 1.1.3 Median number of words in sentences by year"
   ]
  },
  {
   "cell_type": "markdown",
   "metadata": {},
   "source": [
    "We already checked sentences, but they can hide something. The number of words is also important. A movie can have many sentences but most of them can be very short. So let's check the median number of words per year and visualize it."
   ]
  },
  {
   "cell_type": "code",
   "execution_count": 17,
   "metadata": {},
   "outputs": [],
   "source": [
    "# get median number of words per year\n",
    "percentile = F.expr('percentile_approx(words, 0.5)')\n",
    "wdf_ = movies.groupby('year').agg(percentile.alias('n_word_median'))\n",
    "\n",
    "# convert to Pandas for plotting\n",
    "wdf = wdf_.toPandas()\n",
    "\n",
    "# sort the films by year\n",
    "wdf = wdf.sort_values(by='year')\n",
    "\n",
    "# convert year to int the 'year' value\n",
    "wdf['year'] = pd.to_numeric(wdf['year'], errors='coerce', downcast='integer')\n",
    "\n",
    "# remove films with \"Nan\" as year value\n",
    "# since we cannot really use them\n",
    "wdf = wdf.dropna()\n",
    "wdf = wdf.reset_index(drop=True)\n",
    "wdf['year'] = wdf['year'].astype('int')"
   ]
  },
  {
   "cell_type": "code",
   "execution_count": 18,
   "metadata": {},
   "outputs": [],
   "source": [
    "years = list(wdf['year'])\n",
    "labels = []\n",
    "medians = []\n",
    "\n",
    "for decade in range(1900, 2020, 10):\n",
    "    # create bin label\n",
    "    label = str(decade) + \"s\"\n",
    "    labels.append(label)\n",
    "    \n",
    "    # calculate count for the bin\n",
    "    median = 0\n",
    "    count = 0\n",
    "    for year in range(decade, decade+10):\n",
    "        if year in years:\n",
    "            median += int(wdf.loc[wdf['year'] == year]['n_word_median'])\n",
    "            count += 1\n",
    "    medians.append(median / count)"
   ]
  },
  {
   "cell_type": "code",
   "execution_count": 19,
   "metadata": {},
   "outputs": [
    {
     "data": {
      "image/png": "[encoded data removed]",
      "text/plain": [
       "<Figure size 1080x720 with 1 Axes>"
      ]
     },
     "metadata": {
      "needs_background": "light"
     },
     "output_type": "display_data"
    }
   ],
   "source": [
    "plt.figure(figsize=(15,10))\n",
    "plt.bar(labels, medians)\n",
    "plt.title('Median number of words per decade')\n",
    "plt.show()"
   ]
  },
  {
   "cell_type": "markdown",
   "metadata": {},
   "source": [
    "The graph seems very similar to the sentences graph in the previous section. So we can assume that number of words for each sentence did not really change."
   ]
  },
  {
   "cell_type": "markdown",
   "metadata": {},
   "source": [
    "### 1.1.4 Median film duration by year"
   ]
  },
  {
   "cell_type": "markdown",
   "metadata": {},
   "source": [
    "Looking at the number of sentences per year we noticed that there is a smaller number of sentences in films in recent decades. However, could it be just because films were longer in the past? \n",
    "\n",
    "We will check the median film duration for every year. Again, we will visualize it in decades, taking the average of the median for each year of the decade. "
   ]
  },
  {
   "cell_type": "code",
   "execution_count": 20,
   "metadata": {},
   "outputs": [],
   "source": [
    "# get median duration per year\n",
    "percentile = F.expr('percentile_approx(duration, 0.5)')\n",
    "ddf_ = movies.groupby('year').agg(percentile.alias('duration_median'))\n",
    "\n",
    "# convert to Pandas for plotting\n",
    "ddf = ddf_.toPandas()\n",
    "\n",
    "# sort the films by year\n",
    "ddf = ddf.sort_values(by='year')\n",
    "\n",
    "# convert year to int the 'year' value\n",
    "ddf['year'] = pd.to_numeric(ddf['year'], errors='coerce', downcast='integer')\n",
    "\n",
    "# remove films with \"Nan\" as year value\n",
    "# since we cannot really use them\n",
    "ddf = ddf.dropna()\n",
    "ddf = ddf.reset_index(drop=True)\n",
    "ddf['year'] = ddf['year'].astype('int')"
   ]
  },
  {
   "cell_type": "code",
   "execution_count": 21,
   "metadata": {},
   "outputs": [],
   "source": [
    "years = list(ddf['year'])\n",
    "labels = []\n",
    "medians = []\n",
    "\n",
    "for decade in range(1900, 2020, 10):\n",
    "    # create bin label\n",
    "    label = str(decade) + \"s\"\n",
    "    labels.append(label)\n",
    "    \n",
    "    # calculate count for the bin\n",
    "    median = 0\n",
    "    count = 0\n",
    "    for year in range(decade, decade+10):\n",
    "        if year in years:\n",
    "            median += int(ddf.loc[wdf['year'] == year]['duration_median'])\n",
    "            count += 1\n",
    "    medians.append(median / count)"
   ]
  },
  {
   "cell_type": "code",
   "execution_count": 22,
   "metadata": {},
   "outputs": [
    {
     "data": {
      "image/png": "[encoded data removed]",
      "text/plain": [
       "<Figure size 1080x720 with 1 Axes>"
      ]
     },
     "metadata": {
      "needs_background": "light"
     },
     "output_type": "display_data"
    }
   ],
   "source": [
    "plt.figure(figsize=(15,10))\n",
    "plt.bar(labels, medians)\n",
    "plt.title('Median duration per decade (in minutes)')\n",
    "plt.show()"
   ]
  },
  {
   "cell_type": "markdown",
   "metadata": {},
   "source": [
    "As can be seen, the duration of the films did not really change by the years. The median duration is always around 80 to 100 minutes, even in the silent film era."
   ]
  },
  {
   "cell_type": "markdown",
   "metadata": {},
   "source": [
    "### 1.1.5 Distribution of genres"
   ]
  },
  {
   "cell_type": "markdown",
   "metadata": {},
   "source": [
    "We are going to see what is the distribution of genres in our dataset."
   ]
  },
  {
   "cell_type": "code",
   "execution_count": 29,
   "metadata": {},
   "outputs": [],
   "source": [
    "# make genre column into a list of genres\n",
    "movies_ = movies.withColumn(\"genre\", F.split(movies.genre, ','))\n",
    "\n",
    "# make a row for each genre\n",
    "movies_ = movies_.withColumn(\"genre\", F.explode(\"genre\"))\n",
    "\n",
    "# get count of each genre\n",
    "genres_ = movies_.groupby('genre').count()\n",
    "\n",
    "# convert to Pandas for plotting\n",
    "genres = genres_.toPandas()\n",
    "\n",
    "print(\"We have \" + str(len(genres)) + \" genres.\")"
   ]
  },
  {
   "cell_type": "markdown",
   "metadata": {},
   "source": [
    "For visualization, we are going to remove the genres with a low count (which have less than 1000 entries).\n",
    "\n",
    "Also, we are going to sort them by count."
   ]
  },
  {
   "cell_type": "code",
   "execution_count": 47,
   "metadata": {},
   "outputs": [],
   "source": [
    "genres = genres.query(\"count > 1000\")\n",
    "genres = genres.sort_values(by='count')"
   ]
  },
  {
   "cell_type": "markdown",
   "metadata": {},
   "source": [
    "Let's plot the distribution of genres as a pie chart."
   ]
  },
  {
   "cell_type": "code",
   "execution_count": 48,
   "metadata": {},
   "outputs": [
    {
     "data": {
      "image/png": "[encoded data removed]",
      "text/plain": [
       "<Figure size 720x720 with 1 Axes>"
      ]
     },
     "metadata": {},
     "output_type": "display_data"
    }
   ],
   "source": [
    "plt.figure(figsize=(10,10))\n",
    "plt.pie(genres['count'], labels=genres['genre'])\n",
    "plt.title('Distribution of film genres')\n",
    "plt.show()"
   ]
  },
  {
   "cell_type": "markdown",
   "metadata": {},
   "source": [
    "### 1.2 Subtitle dataframe\n",
    "\n",
    "Let's start by importing the dataframe and printing its schema."
   ]
  },
  {
   "cell_type": "code",
   "execution_count": null,
   "metadata": {},
   "outputs": [],
   "source": [
    "subtitle_df = spark.read.parquet(\"./sentences_until_1999_v2.parquet\")"
   ]
  },
  {
   "cell_type": "code",
   "execution_count": 16,
   "metadata": {},
   "outputs": [
    {
     "data": {
      "text/plain": [
       "StructType(List(StructField(_id,IntegerType,true),StructField(sentence,ArrayType(StructType(List(StructField(_VALUE,StringType,true))),true),true),StructField(sentence_length,IntegerType,true)))"
      ]
     },
     "execution_count": 16,
     "metadata": {},
     "output_type": "execute_result"
    }
   ],
   "source": [
    "subtitle_df.schema"
   ]
  },
  {
   "cell_type": "markdown",
   "metadata": {},
   "source": [
    "Let's count the total amount of sentences we have in our dataframe:"
   ]
  },
  {
   "cell_type": "code",
   "execution_count": 12,
   "metadata": {},
   "outputs": [
    {
     "name": "stdout",
     "output_type": "stream",
     "text": [
      "Total amount of sentences: 48996903\n"
     ]
    }
   ],
   "source": [
    "print(\"Total amount of sentences: {}\".format(subtitle_df.count()))"
   ]
  },
  {
   "cell_type": "markdown",
   "metadata": {},
   "source": [
    "Let's continue by counting the total amount of words. Since each sentence is saved as an array of words, we can easily calculate the sentence length by computing the length of each sentence array and if we later sum over this column we will get the total amount of words in the dataframe."
   ]
  },
  {
   "cell_type": "code",
   "execution_count": 11,
   "metadata": {},
   "outputs": [],
   "source": [
    "# Create column with sentence length\n",
    "subtitle_df = subtitle_df.withColumn('sentence_length',F.size(F.col('sentence')))\n",
    "\n",
    "# Sum all sentence lenegths to get total amount of words\n",
    "total_amount_of_words = subtitle_df.groupBy().sum().collect()"
   ]
  },
  {
   "cell_type": "code",
   "execution_count": 19,
   "metadata": {},
   "outputs": [
    {
     "name": "stdout",
     "output_type": "stream",
     "text": [
      "Total amount of words: 5914305524454620\n"
     ]
    }
   ],
   "source": [
    "print(\"Total amount of words: {}\".format(total_amount_of_words[0][0]))"
   ]
  },
  {
   "cell_type": "markdown",
   "metadata": {},
   "source": [
    "As can be observed in the above printouts, we are dealing with a lot of text. However, it's important to note that not all words will be used in the analysis. We will elaborate more on this below in the **Preprocessing** section."
   ]
  },
  {
   "cell_type": "markdown",
   "metadata": {},
   "source": [
    "## 2. Preprocessing "
   ]
  },
  {
   "cell_type": "markdown",
   "metadata": {},
   "source": [
    "Before starting the text analysis, we will do some preprocessing steps in order to transform the subtitle texts to a more suitable format and remove undesirable parts. \n",
    "\n",
    "As previously mentioned in the parsing section, sentences are stored as lists of strings. For instance the sentence \"You're a lovely person.\" would be represented by the following list:\n",
    "`[\"You\", \"'re\", \"a\", \"lovely\", \"person\", \".\"]`.\n",
    "\n",
    "\n",
    "There are a few types of words that we do not desire to be part of the analysis, we want to remove common words that do not add any value or meaning to the text. One such category is stop words (https://en.wikipedia.org/wiki/Stop_words). \n",
    "\n",
    "We also do not care about the punctuations (https://en.wikipedia.org/wiki/Punctuation) hence we will remove those as well.  \n",
    "\n",
    "Finally, we also want to transform each word into its \"base\" form. For instance, the words take, took and taken should be treated as a single word in the analysis and not as three different ones. We will use Lemmatisation (https://en.wikipedia.org/wiki/Lemmatisation) in order to turn \"took\" and \"taken\" into their verb base form which is \"take\". However, we do not only want to lemmatize words but also other cases such as transforming plural words into singular and remove the -ing part of words (walking -> walk) etc.\n",
    "\n",
    "Note from the above example sentence that contracted words (https://en.wikipedia.org/wiki/Wikipedia:List_of_English_contractions) are represented as two words in the sentence list. This makes sence when calculating the length of each sentence since a contracted word is actually two words. However, the part on the right hande side of the apostrophe in the contracted word does not add any value to our analysis. Therefore we will drop any word which starts with an apostrophe. \n",
    "\n",
    "Finally, we also want to transform each word into lower case. We want the words \"Take\" and \"take\" to be treated as the same word.\n",
    "\n",
    "To summerize, we are doing the folloing preprocessing steps of our subtitle data:\n",
    "\n",
    "1. Transform each word into lower case \n",
    "2. Remove stop words\n",
    "3. Remove punctuation \n",
    "4. Lemmatize words\n",
    "5. Remove words which starts with an apostrophe\n",
    "\n",
    "Let's perform the 5 steps described above!"
   ]
  },
  {
   "cell_type": "code",
   "execution_count": 8,
   "metadata": {},
   "outputs": [
    {
     "ename": "Py4JJavaError",
     "evalue": "An error occurred while calling o93.parquet.\n: org.apache.spark.SparkException: Job aborted due to stage failure: Task 0 in stage 1.0 failed 1 times, most recent failure: Lost task 0.0 in stage 1.0 (TID 1, localhost, executor driver): java.io.IOException: Failed to connect to /128.179.251.7:56427\n\tat org.apache.spark.network.client.TransportClientFactory.createClient(TransportClientFactory.java:245)\n\tat org.apache.spark.network.client.TransportClientFactory.createClient(TransportClientFactory.java:187)\n\tat org.apache.spark.rpc.netty.NettyRpcEnv.org$apache$spark$rpc$netty$NettyRpcEnv$$downloadClient(NettyRpcEnv.scala:368)\n\tat org.apache.spark.rpc.netty.NettyRpcEnv$$anonfun$openChannel$1.apply$mcV$sp(NettyRpcEnv.scala:336)\n\tat org.apache.spark.rpc.netty.NettyRpcEnv$$anonfun$openChannel$1.apply(NettyRpcEnv.scala:335)\n\tat org.apache.spark.rpc.netty.NettyRpcEnv$$anonfun$openChannel$1.apply(NettyRpcEnv.scala:335)\n\tat org.apache.spark.util.Utils$.tryWithSafeFinallyAndFailureCallbacks(Utils.scala:1415)\n\tat org.apache.spark.rpc.netty.NettyRpcEnv.openChannel(NettyRpcEnv.scala:339)\n\tat org.apache.spark.util.Utils$.doFetchFile(Utils.scala:665)\n\tat org.apache.spark.util.Utils$.fetchFile(Utils.scala:489)\n\tat org.apache.spark.executor.Executor$$anonfun$org$apache$spark$executor$Executor$$updateDependencies$5.apply(Executor.scala:755)\n\tat org.apache.spark.executor.Executor$$anonfun$org$apache$spark$executor$Executor$$updateDependencies$5.apply(Executor.scala:747)\n\tat scala.collection.TraversableLike$WithFilter$$anonfun$foreach$1.apply(TraversableLike.scala:733)\n\tat scala.collection.mutable.HashMap$$anonfun$foreach$1.apply(HashMap.scala:99)\n\tat scala.collection.mutable.HashMap$$anonfun$foreach$1.apply(HashMap.scala:99)\n\tat scala.collection.mutable.HashTable$class.foreachEntry(HashTable.scala:230)\n\tat scala.collection.mutable.HashMap.foreachEntry(HashMap.scala:40)\n\tat scala.collection.mutable.HashMap.foreach(HashMap.scala:99)\n\tat scala.collection.TraversableLike$WithFilter.foreach(TraversableLike.scala:732)\n\tat org.apache.spark.executor.Executor.org$apache$spark$executor$Executor$$updateDependencies(Executor.scala:747)\n\tat org.apache.spark.executor.Executor$TaskRunner.run(Executor.scala:312)\n\tat java.util.concurrent.ThreadPoolExecutor.runWorker(ThreadPoolExecutor.java:1149)\n\tat java.util.concurrent.ThreadPoolExecutor$Worker.run(ThreadPoolExecutor.java:624)\n\tat java.lang.Thread.run(Thread.java:748)\n\tSuppressed: java.lang.NullPointerException\n\t\tat org.apache.spark.util.Utils$.tryWithSafeFinallyAndFailureCallbacks(Utils.scala:1423)\n\t\t... 17 more\nCaused by: io.netty.channel.AbstractChannel$AnnotatedNoRouteToHostException: No route to host: /128.179.251.7:56427\n\tat sun.nio.ch.Net.connect0(Native Method)\n\tat sun.nio.ch.Net.connect(Net.java:454)\n\tat sun.nio.ch.Net.connect(Net.java:446)\n\tat sun.nio.ch.SocketChannelImpl.connect(SocketChannelImpl.java:648)\n\tat io.netty.util.internal.SocketUtils$3.run(SocketUtils.java:83)\n\tat io.netty.util.internal.SocketUtils$3.run(SocketUtils.java:80)\n\tat java.security.AccessController.doPrivileged(Native Method)\n\tat io.netty.util.internal.SocketUtils.connect(SocketUtils.java:80)\n\tat io.netty.channel.socket.nio.NioSocketChannel.doConnect(NioSocketChannel.java:308)\n\tat io.netty.channel.nio.AbstractNioChannel$AbstractNioUnsafe.connect(AbstractNioChannel.java:254)\n\tat io.netty.channel.DefaultChannelPipeline$HeadContext.connect(DefaultChannelPipeline.java:1291)\n\tat io.netty.channel.AbstractChannelHandlerContext.invokeConnect(AbstractChannelHandlerContext.java:545)\n\tat io.netty.channel.AbstractChannelHandlerContext.connect(AbstractChannelHandlerContext.java:530)\n\tat io.netty.channel.ChannelOutboundHandlerAdapter.connect(ChannelOutboundHandlerAdapter.java:47)\n\tat io.netty.channel.AbstractChannelHandlerContext.invokeConnect(AbstractChannelHandlerContext.java:545)\n\tat io.netty.channel.AbstractChannelHandlerContext.connect(AbstractChannelHandlerContext.java:530)\n\tat io.netty.channel.ChannelDuplexHandler.connect(ChannelDuplexHandler.java:50)\n\tat io.netty.channel.AbstractChannelHandlerContext.invokeConnect(AbstractChannelHandlerContext.java:545)\n\tat io.netty.channel.AbstractChannelHandlerContext.connect(AbstractChannelHandlerContext.java:530)\n\tat io.netty.channel.AbstractChannelHandlerContext.connect(AbstractChannelHandlerContext.java:512)\n\tat io.netty.channel.DefaultChannelPipeline.connect(DefaultChannelPipeline.java:994)\n\tat io.netty.channel.AbstractChannel.connect(AbstractChannel.java:259)\n\tat io.netty.bootstrap.Bootstrap$3.run(Bootstrap.java:252)\n\tat io.netty.util.concurrent.AbstractEventExecutor.safeExecute(AbstractEventExecutor.java:163)\n\tat io.netty.util.concurrent.SingleThreadEventExecutor.runAllTasks(SingleThreadEventExecutor.java:403)\n\tat io.netty.channel.nio.NioEventLoop.run(NioEventLoop.java:463)\n\tat io.netty.util.concurrent.SingleThreadEventExecutor$5.run(SingleThreadEventExecutor.java:858)\n\tat io.netty.util.concurrent.DefaultThreadFactory$DefaultRunnableDecorator.run(DefaultThreadFactory.java:138)\n\t... 1 more\nCaused by: java.net.NoRouteToHostException: No route to host\n\t... 29 more\n\nDriver stacktrace:\n\tat org.apache.spark.scheduler.DAGScheduler.org$apache$spark$scheduler$DAGScheduler$$failJobAndIndependentStages(DAGScheduler.scala:1651)\n\tat org.apache.spark.scheduler.DAGScheduler$$anonfun$abortStage$1.apply(DAGScheduler.scala:1639)\n\tat org.apache.spark.scheduler.DAGScheduler$$anonfun$abortStage$1.apply(DAGScheduler.scala:1638)\n\tat scala.collection.mutable.ResizableArray$class.foreach(ResizableArray.scala:59)\n\tat scala.collection.mutable.ArrayBuffer.foreach(ArrayBuffer.scala:48)\n\tat org.apache.spark.scheduler.DAGScheduler.abortStage(DAGScheduler.scala:1638)\n\tat org.apache.spark.scheduler.DAGScheduler$$anonfun$handleTaskSetFailed$1.apply(DAGScheduler.scala:831)\n\tat org.apache.spark.scheduler.DAGScheduler$$anonfun$handleTaskSetFailed$1.apply(DAGScheduler.scala:831)\n\tat scala.Option.foreach(Option.scala:257)\n\tat org.apache.spark.scheduler.DAGScheduler.handleTaskSetFailed(DAGScheduler.scala:831)\n\tat org.apache.spark.scheduler.DAGSchedulerEventProcessLoop.doOnReceive(DAGScheduler.scala:1872)\n\tat org.apache.spark.scheduler.DAGSchedulerEventProcessLoop.onReceive(DAGScheduler.scala:1821)\n\tat org.apache.spark.scheduler.DAGSchedulerEventProcessLoop.onReceive(DAGScheduler.scala:1810)\n\tat org.apache.spark.util.EventLoop$$anon$1.run(EventLoop.scala:48)\n\tat org.apache.spark.scheduler.DAGScheduler.runJob(DAGScheduler.scala:642)\n\tat org.apache.spark.SparkContext.runJob(SparkContext.scala:2034)\n\tat org.apache.spark.SparkContext.runJob(SparkContext.scala:2055)\n\tat org.apache.spark.SparkContext.runJob(SparkContext.scala:2074)\n\tat org.apache.spark.SparkContext.runJob(SparkContext.scala:2099)\n\tat org.apache.spark.rdd.RDD$$anonfun$collect$1.apply(RDD.scala:945)\n\tat org.apache.spark.rdd.RDDOperationScope$.withScope(RDDOperationScope.scala:151)\n\tat org.apache.spark.rdd.RDDOperationScope$.withScope(RDDOperationScope.scala:112)\n\tat org.apache.spark.rdd.RDD.withScope(RDD.scala:363)\n\tat org.apache.spark.rdd.RDD.collect(RDD.scala:944)\n\tat org.apache.spark.sql.execution.datasources.parquet.ParquetFileFormat$.mergeSchemasInParallel(ParquetFileFormat.scala:611)\n\tat org.apache.spark.sql.execution.datasources.parquet.ParquetFileFormat.inferSchema(ParquetFileFormat.scala:241)\n\tat org.apache.spark.sql.execution.datasources.DataSource$$anonfun$8.apply(DataSource.scala:203)\n\tat org.apache.spark.sql.execution.datasources.DataSource$$anonfun$8.apply(DataSource.scala:203)\n\tat scala.Option.orElse(Option.scala:289)\n\tat org.apache.spark.sql.execution.datasources.DataSource.getOrInferFileFormatSchema(DataSource.scala:202)\n\tat org.apache.spark.sql.execution.datasources.DataSource.resolveRelation(DataSource.scala:393)\n\tat org.apache.spark.sql.DataFrameReader.loadV1Source(DataFrameReader.scala:239)\n\tat org.apache.spark.sql.DataFrameReader.load(DataFrameReader.scala:227)\n\tat org.apache.spark.sql.DataFrameReader.parquet(DataFrameReader.scala:622)\n\tat sun.reflect.NativeMethodAccessorImpl.invoke0(Native Method)\n\tat sun.reflect.NativeMethodAccessorImpl.invoke(NativeMethodAccessorImpl.java:62)\n\tat sun.reflect.DelegatingMethodAccessorImpl.invoke(DelegatingMethodAccessorImpl.java:43)\n\tat java.lang.reflect.Method.invoke(Method.java:498)\n\tat py4j.reflection.MethodInvoker.invoke(MethodInvoker.java:244)\n\tat py4j.reflection.ReflectionEngine.invoke(ReflectionEngine.java:357)\n\tat py4j.Gateway.invoke(Gateway.java:282)\n\tat py4j.commands.AbstractCommand.invokeMethod(AbstractCommand.java:132)\n\tat py4j.commands.CallCommand.execute(CallCommand.java:79)\n\tat py4j.GatewayConnection.run(GatewayConnection.java:238)\n\tat java.lang.Thread.run(Thread.java:748)\nCaused by: java.io.IOException: Failed to connect to /128.179.251.7:56427\n\tat org.apache.spark.network.client.TransportClientFactory.createClient(TransportClientFactory.java:245)\n\tat org.apache.spark.network.client.TransportClientFactory.createClient(TransportClientFactory.java:187)\n\tat org.apache.spark.rpc.netty.NettyRpcEnv.org$apache$spark$rpc$netty$NettyRpcEnv$$downloadClient(NettyRpcEnv.scala:368)\n\tat org.apache.spark.rpc.netty.NettyRpcEnv$$anonfun$openChannel$1.apply$mcV$sp(NettyRpcEnv.scala:336)\n\tat org.apache.spark.rpc.netty.NettyRpcEnv$$anonfun$openChannel$1.apply(NettyRpcEnv.scala:335)\n\tat org.apache.spark.rpc.netty.NettyRpcEnv$$anonfun$openChannel$1.apply(NettyRpcEnv.scala:335)\n\tat org.apache.spark.util.Utils$.tryWithSafeFinallyAndFailureCallbacks(Utils.scala:1415)\n\tat org.apache.spark.rpc.netty.NettyRpcEnv.openChannel(NettyRpcEnv.scala:339)\n\tat org.apache.spark.util.Utils$.doFetchFile(Utils.scala:665)\n\tat org.apache.spark.util.Utils$.fetchFile(Utils.scala:489)\n\tat org.apache.spark.executor.Executor$$anonfun$org$apache$spark$executor$Executor$$updateDependencies$5.apply(Executor.scala:755)\n\tat org.apache.spark.executor.Executor$$anonfun$org$apache$spark$executor$Executor$$updateDependencies$5.apply(Executor.scala:747)\n\tat scala.collection.TraversableLike$WithFilter$$anonfun$foreach$1.apply(TraversableLike.scala:733)\n\tat scala.collection.mutable.HashMap$$anonfun$foreach$1.apply(HashMap.scala:99)\n\tat scala.collection.mutable.HashMap$$anonfun$foreach$1.apply(HashMap.scala:99)\n\tat scala.collection.mutable.HashTable$class.foreachEntry(HashTable.scala:230)\n\tat scala.collection.mutable.HashMap.foreachEntry(HashMap.scala:40)\n\tat scala.collection.mutable.HashMap.foreach(HashMap.scala:99)\n\tat scala.collection.TraversableLike$WithFilter.foreach(TraversableLike.scala:732)\n\tat org.apache.spark.executor.Executor.org$apache$spark$executor$Executor$$updateDependencies(Executor.scala:747)\n\tat org.apache.spark.executor.Executor$TaskRunner.run(Executor.scala:312)\n\tat java.util.concurrent.ThreadPoolExecutor.runWorker(ThreadPoolExecutor.java:1149)\n\tat java.util.concurrent.ThreadPoolExecutor$Worker.run(ThreadPoolExecutor.java:624)\n\t... 1 more\n\tSuppressed: java.lang.NullPointerException\n\t\tat org.apache.spark.util.Utils$.tryWithSafeFinallyAndFailureCallbacks(Utils.scala:1423)\n\t\t... 17 more\nCaused by: io.netty.channel.AbstractChannel$AnnotatedNoRouteToHostException: No route to host: /128.179.251.7:56427\n\tat sun.nio.ch.Net.connect0(Native Method)\n\tat sun.nio.ch.Net.connect(Net.java:454)\n\tat sun.nio.ch.Net.connect(Net.java:446)\n\tat sun.nio.ch.SocketChannelImpl.connect(SocketChannelImpl.java:648)\n\tat io.netty.util.internal.SocketUtils$3.run(SocketUtils.java:83)\n\tat io.netty.util.internal.SocketUtils$3.run(SocketUtils.java:80)\n\tat java.security.AccessController.doPrivileged(Native Method)\n\tat io.netty.util.internal.SocketUtils.connect(SocketUtils.java:80)\n\tat io.netty.channel.socket.nio.NioSocketChannel.doConnect(NioSocketChannel.java:308)\n\tat io.netty.channel.nio.AbstractNioChannel$AbstractNioUnsafe.connect(AbstractNioChannel.java:254)\n\tat io.netty.channel.DefaultChannelPipeline$HeadContext.connect(DefaultChannelPipeline.java:1291)\n\tat io.netty.channel.AbstractChannelHandlerContext.invokeConnect(AbstractChannelHandlerContext.java:545)\n\tat io.netty.channel.AbstractChannelHandlerContext.connect(AbstractChannelHandlerContext.java:530)\n\tat io.netty.channel.ChannelOutboundHandlerAdapter.connect(ChannelOutboundHandlerAdapter.java:47)\n\tat io.netty.channel.AbstractChannelHandlerContext.invokeConnect(AbstractChannelHandlerContext.java:545)\n\tat io.netty.channel.AbstractChannelHandlerContext.connect(AbstractChannelHandlerContext.java:530)\n\tat io.netty.channel.ChannelDuplexHandler.connect(ChannelDuplexHandler.java:50)\n\tat io.netty.channel.AbstractChannelHandlerContext.invokeConnect(AbstractChannelHandlerContext.java:545)\n\tat io.netty.channel.AbstractChannelHandlerContext.connect(AbstractChannelHandlerContext.java:530)\n\tat io.netty.channel.AbstractChannelHandlerContext.connect(AbstractChannelHandlerContext.java:512)\n\tat io.netty.channel.DefaultChannelPipeline.connect(DefaultChannelPipeline.java:994)\n\tat io.netty.channel.AbstractChannel.connect(AbstractChannel.java:259)\n\tat io.netty.bootstrap.Bootstrap$3.run(Bootstrap.java:252)\n\tat io.netty.util.concurrent.AbstractEventExecutor.safeExecute(AbstractEventExecutor.java:163)\n\tat io.netty.util.concurrent.SingleThreadEventExecutor.runAllTasks(SingleThreadEventExecutor.java:403)\n\tat io.netty.channel.nio.NioEventLoop.run(NioEventLoop.java:463)\n\tat io.netty.util.concurrent.SingleThreadEventExecutor$5.run(SingleThreadEventExecutor.java:858)\n\tat io.netty.util.concurrent.DefaultThreadFactory$DefaultRunnableDecorator.run(DefaultThreadFactory.java:138)\n\t... 1 more\nCaused by: java.net.NoRouteToHostException: No route to host\n\t... 29 more\n",
     "output_type": "error",
     "traceback": [
      "\u001b[0;31m---------------------------------------------------------------------------\u001b[0m",
      "\u001b[0;31mPy4JJavaError\u001b[0m                             Traceback (most recent call last)",
      "\u001b[0;32m<ipython-input-8-9eea92bb44bb>\u001b[0m in \u001b[0;36m<module>\u001b[0;34m()\u001b[0m\n\u001b[0;32m----> 1\u001b[0;31m \u001b[0msubtitle_df\u001b[0m \u001b[0;34m=\u001b[0m \u001b[0mspark\u001b[0m\u001b[0;34m.\u001b[0m\u001b[0mread\u001b[0m\u001b[0;34m.\u001b[0m\u001b[0mparquet\u001b[0m\u001b[0;34m(\u001b[0m\u001b[0;34m\"./sentences_until_1999_v2.parquet\"\u001b[0m\u001b[0;34m)\u001b[0m\u001b[0;34m\u001b[0m\u001b[0m\n\u001b[0m\u001b[1;32m      2\u001b[0m \u001b[0msubtitle_df\u001b[0m\u001b[0;34m.\u001b[0m\u001b[0mshow\u001b[0m\u001b[0;34m(\u001b[0m\u001b[0;36m3\u001b[0m\u001b[0;34m)\u001b[0m\u001b[0;34m\u001b[0m\u001b[0m\n",
      "\u001b[0;32m~/spark/spark-2.3.2-bin-hadoop2.7/python/pyspark/sql/readwriter.py\u001b[0m in \u001b[0;36mparquet\u001b[0;34m(self, *paths)\u001b[0m\n\u001b[1;32m    301\u001b[0m         \u001b[0;34m[\u001b[0m\u001b[0;34m(\u001b[0m\u001b[0;34m'name'\u001b[0m\u001b[0;34m,\u001b[0m \u001b[0;34m'string'\u001b[0m\u001b[0;34m)\u001b[0m\u001b[0;34m,\u001b[0m \u001b[0;34m(\u001b[0m\u001b[0;34m'year'\u001b[0m\u001b[0;34m,\u001b[0m \u001b[0;34m'int'\u001b[0m\u001b[0;34m)\u001b[0m\u001b[0;34m,\u001b[0m \u001b[0;34m(\u001b[0m\u001b[0;34m'month'\u001b[0m\u001b[0;34m,\u001b[0m \u001b[0;34m'int'\u001b[0m\u001b[0;34m)\u001b[0m\u001b[0;34m,\u001b[0m \u001b[0;34m(\u001b[0m\u001b[0;34m'day'\u001b[0m\u001b[0;34m,\u001b[0m \u001b[0;34m'int'\u001b[0m\u001b[0;34m)\u001b[0m\u001b[0;34m]\u001b[0m\u001b[0;34m\u001b[0m\u001b[0m\n\u001b[1;32m    302\u001b[0m         \"\"\"\n\u001b[0;32m--> 303\u001b[0;31m         \u001b[0;32mreturn\u001b[0m \u001b[0mself\u001b[0m\u001b[0;34m.\u001b[0m\u001b[0m_df\u001b[0m\u001b[0;34m(\u001b[0m\u001b[0mself\u001b[0m\u001b[0;34m.\u001b[0m\u001b[0m_jreader\u001b[0m\u001b[0;34m.\u001b[0m\u001b[0mparquet\u001b[0m\u001b[0;34m(\u001b[0m\u001b[0m_to_seq\u001b[0m\u001b[0;34m(\u001b[0m\u001b[0mself\u001b[0m\u001b[0;34m.\u001b[0m\u001b[0m_spark\u001b[0m\u001b[0;34m.\u001b[0m\u001b[0m_sc\u001b[0m\u001b[0;34m,\u001b[0m \u001b[0mpaths\u001b[0m\u001b[0;34m)\u001b[0m\u001b[0;34m)\u001b[0m\u001b[0;34m)\u001b[0m\u001b[0;34m\u001b[0m\u001b[0m\n\u001b[0m\u001b[1;32m    304\u001b[0m \u001b[0;34m\u001b[0m\u001b[0m\n\u001b[1;32m    305\u001b[0m     \u001b[0;34m@\u001b[0m\u001b[0mignore_unicode_prefix\u001b[0m\u001b[0;34m\u001b[0m\u001b[0m\n",
      "\u001b[0;32m~/spark/spark-2.3.2-bin-hadoop2.7/python/lib/py4j-0.10.7-src.zip/py4j/java_gateway.py\u001b[0m in \u001b[0;36m__call__\u001b[0;34m(self, *args)\u001b[0m\n\u001b[1;32m   1255\u001b[0m         \u001b[0manswer\u001b[0m \u001b[0;34m=\u001b[0m \u001b[0mself\u001b[0m\u001b[0;34m.\u001b[0m\u001b[0mgateway_client\u001b[0m\u001b[0;34m.\u001b[0m\u001b[0msend_command\u001b[0m\u001b[0;34m(\u001b[0m\u001b[0mcommand\u001b[0m\u001b[0;34m)\u001b[0m\u001b[0;34m\u001b[0m\u001b[0m\n\u001b[1;32m   1256\u001b[0m         return_value = get_return_value(\n\u001b[0;32m-> 1257\u001b[0;31m             answer, self.gateway_client, self.target_id, self.name)\n\u001b[0m\u001b[1;32m   1258\u001b[0m \u001b[0;34m\u001b[0m\u001b[0m\n\u001b[1;32m   1259\u001b[0m         \u001b[0;32mfor\u001b[0m \u001b[0mtemp_arg\u001b[0m \u001b[0;32min\u001b[0m \u001b[0mtemp_args\u001b[0m\u001b[0;34m:\u001b[0m\u001b[0;34m\u001b[0m\u001b[0m\n",
      "\u001b[0;32m~/spark/spark-2.3.2-bin-hadoop2.7/python/pyspark/sql/utils.py\u001b[0m in \u001b[0;36mdeco\u001b[0;34m(*a, **kw)\u001b[0m\n\u001b[1;32m     61\u001b[0m     \u001b[0;32mdef\u001b[0m \u001b[0mdeco\u001b[0m\u001b[0;34m(\u001b[0m\u001b[0;34m*\u001b[0m\u001b[0ma\u001b[0m\u001b[0;34m,\u001b[0m \u001b[0;34m**\u001b[0m\u001b[0mkw\u001b[0m\u001b[0;34m)\u001b[0m\u001b[0;34m:\u001b[0m\u001b[0;34m\u001b[0m\u001b[0m\n\u001b[1;32m     62\u001b[0m         \u001b[0;32mtry\u001b[0m\u001b[0;34m:\u001b[0m\u001b[0;34m\u001b[0m\u001b[0m\n\u001b[0;32m---> 63\u001b[0;31m             \u001b[0;32mreturn\u001b[0m \u001b[0mf\u001b[0m\u001b[0;34m(\u001b[0m\u001b[0;34m*\u001b[0m\u001b[0ma\u001b[0m\u001b[0;34m,\u001b[0m \u001b[0;34m**\u001b[0m\u001b[0mkw\u001b[0m\u001b[0;34m)\u001b[0m\u001b[0;34m\u001b[0m\u001b[0m\n\u001b[0m\u001b[1;32m     64\u001b[0m         \u001b[0;32mexcept\u001b[0m \u001b[0mpy4j\u001b[0m\u001b[0;34m.\u001b[0m\u001b[0mprotocol\u001b[0m\u001b[0;34m.\u001b[0m\u001b[0mPy4JJavaError\u001b[0m \u001b[0;32mas\u001b[0m \u001b[0me\u001b[0m\u001b[0;34m:\u001b[0m\u001b[0;34m\u001b[0m\u001b[0m\n\u001b[1;32m     65\u001b[0m             \u001b[0ms\u001b[0m \u001b[0;34m=\u001b[0m \u001b[0me\u001b[0m\u001b[0;34m.\u001b[0m\u001b[0mjava_exception\u001b[0m\u001b[0;34m.\u001b[0m\u001b[0mtoString\u001b[0m\u001b[0;34m(\u001b[0m\u001b[0;34m)\u001b[0m\u001b[0;34m\u001b[0m\u001b[0m\n",
      "\u001b[0;32m~/spark/spark-2.3.2-bin-hadoop2.7/python/lib/py4j-0.10.7-src.zip/py4j/protocol.py\u001b[0m in \u001b[0;36mget_return_value\u001b[0;34m(answer, gateway_client, target_id, name)\u001b[0m\n\u001b[1;32m    326\u001b[0m                 raise Py4JJavaError(\n\u001b[1;32m    327\u001b[0m                     \u001b[0;34m\"An error occurred while calling {0}{1}{2}.\\n\"\u001b[0m\u001b[0;34m.\u001b[0m\u001b[0;34m\u001b[0m\u001b[0m\n\u001b[0;32m--> 328\u001b[0;31m                     format(target_id, \".\", name), value)\n\u001b[0m\u001b[1;32m    329\u001b[0m             \u001b[0;32melse\u001b[0m\u001b[0;34m:\u001b[0m\u001b[0;34m\u001b[0m\u001b[0m\n\u001b[1;32m    330\u001b[0m                 raise Py4JError(\n",
      "\u001b[0;31mPy4JJavaError\u001b[0m: An error occurred while calling o93.parquet.\n: org.apache.spark.SparkException: Job aborted due to stage failure: Task 0 in stage 1.0 failed 1 times, most recent failure: Lost task 0.0 in stage 1.0 (TID 1, localhost, executor driver): java.io.IOException: Failed to connect to /128.179.251.7:56427\n\tat org.apache.spark.network.client.TransportClientFactory.createClient(TransportClientFactory.java:245)\n\tat org.apache.spark.network.client.TransportClientFactory.createClient(TransportClientFactory.java:187)\n\tat org.apache.spark.rpc.netty.NettyRpcEnv.org$apache$spark$rpc$netty$NettyRpcEnv$$downloadClient(NettyRpcEnv.scala:368)\n\tat org.apache.spark.rpc.netty.NettyRpcEnv$$anonfun$openChannel$1.apply$mcV$sp(NettyRpcEnv.scala:336)\n\tat org.apache.spark.rpc.netty.NettyRpcEnv$$anonfun$openChannel$1.apply(NettyRpcEnv.scala:335)\n\tat org.apache.spark.rpc.netty.NettyRpcEnv$$anonfun$openChannel$1.apply(NettyRpcEnv.scala:335)\n\tat org.apache.spark.util.Utils$.tryWithSafeFinallyAndFailureCallbacks(Utils.scala:1415)\n\tat org.apache.spark.rpc.netty.NettyRpcEnv.openChannel(NettyRpcEnv.scala:339)\n\tat org.apache.spark.util.Utils$.doFetchFile(Utils.scala:665)\n\tat org.apache.spark.util.Utils$.fetchFile(Utils.scala:489)\n\tat org.apache.spark.executor.Executor$$anonfun$org$apache$spark$executor$Executor$$updateDependencies$5.apply(Executor.scala:755)\n\tat org.apache.spark.executor.Executor$$anonfun$org$apache$spark$executor$Executor$$updateDependencies$5.apply(Executor.scala:747)\n\tat scala.collection.TraversableLike$WithFilter$$anonfun$foreach$1.apply(TraversableLike.scala:733)\n\tat scala.collection.mutable.HashMap$$anonfun$foreach$1.apply(HashMap.scala:99)\n\tat scala.collection.mutable.HashMap$$anonfun$foreach$1.apply(HashMap.scala:99)\n\tat scala.collection.mutable.HashTable$class.foreachEntry(HashTable.scala:230)\n\tat scala.collection.mutable.HashMap.foreachEntry(HashMap.scala:40)\n\tat scala.collection.mutable.HashMap.foreach(HashMap.scala:99)\n\tat scala.collection.TraversableLike$WithFilter.foreach(TraversableLike.scala:732)\n\tat org.apache.spark.executor.Executor.org$apache$spark$executor$Executor$$updateDependencies(Executor.scala:747)\n\tat org.apache.spark.executor.Executor$TaskRunner.run(Executor.scala:312)\n\tat java.util.concurrent.ThreadPoolExecutor.runWorker(ThreadPoolExecutor.java:1149)\n\tat java.util.concurrent.ThreadPoolExecutor$Worker.run(ThreadPoolExecutor.java:624)\n\tat java.lang.Thread.run(Thread.java:748)\n\tSuppressed: java.lang.NullPointerException\n\t\tat org.apache.spark.util.Utils$.tryWithSafeFinallyAndFailureCallbacks(Utils.scala:1423)\n\t\t... 17 more\nCaused by: io.netty.channel.AbstractChannel$AnnotatedNoRouteToHostException: No route to host: /128.179.251.7:56427\n\tat sun.nio.ch.Net.connect0(Native Method)\n\tat sun.nio.ch.Net.connect(Net.java:454)\n\tat sun.nio.ch.Net.connect(Net.java:446)\n\tat sun.nio.ch.SocketChannelImpl.connect(SocketChannelImpl.java:648)\n\tat io.netty.util.internal.SocketUtils$3.run(SocketUtils.java:83)\n\tat io.netty.util.internal.SocketUtils$3.run(SocketUtils.java:80)\n\tat java.security.AccessController.doPrivileged(Native Method)\n\tat io.netty.util.internal.SocketUtils.connect(SocketUtils.java:80)\n\tat io.netty.channel.socket.nio.NioSocketChannel.doConnect(NioSocketChannel.java:308)\n\tat io.netty.channel.nio.AbstractNioChannel$AbstractNioUnsafe.connect(AbstractNioChannel.java:254)\n\tat io.netty.channel.DefaultChannelPipeline$HeadContext.connect(DefaultChannelPipeline.java:1291)\n\tat io.netty.channel.AbstractChannelHandlerContext.invokeConnect(AbstractChannelHandlerContext.java:545)\n\tat io.netty.channel.AbstractChannelHandlerContext.connect(AbstractChannelHandlerContext.java:530)\n\tat io.netty.channel.ChannelOutboundHandlerAdapter.connect(ChannelOutboundHandlerAdapter.java:47)\n\tat io.netty.channel.AbstractChannelHandlerContext.invokeConnect(AbstractChannelHandlerContext.java:545)\n\tat io.netty.channel.AbstractChannelHandlerContext.connect(AbstractChannelHandlerContext.java:530)\n\tat io.netty.channel.ChannelDuplexHandler.connect(ChannelDuplexHandler.java:50)\n\tat io.netty.channel.AbstractChannelHandlerContext.invokeConnect(AbstractChannelHandlerContext.java:545)\n\tat io.netty.channel.AbstractChannelHandlerContext.connect(AbstractChannelHandlerContext.java:530)\n\tat io.netty.channel.AbstractChannelHandlerContext.connect(AbstractChannelHandlerContext.java:512)\n\tat io.netty.channel.DefaultChannelPipeline.connect(DefaultChannelPipeline.java:994)\n\tat io.netty.channel.AbstractChannel.connect(AbstractChannel.java:259)\n\tat io.netty.bootstrap.Bootstrap$3.run(Bootstrap.java:252)\n\tat io.netty.util.concurrent.AbstractEventExecutor.safeExecute(AbstractEventExecutor.java:163)\n\tat io.netty.util.concurrent.SingleThreadEventExecutor.runAllTasks(SingleThreadEventExecutor.java:403)\n\tat io.netty.channel.nio.NioEventLoop.run(NioEventLoop.java:463)\n\tat io.netty.util.concurrent.SingleThreadEventExecutor$5.run(SingleThreadEventExecutor.java:858)\n\tat io.netty.util.concurrent.DefaultThreadFactory$DefaultRunnableDecorator.run(DefaultThreadFactory.java:138)\n\t... 1 more\nCaused by: java.net.NoRouteToHostException: No route to host\n\t... 29 more\n\nDriver stacktrace:\n\tat org.apache.spark.scheduler.DAGScheduler.org$apache$spark$scheduler$DAGScheduler$$failJobAndIndependentStages(DAGScheduler.scala:1651)\n\tat org.apache.spark.scheduler.DAGScheduler$$anonfun$abortStage$1.apply(DAGScheduler.scala:1639)\n\tat org.apache.spark.scheduler.DAGScheduler$$anonfun$abortStage$1.apply(DAGScheduler.scala:1638)\n\tat scala.collection.mutable.ResizableArray$class.foreach(ResizableArray.scala:59)\n\tat scala.collection.mutable.ArrayBuffer.foreach(ArrayBuffer.scala:48)\n\tat org.apache.spark.scheduler.DAGScheduler.abortStage(DAGScheduler.scala:1638)\n\tat org.apache.spark.scheduler.DAGScheduler$$anonfun$handleTaskSetFailed$1.apply(DAGScheduler.scala:831)\n\tat org.apache.spark.scheduler.DAGScheduler$$anonfun$handleTaskSetFailed$1.apply(DAGScheduler.scala:831)\n\tat scala.Option.foreach(Option.scala:257)\n\tat org.apache.spark.scheduler.DAGScheduler.handleTaskSetFailed(DAGScheduler.scala:831)\n\tat org.apache.spark.scheduler.DAGSchedulerEventProcessLoop.doOnReceive(DAGScheduler.scala:1872)\n\tat org.apache.spark.scheduler.DAGSchedulerEventProcessLoop.onReceive(DAGScheduler.scala:1821)\n\tat org.apache.spark.scheduler.DAGSchedulerEventProcessLoop.onReceive(DAGScheduler.scala:1810)\n\tat org.apache.spark.util.EventLoop$$anon$1.run(EventLoop.scala:48)\n\tat org.apache.spark.scheduler.DAGScheduler.runJob(DAGScheduler.scala:642)\n\tat org.apache.spark.SparkContext.runJob(SparkContext.scala:2034)\n\tat org.apache.spark.SparkContext.runJob(SparkContext.scala:2055)\n\tat org.apache.spark.SparkContext.runJob(SparkContext.scala:2074)\n\tat org.apache.spark.SparkContext.runJob(SparkContext.scala:2099)\n\tat org.apache.spark.rdd.RDD$$anonfun$collect$1.apply(RDD.scala:945)\n\tat org.apache.spark.rdd.RDDOperationScope$.withScope(RDDOperationScope.scala:151)\n\tat org.apache.spark.rdd.RDDOperationScope$.withScope(RDDOperationScope.scala:112)\n\tat org.apache.spark.rdd.RDD.withScope(RDD.scala:363)\n\tat org.apache.spark.rdd.RDD.collect(RDD.scala:944)\n\tat org.apache.spark.sql.execution.datasources.parquet.ParquetFileFormat$.mergeSchemasInParallel(ParquetFileFormat.scala:611)\n\tat org.apache.spark.sql.execution.datasources.parquet.ParquetFileFormat.inferSchema(ParquetFileFormat.scala:241)\n\tat org.apache.spark.sql.execution.datasources.DataSource$$anonfun$8.apply(DataSource.scala:203)\n\tat org.apache.spark.sql.execution.datasources.DataSource$$anonfun$8.apply(DataSource.scala:203)\n\tat scala.Option.orElse(Option.scala:289)\n\tat org.apache.spark.sql.execution.datasources.DataSource.getOrInferFileFormatSchema(DataSource.scala:202)\n\tat org.apache.spark.sql.execution.datasources.DataSource.resolveRelation(DataSource.scala:393)\n\tat org.apache.spark.sql.DataFrameReader.loadV1Source(DataFrameReader.scala:239)\n\tat org.apache.spark.sql.DataFrameReader.load(DataFrameReader.scala:227)\n\tat org.apache.spark.sql.DataFrameReader.parquet(DataFrameReader.scala:622)\n\tat sun.reflect.NativeMethodAccessorImpl.invoke0(Native Method)\n\tat sun.reflect.NativeMethodAccessorImpl.invoke(NativeMethodAccessorImpl.java:62)\n\tat sun.reflect.DelegatingMethodAccessorImpl.invoke(DelegatingMethodAccessorImpl.java:43)\n\tat java.lang.reflect.Method.invoke(Method.java:498)\n\tat py4j.reflection.MethodInvoker.invoke(MethodInvoker.java:244)\n\tat py4j.reflection.ReflectionEngine.invoke(ReflectionEngine.java:357)\n\tat py4j.Gateway.invoke(Gateway.java:282)\n\tat py4j.commands.AbstractCommand.invokeMethod(AbstractCommand.java:132)\n\tat py4j.commands.CallCommand.execute(CallCommand.java:79)\n\tat py4j.GatewayConnection.run(GatewayConnection.java:238)\n\tat java.lang.Thread.run(Thread.java:748)\nCaused by: java.io.IOException: Failed to connect to /128.179.251.7:56427\n\tat org.apache.spark.network.client.TransportClientFactory.createClient(TransportClientFactory.java:245)\n\tat org.apache.spark.network.client.TransportClientFactory.createClient(TransportClientFactory.java:187)\n\tat org.apache.spark.rpc.netty.NettyRpcEnv.org$apache$spark$rpc$netty$NettyRpcEnv$$downloadClient(NettyRpcEnv.scala:368)\n\tat org.apache.spark.rpc.netty.NettyRpcEnv$$anonfun$openChannel$1.apply$mcV$sp(NettyRpcEnv.scala:336)\n\tat org.apache.spark.rpc.netty.NettyRpcEnv$$anonfun$openChannel$1.apply(NettyRpcEnv.scala:335)\n\tat org.apache.spark.rpc.netty.NettyRpcEnv$$anonfun$openChannel$1.apply(NettyRpcEnv.scala:335)\n\tat org.apache.spark.util.Utils$.tryWithSafeFinallyAndFailureCallbacks(Utils.scala:1415)\n\tat org.apache.spark.rpc.netty.NettyRpcEnv.openChannel(NettyRpcEnv.scala:339)\n\tat org.apache.spark.util.Utils$.doFetchFile(Utils.scala:665)\n\tat org.apache.spark.util.Utils$.fetchFile(Utils.scala:489)\n\tat org.apache.spark.executor.Executor$$anonfun$org$apache$spark$executor$Executor$$updateDependencies$5.apply(Executor.scala:755)\n\tat org.apache.spark.executor.Executor$$anonfun$org$apache$spark$executor$Executor$$updateDependencies$5.apply(Executor.scala:747)\n\tat scala.collection.TraversableLike$WithFilter$$anonfun$foreach$1.apply(TraversableLike.scala:733)\n\tat scala.collection.mutable.HashMap$$anonfun$foreach$1.apply(HashMap.scala:99)\n\tat scala.collection.mutable.HashMap$$anonfun$foreach$1.apply(HashMap.scala:99)\n\tat scala.collection.mutable.HashTable$class.foreachEntry(HashTable.scala:230)\n\tat scala.collection.mutable.HashMap.foreachEntry(HashMap.scala:40)\n\tat scala.collection.mutable.HashMap.foreach(HashMap.scala:99)\n\tat scala.collection.TraversableLike$WithFilter.foreach(TraversableLike.scala:732)\n\tat org.apache.spark.executor.Executor.org$apache$spark$executor$Executor$$updateDependencies(Executor.scala:747)\n\tat org.apache.spark.executor.Executor$TaskRunner.run(Executor.scala:312)\n\tat java.util.concurrent.ThreadPoolExecutor.runWorker(ThreadPoolExecutor.java:1149)\n\tat java.util.concurrent.ThreadPoolExecutor$Worker.run(ThreadPoolExecutor.java:624)\n\t... 1 more\n\tSuppressed: java.lang.NullPointerException\n\t\tat org.apache.spark.util.Utils$.tryWithSafeFinallyAndFailureCallbacks(Utils.scala:1423)\n\t\t... 17 more\nCaused by: io.netty.channel.AbstractChannel$AnnotatedNoRouteToHostException: No route to host: /128.179.251.7:56427\n\tat sun.nio.ch.Net.connect0(Native Method)\n\tat sun.nio.ch.Net.connect(Net.java:454)\n\tat sun.nio.ch.Net.connect(Net.java:446)\n\tat sun.nio.ch.SocketChannelImpl.connect(SocketChannelImpl.java:648)\n\tat io.netty.util.internal.SocketUtils$3.run(SocketUtils.java:83)\n\tat io.netty.util.internal.SocketUtils$3.run(SocketUtils.java:80)\n\tat java.security.AccessController.doPrivileged(Native Method)\n\tat io.netty.util.internal.SocketUtils.connect(SocketUtils.java:80)\n\tat io.netty.channel.socket.nio.NioSocketChannel.doConnect(NioSocketChannel.java:308)\n\tat io.netty.channel.nio.AbstractNioChannel$AbstractNioUnsafe.connect(AbstractNioChannel.java:254)\n\tat io.netty.channel.DefaultChannelPipeline$HeadContext.connect(DefaultChannelPipeline.java:1291)\n\tat io.netty.channel.AbstractChannelHandlerContext.invokeConnect(AbstractChannelHandlerContext.java:545)\n\tat io.netty.channel.AbstractChannelHandlerContext.connect(AbstractChannelHandlerContext.java:530)\n\tat io.netty.channel.ChannelOutboundHandlerAdapter.connect(ChannelOutboundHandlerAdapter.java:47)\n\tat io.netty.channel.AbstractChannelHandlerContext.invokeConnect(AbstractChannelHandlerContext.java:545)\n\tat io.netty.channel.AbstractChannelHandlerContext.connect(AbstractChannelHandlerContext.java:530)\n\tat io.netty.channel.ChannelDuplexHandler.connect(ChannelDuplexHandler.java:50)\n\tat io.netty.channel.AbstractChannelHandlerContext.invokeConnect(AbstractChannelHandlerContext.java:545)\n\tat io.netty.channel.AbstractChannelHandlerContext.connect(AbstractChannelHandlerContext.java:530)\n\tat io.netty.channel.AbstractChannelHandlerContext.connect(AbstractChannelHandlerContext.java:512)\n\tat io.netty.channel.DefaultChannelPipeline.connect(DefaultChannelPipeline.java:994)\n\tat io.netty.channel.AbstractChannel.connect(AbstractChannel.java:259)\n\tat io.netty.bootstrap.Bootstrap$3.run(Bootstrap.java:252)\n\tat io.netty.util.concurrent.AbstractEventExecutor.safeExecute(AbstractEventExecutor.java:163)\n\tat io.netty.util.concurrent.SingleThreadEventExecutor.runAllTasks(SingleThreadEventExecutor.java:403)\n\tat io.netty.channel.nio.NioEventLoop.run(NioEventLoop.java:463)\n\tat io.netty.util.concurrent.SingleThreadEventExecutor$5.run(SingleThreadEventExecutor.java:858)\n\tat io.netty.util.concurrent.DefaultThreadFactory$DefaultRunnableDecorator.run(DefaultThreadFactory.java:138)\n\t... 1 more\nCaused by: java.net.NoRouteToHostException: No route to host\n\t... 29 more\n"
     ]
    }
   ],
   "source": [
    "subtitle_df = spark.read.parquet(\"./sentences_until_1999_v2.parquet\")\n",
    "subtitle_df.show(3)"
   ]
  },
  {
   "cell_type": "markdown",
   "metadata": {},
   "source": [
    "### **(1)** Let's convert each word into its lower case representation:"
   ]
  },
  {
   "cell_type": "code",
   "execution_count": 98,
   "metadata": {},
   "outputs": [
    {
     "name": "stdout",
     "output_type": "stream",
     "text": [
      "+-------+--------------------+\n",
      "|    _id|            sentence|\n",
      "+-------+--------------------+\n",
      "|5131043|[they, 're, indep...|\n",
      "|5131043|[they, 're, affec...|\n",
      "|5131043|[they, 're, loyal...|\n",
      "|5131043|[they, 're, sagac...|\n",
      "|5131043|[they, 're, ineff...|\n",
      "|5131043|[cats, are, magic...|\n",
      "|5131043|[they, really, ar...|\n",
      "|5131043|[probably, the, m...|\n",
      "|5131043|[they, 're, also,...|\n",
      "|5131043|[they, 're, very,...|\n",
      "|5131043|[that, 's, anothe...|\n",
      "|5131043|[the, domestic, c...|\n",
      "|5131043|[within, even, th...|\n",
      "|5131043|[even, after, tho...|\n",
      "|5131043|[now, ,, scientis...|\n",
      "|5131043|[for, them, ,, th...|\n",
      "|5131043|[to, share, one, ...|\n",
      "|5131043|[perhaps, the, wr...|\n",
      "|5131043|[\", god, made, th...|\n",
      "|5131043|[today, ,, the, w...|\n",
      "+-------+--------------------+\n",
      "only showing top 20 rows\n",
      "\n"
     ]
    }
   ],
   "source": [
    "toLowerSentence = F.udf(lambda x: list(map(lambda y: y.lower(), x)), ArrayType(StringType()))\n",
    "subtitle_df = subtitle_df.select('_id', toLowerSentence('sentence._VALUE').alias('sentence'))\n",
    "subtitle_df.show(3)"
   ]
  },
  {
   "cell_type": "markdown",
   "metadata": {},
   "source": [
    "**(2)** We will take help from the NLTK library(https://www.nltk.org/) to filter out stop words. NLTK provides predefined lists of stop words for several different languages, we will use the list for the english language. "
   ]
  },
  {
   "cell_type": "code",
   "execution_count": 99,
   "metadata": {},
   "outputs": [
    {
     "name": "stdout",
     "output_type": "stream",
     "text": [
      "+-------+--------------------+\n",
      "|    _id|            sentence|\n",
      "+-------+--------------------+\n",
      "|5131043|['re, independent...|\n",
      "|5131043|['re, affectionat...|\n",
      "|5131043|['re, loyal, ;, '...|\n",
      "|5131043|['re, sagacious, ...|\n",
      "|5131043|['re, ineffable, ...|\n",
      "|5131043|    [cats, magic, .]|\n",
      "|5131043|  [really, magic, .]|\n",
      "|5131043|[probably, myster...|\n",
      "|5131043|['re, also, vicio...|\n",
      "|5131043|['re, cruel, thin...|\n",
      "|5131043|['s, another, thi...|\n",
      "|5131043|[domestic, cat, h...|\n",
      "|5131043|[within, even, de...|\n",
      "|5131043|[even, thousands,...|\n",
      "|5131043|[,, scientists, l...|\n",
      "|5131043|[,, domestic, cat...|\n",
      "|5131043|[share, one, 's, ...|\n",
      "|5131043|[perhaps, writer,...|\n",
      "|5131043|[\", god, made, ca...|\n",
      "|5131043|[today, ,, wester...|\n",
      "+-------+--------------------+\n",
      "only showing top 20 rows\n",
      "\n"
     ]
    }
   ],
   "source": [
    "stop_words=set(stopwords.words('english'))\n",
    "wordInStopWords = F.udf(lambda x: list(filter(lambda y: y not in stop_words,x)), ArrayType(StringType()))\n",
    "subtitle_df = subtitle_df\\\n",
    "                    .select('_id', wordInStopWords('sentence').alias('sentence'))\n",
    "subtitle_df.show(3)"
   ]
  },
  {
   "cell_type": "markdown",
   "metadata": {},
   "source": [
    "**(3)** To filter out punctuations, we can use the built in puncuation list contained in the string class of Python."
   ]
  },
  {
   "cell_type": "code",
   "execution_count": 100,
   "metadata": {},
   "outputs": [
    {
     "name": "stdout",
     "output_type": "stream",
     "text": [
      "+-------+--------------------+\n",
      "|    _id|            sentence|\n",
      "+-------+--------------------+\n",
      "|5131043|  ['re, independent]|\n",
      "|5131043| ['re, affectionate]|\n",
      "|5131043|['re, loyal, 're,...|\n",
      "|5131043|['re, sagacious, ...|\n",
      "|5131043|['re, ineffable, ...|\n",
      "|5131043|       [cats, magic]|\n",
      "|5131043|     [really, magic]|\n",
      "|5131043|[probably, myster...|\n",
      "|5131043|['re, also, vicious]|\n",
      "|5131043|['re, cruel, things]|\n",
      "|5131043|['s, another, thi...|\n",
      "|5131043|[domestic, cat, h...|\n",
      "|5131043|[within, even, de...|\n",
      "|5131043|[even, thousands,...|\n",
      "|5131043|[scientists, laym...|\n",
      "|5131043|[domestic, cat, e...|\n",
      "|5131043|[share, one, 's, ...|\n",
      "|5131043|[perhaps, writer,...|\n",
      "|5131043|[god, made, cat, ...|\n",
      "|5131043|[today, western, ...|\n",
      "+-------+--------------------+\n",
      "only showing top 20 rows\n",
      "\n"
     ]
    }
   ],
   "source": [
    "punctuation_list=list(string.punctuation)\n",
    "remvovePunctuation = F.udf(lambda x: list(filter(lambda y: y not in punctuation_list,x)), ArrayType(StringType()))\n",
    "subtitle_df = subtitle_df\\\n",
    "                    .select('_id', remvovePunctuation('sentence').alias('sentence'))\n",
    "subtitle_df.show(3)"
   ]
  },
  {
   "cell_type": "markdown",
   "metadata": {},
   "source": [
    "**(4)** The NLTK library provies a lemmatizer API."
   ]
  },
  {
   "cell_type": "code",
   "execution_count": null,
   "metadata": {},
   "outputs": [],
   "source": [
    "lemmatizer = WordNetLemmatizer()\n",
    "lemmatize = F.udf(lambda x: lemmatizer.lemmatize(x, 'v'), StringType())\n",
    "subtitle_df = subtitle_df.select('_id', lemmatize(F.col('word')).alias('word'))"
   ]
  },
  {
   "cell_type": "markdown",
   "metadata": {},
   "source": [
    "**(5)** Remove words starting with an apostrophe"
   ]
  },
  {
   "cell_type": "code",
   "execution_count": 101,
   "metadata": {
    "scrolled": false
   },
   "outputs": [
    {
     "name": "stdout",
     "output_type": "stream",
     "text": [
      "+-------+--------------------+\n",
      "|    _id|            sentence|\n",
      "+-------+--------------------+\n",
      "|5131043|       [independent]|\n",
      "|5131043|      [affectionate]|\n",
      "|5131043|  [loyal, beautiful]|\n",
      "|5131043|[sagacious, myste...|\n",
      "|5131043|[ineffable, inscr...|\n",
      "|5131043|       [cats, magic]|\n",
      "|5131043|     [really, magic]|\n",
      "|5131043|[probably, myster...|\n",
      "|5131043|     [also, vicious]|\n",
      "|5131043|     [cruel, things]|\n",
      "|5131043|[another, thing, ...|\n",
      "|5131043|[domestic, cat, h...|\n",
      "|5131043|[within, even, de...|\n",
      "|5131043|[even, thousands,...|\n",
      "|5131043|[scientists, laym...|\n",
      "|5131043|[domestic, cat, e...|\n",
      "|5131043|[share, one, life...|\n",
      "|5131043|[perhaps, writer,...|\n",
      "|5131043|[god, made, cat, ...|\n",
      "|5131043|[today, western, ...|\n",
      "+-------+--------------------+\n",
      "only showing top 20 rows\n",
      "\n"
     ]
    }
   ],
   "source": [
    "removeApostopheWords = F.udf(lambda x: list(filter(lambda y: y[0] != \"'\",x)), ArrayType(StringType()))\n",
    "subtitle_df = subtitle_df\\\n",
    "                    .select('_id', removeApostopheWords('sentence').alias('sentence'))\n",
    "subtitle_df.show(3)"
   ]
  },
  {
   "cell_type": "markdown",
   "metadata": {},
   "source": [
    "Let's have a look on the poportion of words that has been filtered out during the above steps:"
   ]
  },
  {
   "cell_type": "code",
   "execution_count": 104,
   "metadata": {},
   "outputs": [
    {
     "ename": "Py4JJavaError",
     "evalue": "An error occurred while calling o2537.collectToPython.\n: org.apache.spark.SparkException: Job aborted due to stage failure: Task 13 in stage 96.0 failed 1 times, most recent failure: Lost task 13.0 in stage 96.0 (TID 5627, localhost, executor driver): org.apache.spark.api.python.PythonException: Traceback (most recent call last):\n  File \"/Users/jakobsvenningsson/spark/spark-2.3.2-bin-hadoop2.7/python/lib/pyspark.zip/pyspark/worker.py\", line 253, in main\n    process()\n  File \"/Users/jakobsvenningsson/spark/spark-2.3.2-bin-hadoop2.7/python/lib/pyspark.zip/pyspark/worker.py\", line 248, in process\n    serializer.dump_stream(func(split_index, iterator), outfile)\n  File \"/Users/jakobsvenningsson/spark/spark-2.3.2-bin-hadoop2.7/python/lib/pyspark.zip/pyspark/serializers.py\", line 331, in dump_stream\n    self.serializer.dump_stream(self._batched(iterator), stream)\n  File \"/Users/jakobsvenningsson/spark/spark-2.3.2-bin-hadoop2.7/python/lib/pyspark.zip/pyspark/serializers.py\", line 140, in dump_stream\n    for obj in iterator:\n  File \"/Users/jakobsvenningsson/spark/spark-2.3.2-bin-hadoop2.7/python/lib/pyspark.zip/pyspark/serializers.py\", line 320, in _batched\n    for item in iterator:\n  File \"<string>\", line 1, in <lambda>\n  File \"/Users/jakobsvenningsson/spark/spark-2.3.2-bin-hadoop2.7/python/lib/pyspark.zip/pyspark/worker.py\", line 76, in <lambda>\n    return lambda *a: f(*a)\n  File \"/Users/jakobsvenningsson/spark/spark-2.3.2-bin-hadoop2.7/python/lib/pyspark.zip/pyspark/util.py\", line 55, in wrapper\n    return f(*args, **kwargs)\n  File \"/Users/jakobsvenningsson/spark/spark-2.3.2-bin-hadoop2.7/python/lib/pyspark.zip/pyspark/worker.py\", line 68, in <lambda>\n    return lambda *a: g(f(*a))\n  File \"/Users/jakobsvenningsson/spark/spark-2.3.2-bin-hadoop2.7/python/lib/pyspark.zip/pyspark/worker.py\", line 68, in <lambda>\n    return lambda *a: g(f(*a))\n  File \"/Users/jakobsvenningsson/spark/spark-2.3.2-bin-hadoop2.7/python/lib/pyspark.zip/pyspark/worker.py\", line 68, in <lambda>\n    return lambda *a: g(f(*a))\n  File \"<ipython-input-98-6ca0326a5905>\", line 1, in <lambda>\nTypeError: 'NoneType' object is not iterable\n\n\tat org.apache.spark.api.python.BasePythonRunner$ReaderIterator.handlePythonException(PythonRunner.scala:330)\n\tat org.apache.spark.sql.execution.python.PythonUDFRunner$$anon$1.read(PythonUDFRunner.scala:83)\n\tat org.apache.spark.sql.execution.python.PythonUDFRunner$$anon$1.read(PythonUDFRunner.scala:66)\n\tat org.apache.spark.api.python.BasePythonRunner$ReaderIterator.hasNext(PythonRunner.scala:284)\n\tat org.apache.spark.InterruptibleIterator.hasNext(InterruptibleIterator.scala:37)\n\tat scala.collection.Iterator$$anon$12.hasNext(Iterator.scala:439)\n\tat scala.collection.Iterator$$anon$11.hasNext(Iterator.scala:408)\n\tat scala.collection.Iterator$$anon$11.hasNext(Iterator.scala:408)\n\tat org.apache.spark.sql.catalyst.expressions.GeneratedClass$GeneratedIteratorForCodegenStage2.agg_doAggregateWithoutKey_0$(Unknown Source)\n\tat org.apache.spark.sql.catalyst.expressions.GeneratedClass$GeneratedIteratorForCodegenStage2.processNext(Unknown Source)\n\tat org.apache.spark.sql.execution.BufferedRowIterator.hasNext(BufferedRowIterator.java:43)\n\tat org.apache.spark.sql.execution.WholeStageCodegenExec$$anonfun$10$$anon$1.hasNext(WholeStageCodegenExec.scala:614)\n\tat scala.collection.Iterator$$anon$11.hasNext(Iterator.scala:408)\n\tat org.apache.spark.shuffle.sort.BypassMergeSortShuffleWriter.write(BypassMergeSortShuffleWriter.java:125)\n\tat org.apache.spark.scheduler.ShuffleMapTask.runTask(ShuffleMapTask.scala:96)\n\tat org.apache.spark.scheduler.ShuffleMapTask.runTask(ShuffleMapTask.scala:53)\n\tat org.apache.spark.scheduler.Task.run(Task.scala:109)\n\tat org.apache.spark.executor.Executor$TaskRunner.run(Executor.scala:345)\n\tat java.util.concurrent.ThreadPoolExecutor.runWorker(ThreadPoolExecutor.java:1149)\n\tat java.util.concurrent.ThreadPoolExecutor$Worker.run(ThreadPoolExecutor.java:624)\n\tat java.lang.Thread.run(Thread.java:748)\n\nDriver stacktrace:\n\tat org.apache.spark.scheduler.DAGScheduler.org$apache$spark$scheduler$DAGScheduler$$failJobAndIndependentStages(DAGScheduler.scala:1651)\n\tat org.apache.spark.scheduler.DAGScheduler$$anonfun$abortStage$1.apply(DAGScheduler.scala:1639)\n\tat org.apache.spark.scheduler.DAGScheduler$$anonfun$abortStage$1.apply(DAGScheduler.scala:1638)\n\tat scala.collection.mutable.ResizableArray$class.foreach(ResizableArray.scala:59)\n\tat scala.collection.mutable.ArrayBuffer.foreach(ArrayBuffer.scala:48)\n\tat org.apache.spark.scheduler.DAGScheduler.abortStage(DAGScheduler.scala:1638)\n\tat org.apache.spark.scheduler.DAGScheduler$$anonfun$handleTaskSetFailed$1.apply(DAGScheduler.scala:831)\n\tat org.apache.spark.scheduler.DAGScheduler$$anonfun$handleTaskSetFailed$1.apply(DAGScheduler.scala:831)\n\tat scala.Option.foreach(Option.scala:257)\n\tat org.apache.spark.scheduler.DAGScheduler.handleTaskSetFailed(DAGScheduler.scala:831)\n\tat org.apache.spark.scheduler.DAGSchedulerEventProcessLoop.doOnReceive(DAGScheduler.scala:1872)\n\tat org.apache.spark.scheduler.DAGSchedulerEventProcessLoop.onReceive(DAGScheduler.scala:1821)\n\tat org.apache.spark.scheduler.DAGSchedulerEventProcessLoop.onReceive(DAGScheduler.scala:1810)\n\tat org.apache.spark.util.EventLoop$$anon$1.run(EventLoop.scala:48)\n\tat org.apache.spark.scheduler.DAGScheduler.runJob(DAGScheduler.scala:642)\n\tat org.apache.spark.SparkContext.runJob(SparkContext.scala:2034)\n\tat org.apache.spark.SparkContext.runJob(SparkContext.scala:2055)\n\tat org.apache.spark.SparkContext.runJob(SparkContext.scala:2074)\n\tat org.apache.spark.SparkContext.runJob(SparkContext.scala:2099)\n\tat org.apache.spark.rdd.RDD$$anonfun$collect$1.apply(RDD.scala:945)\n\tat org.apache.spark.rdd.RDDOperationScope$.withScope(RDDOperationScope.scala:151)\n\tat org.apache.spark.rdd.RDDOperationScope$.withScope(RDDOperationScope.scala:112)\n\tat org.apache.spark.rdd.RDD.withScope(RDD.scala:363)\n\tat org.apache.spark.rdd.RDD.collect(RDD.scala:944)\n\tat org.apache.spark.sql.execution.SparkPlan.executeCollect(SparkPlan.scala:297)\n\tat org.apache.spark.sql.Dataset$$anonfun$collectToPython$1.apply(Dataset.scala:3200)\n\tat org.apache.spark.sql.Dataset$$anonfun$collectToPython$1.apply(Dataset.scala:3197)\n\tat org.apache.spark.sql.Dataset$$anonfun$52.apply(Dataset.scala:3259)\n\tat org.apache.spark.sql.execution.SQLExecution$.withNewExecutionId(SQLExecution.scala:77)\n\tat org.apache.spark.sql.Dataset.withAction(Dataset.scala:3258)\n\tat org.apache.spark.sql.Dataset.collectToPython(Dataset.scala:3197)\n\tat sun.reflect.NativeMethodAccessorImpl.invoke0(Native Method)\n\tat sun.reflect.NativeMethodAccessorImpl.invoke(NativeMethodAccessorImpl.java:62)\n\tat sun.reflect.DelegatingMethodAccessorImpl.invoke(DelegatingMethodAccessorImpl.java:43)\n\tat java.lang.reflect.Method.invoke(Method.java:498)\n\tat py4j.reflection.MethodInvoker.invoke(MethodInvoker.java:244)\n\tat py4j.reflection.ReflectionEngine.invoke(ReflectionEngine.java:357)\n\tat py4j.Gateway.invoke(Gateway.java:282)\n\tat py4j.commands.AbstractCommand.invokeMethod(AbstractCommand.java:132)\n\tat py4j.commands.CallCommand.execute(CallCommand.java:79)\n\tat py4j.GatewayConnection.run(GatewayConnection.java:238)\n\tat java.lang.Thread.run(Thread.java:748)\nCaused by: org.apache.spark.api.python.PythonException: Traceback (most recent call last):\n  File \"/Users/jakobsvenningsson/spark/spark-2.3.2-bin-hadoop2.7/python/lib/pyspark.zip/pyspark/worker.py\", line 253, in main\n    process()\n  File \"/Users/jakobsvenningsson/spark/spark-2.3.2-bin-hadoop2.7/python/lib/pyspark.zip/pyspark/worker.py\", line 248, in process\n    serializer.dump_stream(func(split_index, iterator), outfile)\n  File \"/Users/jakobsvenningsson/spark/spark-2.3.2-bin-hadoop2.7/python/lib/pyspark.zip/pyspark/serializers.py\", line 331, in dump_stream\n    self.serializer.dump_stream(self._batched(iterator), stream)\n  File \"/Users/jakobsvenningsson/spark/spark-2.3.2-bin-hadoop2.7/python/lib/pyspark.zip/pyspark/serializers.py\", line 140, in dump_stream\n    for obj in iterator:\n  File \"/Users/jakobsvenningsson/spark/spark-2.3.2-bin-hadoop2.7/python/lib/pyspark.zip/pyspark/serializers.py\", line 320, in _batched\n    for item in iterator:\n  File \"<string>\", line 1, in <lambda>\n  File \"/Users/jakobsvenningsson/spark/spark-2.3.2-bin-hadoop2.7/python/lib/pyspark.zip/pyspark/worker.py\", line 76, in <lambda>\n    return lambda *a: f(*a)\n  File \"/Users/jakobsvenningsson/spark/spark-2.3.2-bin-hadoop2.7/python/lib/pyspark.zip/pyspark/util.py\", line 55, in wrapper\n    return f(*args, **kwargs)\n  File \"/Users/jakobsvenningsson/spark/spark-2.3.2-bin-hadoop2.7/python/lib/pyspark.zip/pyspark/worker.py\", line 68, in <lambda>\n    return lambda *a: g(f(*a))\n  File \"/Users/jakobsvenningsson/spark/spark-2.3.2-bin-hadoop2.7/python/lib/pyspark.zip/pyspark/worker.py\", line 68, in <lambda>\n    return lambda *a: g(f(*a))\n  File \"/Users/jakobsvenningsson/spark/spark-2.3.2-bin-hadoop2.7/python/lib/pyspark.zip/pyspark/worker.py\", line 68, in <lambda>\n    return lambda *a: g(f(*a))\n  File \"<ipython-input-98-6ca0326a5905>\", line 1, in <lambda>\nTypeError: 'NoneType' object is not iterable\n\n\tat org.apache.spark.api.python.BasePythonRunner$ReaderIterator.handlePythonException(PythonRunner.scala:330)\n\tat org.apache.spark.sql.execution.python.PythonUDFRunner$$anon$1.read(PythonUDFRunner.scala:83)\n\tat org.apache.spark.sql.execution.python.PythonUDFRunner$$anon$1.read(PythonUDFRunner.scala:66)\n\tat org.apache.spark.api.python.BasePythonRunner$ReaderIterator.hasNext(PythonRunner.scala:284)\n\tat org.apache.spark.InterruptibleIterator.hasNext(InterruptibleIterator.scala:37)\n\tat scala.collection.Iterator$$anon$12.hasNext(Iterator.scala:439)\n\tat scala.collection.Iterator$$anon$11.hasNext(Iterator.scala:408)\n\tat scala.collection.Iterator$$anon$11.hasNext(Iterator.scala:408)\n\tat org.apache.spark.sql.catalyst.expressions.GeneratedClass$GeneratedIteratorForCodegenStage2.agg_doAggregateWithoutKey_0$(Unknown Source)\n\tat org.apache.spark.sql.catalyst.expressions.GeneratedClass$GeneratedIteratorForCodegenStage2.processNext(Unknown Source)\n\tat org.apache.spark.sql.execution.BufferedRowIterator.hasNext(BufferedRowIterator.java:43)\n\tat org.apache.spark.sql.execution.WholeStageCodegenExec$$anonfun$10$$anon$1.hasNext(WholeStageCodegenExec.scala:614)\n\tat scala.collection.Iterator$$anon$11.hasNext(Iterator.scala:408)\n\tat org.apache.spark.shuffle.sort.BypassMergeSortShuffleWriter.write(BypassMergeSortShuffleWriter.java:125)\n\tat org.apache.spark.scheduler.ShuffleMapTask.runTask(ShuffleMapTask.scala:96)\n\tat org.apache.spark.scheduler.ShuffleMapTask.runTask(ShuffleMapTask.scala:53)\n\tat org.apache.spark.scheduler.Task.run(Task.scala:109)\n\tat org.apache.spark.executor.Executor$TaskRunner.run(Executor.scala:345)\n\tat java.util.concurrent.ThreadPoolExecutor.runWorker(ThreadPoolExecutor.java:1149)\n\tat java.util.concurrent.ThreadPoolExecutor$Worker.run(ThreadPoolExecutor.java:624)\n\t... 1 more\n",
     "output_type": "error",
     "traceback": [
      "\u001b[0;31m---------------------------------------------------------------------------\u001b[0m",
      "\u001b[0;31mPy4JJavaError\u001b[0m                             Traceback (most recent call last)",
      "\u001b[0;32m<ipython-input-104-ac4784c8f0a6>\u001b[0m in \u001b[0;36m<module>\u001b[0;34m()\u001b[0m\n\u001b[1;32m      1\u001b[0m \u001b[0msubtitle_df\u001b[0m \u001b[0;34m=\u001b[0m \u001b[0msubtitle_df\u001b[0m\u001b[0;34m.\u001b[0m\u001b[0mwithColumn\u001b[0m\u001b[0;34m(\u001b[0m\u001b[0;34m'sentence_length_after_filtering'\u001b[0m\u001b[0;34m,\u001b[0m\u001b[0mF\u001b[0m\u001b[0;34m.\u001b[0m\u001b[0msize\u001b[0m\u001b[0;34m(\u001b[0m\u001b[0mF\u001b[0m\u001b[0;34m.\u001b[0m\u001b[0mcol\u001b[0m\u001b[0;34m(\u001b[0m\u001b[0;34m'sentence'\u001b[0m\u001b[0;34m)\u001b[0m\u001b[0;34m)\u001b[0m\u001b[0;34m)\u001b[0m\u001b[0;34m\u001b[0m\u001b[0m\n\u001b[0;32m----> 2\u001b[0;31m \u001b[0mtotal_amount_of_words\u001b[0m \u001b[0;34m=\u001b[0m \u001b[0msubtitle_df\u001b[0m\u001b[0;34m.\u001b[0m\u001b[0mgroupBy\u001b[0m\u001b[0;34m(\u001b[0m\u001b[0;34m)\u001b[0m\u001b[0;34m.\u001b[0m\u001b[0msum\u001b[0m\u001b[0;34m(\u001b[0m\u001b[0;34m)\u001b[0m\u001b[0;34m.\u001b[0m\u001b[0mcollect\u001b[0m\u001b[0;34m(\u001b[0m\u001b[0;34m)\u001b[0m\u001b[0;34m\u001b[0m\u001b[0m\n\u001b[0m",
      "\u001b[0;32m~/spark/spark-2.3.2-bin-hadoop2.7/python/pyspark/sql/dataframe.py\u001b[0m in \u001b[0;36mcollect\u001b[0;34m(self)\u001b[0m\n\u001b[1;32m    464\u001b[0m         \"\"\"\n\u001b[1;32m    465\u001b[0m         \u001b[0;32mwith\u001b[0m \u001b[0mSCCallSiteSync\u001b[0m\u001b[0;34m(\u001b[0m\u001b[0mself\u001b[0m\u001b[0;34m.\u001b[0m\u001b[0m_sc\u001b[0m\u001b[0;34m)\u001b[0m \u001b[0;32mas\u001b[0m \u001b[0mcss\u001b[0m\u001b[0;34m:\u001b[0m\u001b[0;34m\u001b[0m\u001b[0m\n\u001b[0;32m--> 466\u001b[0;31m             \u001b[0msock_info\u001b[0m \u001b[0;34m=\u001b[0m \u001b[0mself\u001b[0m\u001b[0;34m.\u001b[0m\u001b[0m_jdf\u001b[0m\u001b[0;34m.\u001b[0m\u001b[0mcollectToPython\u001b[0m\u001b[0;34m(\u001b[0m\u001b[0;34m)\u001b[0m\u001b[0;34m\u001b[0m\u001b[0m\n\u001b[0m\u001b[1;32m    467\u001b[0m         \u001b[0;32mreturn\u001b[0m \u001b[0mlist\u001b[0m\u001b[0;34m(\u001b[0m\u001b[0m_load_from_socket\u001b[0m\u001b[0;34m(\u001b[0m\u001b[0msock_info\u001b[0m\u001b[0;34m,\u001b[0m \u001b[0mBatchedSerializer\u001b[0m\u001b[0;34m(\u001b[0m\u001b[0mPickleSerializer\u001b[0m\u001b[0;34m(\u001b[0m\u001b[0;34m)\u001b[0m\u001b[0;34m)\u001b[0m\u001b[0;34m)\u001b[0m\u001b[0;34m)\u001b[0m\u001b[0;34m\u001b[0m\u001b[0m\n\u001b[1;32m    468\u001b[0m \u001b[0;34m\u001b[0m\u001b[0m\n",
      "\u001b[0;32m~/spark/spark-2.3.2-bin-hadoop2.7/python/lib/py4j-0.10.7-src.zip/py4j/java_gateway.py\u001b[0m in \u001b[0;36m__call__\u001b[0;34m(self, *args)\u001b[0m\n\u001b[1;32m   1255\u001b[0m         \u001b[0manswer\u001b[0m \u001b[0;34m=\u001b[0m \u001b[0mself\u001b[0m\u001b[0;34m.\u001b[0m\u001b[0mgateway_client\u001b[0m\u001b[0;34m.\u001b[0m\u001b[0msend_command\u001b[0m\u001b[0;34m(\u001b[0m\u001b[0mcommand\u001b[0m\u001b[0;34m)\u001b[0m\u001b[0;34m\u001b[0m\u001b[0m\n\u001b[1;32m   1256\u001b[0m         return_value = get_return_value(\n\u001b[0;32m-> 1257\u001b[0;31m             answer, self.gateway_client, self.target_id, self.name)\n\u001b[0m\u001b[1;32m   1258\u001b[0m \u001b[0;34m\u001b[0m\u001b[0m\n\u001b[1;32m   1259\u001b[0m         \u001b[0;32mfor\u001b[0m \u001b[0mtemp_arg\u001b[0m \u001b[0;32min\u001b[0m \u001b[0mtemp_args\u001b[0m\u001b[0;34m:\u001b[0m\u001b[0;34m\u001b[0m\u001b[0m\n",
      "\u001b[0;32m~/spark/spark-2.3.2-bin-hadoop2.7/python/pyspark/sql/utils.py\u001b[0m in \u001b[0;36mdeco\u001b[0;34m(*a, **kw)\u001b[0m\n\u001b[1;32m     61\u001b[0m     \u001b[0;32mdef\u001b[0m \u001b[0mdeco\u001b[0m\u001b[0;34m(\u001b[0m\u001b[0;34m*\u001b[0m\u001b[0ma\u001b[0m\u001b[0;34m,\u001b[0m \u001b[0;34m**\u001b[0m\u001b[0mkw\u001b[0m\u001b[0;34m)\u001b[0m\u001b[0;34m:\u001b[0m\u001b[0;34m\u001b[0m\u001b[0m\n\u001b[1;32m     62\u001b[0m         \u001b[0;32mtry\u001b[0m\u001b[0;34m:\u001b[0m\u001b[0;34m\u001b[0m\u001b[0m\n\u001b[0;32m---> 63\u001b[0;31m             \u001b[0;32mreturn\u001b[0m \u001b[0mf\u001b[0m\u001b[0;34m(\u001b[0m\u001b[0;34m*\u001b[0m\u001b[0ma\u001b[0m\u001b[0;34m,\u001b[0m \u001b[0;34m**\u001b[0m\u001b[0mkw\u001b[0m\u001b[0;34m)\u001b[0m\u001b[0;34m\u001b[0m\u001b[0m\n\u001b[0m\u001b[1;32m     64\u001b[0m         \u001b[0;32mexcept\u001b[0m \u001b[0mpy4j\u001b[0m\u001b[0;34m.\u001b[0m\u001b[0mprotocol\u001b[0m\u001b[0;34m.\u001b[0m\u001b[0mPy4JJavaError\u001b[0m \u001b[0;32mas\u001b[0m \u001b[0me\u001b[0m\u001b[0;34m:\u001b[0m\u001b[0;34m\u001b[0m\u001b[0m\n\u001b[1;32m     65\u001b[0m             \u001b[0ms\u001b[0m \u001b[0;34m=\u001b[0m \u001b[0me\u001b[0m\u001b[0;34m.\u001b[0m\u001b[0mjava_exception\u001b[0m\u001b[0;34m.\u001b[0m\u001b[0mtoString\u001b[0m\u001b[0;34m(\u001b[0m\u001b[0;34m)\u001b[0m\u001b[0;34m\u001b[0m\u001b[0m\n",
      "\u001b[0;32m~/spark/spark-2.3.2-bin-hadoop2.7/python/lib/py4j-0.10.7-src.zip/py4j/protocol.py\u001b[0m in \u001b[0;36mget_return_value\u001b[0;34m(answer, gateway_client, target_id, name)\u001b[0m\n\u001b[1;32m    326\u001b[0m                 raise Py4JJavaError(\n\u001b[1;32m    327\u001b[0m                     \u001b[0;34m\"An error occurred while calling {0}{1}{2}.\\n\"\u001b[0m\u001b[0;34m.\u001b[0m\u001b[0;34m\u001b[0m\u001b[0m\n\u001b[0;32m--> 328\u001b[0;31m                     format(target_id, \".\", name), value)\n\u001b[0m\u001b[1;32m    329\u001b[0m             \u001b[0;32melse\u001b[0m\u001b[0;34m:\u001b[0m\u001b[0;34m\u001b[0m\u001b[0m\n\u001b[1;32m    330\u001b[0m                 raise Py4JError(\n",
      "\u001b[0;31mPy4JJavaError\u001b[0m: An error occurred while calling o2537.collectToPython.\n: org.apache.spark.SparkException: Job aborted due to stage failure: Task 13 in stage 96.0 failed 1 times, most recent failure: Lost task 13.0 in stage 96.0 (TID 5627, localhost, executor driver): org.apache.spark.api.python.PythonException: Traceback (most recent call last):\n  File \"/Users/jakobsvenningsson/spark/spark-2.3.2-bin-hadoop2.7/python/lib/pyspark.zip/pyspark/worker.py\", line 253, in main\n    process()\n  File \"/Users/jakobsvenningsson/spark/spark-2.3.2-bin-hadoop2.7/python/lib/pyspark.zip/pyspark/worker.py\", line 248, in process\n    serializer.dump_stream(func(split_index, iterator), outfile)\n  File \"/Users/jakobsvenningsson/spark/spark-2.3.2-bin-hadoop2.7/python/lib/pyspark.zip/pyspark/serializers.py\", line 331, in dump_stream\n    self.serializer.dump_stream(self._batched(iterator), stream)\n  File \"/Users/jakobsvenningsson/spark/spark-2.3.2-bin-hadoop2.7/python/lib/pyspark.zip/pyspark/serializers.py\", line 140, in dump_stream\n    for obj in iterator:\n  File \"/Users/jakobsvenningsson/spark/spark-2.3.2-bin-hadoop2.7/python/lib/pyspark.zip/pyspark/serializers.py\", line 320, in _batched\n    for item in iterator:\n  File \"<string>\", line 1, in <lambda>\n  File \"/Users/jakobsvenningsson/spark/spark-2.3.2-bin-hadoop2.7/python/lib/pyspark.zip/pyspark/worker.py\", line 76, in <lambda>\n    return lambda *a: f(*a)\n  File \"/Users/jakobsvenningsson/spark/spark-2.3.2-bin-hadoop2.7/python/lib/pyspark.zip/pyspark/util.py\", line 55, in wrapper\n    return f(*args, **kwargs)\n  File \"/Users/jakobsvenningsson/spark/spark-2.3.2-bin-hadoop2.7/python/lib/pyspark.zip/pyspark/worker.py\", line 68, in <lambda>\n    return lambda *a: g(f(*a))\n  File \"/Users/jakobsvenningsson/spark/spark-2.3.2-bin-hadoop2.7/python/lib/pyspark.zip/pyspark/worker.py\", line 68, in <lambda>\n    return lambda *a: g(f(*a))\n  File \"/Users/jakobsvenningsson/spark/spark-2.3.2-bin-hadoop2.7/python/lib/pyspark.zip/pyspark/worker.py\", line 68, in <lambda>\n    return lambda *a: g(f(*a))\n  File \"<ipython-input-98-6ca0326a5905>\", line 1, in <lambda>\nTypeError: 'NoneType' object is not iterable\n\n\tat org.apache.spark.api.python.BasePythonRunner$ReaderIterator.handlePythonException(PythonRunner.scala:330)\n\tat org.apache.spark.sql.execution.python.PythonUDFRunner$$anon$1.read(PythonUDFRunner.scala:83)\n\tat org.apache.spark.sql.execution.python.PythonUDFRunner$$anon$1.read(PythonUDFRunner.scala:66)\n\tat org.apache.spark.api.python.BasePythonRunner$ReaderIterator.hasNext(PythonRunner.scala:284)\n\tat org.apache.spark.InterruptibleIterator.hasNext(InterruptibleIterator.scala:37)\n\tat scala.collection.Iterator$$anon$12.hasNext(Iterator.scala:439)\n\tat scala.collection.Iterator$$anon$11.hasNext(Iterator.scala:408)\n\tat scala.collection.Iterator$$anon$11.hasNext(Iterator.scala:408)\n\tat org.apache.spark.sql.catalyst.expressions.GeneratedClass$GeneratedIteratorForCodegenStage2.agg_doAggregateWithoutKey_0$(Unknown Source)\n\tat org.apache.spark.sql.catalyst.expressions.GeneratedClass$GeneratedIteratorForCodegenStage2.processNext(Unknown Source)\n\tat org.apache.spark.sql.execution.BufferedRowIterator.hasNext(BufferedRowIterator.java:43)\n\tat org.apache.spark.sql.execution.WholeStageCodegenExec$$anonfun$10$$anon$1.hasNext(WholeStageCodegenExec.scala:614)\n\tat scala.collection.Iterator$$anon$11.hasNext(Iterator.scala:408)\n\tat org.apache.spark.shuffle.sort.BypassMergeSortShuffleWriter.write(BypassMergeSortShuffleWriter.java:125)\n\tat org.apache.spark.scheduler.ShuffleMapTask.runTask(ShuffleMapTask.scala:96)\n\tat org.apache.spark.scheduler.ShuffleMapTask.runTask(ShuffleMapTask.scala:53)\n\tat org.apache.spark.scheduler.Task.run(Task.scala:109)\n\tat org.apache.spark.executor.Executor$TaskRunner.run(Executor.scala:345)\n\tat java.util.concurrent.ThreadPoolExecutor.runWorker(ThreadPoolExecutor.java:1149)\n\tat java.util.concurrent.ThreadPoolExecutor$Worker.run(ThreadPoolExecutor.java:624)\n\tat java.lang.Thread.run(Thread.java:748)\n\nDriver stacktrace:\n\tat org.apache.spark.scheduler.DAGScheduler.org$apache$spark$scheduler$DAGScheduler$$failJobAndIndependentStages(DAGScheduler.scala:1651)\n\tat org.apache.spark.scheduler.DAGScheduler$$anonfun$abortStage$1.apply(DAGScheduler.scala:1639)\n\tat org.apache.spark.scheduler.DAGScheduler$$anonfun$abortStage$1.apply(DAGScheduler.scala:1638)\n\tat scala.collection.mutable.ResizableArray$class.foreach(ResizableArray.scala:59)\n\tat scala.collection.mutable.ArrayBuffer.foreach(ArrayBuffer.scala:48)\n\tat org.apache.spark.scheduler.DAGScheduler.abortStage(DAGScheduler.scala:1638)\n\tat org.apache.spark.scheduler.DAGScheduler$$anonfun$handleTaskSetFailed$1.apply(DAGScheduler.scala:831)\n\tat org.apache.spark.scheduler.DAGScheduler$$anonfun$handleTaskSetFailed$1.apply(DAGScheduler.scala:831)\n\tat scala.Option.foreach(Option.scala:257)\n\tat org.apache.spark.scheduler.DAGScheduler.handleTaskSetFailed(DAGScheduler.scala:831)\n\tat org.apache.spark.scheduler.DAGSchedulerEventProcessLoop.doOnReceive(DAGScheduler.scala:1872)\n\tat org.apache.spark.scheduler.DAGSchedulerEventProcessLoop.onReceive(DAGScheduler.scala:1821)\n\tat org.apache.spark.scheduler.DAGSchedulerEventProcessLoop.onReceive(DAGScheduler.scala:1810)\n\tat org.apache.spark.util.EventLoop$$anon$1.run(EventLoop.scala:48)\n\tat org.apache.spark.scheduler.DAGScheduler.runJob(DAGScheduler.scala:642)\n\tat org.apache.spark.SparkContext.runJob(SparkContext.scala:2034)\n\tat org.apache.spark.SparkContext.runJob(SparkContext.scala:2055)\n\tat org.apache.spark.SparkContext.runJob(SparkContext.scala:2074)\n\tat org.apache.spark.SparkContext.runJob(SparkContext.scala:2099)\n\tat org.apache.spark.rdd.RDD$$anonfun$collect$1.apply(RDD.scala:945)\n\tat org.apache.spark.rdd.RDDOperationScope$.withScope(RDDOperationScope.scala:151)\n\tat org.apache.spark.rdd.RDDOperationScope$.withScope(RDDOperationScope.scala:112)\n\tat org.apache.spark.rdd.RDD.withScope(RDD.scala:363)\n\tat org.apache.spark.rdd.RDD.collect(RDD.scala:944)\n\tat org.apache.spark.sql.execution.SparkPlan.executeCollect(SparkPlan.scala:297)\n\tat org.apache.spark.sql.Dataset$$anonfun$collectToPython$1.apply(Dataset.scala:3200)\n\tat org.apache.spark.sql.Dataset$$anonfun$collectToPython$1.apply(Dataset.scala:3197)\n\tat org.apache.spark.sql.Dataset$$anonfun$52.apply(Dataset.scala:3259)\n\tat org.apache.spark.sql.execution.SQLExecution$.withNewExecutionId(SQLExecution.scala:77)\n\tat org.apache.spark.sql.Dataset.withAction(Dataset.scala:3258)\n\tat org.apache.spark.sql.Dataset.collectToPython(Dataset.scala:3197)\n\tat sun.reflect.NativeMethodAccessorImpl.invoke0(Native Method)\n\tat sun.reflect.NativeMethodAccessorImpl.invoke(NativeMethodAccessorImpl.java:62)\n\tat sun.reflect.DelegatingMethodAccessorImpl.invoke(DelegatingMethodAccessorImpl.java:43)\n\tat java.lang.reflect.Method.invoke(Method.java:498)\n\tat py4j.reflection.MethodInvoker.invoke(MethodInvoker.java:244)\n\tat py4j.reflection.ReflectionEngine.invoke(ReflectionEngine.java:357)\n\tat py4j.Gateway.invoke(Gateway.java:282)\n\tat py4j.commands.AbstractCommand.invokeMethod(AbstractCommand.java:132)\n\tat py4j.commands.CallCommand.execute(CallCommand.java:79)\n\tat py4j.GatewayConnection.run(GatewayConnection.java:238)\n\tat java.lang.Thread.run(Thread.java:748)\nCaused by: org.apache.spark.api.python.PythonException: Traceback (most recent call last):\n  File \"/Users/jakobsvenningsson/spark/spark-2.3.2-bin-hadoop2.7/python/lib/pyspark.zip/pyspark/worker.py\", line 253, in main\n    process()\n  File \"/Users/jakobsvenningsson/spark/spark-2.3.2-bin-hadoop2.7/python/lib/pyspark.zip/pyspark/worker.py\", line 248, in process\n    serializer.dump_stream(func(split_index, iterator), outfile)\n  File \"/Users/jakobsvenningsson/spark/spark-2.3.2-bin-hadoop2.7/python/lib/pyspark.zip/pyspark/serializers.py\", line 331, in dump_stream\n    self.serializer.dump_stream(self._batched(iterator), stream)\n  File \"/Users/jakobsvenningsson/spark/spark-2.3.2-bin-hadoop2.7/python/lib/pyspark.zip/pyspark/serializers.py\", line 140, in dump_stream\n    for obj in iterator:\n  File \"/Users/jakobsvenningsson/spark/spark-2.3.2-bin-hadoop2.7/python/lib/pyspark.zip/pyspark/serializers.py\", line 320, in _batched\n    for item in iterator:\n  File \"<string>\", line 1, in <lambda>\n  File \"/Users/jakobsvenningsson/spark/spark-2.3.2-bin-hadoop2.7/python/lib/pyspark.zip/pyspark/worker.py\", line 76, in <lambda>\n    return lambda *a: f(*a)\n  File \"/Users/jakobsvenningsson/spark/spark-2.3.2-bin-hadoop2.7/python/lib/pyspark.zip/pyspark/util.py\", line 55, in wrapper\n    return f(*args, **kwargs)\n  File \"/Users/jakobsvenningsson/spark/spark-2.3.2-bin-hadoop2.7/python/lib/pyspark.zip/pyspark/worker.py\", line 68, in <lambda>\n    return lambda *a: g(f(*a))\n  File \"/Users/jakobsvenningsson/spark/spark-2.3.2-bin-hadoop2.7/python/lib/pyspark.zip/pyspark/worker.py\", line 68, in <lambda>\n    return lambda *a: g(f(*a))\n  File \"/Users/jakobsvenningsson/spark/spark-2.3.2-bin-hadoop2.7/python/lib/pyspark.zip/pyspark/worker.py\", line 68, in <lambda>\n    return lambda *a: g(f(*a))\n  File \"<ipython-input-98-6ca0326a5905>\", line 1, in <lambda>\nTypeError: 'NoneType' object is not iterable\n\n\tat org.apache.spark.api.python.BasePythonRunner$ReaderIterator.handlePythonException(PythonRunner.scala:330)\n\tat org.apache.spark.sql.execution.python.PythonUDFRunner$$anon$1.read(PythonUDFRunner.scala:83)\n\tat org.apache.spark.sql.execution.python.PythonUDFRunner$$anon$1.read(PythonUDFRunner.scala:66)\n\tat org.apache.spark.api.python.BasePythonRunner$ReaderIterator.hasNext(PythonRunner.scala:284)\n\tat org.apache.spark.InterruptibleIterator.hasNext(InterruptibleIterator.scala:37)\n\tat scala.collection.Iterator$$anon$12.hasNext(Iterator.scala:439)\n\tat scala.collection.Iterator$$anon$11.hasNext(Iterator.scala:408)\n\tat scala.collection.Iterator$$anon$11.hasNext(Iterator.scala:408)\n\tat org.apache.spark.sql.catalyst.expressions.GeneratedClass$GeneratedIteratorForCodegenStage2.agg_doAggregateWithoutKey_0$(Unknown Source)\n\tat org.apache.spark.sql.catalyst.expressions.GeneratedClass$GeneratedIteratorForCodegenStage2.processNext(Unknown Source)\n\tat org.apache.spark.sql.execution.BufferedRowIterator.hasNext(BufferedRowIterator.java:43)\n\tat org.apache.spark.sql.execution.WholeStageCodegenExec$$anonfun$10$$anon$1.hasNext(WholeStageCodegenExec.scala:614)\n\tat scala.collection.Iterator$$anon$11.hasNext(Iterator.scala:408)\n\tat org.apache.spark.shuffle.sort.BypassMergeSortShuffleWriter.write(BypassMergeSortShuffleWriter.java:125)\n\tat org.apache.spark.scheduler.ShuffleMapTask.runTask(ShuffleMapTask.scala:96)\n\tat org.apache.spark.scheduler.ShuffleMapTask.runTask(ShuffleMapTask.scala:53)\n\tat org.apache.spark.scheduler.Task.run(Task.scala:109)\n\tat org.apache.spark.executor.Executor$TaskRunner.run(Executor.scala:345)\n\tat java.util.concurrent.ThreadPoolExecutor.runWorker(ThreadPoolExecutor.java:1149)\n\tat java.util.concurrent.ThreadPoolExecutor$Worker.run(ThreadPoolExecutor.java:624)\n\t... 1 more\n"
     ]
    }
   ],
   "source": [
    "subtitle_df = subtitle_df.withColumn('sentence_length_after_filtering',F.size(F.col('sentence')))\n",
    "total_amount_of_words = subtitle_df.groupBy().sum().collect()"
   ]
  },
  {
   "cell_type": "code",
   "execution_count": null,
   "metadata": {},
   "outputs": [],
   "source": [
    "print(\"Total amount of words: {}\".format(total_amount_of_words[0][0]))"
   ]
  },
  {
   "cell_type": "markdown",
   "metadata": {},
   "source": [
    "# Plan for milestone 3 below\n"
   ]
  },
  {
   "cell_type": "markdown",
   "metadata": {},
   "source": [
    "## 3. Text analysis "
   ]
  },
  {
   "cell_type": "markdown",
   "metadata": {},
   "source": [
    "### 3.1 Quantification of text complexity"
   ]
  },
  {
   "cell_type": "markdown",
   "metadata": {},
   "source": [
    "In this section we will choose and implement a method for getting a measure of textual complexity. \n",
    "\n",
    "The measure we are going to use is the Dale-Challe readability forumla, as described here:\n",
    "https://en.wikipedia.org/wiki/Dale%E2%80%93Chall_readability_formula\n",
    "\n",
    "We will also try other qantification complexity ideas:\n",
    "* https://www.geeksforgeeks.org/readability-index-pythonnlp/\n",
    "* calculate the number of syllabuses in each word https://www.howmanysyllables.com/whataresyllables"
   ]
  },
  {
   "cell_type": "markdown",
   "metadata": {},
   "source": [
    "### 3.2 Comparison of text complexity by year"
   ]
  },
  {
   "cell_type": "markdown",
   "metadata": {},
   "source": [
    "In this section we are going to compare the complexity of the movie language for each year.\n",
    "We want to see if the complexity differs across years.\n",
    "\n",
    "To do this, we are going to calculate the text complexity measure for each film, and then take the average of complexity for each year."
   ]
  },
  {
   "cell_type": "markdown",
   "metadata": {},
   "source": [
    "### 3.3 Comparison of text complexity by genre"
   ]
  },
  {
   "cell_type": "markdown",
   "metadata": {},
   "source": [
    "In this section we are going to compare the complexity of the movie language for each genre.\n",
    "Do some genres use more simple language than others?\n",
    "\n",
    "To do this, we are going to calculate the text complexity measure for each film, and then take the average of complexity for each genre."
   ]
  },
  {
   "cell_type": "markdown",
   "metadata": {},
   "source": [
    "### 3.4 Correlation between text complexity of a film and its IMDB rating"
   ]
  },
  {
   "cell_type": "markdown",
   "metadata": {},
   "source": [
    "In this section we are going to search for correlation between the film text complexity and it's IMDB rating.\n",
    "\n",
    "To do this, we are going to calculate the text complexity measure for each film, and use correlation coefs and visualization to find evidence for correlation between those variables. \n",
    "\n",
    "If we find evidence for correlation, we will try some regression methods on the two variables, such as fitting a regression line."
   ]
  },
  {
   "cell_type": "code",
   "execution_count": null,
   "metadata": {},
   "outputs": [],
   "source": []
  }
 ],
 "metadata": {
  "kernelspec": {
   "display_name": "Python [default]",
   "language": "python",
   "name": "python3"
  },
  "language_info": {
   "codemirror_mode": {
    "name": "ipython",
    "version": 3
   },
   "file_extension": ".py",
   "mimetype": "text/x-python",
   "name": "python",
   "nbconvert_exporter": "python",
   "pygments_lexer": "ipython3",
   "version": "3.6.6"
  }
 },
 "nbformat": 4,
 "nbformat_minor": 2
}
