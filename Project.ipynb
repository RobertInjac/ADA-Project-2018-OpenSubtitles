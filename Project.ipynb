{
 "cells": [
  {
   "cell_type": "markdown",
   "metadata": {},
   "source": [
    "# The evolution of language in films"
   ]
  },
  {
   "cell_type": "code",
   "execution_count": 1,
   "metadata": {},
   "outputs": [
    {
     "name": "stderr",
     "output_type": "stream",
     "text": [
      "[nltk_data] Downloading package stopwords to\n",
      "[nltk_data]     /Users/jakobsvenningsson/nltk_data...\n",
      "[nltk_data]   Package stopwords is already up-to-date!\n"
     ]
    }
   ],
   "source": [
    "import pandas as pd\n",
    "import numpy as np\n",
    "import scipy as sp\n",
    "import matplotlib.pyplot as plt\n",
    "from pyspark.sql.types import *\n",
    "import pyspark.sql.functions as F\n",
    "from pyspark.sql.functions import udf\n",
    "\n",
    "from pyspark.sql import *\n",
    "%matplotlib inline\n",
    "\n",
    "import nltk\n",
    "from nltk.corpus import stopwords\n",
    "import string\n",
    "from nltk.stem.wordnet import WordNetLemmatizer\n",
    "\n",
    "nltk.download('stopwords')\n",
    "\n",
    "sqlContext = SQLContext(sc)"
   ]
  },
  {
   "cell_type": "markdown",
   "metadata": {},
   "source": [
    "# 0. Extraction of data\n",
    "\n",
    "###  <font color='red'>NOTE:</font> All of the extraction of data has been done in the cluster. We have included the scripts in the notebook for the purpose of documentation.\n",
    "\n",
    "Each subtitle in the OpenSubtitle database is stored in a seperate XML-file. In order to analyse the data and we need to convert it to a format more appropriate for Spark/Pandas. Instead of having ~180000 different XML-files, we would like to have the data stored in a dataframe.\n",
    "\n",
    "In order to process the dataset using Spark, we will use the spark-xml package from databricks (https://github.com/databricks/spark-xml).\n",
    "\n",
    "When using spark-xml, you can either let spark-xml infer the schema of the XML file or you can specify it yourself. Delegating the job of creating the schema to spark-xml is convenient however it is very expensive which we experienced through first hand experience. In order to speed up our input pipeline, we will specify or own static xml schema below. When specifying the schema yourself, spark-xml will not try to infer the schema which gives a significant performance boost when reading large numbers of XML-files."
   ]
  },
  {
   "cell_type": "markdown",
   "metadata": {},
   "source": [
    "## 0.1 schema"
   ]
  },
  {
   "cell_type": "markdown",
   "metadata": {},
   "source": [
    "We will extract 2 seperate dataframes, therefore we will need two different XML schemas. One schema will be used to extract the movie meta data contained in each subtitle file and the other schema will be used to extract the actual subtitle text."
   ]
  },
  {
   "cell_type": "markdown",
   "metadata": {},
   "source": [
    "### 0.1.1 meta data schema"
   ]
  },
  {
   "cell_type": "code",
   "execution_count": 2,
   "metadata": {},
   "outputs": [],
   "source": [
    "# Schema for the source XML-tag\n",
    "sourceSchema = StructType([\\\n",
    "                            StructField('genre', StringType()),\n",
    "                            StructField('year', StringType()),\n",
    "                          ])\n",
    "\n",
    "# Schema for the source XML-tag\n",
    "subtitleSchema = StructType([\\\n",
    "                            StructField('duration', StringType())\n",
    "                          ])\n",
    "\n",
    "# Schema for the conversion XML-tag\n",
    "conversionSchema =  StructType([\\\n",
    "                                StructField('sentences', StringType()),\n",
    "                                StructField('tokens', StringType())\n",
    "                              ])\n",
    "\n",
    "# Schema for the meta XML-tag\n",
    "mSchema = StructType([\\\n",
    "                        StructField('source', sourceSchema),\n",
    "                        StructField('conversion', conversionSchema),\n",
    "                        StructField('subtitle', subtitleSchema),\n",
    "                    ])\n",
    "\n",
    "# Root schema\n",
    "metaSchema = StructType([\n",
    "    StructField('_id', IntegerType()),\n",
    "    StructField('meta', mSchema)\n",
    "])"
   ]
  },
  {
   "cell_type": "markdown",
   "metadata": {},
   "source": [
    "### 0.1.1 subtitle data schema"
   ]
  },
  {
   "cell_type": "markdown",
   "metadata": {},
   "source": [
    "The schema will produce a dataframe with two columns. One column will contain the movie id and a column **s** which is of type Array. The elements of the Array in column **s** holds elements which also are arrays. Each nested array represents a sentence and each element of the nested Arrays are the words of the sentence."
   ]
  },
  {
   "cell_type": "code",
   "execution_count": 3,
   "metadata": {},
   "outputs": [],
   "source": [
    "# Schema for the w (word) XML-tag\n",
    "wordSchema = ArrayType(StructType([\\\n",
    "                                StructField('_VALUE', StringType())\\\n",
    "                               ]))\n",
    "\n",
    "# Schema for the s (sentence) XML-tag\n",
    "sentenceSchema = StructType([StructField('w', wordSchema)])\n",
    "\n",
    "# Root schema\n",
    "sentenceSchema = StructType([\n",
    "    StructField('_id', IntegerType()),\n",
    "    StructField('s', ArrayType(sentenceSchema))\n",
    "])"
   ]
  },
  {
   "cell_type": "markdown",
   "metadata": {},
   "source": [
    "## 0.2 Parsing of xml-data\n",
    "\n",
    "The OpenSubtitle dataset uses the following folder structure:\n",
    "\n",
    "**opensubtitle/OpenSubtitles2018/xml/ { language } / { year } / { imdb_id } / { openSubtitle_id }.xml.gz**\n",
    "\n",
    "* **year:** the release year of the movie\n",
    "* **langauge:** the language of the movie\n",
    "* **imdb_id:** id of the movie in the IMDB database\n",
    "* **openSubtitle_id:** unique identifier in the opensubtitle database\n",
    "\n",
    "With the help of regular expression we can load every single subtitle file at once using spark. "
   ]
  },
  {
   "cell_type": "markdown",
   "metadata": {},
   "source": [
    "### 0.2.1 meta data dataframe"
   ]
  },
  {
   "cell_type": "markdown",
   "metadata": {},
   "source": [
    "**The meta data we extract for each movie is the following:**\n",
    "\n",
    "* **_id**: the openSubtitle id - **type**: string\n",
    "* **year**: the release year of the movie - **type**: numeric\n",
    "* **sentences**: the total amount of sentences in the movie - **type**: numeric\n",
    "* **words**: the total amount of words in the movie (not unique words) - **type**: numeric\n",
    "* **duration**:: the duration of the movie - **type**: string\n",
    "* **imdb_id**: id of the movie in the IMDB database - **type**: string\n",
    "\n",
    "The imdb_id is actually not contained in the XML-file of each movie but the parent directory of each XML subtitle file is named using the imdb identifier. Therefore, we extract the imdb_id from the file path of each subtitle file."
   ]
  },
  {
   "cell_type": "code",
   "execution_count": 7,
   "metadata": {},
   "outputs": [],
   "source": [
    "# Loads all subtitles files in english and parses the input files with the schema for meta data.\n",
    "metadata_df = sqlContext.read.format('com.databricks.spark.xml')\\\n",
    "    .options(rowTag='document', \n",
    "             samplingRatio=0.0)\\\n",
    "    .load('hdfs:///datasets/opensubtitle/OpenSubtitles2018/xml/en/[1-2][0-9][0-9][0-9]/**/*.xml.gz', \n",
    "          schema=metaSchema)"
   ]
  },
  {
   "cell_type": "code",
   "execution_count": 60,
   "metadata": {
    "scrolled": true
   },
   "outputs": [],
   "source": [
    "metadata_df = metadata_df.select(\\\n",
    "               F.col(\"_id\"),\\\n",
    "               F.col(\"meta.source.genre\").alias(\"genre\"),\\\n",
    "               F.col(\"meta.source.year\").alias(\"year\"),\\\n",
    "               F.col(\"meta.conversion.sentences\").alias(\"sentences\"),\\\n",
    "               F.col(\"meta.conversion.tokens\").alias(\"words\"),\\\n",
    "               F.col(\"meta.subtitle.duration\").alias(\"duration\"))  \n",
    "\n",
    "metadata_df = metadata_df.withColumn(\"imdb_id\",F.split(F.input_file_name(), \"/\").getItem(6))"
   ]
  },
  {
   "cell_type": "code",
   "execution_count": null,
   "metadata": {},
   "outputs": [],
   "source": [
    "# number of words, sentences, numVotes and year are ints \n",
    "metadata_df = metadata_df.withColumn(\"words\", movies[\"words\"].cast(\"int\"))\n",
    "metadata_df = metadata_df.withColumn(\"sentences\", movies[\"sentences\"].cast(\"int\"))\n",
    "metadata_df = metadata_df.withColumn(\"year\", movies[\"year\"].cast(\"int\"))\n",
    "\n",
    "# convert duration to minutes\n",
    "@F.udf('string')\n",
    "def convert_duration(duration):\n",
    "    try:\n",
    "        return str(int(duration[:2]) * 60 + int(duration[3:5]))\n",
    "    except:\n",
    "        return \"0\"\n",
    "    \n",
    "metadata_df = metadata_df.withColumn(\"duration\", convert_duration(metadata_df.duration))"
   ]
  },
  {
   "cell_type": "code",
   "execution_count": null,
   "metadata": {},
   "outputs": [],
   "source": [
    "metadata_df.write.mode(\"overwrite\").parquet('./datasets/metadata_final.parquet')"
   ]
  },
  {
   "cell_type": "markdown",
   "metadata": {},
   "source": [
    "### 0.2.1 subtitle dataframe"
   ]
  },
  {
   "cell_type": "markdown",
   "metadata": {},
   "source": [
    "The subtitle dataframe has the following structure:\n",
    "\n",
    "* **_id:** the openSubtitle id - **type**: string\n",
    "* **sentence:** a sentence belonging to the movie identified by the **_id** field - **type**: List of List(String)"
   ]
  },
  {
   "cell_type": "code",
   "execution_count": null,
   "metadata": {},
   "outputs": [],
   "source": [
    "# Loads all subtitles files in english and parses the input files with the schema for subtitle data.\n",
    "df_subtitle = sqlContext.read.format('com.databricks.spark.xml')\\\n",
    "    .options(rowTag='document', \n",
    "             samplingRatio=0.0)\\\n",
    "    .load('hdfs:///datasets/opensubtitle/OpenSubtitles2018/xml/en/[1-2][0-9][0-9][0-9]/**/*.xml.gz', \n",
    "          schema=sentenceSchema)"
   ]
  },
  {
   "cell_type": "code",
   "execution_count": null,
   "metadata": {},
   "outputs": [],
   "source": [
    "# The tag s.w in the nested XML-structure holds an array of sentences for each movie.\n",
    "# We want each movie to have its own entry in the dataframe, we use the explode function to create one row\n",
    "# in the dataframe for each nested array contained in the s.w tag\n",
    "df_subtitle = df.select('_id',\n",
    "                            F.explode(F.col('s.w')).alias('sentence'))"
   ]
  },
  {
   "cell_type": "code",
   "execution_count": null,
   "metadata": {},
   "outputs": [],
   "source": [
    "@F.udf('string')\n",
    "def flatMapSentence(sentence):\n",
    "    if sentence == None:\n",
    "        return []\n",
    "    return [item for sublist in sentence for item in sublist]\n",
    "\n",
    "df_subtitle = df_subtitle.withColumn('sentence', flatMapSentence(F.col('sentence')))"
   ]
  },
  {
   "cell_type": "code",
   "execution_count": null,
   "metadata": {},
   "outputs": [],
   "source": [
    "df_subtitle.write.mode(\"overwrite\").parquet('./datasets/subtitles_final.parquet')"
   ]
  },
  {
   "cell_type": "markdown",
   "metadata": {},
   "source": [
    "## 0.3 Enriching the dataset\n",
    "\n",
    "With the help of the imdb_id, we can enrich our dataset with one or several of IMDBs public datasets (https://www.imdb.com/interfaces/). We are interested in the imdb rating of each movie, let's add it to our existing movies dataframe by joining it with the ratings dataset of IMDB."
   ]
  },
  {
   "cell_type": "code",
   "execution_count": 18,
   "metadata": {},
   "outputs": [
    {
     "name": "stdout",
     "output_type": "stream",
     "text": [
      "+-------+--------------------+----+---------+-----+------------+-------+\n",
      "|    _id|               genre|year|sentences|words|    duration|imdb_id|\n",
      "+-------+--------------------+----+---------+-----+------------+-------+\n",
      "|7018237|Comedy,Drama,Romance|1947|     2768|20350|01:55:25,969|  39477|\n",
      "|3528271| Crime,Drama,Fantasy|1993|     1557|10885|01:56:41,202| 107665|\n",
      "|4655639|Animation,Comedy,...|1935|      142|  457|00:15:15,010|  26706|\n",
      "+-------+--------------------+----+---------+-----+------------+-------+\n",
      "only showing top 3 rows\n",
      "\n"
     ]
    }
   ],
   "source": [
    "metadata_df = spark.read.parquet(\"./datasets/metadata_df.parquet\")\n",
    "metadata_df = metadata_df.withColumn('numVotes', F.col('numVotes').cast('int'))\n",
    "metadata_df = metadata_df.withColumn('averageRating', F.col('averageRating').cast('float'))\n",
    "movies_imdb.show(3)"
   ]
  },
  {
   "cell_type": "code",
   "execution_count": 19,
   "metadata": {},
   "outputs": [
    {
     "name": "stdout",
     "output_type": "stream",
     "text": [
      "+---------+-------------+--------+\n",
      "|   tconst|averageRating|numVotes|\n",
      "+---------+-------------+--------+\n",
      "|tt0000001|          5.8|    1437|\n",
      "|tt0000002|          6.3|     171|\n",
      "|tt0000003|          6.6|    1037|\n",
      "+---------+-------------+--------+\n",
      "only showing top 3 rows\n",
      "\n"
     ]
    }
   ],
   "source": [
    "imdb_ratings = spark.read.format(\"csv\")\\\n",
    "                        .option(\"header\", \"true\")\\\n",
    "                        .option(\"sep\", \"\\t\").load(\"title.ratings.tsv\")\n",
    "imdb_ratings.show(3)"
   ]
  },
  {
   "cell_type": "markdown",
   "metadata": {},
   "source": [
    "The imdb ids in the IMDB dataset has a few minor differences compared to the imdb ids in the OpenSubtitle dataset. \n",
    "\n",
    "1. The id's in the IMDB dataset are prefixed with the string \"tt\"\n",
    "2. The id's in the OpenSubtitle dataset has stripped away leading zeros in the imdb id\n",
    "\n",
    "Let's define a simple spark UDF which will take care of both inconsistencies:"
   ]
  },
  {
   "cell_type": "code",
   "execution_count": 20,
   "metadata": {},
   "outputs": [],
   "source": [
    "remove_prefix_and_leading_zeros = F.udf(lambda x: x[2:].lstrip('0'), StringType())"
   ]
  },
  {
   "cell_type": "code",
   "execution_count": 21,
   "metadata": {},
   "outputs": [
    {
     "name": "stdout",
     "output_type": "stream",
     "text": [
      "+-------+--------------------+----+---------+-----+------------+--------+-------------+-------+\n",
      "|    _id|               genre|year|sentences|words|    duration|numVotes|averageRating|imdb_id|\n",
      "+-------+--------------------+----+---------+-----+------------+--------+-------------+-------+\n",
      "|4579146|Comedy,Drama,Romance|1990|     1332| 9373|01:39:48,845|   25410|          6.6| 100140|\n",
      "|3678600|Comedy,Drama,Romance|1990|     1344| 9365|01:41:20,585|   25410|          6.6| 100140|\n",
      "|6325233|Comedy,Drama,Romance|1990|     2066|15353|01:50:03,583|   25410|          6.6| 100140|\n",
      "+-------+--------------------+----+---------+-----+------------+--------+-------------+-------+\n",
      "only showing top 3 rows\n",
      "\n"
     ]
    }
   ],
   "source": [
    "remove_prefix = F.udf(lambda x: x[2:], StringType())\n",
    "imdb_ratings = imdb_ratings.select('averageRating', \n",
    "                                   'numVotes', \n",
    "                                   remove_prefix_and_leading_zeros(F.col('tconst')).alias('id'))\n",
    "# we do a left outer join since we still want to keep movies from our original dataset that \n",
    "# does not match any movies in the imdb dataset.\n",
    "metadata_df = metadata_df.join(imdb_ratings, metadata_df.imdb_id == imdb_ratings.id, \"left_outer\")\\\n",
    "     .select('_id', 'genre', 'year', 'sentences', 'words', 'duration', 'numVotes', 'averageRating', 'imdb_id')\n",
    "metadata_df.show(3)"
   ]
  },
  {
   "cell_type": "code",
   "execution_count": 22,
   "metadata": {},
   "outputs": [],
   "source": [
    "metadata_df.write.mode(\"overwrite\").parquet('./datasets/metadata_df.parquet')"
   ]
  },
  {
   "cell_type": "markdown",
   "metadata": {},
   "source": [
    "# 1. Descriptive statistics"
   ]
  },
  {
   "cell_type": "markdown",
   "metadata": {},
   "source": [
    "## 1.1 Meta data dataframe"
   ]
  },
  {
   "cell_type": "markdown",
   "metadata": {},
   "source": [
    "Before working with our data, let's get to know it. We will start by getting the movie data."
   ]
  },
  {
   "cell_type": "code",
   "execution_count": 8,
   "metadata": {},
   "outputs": [
    {
     "name": "stdout",
     "output_type": "stream",
     "text": [
      "There are 177039 entries in the dataset.\n"
     ]
    }
   ],
   "source": [
    "movies = spark.read.parquet(\"./datasets/metadata_final.parquet\") #177039\n",
    "print(\"There are \" + str(movies.count()) + \" entries in the dataset.\")"
   ]
  },
  {
   "cell_type": "markdown",
   "metadata": {},
   "source": [
    "What information do we have for every movie?"
   ]
  },
  {
   "cell_type": "code",
   "execution_count": 9,
   "metadata": {},
   "outputs": [
    {
     "data": {
      "text/plain": [
       "StructType(List(StructField(_id,IntegerType,true),StructField(genre,StringType,true),StructField(year,IntegerType,true),StructField(sentences,IntegerType,true),StructField(words,IntegerType,true),StructField(duration,IntegerType,true),StructField(numVotes,IntegerType,true),StructField(averageRating,FloatType,true),StructField(imdb_id,StringType,true)))"
      ]
     },
     "execution_count": 9,
     "metadata": {},
     "output_type": "execute_result"
    }
   ],
   "source": [
    "movies.schema"
   ]
  },
  {
   "cell_type": "code",
   "execution_count": 10,
   "metadata": {},
   "outputs": [
    {
     "name": "stdout",
     "output_type": "stream",
     "text": [
      "root\n",
      " |-- id: integer (nullable = true)\n",
      " |-- genre: string (nullable = true)\n",
      " |-- year: integer (nullable = true)\n",
      " |-- sentences: integer (nullable = true)\n",
      " |-- words: integer (nullable = true)\n",
      " |-- duration: integer (nullable = true)\n",
      " |-- numVotes: integer (nullable = true)\n",
      " |-- averageRating: float (nullable = true)\n",
      " |-- imdb_id: string (nullable = true)\n",
      "\n"
     ]
    }
   ],
   "source": [
    "# convert to DF format\n",
    "movies = movies.toDF('id', \n",
    "                     'genre', \n",
    "                     'year', \n",
    "                     'sentences', \n",
    "                     'words', \n",
    "                     'duration', \n",
    "                     'numVotes', \n",
    "                     'averageRating', \n",
    "                     'imdb_id')\n",
    "\n",
    "\n",
    "\"\"\"\n",
    "\n",
    "ALL OF THIS HAS MOVED TO THE ABOVE SECTION\n",
    "\n",
    "# number of words, sentences, numVotes and year are ints \n",
    "movies = movies.withColumn(\"words\", movies[\"words\"].cast(\"int\"))\n",
    "movies = movies.withColumn(\"sentences\", movies[\"sentences\"].cast(\"int\"))\n",
    "movies = movies.withColumn(\"numVotes\", movies[\"numVotes\"].cast(\"int\"))\n",
    "movies = movies.withColumn(\"year\", movies[\"year\"].cast(\"int\"))\n",
    "\n",
    "# AverageRating is a float\n",
    "movies = movies.withColumn(\"averageRating\", movies[\"averageRating\"].cast(\"float\"))\n",
    "\n",
    "\n",
    "# convert duration to minutes\n",
    "@udf('string')\n",
    "def convert_duration(duration):\n",
    "    try:\n",
    "        return str(int(duration[:2]) * 60 + int(duration[3:5])) \n",
    "    except: \n",
    "        return \"0\"\n",
    "\n",
    "movies = movies.withColumn(\"duration\", convert_duration(movies.duration))\n",
    "movies = movies.withColumn(\"duration\", movies[\"duration\"].cast(\"int\"))\n",
    "\n",
    "\"\"\"\n",
    "\n",
    "movies.printSchema()"
   ]
  },
  {
   "cell_type": "markdown",
   "metadata": {},
   "source": [
    "Our dataset contains a lot of TV series along with the movies. We can say that almost all TV series are less than 60 minutes long, while almost all movies are longer than 60 minutes.\n",
    "\n",
    "Considering we want __only__ films in our dataset, we will remove all entries which have a duration of less than 60 minutes. This should remove the great majority of TV series and keep the great majority of films in our dataset."
   ]
  },
  {
   "cell_type": "code",
   "execution_count": 12,
   "metadata": {},
   "outputs": [
    {
     "name": "stdout",
     "output_type": "stream",
     "text": [
      "We are left with 74674 films after removing the TV series.\n"
     ]
    }
   ],
   "source": [
    "movies = movies.filter(movies.duration > 60) \n",
    "print(\"We are left with \" + str(movies.count()) + \" films after removing the TV series.\")"
   ]
  },
  {
   "cell_type": "markdown",
   "metadata": {},
   "source": [
    "### 1.1.1 Number of movies by year\n",
    "\n",
    "So how many movies are there for each year? We presume there will be more movies in recent years than 1950. \n",
    "\n",
    "Firstly, we check the range of the years."
   ]
  },
  {
   "cell_type": "code",
   "execution_count": 13,
   "metadata": {},
   "outputs": [
    {
     "name": "stdout",
     "output_type": "stream",
     "text": [
      "+-------+------------------+\n",
      "|summary|              year|\n",
      "+-------+------------------+\n",
      "|  count|             74416|\n",
      "|   mean|1995.3661175016125|\n",
      "| stddev| 21.92565919323366|\n",
      "|    min|              1896|\n",
      "|    max|              2017|\n",
      "+-------+------------------+\n",
      "\n"
     ]
    }
   ],
   "source": [
    "movies.describe('year').show()"
   ]
  },
  {
   "cell_type": "markdown",
   "metadata": {},
   "source": [
    "Now let's draw a chart showing exactly how many movies were there for each year."
   ]
  },
  {
   "cell_type": "code",
   "execution_count": 14,
   "metadata": {},
   "outputs": [],
   "source": [
    "# get movie counts per year\n",
    "movies_per_year = movies.groupby('year').count()\n",
    "\n",
    "# convert to Pandas for plotting\n",
    "ydf = movies_per_year.toPandas()\n",
    "\n",
    "# sort the films by year\n",
    "ydf = ydf.sort_values(by='year')"
   ]
  },
  {
   "cell_type": "markdown",
   "metadata": {},
   "source": [
    "We need to clean our data of null values and inconsistent entries."
   ]
  },
  {
   "cell_type": "code",
   "execution_count": 15,
   "metadata": {},
   "outputs": [
    {
     "name": "stdout",
     "output_type": "stream",
     "text": [
      "Before cleaning we have 74674 films. \n",
      "After cleaning we have 74416 films. \n",
      "Only 0.00346% of our dataset was invalid/inconsistent.\n"
     ]
    }
   ],
   "source": [
    "n_before = sum(ydf['count'])\n",
    "print(\"Before cleaning we have \" + str(n_before) + \" films. \")\n",
    "\n",
    "# convert year to int the 'year' value\n",
    "ydf['year'] = pd.to_numeric(ydf['year'], errors='coerce', downcast='integer')\n",
    "\n",
    "# remove films with \"Nan\" as year value\n",
    "# since we cannot really use them\n",
    "ydf = ydf.dropna()\n",
    "ydf = ydf.reset_index(drop=True)\n",
    "ydf['year'] = ydf['year'].astype('int')\n",
    "\n",
    "n_after = sum(ydf['count'])\n",
    "print(\"After cleaning we have \" + str(n_after) + \" films. \")\n",
    "print(\"Only %.5f%% of our dataset was invalid/inconsistent.\" % (1 - (n_after/n_before)))"
   ]
  },
  {
   "cell_type": "markdown",
   "metadata": {},
   "source": [
    "To plot the number of films by year, we will bin them to make the visualization clearer.\n",
    "\n",
    "Considering we have movies from 1896 to 2020, we are going to make 13 bins for each decade from 1890s to 2010s (We are going to put year 2020 in 2010s, it will not change much because we have only  6 films for 2020)"
   ]
  },
  {
   "cell_type": "code",
   "execution_count": 16,
   "metadata": {},
   "outputs": [],
   "source": [
    "years = list(ydf['year'])\n",
    "labels = []\n",
    "counts = []\n",
    "\n",
    "for decade in range(1890, 2020, 10):\n",
    "    # create bin label\n",
    "    label = str(decade) + \"s\"\n",
    "    labels.append(label)\n",
    "    \n",
    "    # calculate count for the bin\n",
    "    count = 0\n",
    "    for year in range(decade, decade+10):\n",
    "        if year in years:\n",
    "            count += int(ydf.loc[ydf['year'] == year]['count'])\n",
    "    counts.append(count)\n",
    "\n",
    "# add the 2020 to the 2010s decade\n",
    "counts[11] += int(ydf.loc[ydf['year'] == 2010]['count'])"
   ]
  },
  {
   "cell_type": "code",
   "execution_count": 17,
   "metadata": {},
   "outputs": [
    {
     "data": {
      "image/png": "[encoded data removed]",
      "text/plain": [
       "<Figure size 1080x720 with 1 Axes>"
      ]
     },
     "metadata": {},
     "output_type": "display_data"
    }
   ],
   "source": [
    "plt.figure(figsize=(15,10))\n",
    "plt.bar(labels, counts)\n",
    "plt.title('Number of films per decade')\n",
    "plt.show()"
   ]
  },
  {
   "cell_type": "markdown",
   "metadata": {},
   "source": [
    "As expected, we have more films in the recent decades. We can see from the plot above that the amount of data from the 1900s and 1910s decades are very low. Let's have a look at the exact number:"
   ]
  },
  {
   "cell_type": "code",
   "execution_count": 18,
   "metadata": {},
   "outputs": [
    {
     "name": "stdout",
     "output_type": "stream",
     "text": [
      "Number of movies from 1890s: 1\n",
      "Number of movies from 1900s: 4\n"
     ]
    }
   ],
   "source": [
    "regex1900 = \"190[0-9]\"\n",
    "regex1890 = \"189[0-9]\"\n",
    "print(\"Number of movies from 1890s: {}\".format(movies.filter(movies[\"year\"].rlike(regex1890)).count()))\n",
    "print(\"Number of movies from 1900s: {}\".format(movies.filter(movies[\"year\"].rlike(regex1900)).count()))"
   ]
  },
  {
   "cell_type": "markdown",
   "metadata": {},
   "source": [
    "No meaningful analysis about the 1890s and 1900s can be done with so few data points, we will therefore drop these entries from the data set."
   ]
  },
  {
   "cell_type": "code",
   "execution_count": 19,
   "metadata": {},
   "outputs": [],
   "source": [
    "movies = movies.filter((movies[\"year\"].rlike(regex1890) == False))\n",
    "movies = movies.filter((movies[\"year\"].rlike(regex1900) == False))"
   ]
  },
  {
   "cell_type": "markdown",
   "metadata": {},
   "source": [
    "### 1.1.2 Median number of sentences by year"
   ]
  },
  {
   "cell_type": "markdown",
   "metadata": {},
   "source": [
    "Our project is about evolution of language used in films, so let's have a peek at how and did it change over time. We will start by showing the median number of sentences for each year. We use median instead of mean since it's a more robust measure so in the case we have some invalid data (like unfinished movie subtitles with just a few sentences) it will behave better."
   ]
  },
  {
   "cell_type": "code",
   "execution_count": 20,
   "metadata": {},
   "outputs": [],
   "source": [
    "# get median number of sentences per year\n",
    "percentile = F.expr('percentile_approx(sentences, 0.5)')\n",
    "sdf_ = movies.groupby('year').agg(percentile.alias('n_sent_median'))\n",
    "\n",
    "# convert to Pandas for plotting\n",
    "sdf = sdf_.toPandas()\n",
    "\n",
    "# sort the films by year\n",
    "sdf = sdf.sort_values(by='year')\n",
    "\n",
    "# convert year to int the 'year' value\n",
    "sdf['year'] = pd.to_numeric(sdf['year'], errors='coerce', downcast='integer')\n",
    "\n",
    "# remove films with \"Nan\" as year value\n",
    "# since we cannot really use them\n",
    "sdf = sdf.dropna()\n",
    "sdf = sdf.reset_index(drop=True)\n",
    "sdf['year'] = sdf['year'].astype('int')"
   ]
  },
  {
   "cell_type": "markdown",
   "metadata": {},
   "source": [
    "We will now visualize the median number of sentences by decade. For each decade, we will take the average of medians for that decade. We will ignore year 2020 (for all decades to have exactly 10 years)."
   ]
  },
  {
   "cell_type": "code",
   "execution_count": 21,
   "metadata": {},
   "outputs": [],
   "source": [
    "years = list(sdf['year'])\n",
    "labels = []\n",
    "medians = []\n",
    "\n",
    "for decade in range(1910, 2020, 10):\n",
    "    # create bin label\n",
    "    label = str(decade) + \"s\"\n",
    "    labels.append(label)\n",
    "    \n",
    "    # calculate count for the bin\n",
    "    median = 0\n",
    "    count = 0\n",
    "    for year in range(decade, decade+10):\n",
    "        if year in years:\n",
    "            median += int(sdf.loc[sdf['year'] == year]['n_sent_median'])\n",
    "            count += 1\n",
    "    medians.append(median / count)"
   ]
  },
  {
   "cell_type": "code",
   "execution_count": 22,
   "metadata": {},
   "outputs": [
    {
     "data": {
      "image/png": "[encoded data removed]",
      "text/plain": [
       "<Figure size 1080x720 with 1 Axes>"
      ]
     },
     "metadata": {},
     "output_type": "display_data"
    }
   ],
   "source": [
    "plt.figure(figsize=(15,10))\n",
    "plt.bar(labels, medians)\n",
    "plt.title('Median number of sentences per decade')\n",
    "plt.show()"
   ]
  },
  {
   "cell_type": "markdown",
   "metadata": {},
   "source": [
    "On this graph we can see some interesting things. Before 1930s, in the era of the silent films, there is a low number of sentences for each movie. In the 30s, the first decade of the \"sound era\", the number gets much larger: the movies have proper dialogue now. In the later decades, it seems the number has lowered a bit, but it didn't change much and is mostly around 1000 to 1400 senences per film."
   ]
  },
  {
   "cell_type": "markdown",
   "metadata": {},
   "source": [
    "### 1.1.3 Median number of words in sentences by year"
   ]
  },
  {
   "cell_type": "markdown",
   "metadata": {},
   "source": [
    "We already checked sentences, but they can hide something. The number of words is also important. A movie can have many sentences but most of them can be very short. So let's check the median number of words per year and visualize it."
   ]
  },
  {
   "cell_type": "code",
   "execution_count": 23,
   "metadata": {},
   "outputs": [],
   "source": [
    "# get median number of words per year\n",
    "percentile = F.expr('percentile_approx(words, 0.5)')\n",
    "wdf_ = movies.groupby('year').agg(percentile.alias('n_word_median'))\n",
    "\n",
    "# convert to Pandas for plotting\n",
    "wdf = wdf_.toPandas()\n",
    "\n",
    "# sort the films by year\n",
    "wdf = wdf.sort_values(by='year')\n",
    "\n",
    "# convert year to int the 'year' value\n",
    "wdf['year'] = pd.to_numeric(wdf['year'], errors='coerce', downcast='integer')\n",
    "\n",
    "# remove films with \"Nan\" as year value\n",
    "# since we cannot really use them\n",
    "wdf = wdf.dropna()\n",
    "wdf = wdf.reset_index(drop=True)\n",
    "wdf['year'] = wdf['year'].astype('int')"
   ]
  },
  {
   "cell_type": "code",
   "execution_count": 24,
   "metadata": {},
   "outputs": [],
   "source": [
    "years = list(wdf['year'])\n",
    "labels = []\n",
    "medians = []\n",
    "\n",
    "for decade in range(1910, 2020, 10):\n",
    "    # create bin label\n",
    "    label = str(decade) + \"s\"\n",
    "    labels.append(label)\n",
    "    \n",
    "    # calculate count for the bin\n",
    "    median = 0\n",
    "    count = 0\n",
    "    for year in range(decade, decade+10):\n",
    "        if year in years:\n",
    "            median += int(wdf.loc[wdf['year'] == year]['n_word_median'])\n",
    "            count += 1\n",
    "    medians.append(median / count)"
   ]
  },
  {
   "cell_type": "code",
   "execution_count": 25,
   "metadata": {},
   "outputs": [
    {
     "data": {
      "image/png": "[encoded data removed]",
      "text/plain": [
       "<Figure size 1080x720 with 1 Axes>"
      ]
     },
     "metadata": {},
     "output_type": "display_data"
    }
   ],
   "source": [
    "plt.figure(figsize=(15,10))\n",
    "plt.bar(labels, medians)\n",
    "plt.title('Median number of words per decade')\n",
    "plt.show()"
   ]
  },
  {
   "cell_type": "markdown",
   "metadata": {},
   "source": [
    "The graph seems very similar to the sentences graph in the previous section. So we can assume that number of words for each sentence did not really change."
   ]
  },
  {
   "cell_type": "markdown",
   "metadata": {},
   "source": [
    "### 1.1.4 Median film duration by year"
   ]
  },
  {
   "cell_type": "markdown",
   "metadata": {},
   "source": [
    "Looking at the number of sentences per year we noticed that there is a smaller number of sentences in films in recent decades. However, could it be just because films were longer in the past? \n",
    "\n",
    "We will check the median film duration for every year. Again, we will visualize it in decades, taking the average of the median for each year of the decade. "
   ]
  },
  {
   "cell_type": "code",
   "execution_count": 26,
   "metadata": {},
   "outputs": [],
   "source": [
    "# get median duration per year\n",
    "percentile = F.expr('percentile_approx(duration, 0.5)')\n",
    "ddf_ = movies.groupby('year').agg(percentile.alias('duration_median'))\n",
    "\n",
    "# convert to Pandas for plotting\n",
    "ddf = ddf_.toPandas()\n",
    "\n",
    "# sort the films by year\n",
    "ddf = ddf.sort_values(by='year')\n",
    "\n",
    "# convert year to int the 'year' value\n",
    "ddf['year'] = pd.to_numeric(ddf['year'], errors='coerce', downcast='integer')\n",
    "\n",
    "# remove films with \"Nan\" as year value\n",
    "# since we cannot really use them\n",
    "ddf = ddf.dropna()\n",
    "ddf = ddf.reset_index(drop=True)\n",
    "ddf['year'] = ddf['year'].astype('int')"
   ]
  },
  {
   "cell_type": "code",
   "execution_count": 27,
   "metadata": {},
   "outputs": [],
   "source": [
    "years = list(ddf['year'])\n",
    "labels = []\n",
    "medians = []\n",
    "\n",
    "for decade in range(1910, 2020, 10):\n",
    "    # create bin label\n",
    "    label = str(decade) + \"s\"\n",
    "    labels.append(label)\n",
    "    \n",
    "    # calculate count for the bin\n",
    "    median = 0\n",
    "    count = 0\n",
    "    for year in range(decade, decade+10):\n",
    "        if year in years:\n",
    "            median += int(ddf.loc[wdf['year'] == year]['duration_median'])\n",
    "            count += 1\n",
    "    medians.append(median / count)"
   ]
  },
  {
   "cell_type": "code",
   "execution_count": 28,
   "metadata": {},
   "outputs": [
    {
     "data": {
      "image/png": "[encoded data removed]",
      "text/plain": [
       "<Figure size 1080x720 with 1 Axes>"
      ]
     },
     "metadata": {},
     "output_type": "display_data"
    }
   ],
   "source": [
    "plt.figure(figsize=(15,10))\n",
    "plt.bar(labels, medians)\n",
    "plt.title('Median duration per decade (in minutes)')\n",
    "plt.show()"
   ]
  },
  {
   "cell_type": "markdown",
   "metadata": {},
   "source": [
    "As can be seen, the duration of the films did not really change by the years. The median duration is always around 80 to 100 minutes, even in the silent film era."
   ]
  },
  {
   "cell_type": "markdown",
   "metadata": {},
   "source": [
    "### 1.1.5 Distribution of genres"
   ]
  },
  {
   "cell_type": "markdown",
   "metadata": {},
   "source": [
    "We are going to see what is the distribution of genres in our dataset."
   ]
  },
  {
   "cell_type": "code",
   "execution_count": 29,
   "metadata": {},
   "outputs": [
    {
     "name": "stdout",
     "output_type": "stream",
     "text": [
      "We have 42 genres.\n"
     ]
    }
   ],
   "source": [
    "# make genre column into a list of genres\n",
    "movies_ = movies.withColumn(\"genre\", F.split(movies.genre, ','))\n",
    "\n",
    "# make a row for each genre\n",
    "movies_ = movies_.withColumn(\"genre\", F.explode(\"genre\"))\n",
    "\n",
    "# get count of each genre\n",
    "genres_ = movies_.groupby('genre').count()\n",
    "\n",
    "# convert to Pandas for plotting\n",
    "genres = genres_.toPandas()\n",
    "\n",
    "print(\"We have \" + str(len(genres)) + \" genres.\")"
   ]
  },
  {
   "cell_type": "markdown",
   "metadata": {},
   "source": [
    "For visualization, we are going to remove the genres with a low count (which have less than 1000 entries).\n",
    "\n",
    "Also, we are going to sort them by count."
   ]
  },
  {
   "cell_type": "code",
   "execution_count": 30,
   "metadata": {},
   "outputs": [],
   "source": [
    "genres = genres.query(\"count > 1000\")\n",
    "genres = genres.sort_values(by='count')"
   ]
  },
  {
   "cell_type": "markdown",
   "metadata": {},
   "source": [
    "Let's plot the distribution of genres as a pie chart."
   ]
  },
  {
   "cell_type": "code",
   "execution_count": 31,
   "metadata": {},
   "outputs": [
    {
     "data": {
      "image/png": "[encoded data removed]",
      "text/plain": [
       "<Figure size 720x720 with 1 Axes>"
      ]
     },
     "metadata": {},
     "output_type": "display_data"
    }
   ],
   "source": [
    "plt.figure(figsize=(10,10))\n",
    "plt.pie(genres['count'], labels=genres['genre'])\n",
    "plt.title('Distribution of film genres')\n",
    "plt.show()"
   ]
  },
  {
   "cell_type": "markdown",
   "metadata": {},
   "source": [
    "### 1.1.5 Distribution of IMDB ratings"
   ]
  },
  {
   "cell_type": "markdown",
   "metadata": {},
   "source": [
    "Let's start by filtering out all movies which we don't have an IMDB rating "
   ]
  },
  {
   "cell_type": "code",
   "execution_count": 32,
   "metadata": {},
   "outputs": [],
   "source": [
    "movies_with_rating = movies.filter(F.col(\"averageRating\").isNotNull())"
   ]
  },
  {
   "cell_type": "markdown",
   "metadata": {},
   "source": [
    "How large porportion of the movies in our dataset contains IMDB ratings?"
   ]
  },
  {
   "cell_type": "code",
   "execution_count": 33,
   "metadata": {},
   "outputs": [
    {
     "name": "stdout",
     "output_type": "stream",
     "text": [
      "0.994\n"
     ]
    }
   ],
   "source": [
    "number_of_movies_with_ratings = movies_with_rating.count()\n",
    "number_of_movies = movies.count()\n",
    "print(round(number_of_movies_with_ratings / number_of_movies, 3))"
   ]
  },
  {
   "cell_type": "markdown",
   "metadata": {},
   "source": [
    "We have ratings for close to all of the movies in our dataset, great!\n",
    "\n",
    "Let's have a look at the distribution of imdb ratings:"
   ]
  },
  {
   "cell_type": "code",
   "execution_count": 34,
   "metadata": {},
   "outputs": [],
   "source": [
    "movies_with_ratings_pandas = movies_with_rating.toPandas()\n",
    "movies_with_ratings_pandas['numVotes'] = movies_with_ratings_pandas['numVotes'].astype(int)\n",
    "movies_with_ratings_pandas['averageRating'] = movies_with_ratings_pandas['averageRating'].astype(float)"
   ]
  },
  {
   "cell_type": "code",
   "execution_count": 35,
   "metadata": {},
   "outputs": [
    {
     "data": {
      "text/plain": [
       "Text(0.5,0,'IMDB rating')"
      ]
     },
     "execution_count": 35,
     "metadata": {},
     "output_type": "execute_result"
    },
    {
     "data": {
      "image/png": "[encoded data removed]",
      "text/plain": [
       "<Figure size 720x432 with 1 Axes>"
      ]
     },
     "metadata": {},
     "output_type": "display_data"
    }
   ],
   "source": [
    "ax = movies_with_ratings_pandas['averageRating']\\\n",
    "    .plot\\\n",
    "    .hist(title=\"Ditibution of IMDB ratings\", grid=True, figsize=(10,6), bins=20)\n",
    "ax.set_xlabel(\"IMDB rating\")"
   ]
  },
  {
   "cell_type": "markdown",
   "metadata": {},
   "source": [
    "Judging from the above plot, it appears that the imdb ratings follow a normal distribution with a slight tail to the left and a mean of around ~7."
   ]
  },
  {
   "cell_type": "markdown",
   "metadata": {},
   "source": [
    "### 1.1.5 Mean film rating by decade"
   ]
  },
  {
   "cell_type": "markdown",
   "metadata": {},
   "source": [
    "Let's first start with dropping rows which contain null values in the year column."
   ]
  },
  {
   "cell_type": "code",
   "execution_count": 36,
   "metadata": {},
   "outputs": [],
   "source": [
    "movies_with_ratings_pandas = movies_with_ratings_pandas.dropna(subset=['year'])"
   ]
  },
  {
   "cell_type": "markdown",
   "metadata": {},
   "source": [
    "We bin our movies into decades by rounding the year column to the closest decade."
   ]
  },
  {
   "cell_type": "code",
   "execution_count": 37,
   "metadata": {},
   "outputs": [],
   "source": [
    "movies_with_ratings_pandas['decade'] = (movies_with_ratings_pandas['year'] - (movies_with_ratings_pandas['year'] % 10)).astype(int)"
   ]
  },
  {
   "cell_type": "markdown",
   "metadata": {},
   "source": [
    "In order to get the mean of each decade, we group by the decade column and aggregate by taking the mean."
   ]
  },
  {
   "cell_type": "code",
   "execution_count": 38,
   "metadata": {},
   "outputs": [],
   "source": [
    "decade_imdb_mean = movies_with_ratings_pandas\\\n",
    "    .groupby('decade')\\\n",
    "    .mean()['averageRating']\n",
    "decade_imdb_mean.index = decade_imdb_mean.index.astype(str) + \"s\""
   ]
  },
  {
   "cell_type": "code",
   "execution_count": 39,
   "metadata": {},
   "outputs": [
    {
     "data": {
      "image/png": "[encoded data removed]",
      "text/plain": [
       "<Figure size 1080x720 with 1 Axes>"
      ]
     },
     "metadata": {},
     "output_type": "display_data"
    }
   ],
   "source": [
    "plt.figure(figsize=(15,10))\n",
    "ax = plt.bar(decade_imdb_mean.index, decade_imdb_mean)\n",
    "plt.title('Mean imdb rating per decade')\n",
    "plt.xlabel('Decade')\n",
    "plt.ylabel('Mean IMDB rating')\n",
    "plt.show()"
   ]
  },
  {
   "cell_type": "markdown",
   "metadata": {},
   "source": [
    "There are two key observations in the above plot:\n",
    "\n",
    "1. The mean imdb rating has a peak around 1920-1940s.\n",
    "2. The mean imdb rating has slowly but consistently decreased after the 1960s until today"
   ]
  },
  {
   "cell_type": "markdown",
   "metadata": {},
   "source": [
    "## 1.2 Subtitle dataframe (JOIN WITH META DATA AND FILTER OUT TV SHOWS)\n",
    "Let's start by importing the dataframe and printing its schema."
   ]
  },
  {
   "cell_type": "code",
   "execution_count": 83,
   "metadata": {},
   "outputs": [],
   "source": [
    "subtitle_df = spark.read.parquet(\"./datasets/subtitles_final.parquet\")"
   ]
  },
  {
   "cell_type": "code",
   "execution_count": 84,
   "metadata": {},
   "outputs": [
    {
     "name": "stdout",
     "output_type": "stream",
     "text": [
      "root\n",
      " |-- _id: integer (nullable = true)\n",
      " |-- sentence: array (nullable = true)\n",
      " |    |-- element: string (containsNull = true)\n",
      "\n",
      "+-------+--------------------+\n",
      "|    _id|            sentence|\n",
      "+-------+--------------------+\n",
      "|5131043|[They, 're, indep...|\n",
      "|5131043|[they, 're, affec...|\n",
      "|5131043|[they, 're, loyal...|\n",
      "|5131043|[they, 're, sagac...|\n",
      "|5131043|[they, 're, ineff...|\n",
      "|5131043|[Cats, are, magic...|\n",
      "|5131043|[They, really, ar...|\n",
      "|5131043|[Probably, the, m...|\n",
      "|5131043|[They, 're, also,...|\n",
      "|5131043|[they, 're, very,...|\n",
      "|5131043|[That, 's, anothe...|\n",
      "|5131043|[The, domestic, c...|\n",
      "|5131043|[Within, even, th...|\n",
      "|5131043|[Even, after, tho...|\n",
      "|5131043|[Now, ,, scientis...|\n",
      "|5131043|[For, them, ,, th...|\n",
      "|5131043|[To, share, one, ...|\n",
      "|5131043|[Perhaps, the, wr...|\n",
      "|5131043|[\", God, made, th...|\n",
      "|5131043|[Today, ,, the, W...|\n",
      "+-------+--------------------+\n",
      "only showing top 20 rows\n",
      "\n"
     ]
    }
   ],
   "source": [
    "subtitle_df.printSchema()\n",
    "subtitle_df.show()"
   ]
  },
  {
   "cell_type": "markdown",
   "metadata": {},
   "source": [
    "Let's count the total amount of sentences we have in our dataframe:"
   ]
  },
  {
   "cell_type": "code",
   "execution_count": 85,
   "metadata": {},
   "outputs": [
    {
     "name": "stdout",
     "output_type": "stream",
     "text": [
      "Total amount of sentences: 104322445\n"
     ]
    }
   ],
   "source": [
    "print(\"Total amount of sentences: {}\".format(subtitle_df.count())) "
   ]
  },
  {
   "cell_type": "markdown",
   "metadata": {},
   "source": [
    "Let's continue by counting the total amount of words. Since each sentence is saved as an array of words, we can easily calculate the sentence length by computing the length of each sentence array and if we later sum over this column we will get the total amount of words in the dataframe."
   ]
  },
  {
   "cell_type": "code",
   "execution_count": 86,
   "metadata": {},
   "outputs": [],
   "source": [
    "# Create column with sentence length\n",
    "subtitle_df = subtitle_df.withColumn('sentence_length',F.size(F.col('sentence')))\n",
    "\n",
    "# Sum all sentence lenegths to get total amount of words\n",
    "total_amount_of_words = subtitle_df.groupBy().sum().collect()"
   ]
  },
  {
   "cell_type": "code",
   "execution_count": 87,
   "metadata": {},
   "outputs": [
    {
     "name": "stdout",
     "output_type": "stream",
     "text": [
      "Total amount of words: 746037179\n"
     ]
    }
   ],
   "source": [
    "print(\"Total amount of words: {}\".format(total_amount_of_words[0][1])) "
   ]
  },
  {
   "cell_type": "markdown",
   "metadata": {},
   "source": [
    "As can be observed in the above printouts, we are dealing with a lot of text. However, it's important to note that not all words will be used in the analysis. We will elaborate more on this below in the **Preprocessing** section."
   ]
  },
  {
   "cell_type": "markdown",
   "metadata": {},
   "source": [
    "# 2. Preprocessing (SHOULD BE REWRITTEN/REMOVED)"
   ]
  },
  {
   "cell_type": "markdown",
   "metadata": {},
   "source": [
    "Before starting the text analysis, we will do some preprocessing steps in order to transform the subtitle texts to a more suitable format and remove undesirable parts. \n",
    "\n",
    "As previously mentioned in the parsing section, sentences are stored as lists of strings. For instance the sentence \"You're a lovely person.\" would be represented by the following list:\n",
    "`[\"You\", \"'re\", \"a\", \"lovely\", \"person\", \".\"]`.\n",
    "\n",
    "\n",
    "There are a few types of words that we do not desire to be part of the analysis, we want to remove common words that do not add any value or meaning to the text. One such category is stop words (https://en.wikipedia.org/wiki/Stop_words). \n",
    "\n",
    "We also do not care about the punctuations (https://en.wikipedia.org/wiki/Punctuation) hence we will remove those as well.  \n",
    "\n",
    "Finally, we also want to transform each word into its \"base\" form. For instance, the words take, took and taken should be treated as a single word in the analysis and not as three different ones. We will use Lemmatisation (https://en.wikipedia.org/wiki/Lemmatisation) in order to turn \"took\" and \"taken\" into their verb base form which is \"take\". However, we do not only want to lemmatize words but also other cases such as transforming plural words into singular and remove the -ing part of words (walking -> walk) etc.\n",
    "\n",
    "Note from the above example sentence that contracted words (https://en.wikipedia.org/wiki/Wikipedia:List_of_English_contractions) are represented as two words in the sentence list. This makes sence when calculating the length of each sentence since a contracted word is actually two words. However, the part on the right hande side of the apostrophe in the contracted word does not add any value to our analysis. Therefore we will drop any word which starts with an apostrophe. \n",
    "\n",
    "Finally, we also want to transform each word into lower case. We want the words \"Take\" and \"take\" to be treated as the same word.\n",
    "\n",
    "To summerize, we are doing the folloing preprocessing steps of our subtitle data:\n",
    "\n",
    "1. Transform each word into lower case \n",
    "2. Remove stop words\n",
    "3. Remove punctuation \n",
    "4. Lemmatize words\n",
    "5. Remove words which starts with an apostrophe\n",
    "\n",
    "Let's perform the 5 steps described above!"
   ]
  },
  {
   "cell_type": "code",
   "execution_count": 17,
   "metadata": {},
   "outputs": [
    {
     "name": "stdout",
     "output_type": "stream",
     "text": [
      "+-------+--------------------+---------------+\n",
      "|    _id|            sentence|sentence_length|\n",
      "+-------+--------------------+---------------+\n",
      "|5131043|[[They], ['re], [...|              4|\n",
      "|5131043|[[they], ['re], [...|              4|\n",
      "|5131043|[[they], ['re], [...|              8|\n",
      "+-------+--------------------+---------------+\n",
      "only showing top 3 rows\n",
      "\n"
     ]
    }
   ],
   "source": [
    "subtitle_df = spark.read.parquet(\"./movie_subtitle_final.parquet\")\n",
    "# Filter empty sentences\n",
    "subtitle_df = subtitle_df.filter(F.size(F.col('sentence._VALUE')) > 0)\n",
    "subtitle_df.show(3)"
   ]
  },
  {
   "cell_type": "markdown",
   "metadata": {},
   "source": [
    "**(1)** Let's convert each word into its lower case representation:"
   ]
  },
  {
   "cell_type": "code",
   "execution_count": 18,
   "metadata": {},
   "outputs": [
    {
     "name": "stdout",
     "output_type": "stream",
     "text": [
      "+-------+--------------------+------------------------+\n",
      "|    _id|            sentence|original_sentence_length|\n",
      "+-------+--------------------+------------------------+\n",
      "|5131043|[they, 're, indep...|                       4|\n",
      "|5131043|[they, 're, affec...|                       4|\n",
      "|5131043|[they, 're, loyal...|                       8|\n",
      "+-------+--------------------+------------------------+\n",
      "only showing top 3 rows\n",
      "\n"
     ]
    }
   ],
   "source": [
    "toLowerSentence = F.udf(lambda x: list(map(lambda y: y.lower() if y != None else y, x)), ArrayType(StringType()))\n",
    "subtitle_df = subtitle_df.select('_id', \n",
    "                                 toLowerSentence('sentence._VALUE').alias('sentence'), \n",
    "                                 F.col('sentence_length').alias('original_sentence_length'))\n",
    "subtitle_df.show(3)"
   ]
  },
  {
   "cell_type": "markdown",
   "metadata": {},
   "source": [
    "**(2)** We will take help from the NLTK library(https://www.nltk.org/) to filter out stop words. NLTK provides predefined lists of stop words for several different languages, we will use the list for the english language. "
   ]
  },
  {
   "cell_type": "code",
   "execution_count": 10,
   "metadata": {},
   "outputs": [
    {
     "name": "stdout",
     "output_type": "stream",
     "text": [
      "+-------+--------------------+------------------------+\n",
      "|    _id|            sentence|original_sentence_length|\n",
      "+-------+--------------------+------------------------+\n",
      "|5131043|['re, independent...|                       4|\n",
      "|5131043|['re, affectionat...|                       4|\n",
      "|5131043|['re, loyal, ;, '...|                       8|\n",
      "+-------+--------------------+------------------------+\n",
      "only showing top 3 rows\n",
      "\n"
     ]
    }
   ],
   "source": [
    "stop_words=set(stopwords.words('english'))\n",
    "wordInStopWords = F.udf(lambda x: list(filter(lambda y: y not in stop_words,x)), ArrayType(StringType()))\n",
    "subtitle_df = subtitle_df\\\n",
    "                    .select('_id', wordInStopWords('sentence').alias('sentence'), 'original_sentence_length')\n",
    "subtitle_df.show(3)"
   ]
  },
  {
   "cell_type": "markdown",
   "metadata": {},
   "source": [
    "**(3)** To filter out punctuations, we can use the built in puncuation list contained in the string class of Python."
   ]
  },
  {
   "cell_type": "code",
   "execution_count": 11,
   "metadata": {},
   "outputs": [
    {
     "name": "stdout",
     "output_type": "stream",
     "text": [
      "+-------+--------------------+------------------------+\n",
      "|    _id|            sentence|original_sentence_length|\n",
      "+-------+--------------------+------------------------+\n",
      "|5131043|  ['re, independent]|                       4|\n",
      "|5131043| ['re, affectionate]|                       4|\n",
      "|5131043|['re, loyal, 're,...|                       8|\n",
      "+-------+--------------------+------------------------+\n",
      "only showing top 3 rows\n",
      "\n"
     ]
    }
   ],
   "source": [
    "punctuation_list=list(string.punctuation)\n",
    "remvovePunctuation = F.udf(lambda x: list(filter(lambda y: y not in punctuation_list,x)), ArrayType(StringType()))\n",
    "subtitle_df = subtitle_df\\\n",
    "                    .select('_id', remvovePunctuation('sentence').alias('sentence'), 'original_sentence_length')\n",
    "subtitle_df.show(3)"
   ]
  },
  {
   "cell_type": "markdown",
   "metadata": {},
   "source": [
    "**(4)** The NLTK library provies a lemmatizer API."
   ]
  },
  {
   "cell_type": "code",
   "execution_count": null,
   "metadata": {},
   "outputs": [],
   "source": [
    "lemmatizer = WordNetLemmatizer()\n",
    "lemmatize = F.udf(lambda x: lemmatizer.lemmatize(x, 'v'), StringType())\n",
    "subtitle_df = subtitle_df.select('_id', lemmatize(F.col('word')).alias('word'), 'original_sentence_length')"
   ]
  },
  {
   "cell_type": "markdown",
   "metadata": {},
   "source": [
    "**(5)** Remove words starting with an apostrophe"
   ]
  },
  {
   "cell_type": "code",
   "execution_count": 12,
   "metadata": {
    "scrolled": false
   },
   "outputs": [
    {
     "name": "stdout",
     "output_type": "stream",
     "text": [
      "+-------+------------------+------------------------+\n",
      "|    _id|          sentence|original_sentence_length|\n",
      "+-------+------------------+------------------------+\n",
      "|5131043|     [independent]|                       4|\n",
      "|5131043|    [affectionate]|                       4|\n",
      "|5131043|[loyal, beautiful]|                       8|\n",
      "+-------+------------------+------------------------+\n",
      "only showing top 3 rows\n",
      "\n"
     ]
    }
   ],
   "source": [
    "removeApostopheWords = F.udf(lambda x: list(filter(lambda y: y[0] != \"'\",x)), ArrayType(StringType()))\n",
    "subtitle_df = subtitle_df\\\n",
    "                    .select('_id', removeApostopheWords('sentence').alias('sentence'), 'original_sentence_length')\n",
    "subtitle_df.show(3)"
   ]
  },
  {
   "cell_type": "markdown",
   "metadata": {},
   "source": [
    "Let's have a look on the poportion of words that has been filtered out during the above steps:"
   ]
  },
  {
   "cell_type": "code",
   "execution_count": 13,
   "metadata": {},
   "outputs": [
    {
     "data": {
      "text/plain": [
       "[Row(sum(_id)=15380688203805207, sum(original_sentence_length)=1276487464, sum(sentence_length_after_filtering)=468131830)]"
      ]
     },
     "execution_count": 13,
     "metadata": {},
     "output_type": "execute_result"
    }
   ],
   "source": [
    "subtitle_df = subtitle_df.withColumn('sentence_length_after_filtering',F.size(F.col('sentence')))\n",
    "total_amount_of_words = subtitle_df.groupBy().sum().collect()\n",
    "total_amount_of_words"
   ]
  },
  {
   "cell_type": "code",
   "execution_count": 14,
   "metadata": {
    "scrolled": true
   },
   "outputs": [
    {
     "name": "stdout",
     "output_type": "stream",
     "text": [
      "Total amount of words before filtering: 1276487464\n",
      "Total amount of words after filtering: 468131830\n",
      "Percentage of original size: 0.367\n"
     ]
    }
   ],
   "source": [
    "print(\"Total amount of words before filtering: {}\".format(total_amount_of_words[0][1]))\n",
    "print(\"Total amount of words after filtering: {}\".format(total_amount_of_words[0][2]))\n",
    "print(\"Percentage of original size: {}\".format(round(total_amount_of_words[0][2]/total_amount_of_words[0][1], 3)))"
   ]
  },
  {
   "cell_type": "markdown",
   "metadata": {},
   "source": [
    "After removing punctuations and stop words we are only left with roughly a third of the words of the original dataset. "
   ]
  },
  {
   "cell_type": "markdown",
   "metadata": {},
   "source": [
    "\n",
    "\n",
    "## <font color='red'> (Plan for milestone 3 below)</font>\n"
   ]
  },
  {
   "cell_type": "markdown",
   "metadata": {},
   "source": [
    "# 3. Text analysis "
   ]
  },
  {
   "cell_type": "markdown",
   "metadata": {},
   "source": [
    "## 3.1 Text complexity analysis"
   ]
  },
  {
   "cell_type": "markdown",
   "metadata": {},
   "source": [
    "### 3.1.1 Quantification of text complexity"
   ]
  },
  {
   "cell_type": "markdown",
   "metadata": {},
   "source": [
    "In this subsection we will choose and implement a method for getting a measure of textual complexity. \n",
    "\n",
    "The measure we are going to use is the Dale-Challe readability forumla, as described here:\n",
    "https://en.wikipedia.org/wiki/Dale%E2%80%93Chall_readability_formula\n",
    "\n",
    "The Dale–Chall readability formula is given by the equation below:\n",
    "\n",
    "$$Complexity = 0.1579 * (\\frac{\\text{difficult words}}{\\text{words}} * 100) + 0.0496 * (\\frac{\\text{words}}{\\text{sentences}})$$"
   ]
  },
  {
   "cell_type": "markdown",
   "metadata": {},
   "source": [
    "### 3.1.2 Calculation of complexity for each movie"
   ]
  },
  {
   "cell_type": "markdown",
   "metadata": {},
   "source": [
    "Let's start by importing our subtitle data frame."
   ]
  },
  {
   "cell_type": "code",
   "execution_count": null,
   "metadata": {},
   "outputs": [],
   "source": [
    "subtitle_df = spark.read.parquet('./datasets/subtitles_final.parquet')\n",
    "subtitle_df.show(3)"
   ]
  },
  {
   "cell_type": "markdown",
   "metadata": {},
   "source": [
    "The words which belong to the \"difficult word\" class is all the words which are not present in a list of rougly 3000 \"easy\" words. Let's import the \"easy word\" list."
   ]
  },
  {
   "cell_type": "code",
   "execution_count": 5,
   "metadata": {},
   "outputs": [
    {
     "data": {
      "text/plain": [
       "['a',\n",
       " 'able',\n",
       " 'aboard',\n",
       " 'about',\n",
       " 'above',\n",
       " 'absent',\n",
       " 'accept',\n",
       " 'accident',\n",
       " 'account',\n",
       " 'ache']"
      ]
     },
     "execution_count": 5,
     "metadata": {},
     "output_type": "execute_result"
    }
   ],
   "source": [
    "easy_words = sqlContext.read.text('DaleChallEasyWordList.txt').collect()\n",
    "easy_words = list(map(lambda x: x.value.strip(), easy_words))\n",
    "easy_words[:10]"
   ]
  },
  {
   "cell_type": "markdown",
   "metadata": {},
   "source": [
    "Since we already have the word count of each movie, it might be possible to remove all the stop words from each sentence if they are all present in the \"easy word\" list. This is desirable since it will reduce the number of words greatly which will reduce the computation time. Let's check if if all stop words are present in the easy word list:"
   ]
  },
  {
   "cell_type": "code",
   "execution_count": 11,
   "metadata": {},
   "outputs": [
    {
     "name": "stdout",
     "output_type": "stream",
     "text": [
      "Number of stop words not in easy words: 36\n"
     ]
    }
   ],
   "source": [
    "stop_words=set(stopwords.words('english'))\n",
    "stop_words_not_in_easy_words = []\n",
    "for sw in stop_words:\n",
    "    if sw not in easy_words:\n",
    "        stop_words_not_in_easy_words.append(sw)\n",
    "print(\"Number of stop words not in easy words: {}\".format(len(stop_words_not_in_easy_words)))"
   ]
  },
  {
   "cell_type": "markdown",
   "metadata": {},
   "source": [
    "It appears that quite a few stop words are not in easy words and hence we will keep the stopwords when calculating the complexity score.\n",
    "\n",
    "All the words in the \"easy word\" list is lower cased, we will therefore convert all of our text to lowercase as well:"
   ]
  },
  {
   "cell_type": "code",
   "execution_count": null,
   "metadata": {},
   "outputs": [],
   "source": [
    "@udf(returnType=ArrayType(StringType()))\n",
    "def toLower(sentence):\n",
    "    if sentence == None:\n",
    "        return []\n",
    "    return list(map(lambda y: y.lower() if y != None else y, x)) \n",
    "subtitle_df = subtitle_df.select('_id',\n",
    "                                 toLower('sentence._VALUE').alias('sentence'))"
   ]
  },
  {
   "cell_type": "markdown",
   "metadata": {},
   "source": [
    "We also want to remove punctuations from all of our sentences, the reason being that punctuation is not part of the \"easy\" word list and hence they would all be considered to be difficult words by the dale chale formula. This would give misleading results and hence we filter them out."
   ]
  },
  {
   "cell_type": "code",
   "execution_count": null,
   "metadata": {},
   "outputs": [],
   "source": [
    "@F.udf(returnType=ArrayType(StringType()))\n",
    "def filterPunctuation(sentence):\n",
    "    import string\n",
    "    punctuation_list=list(string.punctuation)\n",
    "    return list(filter(lambda y: y not in punctuation_list,sentence))\n",
    "\n",
    "subtitle_df = subtitle_df\\\n",
    "                    .select('_id', filterPunctuation('sentence').alias('sentence'))"
   ]
  },
  {
   "cell_type": "markdown",
   "metadata": {},
   "source": [
    "We can now start counting the \"difficult words\" in each sentence. First we define two helper functions which will be used when calculating the number of difficult words in each sentence."
   ]
  },
  {
   "cell_type": "code",
   "execution_count": null,
   "metadata": {},
   "outputs": [],
   "source": [
    "@udf(returnType=ArrayType(IntegerType())\n",
    "def difficult_words_in_sentence(sentence):\n",
    "    difficult_words = 0\n",
    "    for i in range(len(sentence) - 1):\n",
    "        if is_difficult(sentence[i], sentence[i + 1]):\n",
    "            difficult_words += 1\n",
    "    if len(sentence) > 0:\n",
    "        if is_difficult(sentence[-1], \"-\"):\n",
    "            difficult_words += 1\n",
    "    return difficult_words\n",
    "\n",
    "# Returns true if the word in not in the easy wordlist. The reason why we compare two words at the time\n",
    "# is because the easy word list contains words like \"don't\" and \"can't\", abbreviated words are stored seperatly in\n",
    "# our dataframe (e.g. \"don't\" is stored as \"don\" and \"'t\"). In order to correctly compare these words, we compare the \n",
    "# concatenation of two words if the second word starts with an \"'\".\n",
    "def is_difficult(word1, word2):\n",
    "     # We import nltk in each function since this function will be running on the cluster\n",
    "    import nltk\n",
    "    from nltk.stem.wordnet import WordNetLemmatizer\n",
    "    lemmatizer = WordNetLemmatizer()\n",
    "    if word2[0] == \"'\":\n",
    "        return word1+word2 not in easy_words\n",
    "    else:\n",
    "        w = word1#lemmatizer.lemmatize(word1, 'v')\n",
    "        return w not in easy_words\n",
    "    return True"
   ]
  },
  {
   "cell_type": "markdown",
   "metadata": {},
   "source": [
    "We can know calculate the number of difficult words in each sentence and then group by movie id to get the total amount of difficult words in each movie."
   ]
  },
  {
   "cell_type": "code",
   "execution_count": null,
   "metadata": {},
   "outputs": [],
   "source": [
    "# Count difficult words in sentence\n",
    "dale_chale_df = subtitle_df\\\n",
    "    .withColumn(\"difficult_words\", difficult_word_udf(subtitle_df.sentence))\n",
    "\n",
    "# Group by id to get total amount of difficult words in each movie\n",
    "dale_chale_df = dale_chale_df\\\n",
    "    .groupby('_id')\\\n",
    "    .sum('difficult_words')\\\n",
    "    .select('_id', F.col('sum(difficult_words)').alias('difficult_words').cast('float'))"
   ]
  },
  {
   "cell_type": "markdown",
   "metadata": {},
   "source": [
    "We now have the amount of difficult words in each movie, to compute the complexity of the text in each movie we only need the total amount of words and sentences in each movie. Both the number of words and sentences is contained in the metadata dataframe. We will therefore join the metadata dataframe with the difficult words dataframe."
   ]
  },
  {
   "cell_type": "code",
   "execution_count": null,
   "metadata": {},
   "outputs": [],
   "source": [
    "# Load meta data dataframe\n",
    "metadata_df = spark.read.parquet(\"metadata_final.parquet\")\\\n",
    "    .select('_id', 'words', 'sentences')\n",
    "\n",
    "# Join dataframes in order to get a dataframe with all quantities needed for the dale chale complexity score\n",
    "complexity_df = metadata_df.alias('m').join(subtitle_df, subtitle_df._id == metadata_df._id, 'inner')\\\n",
    "    .select('m._id', 'words', 'sentences', 'difficult_words')"
   ]
  },
  {
   "cell_type": "code",
   "execution_count": null,
   "metadata": {},
   "outputs": [],
   "source": [
    "@udf('float')\n",
    "def dale_chale_complexity(difficult_words, sentences, words):\n",
    "    x = 0.1579 * ((difficult_words/words) * 100)\n",
    "    y = 0.0496 * (words/sentences)\n",
    "    return x + y\n",
    "complexity_df = complexity_df.withColumn('score', dale_challe_udf('difficult_words', 'sentences', 'words'))"
   ]
  },
  {
   "cell_type": "code",
   "execution_count": null,
   "metadata": {},
   "outputs": [],
   "source": [
    "complexity_df.write.mode('overwrite').parquet('./datasets/complexity_final.parquet')"
   ]
  },
  {
   "cell_type": "markdown",
   "metadata": {},
   "source": [
    "### 3.1.3 Analysis"
   ]
  },
  {
   "cell_type": "code",
   "execution_count": 92,
   "metadata": {},
   "outputs": [
    {
     "name": "stdout",
     "output_type": "stream",
     "text": [
      "root\n",
      " |-- _id: integer (nullable = true)\n",
      " |-- words: integer (nullable = true)\n",
      " |-- sentences: integer (nullable = true)\n",
      " |-- difficult_words: float (nullable = true)\n",
      " |-- score: float (nullable = true)\n",
      "\n"
     ]
    }
   ],
   "source": [
    "complexity_df = spark.read.parquet('./datasets/complexity_final.parquet')\n",
    "complexity_df = complexity_df.withColumn('score', F.col('score').cast('float'))\n",
    "complexity_df.printSchema()"
   ]
  },
  {
   "cell_type": "code",
   "execution_count": 93,
   "metadata": {},
   "outputs": [
    {
     "data": {
      "text/plain": [
       "_id                  int32\n",
       "words                int32\n",
       "sentences            int32\n",
       "difficult_words    float32\n",
       "score              float32\n",
       "dtype: object"
      ]
     },
     "execution_count": 93,
     "metadata": {},
     "output_type": "execute_result"
    }
   ],
   "source": [
    "complexity_df = complexity_df.toPandas()\n",
    "complexity_df.dtypes"
   ]
  },
  {
   "cell_type": "code",
   "execution_count": 94,
   "metadata": {},
   "outputs": [
    {
     "data": {
      "text/plain": [
       "count    74674.000000\n",
       "mean         3.395534\n",
       "std          0.423082\n",
       "min          1.212962\n",
       "25%          3.152759\n",
       "50%          3.370506\n",
       "75%          3.601930\n",
       "max         19.274113\n",
       "Name: score, dtype: float64"
      ]
     },
     "execution_count": 94,
     "metadata": {},
     "output_type": "execute_result"
    }
   ],
   "source": [
    "complexity_df['score'].describe()"
   ]
  },
  {
   "cell_type": "code",
   "execution_count": 95,
   "metadata": {},
   "outputs": [
    {
     "data": {
      "text/plain": [
       "<matplotlib.axes._subplots.AxesSubplot at 0x1a18cd7e80>"
      ]
     },
     "execution_count": 95,
     "metadata": {},
     "output_type": "execute_result"
    },
    {
     "data": {
      "image/png": "[encoded data removed]",
      "text/plain": [
       "<Figure size 432x288 with 1 Axes>"
      ]
     },
     "metadata": {},
     "output_type": "display_data"
    }
   ],
   "source": [
    "complexity_df = complexity_df[complexity_df['score'] < 10] \n",
    "complexity_df['score'].plot.hist(bins=10)"
   ]
  },
  {
   "cell_type": "markdown",
   "metadata": {},
   "source": [
    "### 3.1.2 Comparison of text complexity by year"
   ]
  },
  {
   "cell_type": "markdown",
   "metadata": {},
   "source": [
    "In this subsection we are going to compare the complexity of the movie language for each year.\n",
    "We want to see if the complexity differs across years.\n",
    "\n",
    "To do this, we are going to calculate the text complexity measure for each film, and then take the average of complexity for each year."
   ]
  },
  {
   "cell_type": "markdown",
   "metadata": {},
   "source": [
    "### 3.1.3 Comparison of text complexity by genre"
   ]
  },
  {
   "cell_type": "markdown",
   "metadata": {},
   "source": [
    "In this subsection we are going to compare the complexity of the movie language for each genre.\n",
    "Do some genres use more simple language than others?\n",
    "\n",
    "To do this, we are going to calculate the text complexity measure for each film, and then take the average of complexity for each genre."
   ]
  },
  {
   "cell_type": "markdown",
   "metadata": {},
   "source": [
    "## 3.2 Sentimental analysis"
   ]
  },
  {
   "cell_type": "markdown",
   "metadata": {},
   "source": [
    "In this section we are going to perform sentimental analysis on the subtitle text. \n",
    "\n",
    "The aim of this section is to explore if movies express more or less positive emotion nowdays compared to back in the day. We also plan to explore how this property differ between genres. We plan to calculate the polarity of the text of each film with the help of textblob (https://textblob.readthedocs.io/en/dev/index.html). "
   ]
  },
  {
   "cell_type": "markdown",
   "metadata": {},
   "source": [
    "### 3.2.1"
   ]
  },
  {
   "cell_type": "code",
   "execution_count": 96,
   "metadata": {},
   "outputs": [],
   "source": [
    "from textblob import TextBlob"
   ]
  },
  {
   "cell_type": "code",
   "execution_count": 2,
   "metadata": {},
   "outputs": [],
   "source": [
    "subtitle_df = spark.read.parquet(\"./datasets/subtitle_final.parquet\")\n",
    "\n",
    "# Remove null entries\n",
    "subtitle_df = subtitle_df.filter((F.col(\"sentnce\").isNotNull())"
   ]
  },
  {
   "cell_type": "code",
   "execution_count": null,
   "metadata": {},
   "outputs": [],
   "source": []
  },
  {
   "cell_type": "code",
   "execution_count": null,
   "metadata": {},
   "outputs": [],
   "source": [
    "@udf('float')\n",
    "def calculate_polarity(sentence):\n",
    "    untokenize = \"\".join([\" \"+i if not i.startswith(\"'\") and i not in string.punctuation else i for i in sentence]).strip()\n",
    "    blob = TextBlob(untokenize)\n",
    "    return blob.polarity\n",
    "sentiment_df = subtitle_df.withColumn('polarity', polarity_udf('sentence._VALUE'))"
   ]
  },
  {
   "cell_type": "code",
   "execution_count": null,
   "metadata": {},
   "outputs": [],
   "source": [
    "sentiment_df.write.parquet('./datasets/sentiment_final.parquet')"
   ]
  },
  {
   "cell_type": "markdown",
   "metadata": {},
   "source": [
    "### 3.2.2"
   ]
  },
  {
   "cell_type": "code",
   "execution_count": 9,
   "metadata": {},
   "outputs": [
    {
     "name": "stdout",
     "output_type": "stream",
     "text": [
      "root\n",
      " |-- _id: integer (nullable = true)\n",
      " |-- sentence: string (nullable = true)\n",
      " |-- polarity: float (nullable = true)\n",
      "\n"
     ]
    }
   ],
   "source": [
    "sentiment_df = spark.read.parquet('./datasets/sentiment_final.parquet')\n",
    "sentiment_df.printSchema()"
   ]
  },
  {
   "cell_type": "code",
   "execution_count": 10,
   "metadata": {},
   "outputs": [],
   "source": [
    "# THE DATAFRAME IS TO BIG TO TRANSFORM INTO PANDAS WITHOUT DOING AGGREGATION!\n",
    "sentiment_df = sentiment_df.groupby('_id').mean()\n",
    "sentiment_df = sentiment_df.toPandas()"
   ]
  },
  {
   "cell_type": "code",
   "execution_count": 12,
   "metadata": {},
   "outputs": [
    {
     "data": {
      "text/plain": [
       "Index(['_id', 'avg(_id)', 'avg(polarity)'], dtype='object')"
      ]
     },
     "execution_count": 12,
     "metadata": {},
     "output_type": "execute_result"
    }
   ],
   "source": [
    "sentiment_df.columns"
   ]
  },
  {
   "cell_type": "code",
   "execution_count": 13,
   "metadata": {},
   "outputs": [
    {
     "data": {
      "text/plain": [
       "<matplotlib.axes._subplots.AxesSubplot at 0x10aae69b0>"
      ]
     },
     "execution_count": 13,
     "metadata": {},
     "output_type": "execute_result"
    },
    {
     "data": {
      "image/png": "[encoded data removed]",
      "text/plain": [
       "<Figure size 432x288 with 1 Axes>"
      ]
     },
     "metadata": {},
     "output_type": "display_data"
    }
   ],
   "source": [
    "sentiment_df['avg(polarity)'].plot.hist()"
   ]
  },
  {
   "cell_type": "markdown",
   "metadata": {},
   "source": [
    "## 3.3 Offensive language analysis"
   ]
  },
  {
   "cell_type": "markdown",
   "metadata": {},
   "source": [
    "In this section we are going to analyize the use of offensive/swear words in subtitle text. \n",
    "\n",
    "We will use resources such as offensive word lexicons (https://www.cs.cmu.edu/~biglou/resources/) to quantify the level of offensivity of a certain film. Then, we are going to check the level of offensivity in relation to years (are films more/less offensive now) and genres (do some genres use more offensive words)"
   ]
  },
  {
   "cell_type": "markdown",
   "metadata": {},
   "source": [
    "### 3.3.1"
   ]
  },
  {
   "cell_type": "code",
   "execution_count": null,
   "metadata": {},
   "outputs": [],
   "source": [
    "subtitle_df = spark.read.parquet(\"./datasets/subtitle_final.parquet\")\n",
    "# Remove null entries\n",
    "subtitle_df = subtitle_df.filter((F.col(\"sentnce\").isNotNull())"
   ]
  },
  {
   "cell_type": "code",
   "execution_count": null,
   "metadata": {},
   "outputs": [],
   "source": [
    "profanity_list = spark.read.json('words_out.json').collect()\n",
    "profanity_list = list(map(lambda x: x.word.strip(), profanity_list))"
   ]
  },
  {
   "cell_type": "markdown",
   "metadata": {},
   "source": [
    "All the words in the list of bad words are lowercased, we will therefore convert all of our sentences to lower case as well."
   ]
  },
  {
   "cell_type": "code",
   "execution_count": null,
   "metadata": {},
   "outputs": [],
   "source": [
    "# Convert all words to lowercase\n",
    "subtitle_df = subtitle_df.select('_id', toLower('sentence._VALUE').alias('sentence'))"
   ]
  },
  {
   "cell_type": "markdown",
   "metadata": {},
   "source": [
    "Let's define a simple helper function which will be used to count the profanities in a sentence."
   ]
  },
  {
   "cell_type": "code",
   "execution_count": null,
   "metadata": {},
   "outputs": [],
   "source": [
    "@udf('int')\n",
    "def number_of_profanities(sentence):\n",
    "    return len(list(filter(lambda word: word in profanity_list, sentence)))"
   ]
  },
  {
   "cell_type": "code",
   "execution_count": null,
   "metadata": {},
   "outputs": [],
   "source": [
    "profanity_df = subtitle_df.withColumn('number_of_profanities', number_of_profanities(F.col('sentence')))"
   ]
  },
  {
   "cell_type": "code",
   "execution_count": null,
   "metadata": {},
   "outputs": [],
   "source": [
    "profanity_df.write.mode('overwrite').parquet('./datasets/profanity_final.parquet')"
   ]
  },
  {
   "cell_type": "markdown",
   "metadata": {},
   "source": [
    "### 3.3.2"
   ]
  },
  {
   "cell_type": "code",
   "execution_count": 68,
   "metadata": {},
   "outputs": [
    {
     "name": "stdout",
     "output_type": "stream",
     "text": [
      "root\n",
      " |-- _id: integer (nullable = true)\n",
      " |-- number_of_profanities: long (nullable = true)\n",
      "\n"
     ]
    }
   ],
   "source": [
    "profanity_df = spark.read.parquet('./datasets/profanity_final.parquet')\n",
    "profanity_df.printSchema()"
   ]
  },
  {
   "cell_type": "code",
   "execution_count": 70,
   "metadata": {},
   "outputs": [],
   "source": [
    "profanity_df = profanity_df.toPandas()"
   ]
  },
  {
   "cell_type": "code",
   "execution_count": 71,
   "metadata": {
    "scrolled": true
   },
   "outputs": [
    {
     "data": {
      "text/html": [
       "<div>\n",
       "<style scoped>\n",
       "    .dataframe tbody tr th:only-of-type {\n",
       "        vertical-align: middle;\n",
       "    }\n",
       "\n",
       "    .dataframe tbody tr th {\n",
       "        vertical-align: top;\n",
       "    }\n",
       "\n",
       "    .dataframe thead th {\n",
       "        text-align: right;\n",
       "    }\n",
       "</style>\n",
       "<table border=\"1\" class=\"dataframe\">\n",
       "  <thead>\n",
       "    <tr style=\"text-align: right;\">\n",
       "      <th></th>\n",
       "      <th>_id</th>\n",
       "      <th>number_of_profanities</th>\n",
       "    </tr>\n",
       "  </thead>\n",
       "  <tbody>\n",
       "    <tr>\n",
       "      <th>count</th>\n",
       "      <td>7.465900e+04</td>\n",
       "      <td>74659.000000</td>\n",
       "    </tr>\n",
       "    <tr>\n",
       "      <th>mean</th>\n",
       "      <td>1.155365e+08</td>\n",
       "      <td>86.884689</td>\n",
       "    </tr>\n",
       "    <tr>\n",
       "      <th>std</th>\n",
       "      <td>4.516638e+08</td>\n",
       "      <td>82.994463</td>\n",
       "    </tr>\n",
       "    <tr>\n",
       "      <th>min</th>\n",
       "      <td>2.900000e+01</td>\n",
       "      <td>0.000000</td>\n",
       "    </tr>\n",
       "    <tr>\n",
       "      <th>25%</th>\n",
       "      <td>3.422536e+06</td>\n",
       "      <td>39.000000</td>\n",
       "    </tr>\n",
       "    <tr>\n",
       "      <th>50%</th>\n",
       "      <td>4.651776e+06</td>\n",
       "      <td>63.000000</td>\n",
       "    </tr>\n",
       "    <tr>\n",
       "      <th>75%</th>\n",
       "      <td>6.580105e+06</td>\n",
       "      <td>107.000000</td>\n",
       "    </tr>\n",
       "    <tr>\n",
       "      <th>max</th>\n",
       "      <td>1.955654e+09</td>\n",
       "      <td>2191.000000</td>\n",
       "    </tr>\n",
       "  </tbody>\n",
       "</table>\n",
       "</div>"
      ],
      "text/plain": [
       "                _id  number_of_profanities\n",
       "count  7.465900e+04           74659.000000\n",
       "mean   1.155365e+08              86.884689\n",
       "std    4.516638e+08              82.994463\n",
       "min    2.900000e+01               0.000000\n",
       "25%    3.422536e+06              39.000000\n",
       "50%    4.651776e+06              63.000000\n",
       "75%    6.580105e+06             107.000000\n",
       "max    1.955654e+09            2191.000000"
      ]
     },
     "execution_count": 71,
     "metadata": {},
     "output_type": "execute_result"
    }
   ],
   "source": [
    "profanity_df.describe()"
   ]
  },
  {
   "cell_type": "code",
   "execution_count": 73,
   "metadata": {
    "scrolled": true
   },
   "outputs": [
    {
     "data": {
      "text/plain": [
       "<matplotlib.axes._subplots.AxesSubplot at 0x1a27714b38>"
      ]
     },
     "execution_count": 73,
     "metadata": {},
     "output_type": "execute_result"
    },
    {
     "data": {
      "image/png": "[encoded data removed]",
      "text/plain": [
       "<Figure size 432x288 with 1 Axes>"
      ]
     },
     "metadata": {},
     "output_type": "display_data"
    }
   ],
   "source": [
    "profanity_df['number_of_profanities'].plot.hist()"
   ]
  },
  {
   "cell_type": "markdown",
   "metadata": {},
   "source": [
    "## 3.4 Correlation between text properties and IMDB rating"
   ]
  },
  {
   "cell_type": "markdown",
   "metadata": {},
   "source": [
    "In this section we are going to search for correlation between the film textual properties obtained in sections 3.1, 3.2 and 3.3 and its IMDB rating.\n",
    "\n",
    "To do this we are going to use correlation coefs and visualization to find evidence for correlation between the text properties of a movie and its rating. \n",
    "\n",
    "If we find evidence for correlation, we will try some regression methods on the two variables, such as fitting a regression line."
   ]
  }
 ],
 "metadata": {
  "kernelspec": {
   "display_name": "Python 3",
   "language": "python",
   "name": "python3"
  },
  "language_info": {
   "codemirror_mode": {
    "name": "ipython",
    "version": 3
   },
   "file_extension": ".py",
   "mimetype": "text/x-python",
   "name": "python",
   "nbconvert_exporter": "python",
   "pygments_lexer": "ipython3",
   "version": "3.6.5"
  }
 },
 "nbformat": 4,
 "nbformat_minor": 2
}
